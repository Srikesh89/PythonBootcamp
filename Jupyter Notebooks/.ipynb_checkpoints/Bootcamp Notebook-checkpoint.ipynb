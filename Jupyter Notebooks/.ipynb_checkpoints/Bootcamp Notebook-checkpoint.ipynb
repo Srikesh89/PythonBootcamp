{
 "cells": [
  {
   "cell_type": "markdown",
   "id": "cb783e7d",
   "metadata": {},
   "source": [
    "# Starting with Jupyter Notebooks\n",
    "* To start Jupyter Notebook, navigate to the correct directory and run 'Jupyter Notebook' in the terminal\n",
    "***"
   ]
  },
  {
   "cell_type": "code",
   "execution_count": 1,
   "id": "54302ff9",
   "metadata": {},
   "outputs": [
    {
     "name": "stdout",
     "output_type": "stream",
     "text": [
      "hello world\n"
     ]
    }
   ],
   "source": [
    "print('hello world')"
   ]
  },
  {
   "cell_type": "markdown",
   "id": "f0f74c2c",
   "metadata": {},
   "source": [
    "***\n",
    "## Numbers"
   ]
  },
  {
   "cell_type": "code",
   "execution_count": 1,
   "id": "c1f716eb",
   "metadata": {},
   "outputs": [
    {
     "data": {
      "text/plain": [
       "0.5"
      ]
     },
     "execution_count": 1,
     "metadata": {},
     "output_type": "execute_result"
    }
   ],
   "source": [
    "1/2"
   ]
  },
  {
   "cell_type": "markdown",
   "id": "527ac635",
   "metadata": {},
   "source": [
    "### Variable Assignments"
   ]
  },
  {
   "cell_type": "code",
   "execution_count": 4,
   "id": "f682a591",
   "metadata": {},
   "outputs": [
    {
     "data": {
      "text/plain": [
       "10"
      ]
     },
     "execution_count": 4,
     "metadata": {},
     "output_type": "execute_result"
    }
   ],
   "source": [
    "my_free_time = 5\n",
    "my_free_time*2"
   ]
  },
  {
   "cell_type": "code",
   "execution_count": 8,
   "id": "62bb5012",
   "metadata": {},
   "outputs": [
    {
     "data": {
      "text/plain": [
       "<function list.count(value, /)>"
      ]
     },
     "execution_count": 8,
     "metadata": {},
     "output_type": "execute_result"
    }
   ],
   "source": [
    "hobbies = ['markers', 'golf', 'games']\n",
    "hobbies.count"
   ]
  },
  {
   "cell_type": "code",
   "execution_count": 9,
   "id": "28e448bb",
   "metadata": {},
   "outputs": [],
   "source": [
    "a = 4"
   ]
  },
  {
   "cell_type": "code",
   "execution_count": 10,
   "id": "6fce1067",
   "metadata": {},
   "outputs": [
    {
     "data": {
      "text/plain": [
       "8"
      ]
     },
     "execution_count": 10,
     "metadata": {},
     "output_type": "execute_result"
    }
   ],
   "source": [
    "a + a"
   ]
  },
  {
   "cell_type": "code",
   "execution_count": 13,
   "id": "05e22c97",
   "metadata": {},
   "outputs": [],
   "source": [
    "a = a + a"
   ]
  },
  {
   "cell_type": "code",
   "execution_count": 15,
   "id": "35280c9e",
   "metadata": {},
   "outputs": [
    {
     "data": {
      "text/plain": [
       "16"
      ]
     },
     "execution_count": 15,
     "metadata": {},
     "output_type": "execute_result"
    }
   ],
   "source": [
    "a"
   ]
  },
  {
   "cell_type": "code",
   "execution_count": 16,
   "id": "9432e51c",
   "metadata": {},
   "outputs": [
    {
     "data": {
      "text/plain": [
       "int"
      ]
     },
     "execution_count": 16,
     "metadata": {},
     "output_type": "execute_result"
    }
   ],
   "source": [
    "type(a)"
   ]
  },
  {
   "cell_type": "code",
   "execution_count": 17,
   "id": "d7b7001b",
   "metadata": {},
   "outputs": [],
   "source": [
    "b = 4.4"
   ]
  },
  {
   "cell_type": "code",
   "execution_count": 18,
   "id": "82843ebb",
   "metadata": {},
   "outputs": [
    {
     "data": {
      "text/plain": [
       "float"
      ]
     },
     "execution_count": 18,
     "metadata": {},
     "output_type": "execute_result"
    }
   ],
   "source": [
    "type(b)"
   ]
  },
  {
   "cell_type": "code",
   "execution_count": 19,
   "id": "1a308c34",
   "metadata": {},
   "outputs": [],
   "source": [
    "c = a + b"
   ]
  },
  {
   "cell_type": "code",
   "execution_count": 20,
   "id": "cc0e50b9",
   "metadata": {},
   "outputs": [
    {
     "data": {
      "text/plain": [
       "20.4"
      ]
     },
     "execution_count": 20,
     "metadata": {},
     "output_type": "execute_result"
    }
   ],
   "source": [
    "c"
   ]
  },
  {
   "cell_type": "code",
   "execution_count": 21,
   "id": "e87dbdc7",
   "metadata": {},
   "outputs": [
    {
     "data": {
      "text/plain": [
       "float"
      ]
     },
     "execution_count": 21,
     "metadata": {},
     "output_type": "execute_result"
    }
   ],
   "source": [
    "type(c)"
   ]
  },
  {
   "cell_type": "markdown",
   "id": "c2abcfab",
   "metadata": {},
   "source": [
    "* adding an int to a float will generate a float"
   ]
  },
  {
   "cell_type": "code",
   "execution_count": 23,
   "id": "0f6ed9b5",
   "metadata": {},
   "outputs": [
    {
     "data": {
      "text/plain": [
       "12.0"
      ]
     },
     "execution_count": 23,
     "metadata": {},
     "output_type": "execute_result"
    }
   ],
   "source": [
    "my_var = 120 \n",
    "tax = 0.1\n",
    "m_taxes = my_var * tax\n",
    "m_taxes"
   ]
  },
  {
   "cell_type": "markdown",
   "id": "6c492782",
   "metadata": {},
   "source": [
    "## Strings"
   ]
  },
  {
   "cell_type": "markdown",
   "id": "c00feb16",
   "metadata": {},
   "source": [
    "Index and slicing key definitions. Strings are a character list in python. Can grab single character by using index. Can perform reverse indexing by using negative ints. Slicing has syntax [start:stop:step]. Step is size of jump you take. Start and stop are indices"
   ]
  },
  {
   "cell_type": "code",
   "execution_count": 24,
   "id": "4cbf8e9d",
   "metadata": {},
   "outputs": [
    {
     "data": {
      "text/plain": [
       "'howdy there partner'"
      ]
     },
     "execution_count": 24,
     "metadata": {},
     "output_type": "execute_result"
    }
   ],
   "source": [
    "'howdy there partner'"
   ]
  },
  {
   "cell_type": "code",
   "execution_count": 26,
   "id": "4a2e9653",
   "metadata": {},
   "outputs": [
    {
     "data": {
      "text/plain": [
       "\"Use ' escape characters which are the same in pythonOr use double quotes to prevent ' from ruining strings\""
      ]
     },
     "execution_count": 26,
     "metadata": {},
     "output_type": "execute_result"
    }
   ],
   "source": [
    "'Use \\' escape characters which are the same in python' \"Or use double quotes to prevent ' from ruining strings\""
   ]
  },
  {
   "cell_type": "code",
   "execution_count": 27,
   "id": "9349f378",
   "metadata": {},
   "outputs": [
    {
     "name": "stdout",
     "output_type": "stream",
     "text": [
      "first statement\n",
      "second statement\n"
     ]
    }
   ],
   "source": [
    "print('first statement')\n",
    "print('second statement')"
   ]
  },
  {
   "cell_type": "code",
   "execution_count": 29,
   "id": "f653dd1c",
   "metadata": {},
   "outputs": [
    {
     "name": "stdout",
     "output_type": "stream",
     "text": [
      "first line \n",
      "second line\n"
     ]
    }
   ],
   "source": [
    "print('first line \\nsecond line')"
   ]
  },
  {
   "cell_type": "code",
   "execution_count": 30,
   "id": "bab7e3cd",
   "metadata": {},
   "outputs": [
    {
     "data": {
      "text/plain": [
       "5"
      ]
     },
     "execution_count": 30,
     "metadata": {},
     "output_type": "execute_result"
    }
   ],
   "source": [
    "len('hello')"
   ]
  },
  {
   "cell_type": "code",
   "execution_count": 31,
   "id": "f34bed1a",
   "metadata": {},
   "outputs": [],
   "source": [
    "my_string = 'I am so fat right now'"
   ]
  },
  {
   "cell_type": "code",
   "execution_count": 32,
   "id": "d3d367eb",
   "metadata": {},
   "outputs": [
    {
     "data": {
      "text/plain": [
       "21"
      ]
     },
     "execution_count": 32,
     "metadata": {},
     "output_type": "execute_result"
    }
   ],
   "source": [
    "len(my_string)"
   ]
  },
  {
   "cell_type": "code",
   "execution_count": 33,
   "id": "03f5488e",
   "metadata": {},
   "outputs": [
    {
     "data": {
      "text/plain": [
       "'I am so fat right now'"
      ]
     },
     "execution_count": 33,
     "metadata": {},
     "output_type": "execute_result"
    }
   ],
   "source": [
    "my_string"
   ]
  },
  {
   "cell_type": "code",
   "execution_count": 34,
   "id": "8373ad81",
   "metadata": {},
   "outputs": [
    {
     "data": {
      "text/plain": [
       "'s'"
      ]
     },
     "execution_count": 34,
     "metadata": {},
     "output_type": "execute_result"
    }
   ],
   "source": [
    "my_string[5]"
   ]
  },
  {
   "cell_type": "code",
   "execution_count": 35,
   "id": "35f0fdf3",
   "metadata": {},
   "outputs": [
    {
     "data": {
      "text/plain": [
       "'I am '"
      ]
     },
     "execution_count": 35,
     "metadata": {},
     "output_type": "execute_result"
    }
   ],
   "source": [
    "my_string[0:5:1]"
   ]
  },
  {
   "cell_type": "code",
   "execution_count": 36,
   "id": "1f96b765",
   "metadata": {},
   "outputs": [
    {
     "data": {
      "text/plain": [
       "'Ia '"
      ]
     },
     "execution_count": 36,
     "metadata": {},
     "output_type": "execute_result"
    }
   ],
   "source": [
    "my_string[0:5:2]"
   ]
  },
  {
   "cell_type": "code",
   "execution_count": 37,
   "id": "29e62f51",
   "metadata": {},
   "outputs": [
    {
     "data": {
      "text/plain": [
       "'t'"
      ]
     },
     "execution_count": 37,
     "metadata": {},
     "output_type": "execute_result"
    }
   ],
   "source": [
    "my_string[-5]"
   ]
  },
  {
   "cell_type": "code",
   "execution_count": 38,
   "id": "f290f080",
   "metadata": {},
   "outputs": [],
   "source": [
    "my_string = 'IAmSoFatRightNow'"
   ]
  },
  {
   "cell_type": "code",
   "execution_count": 42,
   "id": "2ceeca77",
   "metadata": {},
   "outputs": [
    {
     "data": {
      "text/plain": [
       "'SoFatRightNow'"
      ]
     },
     "execution_count": 42,
     "metadata": {},
     "output_type": "execute_result"
    }
   ],
   "source": [
    "my_string[3:]"
   ]
  },
  {
   "cell_type": "code",
   "execution_count": 41,
   "id": "e80b1c53",
   "metadata": {},
   "outputs": [
    {
     "data": {
      "text/plain": [
       "'IAmSo'"
      ]
     },
     "execution_count": 41,
     "metadata": {},
     "output_type": "execute_result"
    }
   ],
   "source": [
    "my_string[:5]"
   ]
  },
  {
   "cell_type": "code",
   "execution_count": 44,
   "id": "dac7cc76",
   "metadata": {},
   "outputs": [
    {
     "data": {
      "text/plain": [
       "'SoFat'"
      ]
     },
     "execution_count": 44,
     "metadata": {},
     "output_type": "execute_result"
    }
   ],
   "source": [
    "my_string[3:8]"
   ]
  },
  {
   "cell_type": "code",
   "execution_count": 45,
   "id": "132bf406",
   "metadata": {},
   "outputs": [
    {
     "data": {
      "text/plain": [
       "'Iamsofatrightnow'"
      ]
     },
     "execution_count": 45,
     "metadata": {},
     "output_type": "execute_result"
    }
   ],
   "source": [
    "my_string.capitalize()"
   ]
  },
  {
   "cell_type": "code",
   "execution_count": 46,
   "id": "3b6b23f0",
   "metadata": {},
   "outputs": [
    {
     "data": {
      "text/plain": [
       "'ISaitw'"
      ]
     },
     "execution_count": 46,
     "metadata": {},
     "output_type": "execute_result"
    }
   ],
   "source": [
    "my_string[::3]"
   ]
  },
  {
   "cell_type": "code",
   "execution_count": 47,
   "id": "5ae16ce8",
   "metadata": {},
   "outputs": [
    {
     "data": {
      "text/plain": [
       "'woNthgiRtaFoSmAI'"
      ]
     },
     "execution_count": 47,
     "metadata": {},
     "output_type": "execute_result"
    }
   ],
   "source": [
    "my_string[::-1]"
   ]
  },
  {
   "cell_type": "code",
   "execution_count": 48,
   "id": "25733dbf",
   "metadata": {},
   "outputs": [],
   "source": [
    "name = 'Sam'"
   ]
  },
  {
   "cell_type": "code",
   "execution_count": 49,
   "id": "e4692caa",
   "metadata": {},
   "outputs": [
    {
     "ename": "TypeError",
     "evalue": "unsupported operand type(s) for +: 'int' and 'str'",
     "output_type": "error",
     "traceback": [
      "\u001b[1;31m---------------------------------------------------------------------------\u001b[0m",
      "\u001b[1;31mTypeError\u001b[0m                                 Traceback (most recent call last)",
      "\u001b[1;32m<ipython-input-49-8fd9dcfa4f42>\u001b[0m in \u001b[0;36m<module>\u001b[1;34m\u001b[0m\n\u001b[1;32m----> 1\u001b[1;33m \u001b[1;36m2\u001b[0m \u001b[1;33m+\u001b[0m \u001b[1;34m'3'\u001b[0m\u001b[1;33m\u001b[0m\u001b[1;33m\u001b[0m\u001b[0m\n\u001b[0m",
      "\u001b[1;31mTypeError\u001b[0m: unsupported operand type(s) for +: 'int' and 'str'"
     ]
    }
   ],
   "source": [
    "2 + '3'"
   ]
  },
  {
   "cell_type": "code",
   "execution_count": 50,
   "id": "e5218a95",
   "metadata": {},
   "outputs": [],
   "source": [
    "x = 'Howdy There'"
   ]
  },
  {
   "cell_type": "code",
   "execution_count": 51,
   "id": "6d770636",
   "metadata": {},
   "outputs": [
    {
     "data": {
      "text/plain": [
       "<function str.count>"
      ]
     },
     "execution_count": 51,
     "metadata": {},
     "output_type": "execute_result"
    }
   ],
   "source": [
    "x.count"
   ]
  },
  {
   "cell_type": "code",
   "execution_count": 52,
   "id": "1489099f",
   "metadata": {},
   "outputs": [
    {
     "ename": "TypeError",
     "evalue": "count() takes at least 1 argument (0 given)",
     "output_type": "error",
     "traceback": [
      "\u001b[1;31m---------------------------------------------------------------------------\u001b[0m",
      "\u001b[1;31mTypeError\u001b[0m                                 Traceback (most recent call last)",
      "\u001b[1;32m<ipython-input-52-22592ee537f4>\u001b[0m in \u001b[0;36m<module>\u001b[1;34m\u001b[0m\n\u001b[1;32m----> 1\u001b[1;33m \u001b[0mx\u001b[0m\u001b[1;33m.\u001b[0m\u001b[0mcount\u001b[0m\u001b[1;33m(\u001b[0m\u001b[1;33m)\u001b[0m\u001b[1;33m\u001b[0m\u001b[1;33m\u001b[0m\u001b[0m\n\u001b[0m",
      "\u001b[1;31mTypeError\u001b[0m: count() takes at least 1 argument (0 given)"
     ]
    }
   ],
   "source": [
    "x.count()"
   ]
  },
  {
   "cell_type": "code",
   "execution_count": 53,
   "id": "e92c92ad",
   "metadata": {},
   "outputs": [
    {
     "data": {
      "text/plain": [
       "'HOWDY THERE'"
      ]
     },
     "execution_count": 53,
     "metadata": {},
     "output_type": "execute_result"
    }
   ],
   "source": [
    "x.upper()"
   ]
  },
  {
   "cell_type": "code",
   "execution_count": 54,
   "id": "86884cd3",
   "metadata": {},
   "outputs": [
    {
     "data": {
      "text/plain": [
       "False"
      ]
     },
     "execution_count": 54,
     "metadata": {},
     "output_type": "execute_result"
    }
   ],
   "source": [
    "x.isdecimal()"
   ]
  },
  {
   "cell_type": "code",
   "execution_count": 55,
   "id": "0ae35009",
   "metadata": {},
   "outputs": [
    {
     "data": {
      "text/plain": [
       "False"
      ]
     },
     "execution_count": 55,
     "metadata": {},
     "output_type": "execute_result"
    }
   ],
   "source": [
    "x.isalpha()"
   ]
  },
  {
   "cell_type": "code",
   "execution_count": 56,
   "id": "a9061183",
   "metadata": {},
   "outputs": [
    {
     "data": {
      "text/plain": [
       "False"
      ]
     },
     "execution_count": 56,
     "metadata": {},
     "output_type": "execute_result"
    }
   ],
   "source": [
    "x.isalnum()"
   ]
  },
  {
   "cell_type": "code",
   "execution_count": 57,
   "id": "cc58fee7",
   "metadata": {},
   "outputs": [
    {
     "data": {
      "text/plain": [
       "True"
      ]
     },
     "execution_count": 57,
     "metadata": {},
     "output_type": "execute_result"
    }
   ],
   "source": [
    "x.isascii()"
   ]
  },
  {
   "cell_type": "code",
   "execution_count": 63,
   "id": "50b7c6f4",
   "metadata": {},
   "outputs": [
    {
     "data": {
      "text/plain": [
       "['Howdy T', 'ere']"
      ]
     },
     "execution_count": 63,
     "metadata": {},
     "output_type": "execute_result"
    }
   ],
   "source": [
    "x.split('h')"
   ]
  },
  {
   "cell_type": "code",
   "execution_count": 64,
   "id": "69ba671e",
   "metadata": {},
   "outputs": [
    {
     "name": "stdout",
     "output_type": "stream",
     "text": [
      "Howdy There\n"
     ]
    }
   ],
   "source": [
    "print(x)"
   ]
  },
  {
   "cell_type": "code",
   "execution_count": 65,
   "id": "fa367eea",
   "metadata": {},
   "outputs": [
    {
     "data": {
      "text/plain": [
       "'Hello Komrade. Welcome to Instance Communism'"
      ]
     },
     "execution_count": 65,
     "metadata": {},
     "output_type": "execute_result"
    }
   ],
   "source": [
    "'Hello {}. Welcome to Instance {}'.format('Komrade', 'Communism')"
   ]
  },
  {
   "cell_type": "code",
   "execution_count": 66,
   "id": "60d014f4",
   "metadata": {},
   "outputs": [
    {
     "data": {
      "text/plain": [
       "'So you can switch order or duplicate words wow words great'"
      ]
     },
     "execution_count": 66,
     "metadata": {},
     "output_type": "execute_result"
    }
   ],
   "source": [
    "'So you can switch order or duplicate {a} {b} {a} {c}'.format(a='words',b='wow',c='great',d='now')"
   ]
  },
  {
   "cell_type": "code",
   "execution_count": 68,
   "id": "a6caa11b",
   "metadata": {},
   "outputs": [
    {
     "data": {
      "text/plain": [
       "'Here is your information: Address: Texas, First Name: Joe, Last Name: Bartz'"
      ]
     },
     "execution_count": 68,
     "metadata": {},
     "output_type": "execute_result"
    }
   ],
   "source": [
    "'Here is your information: Address: {add}, First Name: {fn}, Last Name: {ln}'.format(add='Texas', fn='Joe', ln='Bartz')"
   ]
  },
  {
   "cell_type": "code",
   "execution_count": 70,
   "id": "8e12dd1d",
   "metadata": {},
   "outputs": [
    {
     "data": {
      "text/plain": [
       "'Formatting floating points 1.26'"
      ]
     },
     "execution_count": 70,
     "metadata": {},
     "output_type": "execute_result"
    }
   ],
   "source": [
    "'Formatting floating points {r:0.2f}'.format(r=1.25805)"
   ]
  },
  {
   "cell_type": "code",
   "execution_count": 72,
   "id": "ad55f44e",
   "metadata": {},
   "outputs": [
    {
     "name": "stdout",
     "output_type": "stream",
     "text": [
      "Hello, his name is Gerald\n"
     ]
    }
   ],
   "source": [
    "name = 'Gerald'\n",
    "print(f'Hello, his name is {name}')"
   ]
  },
  {
   "cell_type": "markdown",
   "id": "9e8200ae",
   "metadata": {},
   "source": [
    "## Lists"
   ]
  },
  {
   "cell_type": "code",
   "execution_count": 73,
   "id": "1420066e",
   "metadata": {},
   "outputs": [],
   "source": [
    "myList = ['hello', 32, 32.43]"
   ]
  },
  {
   "cell_type": "code",
   "execution_count": 74,
   "id": "26411f05",
   "metadata": {},
   "outputs": [
    {
     "data": {
      "text/plain": [
       "3"
      ]
     },
     "execution_count": 74,
     "metadata": {},
     "output_type": "execute_result"
    }
   ],
   "source": [
    "len(myList)"
   ]
  },
  {
   "cell_type": "code",
   "execution_count": 76,
   "id": "6f8cb1fa",
   "metadata": {},
   "outputs": [
    {
     "data": {
      "text/plain": [
       "[32, 32.43]"
      ]
     },
     "execution_count": 76,
     "metadata": {},
     "output_type": "execute_result"
    }
   ],
   "source": [
    "myList[1:]"
   ]
  },
  {
   "cell_type": "code",
   "execution_count": 77,
   "id": "af87cdce",
   "metadata": {},
   "outputs": [],
   "source": [
    "secondList=['five', 6, 'Seven']"
   ]
  },
  {
   "cell_type": "code",
   "execution_count": 78,
   "id": "c3ea7a5b",
   "metadata": {},
   "outputs": [
    {
     "data": {
      "text/plain": [
       "['hello', 32, 32.43, 'five', 6, 'Seven']"
      ]
     },
     "execution_count": 78,
     "metadata": {},
     "output_type": "execute_result"
    }
   ],
   "source": [
    "myList + secondList"
   ]
  },
  {
   "cell_type": "code",
   "execution_count": 79,
   "id": "ccc2e326",
   "metadata": {},
   "outputs": [
    {
     "data": {
      "text/plain": [
       "6"
      ]
     },
     "execution_count": 79,
     "metadata": {},
     "output_type": "execute_result"
    }
   ],
   "source": [
    "len(myList+secondList)"
   ]
  },
  {
   "cell_type": "code",
   "execution_count": 80,
   "id": "74f1c181",
   "metadata": {},
   "outputs": [],
   "source": [
    "myList.append('new item')"
   ]
  },
  {
   "cell_type": "code",
   "execution_count": 81,
   "id": "64f09e3f",
   "metadata": {},
   "outputs": [
    {
     "data": {
      "text/plain": [
       "['hello', 32, 32.43, 'new item']"
      ]
     },
     "execution_count": 81,
     "metadata": {},
     "output_type": "execute_result"
    }
   ],
   "source": [
    "myList"
   ]
  },
  {
   "cell_type": "code",
   "execution_count": 82,
   "id": "ee76934a",
   "metadata": {},
   "outputs": [
    {
     "data": {
      "text/plain": [
       "'new item'"
      ]
     },
     "execution_count": 82,
     "metadata": {},
     "output_type": "execute_result"
    }
   ],
   "source": [
    "myList.pop()"
   ]
  },
  {
   "cell_type": "code",
   "execution_count": 83,
   "id": "0b2bbb61",
   "metadata": {},
   "outputs": [
    {
     "data": {
      "text/plain": [
       "['hello', 32, 32.43]"
      ]
     },
     "execution_count": 83,
     "metadata": {},
     "output_type": "execute_result"
    }
   ],
   "source": [
    "myList"
   ]
  },
  {
   "cell_type": "code",
   "execution_count": 84,
   "id": "c18df161",
   "metadata": {},
   "outputs": [
    {
     "data": {
      "text/plain": [
       "'hello'"
      ]
     },
     "execution_count": 84,
     "metadata": {},
     "output_type": "execute_result"
    }
   ],
   "source": [
    "myList.pop(0)"
   ]
  },
  {
   "cell_type": "code",
   "execution_count": 85,
   "id": "daf3b72b",
   "metadata": {},
   "outputs": [
    {
     "data": {
      "text/plain": [
       "[32, 32.43]"
      ]
     },
     "execution_count": 85,
     "metadata": {},
     "output_type": "execute_result"
    }
   ],
   "source": [
    "myList"
   ]
  },
  {
   "cell_type": "code",
   "execution_count": 86,
   "id": "111311e3",
   "metadata": {},
   "outputs": [],
   "source": [
    "myList = ['a', 'c', 'e', 'b', 'd']"
   ]
  },
  {
   "cell_type": "code",
   "execution_count": 87,
   "id": "7dd7929e",
   "metadata": {},
   "outputs": [],
   "source": [
    "myList.sort()"
   ]
  },
  {
   "cell_type": "code",
   "execution_count": 88,
   "id": "2667729f",
   "metadata": {},
   "outputs": [
    {
     "data": {
      "text/plain": [
       "['a', 'b', 'c', 'd', 'e']"
      ]
     },
     "execution_count": 88,
     "metadata": {},
     "output_type": "execute_result"
    }
   ],
   "source": [
    "myList"
   ]
  },
  {
   "cell_type": "code",
   "execution_count": 89,
   "id": "0efa2c2f",
   "metadata": {},
   "outputs": [],
   "source": [
    "myList.reverse()"
   ]
  },
  {
   "cell_type": "code",
   "execution_count": 90,
   "id": "ee7635a5",
   "metadata": {},
   "outputs": [
    {
     "data": {
      "text/plain": [
       "['e', 'd', 'c', 'b', 'a']"
      ]
     },
     "execution_count": 90,
     "metadata": {},
     "output_type": "execute_result"
    }
   ],
   "source": [
    "myList"
   ]
  },
  {
   "cell_type": "markdown",
   "id": "61faeb16",
   "metadata": {},
   "source": [
    "## Dictionaries"
   ]
  },
  {
   "cell_type": "markdown",
   "id": "067ffe51",
   "metadata": {},
   "source": [
    "* Dict: Retrieved by key name, unordered and cannot be sorted\n",
    "* List: Retrieved by location, can be indexed and sliced, can be ordered and sorted"
   ]
  },
  {
   "cell_type": "code",
   "execution_count": 10,
   "id": "dd1a5a16",
   "metadata": {},
   "outputs": [],
   "source": [
    "categories_brands={'phone':['samsung', 'apple', 'huwaie'], 'internal_dict':{'inside_key':'brand'}, 'tv':['samsung', 'lg', 'sony']}"
   ]
  },
  {
   "cell_type": "code",
   "execution_count": 12,
   "id": "d80a2310",
   "metadata": {},
   "outputs": [
    {
     "data": {
      "text/plain": [
       "{'inside_key': 'brand'}"
      ]
     },
     "execution_count": 12,
     "metadata": {},
     "output_type": "execute_result"
    }
   ],
   "source": [
    "categories_brands['internal_dict']"
   ]
  },
  {
   "cell_type": "code",
   "execution_count": 13,
   "id": "ed66be51",
   "metadata": {},
   "outputs": [
    {
     "data": {
      "text/plain": [
       "'SONY'"
      ]
     },
     "execution_count": 13,
     "metadata": {},
     "output_type": "execute_result"
    }
   ],
   "source": [
    "categories_brands['tv'][2].upper()"
   ]
  },
  {
   "cell_type": "markdown",
   "id": "0a273494",
   "metadata": {},
   "source": [
    "### Append"
   ]
  },
  {
   "cell_type": "code",
   "execution_count": 14,
   "id": "adde213d",
   "metadata": {},
   "outputs": [],
   "source": [
    "categories_brands['fridge'] = ['fridgedaire', 'lg']"
   ]
  },
  {
   "cell_type": "code",
   "execution_count": 15,
   "id": "b0c964fa",
   "metadata": {
    "scrolled": false
   },
   "outputs": [
    {
     "data": {
      "text/plain": [
       "{'phone': ['samsung', 'apple', 'huwaie'],\n",
       " 'internal_dict': {'inside_key': 'brand'},\n",
       " 'tv': ['samsung', 'lg', 'sony'],\n",
       " 'fridge': ['fridgedaire', 'lg']}"
      ]
     },
     "execution_count": 15,
     "metadata": {},
     "output_type": "execute_result"
    }
   ],
   "source": [
    "categories_brands"
   ]
  },
  {
   "cell_type": "markdown",
   "id": "4cb7d70a",
   "metadata": {},
   "source": [
    "### Replace the value"
   ]
  },
  {
   "cell_type": "code",
   "execution_count": 22,
   "id": "e77c10f7",
   "metadata": {},
   "outputs": [],
   "source": [
    "categories_brands['internal_dict'] = ['sonos']"
   ]
  },
  {
   "cell_type": "code",
   "execution_count": 23,
   "id": "64b66987",
   "metadata": {},
   "outputs": [
    {
     "data": {
      "text/plain": [
       "['sonos']"
      ]
     },
     "execution_count": 23,
     "metadata": {},
     "output_type": "execute_result"
    }
   ],
   "source": [
    "categories_brands['internal_dict']"
   ]
  },
  {
   "cell_type": "markdown",
   "id": "14898212",
   "metadata": {},
   "source": [
    "### Common methods"
   ]
  },
  {
   "cell_type": "code",
   "execution_count": 17,
   "id": "4347a434",
   "metadata": {},
   "outputs": [
    {
     "data": {
      "text/plain": [
       "dict_keys(['phone', 'internal_dict', 'tv', 'fridge'])"
      ]
     },
     "execution_count": 17,
     "metadata": {},
     "output_type": "execute_result"
    }
   ],
   "source": [
    "categories_brands.keys()"
   ]
  },
  {
   "cell_type": "code",
   "execution_count": 18,
   "id": "5f5a8094",
   "metadata": {},
   "outputs": [
    {
     "data": {
      "text/plain": [
       "dict_values([['samsung', 'apple', 'huwaie'], {'inside_key': 'brand'}, ['samsung', 'lg', 'sony'], ['fridgedaire', 'lg']])"
      ]
     },
     "execution_count": 18,
     "metadata": {},
     "output_type": "execute_result"
    }
   ],
   "source": [
    "categories_brands.values()"
   ]
  },
  {
   "cell_type": "code",
   "execution_count": 19,
   "id": "658e6261",
   "metadata": {},
   "outputs": [
    {
     "data": {
      "text/plain": [
       "dict_items([('phone', ['samsung', 'apple', 'huwaie']), ('internal_dict', {'inside_key': 'brand'}), ('tv', ['samsung', 'lg', 'sony']), ('fridge', ['fridgedaire', 'lg'])])"
      ]
     },
     "execution_count": 19,
     "metadata": {},
     "output_type": "execute_result"
    }
   ],
   "source": [
    "categories_brands.items()"
   ]
  },
  {
   "cell_type": "markdown",
   "id": "56a2ca66",
   "metadata": {},
   "source": [
    "## Tuples"
   ]
  },
  {
   "cell_type": "markdown",
   "id": "ea13c377",
   "metadata": {},
   "source": [
    "* Similar to a list but are IMMUTABLE"
   ]
  },
  {
   "cell_type": "code",
   "execution_count": 31,
   "id": "ab2bdf7f",
   "metadata": {},
   "outputs": [],
   "source": [
    "t = (1,'two',3)"
   ]
  },
  {
   "cell_type": "code",
   "execution_count": 26,
   "id": "0220fb51",
   "metadata": {},
   "outputs": [],
   "source": [
    "l = [1,23,32]"
   ]
  },
  {
   "cell_type": "code",
   "execution_count": 27,
   "id": "44311b50",
   "metadata": {},
   "outputs": [
    {
     "data": {
      "text/plain": [
       "tuple"
      ]
     },
     "execution_count": 27,
     "metadata": {},
     "output_type": "execute_result"
    }
   ],
   "source": [
    "type(t)"
   ]
  },
  {
   "cell_type": "code",
   "execution_count": 28,
   "id": "90b534d9",
   "metadata": {},
   "outputs": [
    {
     "data": {
      "text/plain": [
       "list"
      ]
     },
     "execution_count": 28,
     "metadata": {},
     "output_type": "execute_result"
    }
   ],
   "source": [
    "type(l)"
   ]
  },
  {
   "cell_type": "code",
   "execution_count": 29,
   "id": "c840768d",
   "metadata": {},
   "outputs": [
    {
     "data": {
      "text/plain": [
       "3"
      ]
     },
     "execution_count": 29,
     "metadata": {},
     "output_type": "execute_result"
    }
   ],
   "source": [
    "len(t)"
   ]
  },
  {
   "cell_type": "code",
   "execution_count": 30,
   "id": "fa681ad6",
   "metadata": {},
   "outputs": [
    {
     "data": {
      "text/plain": [
       "3"
      ]
     },
     "execution_count": 30,
     "metadata": {},
     "output_type": "execute_result"
    }
   ],
   "source": [
    "len(l)"
   ]
  },
  {
   "cell_type": "code",
   "execution_count": 32,
   "id": "e15906ec",
   "metadata": {},
   "outputs": [
    {
     "data": {
      "text/plain": [
       "3"
      ]
     },
     "execution_count": 32,
     "metadata": {},
     "output_type": "execute_result"
    }
   ],
   "source": [
    "t[-1]"
   ]
  },
  {
   "cell_type": "code",
   "execution_count": 33,
   "id": "8c68aee9",
   "metadata": {},
   "outputs": [],
   "source": [
    "t = ('a', 'a', 'b')"
   ]
  },
  {
   "cell_type": "code",
   "execution_count": 34,
   "id": "a656fd30",
   "metadata": {},
   "outputs": [
    {
     "data": {
      "text/plain": [
       "2"
      ]
     },
     "execution_count": 34,
     "metadata": {},
     "output_type": "execute_result"
    }
   ],
   "source": [
    "t.count('a')"
   ]
  },
  {
   "cell_type": "code",
   "execution_count": 36,
   "id": "13783916",
   "metadata": {},
   "outputs": [
    {
     "data": {
      "text/plain": [
       "0"
      ]
     },
     "execution_count": 36,
     "metadata": {},
     "output_type": "execute_result"
    }
   ],
   "source": [
    "t.index('a') # returns first index of value it is looking for"
   ]
  },
  {
   "cell_type": "code",
   "execution_count": 37,
   "id": "df54e0ef",
   "metadata": {},
   "outputs": [],
   "source": [
    "l[0] = 'new'"
   ]
  },
  {
   "cell_type": "code",
   "execution_count": 38,
   "id": "31b05664",
   "metadata": {},
   "outputs": [
    {
     "data": {
      "text/plain": [
       "['new', 23, 32]"
      ]
     },
     "execution_count": 38,
     "metadata": {},
     "output_type": "execute_result"
    }
   ],
   "source": [
    "l"
   ]
  },
  {
   "cell_type": "code",
   "execution_count": 39,
   "id": "6ebdda34",
   "metadata": {},
   "outputs": [
    {
     "ename": "TypeError",
     "evalue": "'tuple' object does not support item assignment",
     "output_type": "error",
     "traceback": [
      "\u001b[1;31m---------------------------------------------------------------------------\u001b[0m",
      "\u001b[1;31mTypeError\u001b[0m                                 Traceback (most recent call last)",
      "\u001b[1;32m<ipython-input-39-f469ab99125e>\u001b[0m in \u001b[0;36m<module>\u001b[1;34m\u001b[0m\n\u001b[1;32m----> 1\u001b[1;33m \u001b[0mt\u001b[0m\u001b[1;33m[\u001b[0m\u001b[1;36m0\u001b[0m\u001b[1;33m]\u001b[0m \u001b[1;33m=\u001b[0m \u001b[1;34m'new'\u001b[0m\u001b[1;33m\u001b[0m\u001b[1;33m\u001b[0m\u001b[0m\n\u001b[0m",
      "\u001b[1;31mTypeError\u001b[0m: 'tuple' object does not support item assignment"
     ]
    }
   ],
   "source": [
    "t[0] = 'new'"
   ]
  },
  {
   "cell_type": "markdown",
   "id": "289ff7ee",
   "metadata": {},
   "source": [
    "## Sets"
   ]
  },
  {
   "cell_type": "markdown",
   "id": "195ce0dd",
   "metadata": {},
   "source": [
    "* unordered collections of unique elements"
   ]
  },
  {
   "cell_type": "code",
   "execution_count": 40,
   "id": "17aa546c",
   "metadata": {},
   "outputs": [],
   "source": [
    "s = set()"
   ]
  },
  {
   "cell_type": "code",
   "execution_count": 41,
   "id": "c3f3cc1e",
   "metadata": {},
   "outputs": [],
   "source": [
    "s.add('item1')"
   ]
  },
  {
   "cell_type": "code",
   "execution_count": 42,
   "id": "c739919a",
   "metadata": {},
   "outputs": [
    {
     "data": {
      "text/plain": [
       "{'item1'}"
      ]
     },
     "execution_count": 42,
     "metadata": {},
     "output_type": "execute_result"
    }
   ],
   "source": [
    "s"
   ]
  },
  {
   "cell_type": "code",
   "execution_count": 43,
   "id": "6e702e69",
   "metadata": {},
   "outputs": [],
   "source": [
    "s.add('item2')"
   ]
  },
  {
   "cell_type": "code",
   "execution_count": 44,
   "id": "3b7c661e",
   "metadata": {},
   "outputs": [
    {
     "data": {
      "text/plain": [
       "{'item1', 'item2'}"
      ]
     },
     "execution_count": 44,
     "metadata": {},
     "output_type": "execute_result"
    }
   ],
   "source": [
    "s"
   ]
  },
  {
   "cell_type": "code",
   "execution_count": 45,
   "id": "7cb50cab",
   "metadata": {},
   "outputs": [],
   "source": [
    "s.add('item1')"
   ]
  },
  {
   "cell_type": "code",
   "execution_count": 46,
   "id": "7162a3a6",
   "metadata": {},
   "outputs": [
    {
     "data": {
      "text/plain": [
       "{'item1', 'item2'}"
      ]
     },
     "execution_count": 46,
     "metadata": {},
     "output_type": "execute_result"
    }
   ],
   "source": [
    "s"
   ]
  },
  {
   "cell_type": "markdown",
   "id": "1de36736",
   "metadata": {},
   "source": [
    "* you can only add unique values to a set\n",
    "* usecase: cast a list to a set to filter on unique values"
   ]
  },
  {
   "cell_type": "code",
   "execution_count": 47,
   "id": "5ca38a97",
   "metadata": {},
   "outputs": [],
   "source": [
    "l = [1,1,1,2,2,3,3,3,3,3]"
   ]
  },
  {
   "cell_type": "code",
   "execution_count": 49,
   "id": "ab8562e2",
   "metadata": {},
   "outputs": [
    {
     "data": {
      "text/plain": [
       "{1, 2, 3}"
      ]
     },
     "execution_count": 49,
     "metadata": {},
     "output_type": "execute_result"
    }
   ],
   "source": [
    "set(l)"
   ]
  },
  {
   "cell_type": "markdown",
   "id": "040d2806",
   "metadata": {},
   "source": [
    "## Booleans"
   ]
  },
  {
   "cell_type": "code",
   "execution_count": 50,
   "id": "a6c3208a",
   "metadata": {},
   "outputs": [
    {
     "data": {
      "text/plain": [
       "bool"
      ]
     },
     "execution_count": 50,
     "metadata": {},
     "output_type": "execute_result"
    }
   ],
   "source": [
    "type(True)"
   ]
  },
  {
   "cell_type": "code",
   "execution_count": 51,
   "id": "d8577210",
   "metadata": {},
   "outputs": [
    {
     "data": {
      "text/plain": [
       "False"
      ]
     },
     "execution_count": 51,
     "metadata": {},
     "output_type": "execute_result"
    }
   ],
   "source": [
    "1>2"
   ]
  },
  {
   "cell_type": "code",
   "execution_count": 55,
   "id": "69bb4814",
   "metadata": {},
   "outputs": [],
   "source": [
    "b = None # to prevent undefined errors by using None keyword"
   ]
  },
  {
   "cell_type": "code",
   "execution_count": 56,
   "id": "8caa1e86",
   "metadata": {
    "scrolled": true
   },
   "outputs": [
    {
     "data": {
      "text/plain": [
       "NoneType"
      ]
     },
     "execution_count": 56,
     "metadata": {},
     "output_type": "execute_result"
    }
   ],
   "source": [
    "type(b)"
   ]
  },
  {
   "cell_type": "markdown",
   "id": "e1a0cef6",
   "metadata": {},
   "source": [
    "## File I/O"
   ]
  },
  {
   "cell_type": "code",
   "execution_count": 59,
   "id": "4b4bc75e",
   "metadata": {},
   "outputs": [
    {
     "name": "stdout",
     "output_type": "stream",
     "text": [
      "Writing a.txt\n"
     ]
    }
   ],
   "source": [
    "%%writefile a.txt\n",
    "Hello, how are you\n",
    "doing today? I need\n",
    "a new keyboard."
   ]
  },
  {
   "cell_type": "code",
   "execution_count": 68,
   "id": "47c83fba",
   "metadata": {},
   "outputs": [],
   "source": [
    "myfile = open('a.txt')"
   ]
  },
  {
   "cell_type": "code",
   "execution_count": 69,
   "id": "f86508ea",
   "metadata": {},
   "outputs": [
    {
     "data": {
      "text/plain": [
       "'Hello, how are you\\ndoing today? I need\\na new keyboard.\\n'"
      ]
     },
     "execution_count": 69,
     "metadata": {},
     "output_type": "execute_result"
    }
   ],
   "source": [
    "myfile.read()"
   ]
  },
  {
   "cell_type": "code",
   "execution_count": 75,
   "id": "68796d1c",
   "metadata": {},
   "outputs": [
    {
     "data": {
      "text/plain": [
       "0"
      ]
     },
     "execution_count": 75,
     "metadata": {},
     "output_type": "execute_result"
    }
   ],
   "source": [
    "myfile.seek(0)"
   ]
  },
  {
   "cell_type": "code",
   "execution_count": 76,
   "id": "e48944de",
   "metadata": {},
   "outputs": [],
   "source": [
    "l = myfile.readlines()"
   ]
  },
  {
   "cell_type": "code",
   "execution_count": 77,
   "id": "15c99c8e",
   "metadata": {},
   "outputs": [
    {
     "data": {
      "text/plain": [
       "'doing today? I need\\n'"
      ]
     },
     "execution_count": 77,
     "metadata": {},
     "output_type": "execute_result"
    }
   ],
   "source": [
    "l[1]"
   ]
  },
  {
   "cell_type": "code",
   "execution_count": 78,
   "id": "3edd0d62",
   "metadata": {},
   "outputs": [],
   "source": [
    "myfile.close()"
   ]
  },
  {
   "cell_type": "code",
   "execution_count": 82,
   "id": "faa2d9c6",
   "metadata": {},
   "outputs": [],
   "source": [
    "with open('a.txt') as newFile:\n",
    "    contents = newFile.read()\n",
    "    # automatically opens and closes a file, able to obtain contents"
   ]
  },
  {
   "cell_type": "code",
   "execution_count": 81,
   "id": "03a46a89",
   "metadata": {},
   "outputs": [
    {
     "data": {
      "text/plain": [
       "'Hello, how are you\\ndoing today? I need\\na new keyboard.\\n'"
      ]
     },
     "execution_count": 81,
     "metadata": {},
     "output_type": "execute_result"
    }
   ],
   "source": [
    "contents"
   ]
  },
  {
   "cell_type": "code",
   "execution_count": 84,
   "id": "26673fd6",
   "metadata": {},
   "outputs": [
    {
     "name": "stdout",
     "output_type": "stream",
     "text": [
      "Hello, how are you\n",
      "doing today? I need\n",
      "a new keyboard.\n",
      "\n"
     ]
    }
   ],
   "source": [
    "#modes: r,w,a,r+ = r+w,w+ = w+r\n",
    "with open('a.txt', 'r') as f: \n",
    "    print(f.read())"
   ]
  },
  {
   "cell_type": "code",
   "execution_count": 85,
   "id": "4aca01c2",
   "metadata": {},
   "outputs": [],
   "source": [
    "with open('a.txt', 'a') as f:\n",
    "    f.write('This is a new line')"
   ]
  },
  {
   "cell_type": "code",
   "execution_count": 86,
   "id": "0f208348",
   "metadata": {},
   "outputs": [
    {
     "name": "stdout",
     "output_type": "stream",
     "text": [
      "Hello, how are you\n",
      "doing today? I need\n",
      "a new keyboard.\n",
      "This is a new line\n"
     ]
    }
   ],
   "source": [
    "with open('a.txt', 'r') as f: \n",
    "    print(f.read())"
   ]
  },
  {
   "cell_type": "code",
   "execution_count": null,
   "id": "58e29c30",
   "metadata": {},
   "outputs": [],
   "source": []
  }
 ],
 "metadata": {
  "kernelspec": {
   "display_name": "Python 3",
   "language": "python",
   "name": "python3"
  },
  "language_info": {
   "codemirror_mode": {
    "name": "ipython",
    "version": 3
   },
   "file_extension": ".py",
   "mimetype": "text/x-python",
   "name": "python",
   "nbconvert_exporter": "python",
   "pygments_lexer": "ipython3",
   "version": "3.8.2"
  }
 },
 "nbformat": 4,
 "nbformat_minor": 5
}
