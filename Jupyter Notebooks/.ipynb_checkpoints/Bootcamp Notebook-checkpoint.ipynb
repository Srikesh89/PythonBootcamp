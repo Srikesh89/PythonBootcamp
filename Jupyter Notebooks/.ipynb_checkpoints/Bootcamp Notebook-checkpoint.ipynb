{
 "cells": [
  {
   "cell_type": "markdown",
   "id": "cb783e7d",
   "metadata": {},
   "source": [
    "# Starting with Jupyter Notebooks\n",
    "* To start Jupyter Notebook, navigate to the correct directory and run 'Jupyter Notebook' in the terminal\n",
    "***"
   ]
  },
  {
   "cell_type": "code",
   "execution_count": 1,
   "id": "54302ff9",
   "metadata": {},
   "outputs": [
    {
     "name": "stdout",
     "output_type": "stream",
     "text": [
      "hello world\n"
     ]
    }
   ],
   "source": [
    "print('hello world')"
   ]
  },
  {
   "cell_type": "markdown",
   "id": "f0f74c2c",
   "metadata": {},
   "source": [
    "***\n",
    "## Numbers"
   ]
  },
  {
   "cell_type": "code",
   "execution_count": 1,
   "id": "c1f716eb",
   "metadata": {},
   "outputs": [
    {
     "data": {
      "text/plain": [
       "0.5"
      ]
     },
     "execution_count": 1,
     "metadata": {},
     "output_type": "execute_result"
    }
   ],
   "source": [
    "1/2"
   ]
  },
  {
   "cell_type": "markdown",
   "id": "527ac635",
   "metadata": {},
   "source": [
    "### Variable Assignments"
   ]
  },
  {
   "cell_type": "code",
   "execution_count": 4,
   "id": "f682a591",
   "metadata": {},
   "outputs": [
    {
     "data": {
      "text/plain": [
       "10"
      ]
     },
     "execution_count": 4,
     "metadata": {},
     "output_type": "execute_result"
    }
   ],
   "source": [
    "my_free_time = 5\n",
    "my_free_time*2"
   ]
  },
  {
   "cell_type": "code",
   "execution_count": 8,
   "id": "62bb5012",
   "metadata": {},
   "outputs": [
    {
     "data": {
      "text/plain": [
       "<function list.count(value, /)>"
      ]
     },
     "execution_count": 8,
     "metadata": {},
     "output_type": "execute_result"
    }
   ],
   "source": [
    "hobbies = ['markers', 'golf', 'games']\n",
    "hobbies.count"
   ]
  },
  {
   "cell_type": "code",
   "execution_count": 9,
   "id": "28e448bb",
   "metadata": {},
   "outputs": [],
   "source": [
    "a = 4"
   ]
  },
  {
   "cell_type": "code",
   "execution_count": 10,
   "id": "6fce1067",
   "metadata": {},
   "outputs": [
    {
     "data": {
      "text/plain": [
       "8"
      ]
     },
     "execution_count": 10,
     "metadata": {},
     "output_type": "execute_result"
    }
   ],
   "source": [
    "a + a"
   ]
  },
  {
   "cell_type": "code",
   "execution_count": 13,
   "id": "05e22c97",
   "metadata": {},
   "outputs": [],
   "source": [
    "a = a + a"
   ]
  },
  {
   "cell_type": "code",
   "execution_count": 15,
   "id": "35280c9e",
   "metadata": {},
   "outputs": [
    {
     "data": {
      "text/plain": [
       "16"
      ]
     },
     "execution_count": 15,
     "metadata": {},
     "output_type": "execute_result"
    }
   ],
   "source": [
    "a"
   ]
  },
  {
   "cell_type": "code",
   "execution_count": 16,
   "id": "9432e51c",
   "metadata": {},
   "outputs": [
    {
     "data": {
      "text/plain": [
       "int"
      ]
     },
     "execution_count": 16,
     "metadata": {},
     "output_type": "execute_result"
    }
   ],
   "source": [
    "type(a)"
   ]
  },
  {
   "cell_type": "code",
   "execution_count": 17,
   "id": "d7b7001b",
   "metadata": {},
   "outputs": [],
   "source": [
    "b = 4.4"
   ]
  },
  {
   "cell_type": "code",
   "execution_count": 18,
   "id": "82843ebb",
   "metadata": {},
   "outputs": [
    {
     "data": {
      "text/plain": [
       "float"
      ]
     },
     "execution_count": 18,
     "metadata": {},
     "output_type": "execute_result"
    }
   ],
   "source": [
    "type(b)"
   ]
  },
  {
   "cell_type": "code",
   "execution_count": 19,
   "id": "1a308c34",
   "metadata": {},
   "outputs": [],
   "source": [
    "c = a + b"
   ]
  },
  {
   "cell_type": "code",
   "execution_count": 20,
   "id": "cc0e50b9",
   "metadata": {},
   "outputs": [
    {
     "data": {
      "text/plain": [
       "20.4"
      ]
     },
     "execution_count": 20,
     "metadata": {},
     "output_type": "execute_result"
    }
   ],
   "source": [
    "c"
   ]
  },
  {
   "cell_type": "code",
   "execution_count": 21,
   "id": "e87dbdc7",
   "metadata": {},
   "outputs": [
    {
     "data": {
      "text/plain": [
       "float"
      ]
     },
     "execution_count": 21,
     "metadata": {},
     "output_type": "execute_result"
    }
   ],
   "source": [
    "type(c)"
   ]
  },
  {
   "cell_type": "markdown",
   "id": "c2abcfab",
   "metadata": {},
   "source": [
    "* adding an int to a float will generate a float"
   ]
  },
  {
   "cell_type": "code",
   "execution_count": 23,
   "id": "0f6ed9b5",
   "metadata": {},
   "outputs": [
    {
     "data": {
      "text/plain": [
       "12.0"
      ]
     },
     "execution_count": 23,
     "metadata": {},
     "output_type": "execute_result"
    }
   ],
   "source": [
    "my_var = 120 \n",
    "tax = 0.1\n",
    "m_taxes = my_var * tax\n",
    "m_taxes"
   ]
  },
  {
   "cell_type": "markdown",
   "id": "6c492782",
   "metadata": {},
   "source": [
    "## Strings"
   ]
  },
  {
   "cell_type": "markdown",
   "id": "c00feb16",
   "metadata": {},
   "source": [
    "Index and slicing key definitions. Strings are a character list in python. Can grab single character by using index. Can perform reverse indexing by using negative ints. Slicing has syntax [start:stop:step]. Step is size of jump you take. Start and stop are indices"
   ]
  },
  {
   "cell_type": "code",
   "execution_count": 24,
   "id": "4cbf8e9d",
   "metadata": {},
   "outputs": [
    {
     "data": {
      "text/plain": [
       "'howdy there partner'"
      ]
     },
     "execution_count": 24,
     "metadata": {},
     "output_type": "execute_result"
    }
   ],
   "source": [
    "'howdy there partner'"
   ]
  },
  {
   "cell_type": "code",
   "execution_count": 26,
   "id": "4a2e9653",
   "metadata": {},
   "outputs": [
    {
     "data": {
      "text/plain": [
       "\"Use ' escape characters which are the same in pythonOr use double quotes to prevent ' from ruining strings\""
      ]
     },
     "execution_count": 26,
     "metadata": {},
     "output_type": "execute_result"
    }
   ],
   "source": [
    "'Use \\' escape characters which are the same in python' \"Or use double quotes to prevent ' from ruining strings\""
   ]
  },
  {
   "cell_type": "code",
   "execution_count": 27,
   "id": "9349f378",
   "metadata": {},
   "outputs": [
    {
     "name": "stdout",
     "output_type": "stream",
     "text": [
      "first statement\n",
      "second statement\n"
     ]
    }
   ],
   "source": [
    "print('first statement')\n",
    "print('second statement')"
   ]
  },
  {
   "cell_type": "code",
   "execution_count": 29,
   "id": "f653dd1c",
   "metadata": {},
   "outputs": [
    {
     "name": "stdout",
     "output_type": "stream",
     "text": [
      "first line \n",
      "second line\n"
     ]
    }
   ],
   "source": [
    "print('first line \\nsecond line')"
   ]
  },
  {
   "cell_type": "code",
   "execution_count": 30,
   "id": "bab7e3cd",
   "metadata": {},
   "outputs": [
    {
     "data": {
      "text/plain": [
       "5"
      ]
     },
     "execution_count": 30,
     "metadata": {},
     "output_type": "execute_result"
    }
   ],
   "source": [
    "len('hello')"
   ]
  },
  {
   "cell_type": "code",
   "execution_count": 31,
   "id": "f34bed1a",
   "metadata": {},
   "outputs": [],
   "source": [
    "my_string = 'I am so fat right now'"
   ]
  },
  {
   "cell_type": "code",
   "execution_count": 32,
   "id": "d3d367eb",
   "metadata": {},
   "outputs": [
    {
     "data": {
      "text/plain": [
       "21"
      ]
     },
     "execution_count": 32,
     "metadata": {},
     "output_type": "execute_result"
    }
   ],
   "source": [
    "len(my_string)"
   ]
  },
  {
   "cell_type": "code",
   "execution_count": 33,
   "id": "03f5488e",
   "metadata": {},
   "outputs": [
    {
     "data": {
      "text/plain": [
       "'I am so fat right now'"
      ]
     },
     "execution_count": 33,
     "metadata": {},
     "output_type": "execute_result"
    }
   ],
   "source": [
    "my_string"
   ]
  },
  {
   "cell_type": "code",
   "execution_count": 34,
   "id": "8373ad81",
   "metadata": {},
   "outputs": [
    {
     "data": {
      "text/plain": [
       "'s'"
      ]
     },
     "execution_count": 34,
     "metadata": {},
     "output_type": "execute_result"
    }
   ],
   "source": [
    "my_string[5]"
   ]
  },
  {
   "cell_type": "code",
   "execution_count": 35,
   "id": "35f0fdf3",
   "metadata": {},
   "outputs": [
    {
     "data": {
      "text/plain": [
       "'I am '"
      ]
     },
     "execution_count": 35,
     "metadata": {},
     "output_type": "execute_result"
    }
   ],
   "source": [
    "my_string[0:5:1]"
   ]
  },
  {
   "cell_type": "code",
   "execution_count": 36,
   "id": "1f96b765",
   "metadata": {},
   "outputs": [
    {
     "data": {
      "text/plain": [
       "'Ia '"
      ]
     },
     "execution_count": 36,
     "metadata": {},
     "output_type": "execute_result"
    }
   ],
   "source": [
    "my_string[0:5:2]"
   ]
  },
  {
   "cell_type": "code",
   "execution_count": 37,
   "id": "29e62f51",
   "metadata": {},
   "outputs": [
    {
     "data": {
      "text/plain": [
       "'t'"
      ]
     },
     "execution_count": 37,
     "metadata": {},
     "output_type": "execute_result"
    }
   ],
   "source": [
    "my_string[-5]"
   ]
  },
  {
   "cell_type": "code",
   "execution_count": 38,
   "id": "f290f080",
   "metadata": {},
   "outputs": [],
   "source": [
    "my_string = 'IAmSoFatRightNow'"
   ]
  },
  {
   "cell_type": "code",
   "execution_count": 42,
   "id": "2ceeca77",
   "metadata": {},
   "outputs": [
    {
     "data": {
      "text/plain": [
       "'SoFatRightNow'"
      ]
     },
     "execution_count": 42,
     "metadata": {},
     "output_type": "execute_result"
    }
   ],
   "source": [
    "my_string[3:]"
   ]
  },
  {
   "cell_type": "code",
   "execution_count": 41,
   "id": "e80b1c53",
   "metadata": {},
   "outputs": [
    {
     "data": {
      "text/plain": [
       "'IAmSo'"
      ]
     },
     "execution_count": 41,
     "metadata": {},
     "output_type": "execute_result"
    }
   ],
   "source": [
    "my_string[:5]"
   ]
  },
  {
   "cell_type": "code",
   "execution_count": 44,
   "id": "dac7cc76",
   "metadata": {},
   "outputs": [
    {
     "data": {
      "text/plain": [
       "'SoFat'"
      ]
     },
     "execution_count": 44,
     "metadata": {},
     "output_type": "execute_result"
    }
   ],
   "source": [
    "my_string[3:8]"
   ]
  },
  {
   "cell_type": "code",
   "execution_count": 45,
   "id": "132bf406",
   "metadata": {},
   "outputs": [
    {
     "data": {
      "text/plain": [
       "'Iamsofatrightnow'"
      ]
     },
     "execution_count": 45,
     "metadata": {},
     "output_type": "execute_result"
    }
   ],
   "source": [
    "my_string.capitalize()"
   ]
  },
  {
   "cell_type": "code",
   "execution_count": 46,
   "id": "3b6b23f0",
   "metadata": {},
   "outputs": [
    {
     "data": {
      "text/plain": [
       "'ISaitw'"
      ]
     },
     "execution_count": 46,
     "metadata": {},
     "output_type": "execute_result"
    }
   ],
   "source": [
    "my_string[::3]"
   ]
  },
  {
   "cell_type": "code",
   "execution_count": 47,
   "id": "5ae16ce8",
   "metadata": {},
   "outputs": [
    {
     "data": {
      "text/plain": [
       "'woNthgiRtaFoSmAI'"
      ]
     },
     "execution_count": 47,
     "metadata": {},
     "output_type": "execute_result"
    }
   ],
   "source": [
    "my_string[::-1]"
   ]
  },
  {
   "cell_type": "code",
   "execution_count": 48,
   "id": "25733dbf",
   "metadata": {},
   "outputs": [],
   "source": [
    "name = 'Sam'"
   ]
  },
  {
   "cell_type": "code",
   "execution_count": 49,
   "id": "e4692caa",
   "metadata": {},
   "outputs": [
    {
     "ename": "TypeError",
     "evalue": "unsupported operand type(s) for +: 'int' and 'str'",
     "output_type": "error",
     "traceback": [
      "\u001b[1;31m---------------------------------------------------------------------------\u001b[0m",
      "\u001b[1;31mTypeError\u001b[0m                                 Traceback (most recent call last)",
      "\u001b[1;32m<ipython-input-49-8fd9dcfa4f42>\u001b[0m in \u001b[0;36m<module>\u001b[1;34m\u001b[0m\n\u001b[1;32m----> 1\u001b[1;33m \u001b[1;36m2\u001b[0m \u001b[1;33m+\u001b[0m \u001b[1;34m'3'\u001b[0m\u001b[1;33m\u001b[0m\u001b[1;33m\u001b[0m\u001b[0m\n\u001b[0m",
      "\u001b[1;31mTypeError\u001b[0m: unsupported operand type(s) for +: 'int' and 'str'"
     ]
    }
   ],
   "source": [
    "2 + '3'"
   ]
  },
  {
   "cell_type": "code",
   "execution_count": 50,
   "id": "e5218a95",
   "metadata": {},
   "outputs": [],
   "source": [
    "x = 'Howdy There'"
   ]
  },
  {
   "cell_type": "code",
   "execution_count": 51,
   "id": "6d770636",
   "metadata": {},
   "outputs": [
    {
     "data": {
      "text/plain": [
       "<function str.count>"
      ]
     },
     "execution_count": 51,
     "metadata": {},
     "output_type": "execute_result"
    }
   ],
   "source": [
    "x.count"
   ]
  },
  {
   "cell_type": "code",
   "execution_count": 52,
   "id": "1489099f",
   "metadata": {},
   "outputs": [
    {
     "ename": "TypeError",
     "evalue": "count() takes at least 1 argument (0 given)",
     "output_type": "error",
     "traceback": [
      "\u001b[1;31m---------------------------------------------------------------------------\u001b[0m",
      "\u001b[1;31mTypeError\u001b[0m                                 Traceback (most recent call last)",
      "\u001b[1;32m<ipython-input-52-22592ee537f4>\u001b[0m in \u001b[0;36m<module>\u001b[1;34m\u001b[0m\n\u001b[1;32m----> 1\u001b[1;33m \u001b[0mx\u001b[0m\u001b[1;33m.\u001b[0m\u001b[0mcount\u001b[0m\u001b[1;33m(\u001b[0m\u001b[1;33m)\u001b[0m\u001b[1;33m\u001b[0m\u001b[1;33m\u001b[0m\u001b[0m\n\u001b[0m",
      "\u001b[1;31mTypeError\u001b[0m: count() takes at least 1 argument (0 given)"
     ]
    }
   ],
   "source": [
    "x.count()"
   ]
  },
  {
   "cell_type": "code",
   "execution_count": 53,
   "id": "e92c92ad",
   "metadata": {},
   "outputs": [
    {
     "data": {
      "text/plain": [
       "'HOWDY THERE'"
      ]
     },
     "execution_count": 53,
     "metadata": {},
     "output_type": "execute_result"
    }
   ],
   "source": [
    "x.upper()"
   ]
  },
  {
   "cell_type": "code",
   "execution_count": 54,
   "id": "86884cd3",
   "metadata": {},
   "outputs": [
    {
     "data": {
      "text/plain": [
       "False"
      ]
     },
     "execution_count": 54,
     "metadata": {},
     "output_type": "execute_result"
    }
   ],
   "source": [
    "x.isdecimal()"
   ]
  },
  {
   "cell_type": "code",
   "execution_count": 55,
   "id": "0ae35009",
   "metadata": {},
   "outputs": [
    {
     "data": {
      "text/plain": [
       "False"
      ]
     },
     "execution_count": 55,
     "metadata": {},
     "output_type": "execute_result"
    }
   ],
   "source": [
    "x.isalpha()"
   ]
  },
  {
   "cell_type": "code",
   "execution_count": 56,
   "id": "a9061183",
   "metadata": {},
   "outputs": [
    {
     "data": {
      "text/plain": [
       "False"
      ]
     },
     "execution_count": 56,
     "metadata": {},
     "output_type": "execute_result"
    }
   ],
   "source": [
    "x.isalnum()"
   ]
  },
  {
   "cell_type": "code",
   "execution_count": 57,
   "id": "cc58fee7",
   "metadata": {},
   "outputs": [
    {
     "data": {
      "text/plain": [
       "True"
      ]
     },
     "execution_count": 57,
     "metadata": {},
     "output_type": "execute_result"
    }
   ],
   "source": [
    "x.isascii()"
   ]
  },
  {
   "cell_type": "code",
   "execution_count": 63,
   "id": "50b7c6f4",
   "metadata": {},
   "outputs": [
    {
     "data": {
      "text/plain": [
       "['Howdy T', 'ere']"
      ]
     },
     "execution_count": 63,
     "metadata": {},
     "output_type": "execute_result"
    }
   ],
   "source": [
    "x.split('h')"
   ]
  },
  {
   "cell_type": "code",
   "execution_count": 64,
   "id": "69ba671e",
   "metadata": {},
   "outputs": [
    {
     "name": "stdout",
     "output_type": "stream",
     "text": [
      "Howdy There\n"
     ]
    }
   ],
   "source": [
    "print(x)"
   ]
  },
  {
   "cell_type": "code",
   "execution_count": 65,
   "id": "fa367eea",
   "metadata": {},
   "outputs": [
    {
     "data": {
      "text/plain": [
       "'Hello Komrade. Welcome to Instance Communism'"
      ]
     },
     "execution_count": 65,
     "metadata": {},
     "output_type": "execute_result"
    }
   ],
   "source": [
    "'Hello {}. Welcome to Instance {}'.format('Komrade', 'Communism')"
   ]
  },
  {
   "cell_type": "code",
   "execution_count": 66,
   "id": "60d014f4",
   "metadata": {},
   "outputs": [
    {
     "data": {
      "text/plain": [
       "'So you can switch order or duplicate words wow words great'"
      ]
     },
     "execution_count": 66,
     "metadata": {},
     "output_type": "execute_result"
    }
   ],
   "source": [
    "'So you can switch order or duplicate {a} {b} {a} {c}'.format(a='words',b='wow',c='great',d='now')"
   ]
  },
  {
   "cell_type": "code",
   "execution_count": 68,
   "id": "a6caa11b",
   "metadata": {},
   "outputs": [
    {
     "data": {
      "text/plain": [
       "'Here is your information: Address: Texas, First Name: Joe, Last Name: Bartz'"
      ]
     },
     "execution_count": 68,
     "metadata": {},
     "output_type": "execute_result"
    }
   ],
   "source": [
    "'Here is your information: Address: {add}, First Name: {fn}, Last Name: {ln}'.format(add='Texas', fn='Joe', ln='Bartz')"
   ]
  },
  {
   "cell_type": "code",
   "execution_count": 70,
   "id": "8e12dd1d",
   "metadata": {},
   "outputs": [
    {
     "data": {
      "text/plain": [
       "'Formatting floating points 1.26'"
      ]
     },
     "execution_count": 70,
     "metadata": {},
     "output_type": "execute_result"
    }
   ],
   "source": [
    "'Formatting floating points {r:0.2f}'.format(r=1.25805)"
   ]
  },
  {
   "cell_type": "code",
   "execution_count": 72,
   "id": "ad55f44e",
   "metadata": {},
   "outputs": [
    {
     "name": "stdout",
     "output_type": "stream",
     "text": [
      "Hello, his name is Gerald\n"
     ]
    }
   ],
   "source": [
    "name = 'Gerald'\n",
    "print(f'Hello, his name is {name}')"
   ]
  },
  {
   "cell_type": "markdown",
   "id": "9e8200ae",
   "metadata": {},
   "source": [
    "## Lists"
   ]
  },
  {
   "cell_type": "code",
   "execution_count": 73,
   "id": "1420066e",
   "metadata": {},
   "outputs": [],
   "source": [
    "myList = ['hello', 32, 32.43]"
   ]
  },
  {
   "cell_type": "code",
   "execution_count": 74,
   "id": "26411f05",
   "metadata": {},
   "outputs": [
    {
     "data": {
      "text/plain": [
       "3"
      ]
     },
     "execution_count": 74,
     "metadata": {},
     "output_type": "execute_result"
    }
   ],
   "source": [
    "len(myList)"
   ]
  },
  {
   "cell_type": "code",
   "execution_count": 76,
   "id": "6f8cb1fa",
   "metadata": {},
   "outputs": [
    {
     "data": {
      "text/plain": [
       "[32, 32.43]"
      ]
     },
     "execution_count": 76,
     "metadata": {},
     "output_type": "execute_result"
    }
   ],
   "source": [
    "myList[1:]"
   ]
  },
  {
   "cell_type": "code",
   "execution_count": 77,
   "id": "af87cdce",
   "metadata": {},
   "outputs": [],
   "source": [
    "secondList=['five', 6, 'Seven']"
   ]
  },
  {
   "cell_type": "code",
   "execution_count": 78,
   "id": "c3ea7a5b",
   "metadata": {},
   "outputs": [
    {
     "data": {
      "text/plain": [
       "['hello', 32, 32.43, 'five', 6, 'Seven']"
      ]
     },
     "execution_count": 78,
     "metadata": {},
     "output_type": "execute_result"
    }
   ],
   "source": [
    "myList + secondList"
   ]
  },
  {
   "cell_type": "code",
   "execution_count": 79,
   "id": "ccc2e326",
   "metadata": {},
   "outputs": [
    {
     "data": {
      "text/plain": [
       "6"
      ]
     },
     "execution_count": 79,
     "metadata": {},
     "output_type": "execute_result"
    }
   ],
   "source": [
    "len(myList+secondList)"
   ]
  },
  {
   "cell_type": "code",
   "execution_count": 80,
   "id": "74f1c181",
   "metadata": {},
   "outputs": [],
   "source": [
    "myList.append('new item')"
   ]
  },
  {
   "cell_type": "code",
   "execution_count": 81,
   "id": "64f09e3f",
   "metadata": {},
   "outputs": [
    {
     "data": {
      "text/plain": [
       "['hello', 32, 32.43, 'new item']"
      ]
     },
     "execution_count": 81,
     "metadata": {},
     "output_type": "execute_result"
    }
   ],
   "source": [
    "myList"
   ]
  },
  {
   "cell_type": "code",
   "execution_count": 82,
   "id": "ee76934a",
   "metadata": {},
   "outputs": [
    {
     "data": {
      "text/plain": [
       "'new item'"
      ]
     },
     "execution_count": 82,
     "metadata": {},
     "output_type": "execute_result"
    }
   ],
   "source": [
    "myList.pop()"
   ]
  },
  {
   "cell_type": "code",
   "execution_count": 83,
   "id": "0b2bbb61",
   "metadata": {},
   "outputs": [
    {
     "data": {
      "text/plain": [
       "['hello', 32, 32.43]"
      ]
     },
     "execution_count": 83,
     "metadata": {},
     "output_type": "execute_result"
    }
   ],
   "source": [
    "myList"
   ]
  },
  {
   "cell_type": "code",
   "execution_count": 84,
   "id": "c18df161",
   "metadata": {},
   "outputs": [
    {
     "data": {
      "text/plain": [
       "'hello'"
      ]
     },
     "execution_count": 84,
     "metadata": {},
     "output_type": "execute_result"
    }
   ],
   "source": [
    "myList.pop(0)"
   ]
  },
  {
   "cell_type": "code",
   "execution_count": 85,
   "id": "daf3b72b",
   "metadata": {},
   "outputs": [
    {
     "data": {
      "text/plain": [
       "[32, 32.43]"
      ]
     },
     "execution_count": 85,
     "metadata": {},
     "output_type": "execute_result"
    }
   ],
   "source": [
    "myList"
   ]
  },
  {
   "cell_type": "code",
   "execution_count": 86,
   "id": "111311e3",
   "metadata": {},
   "outputs": [],
   "source": [
    "myList = ['a', 'c', 'e', 'b', 'd']"
   ]
  },
  {
   "cell_type": "code",
   "execution_count": 87,
   "id": "7dd7929e",
   "metadata": {},
   "outputs": [],
   "source": [
    "myList.sort()"
   ]
  },
  {
   "cell_type": "code",
   "execution_count": 88,
   "id": "2667729f",
   "metadata": {},
   "outputs": [
    {
     "data": {
      "text/plain": [
       "['a', 'b', 'c', 'd', 'e']"
      ]
     },
     "execution_count": 88,
     "metadata": {},
     "output_type": "execute_result"
    }
   ],
   "source": [
    "myList"
   ]
  },
  {
   "cell_type": "code",
   "execution_count": 89,
   "id": "0efa2c2f",
   "metadata": {},
   "outputs": [],
   "source": [
    "myList.reverse()"
   ]
  },
  {
   "cell_type": "code",
   "execution_count": 90,
   "id": "ee7635a5",
   "metadata": {},
   "outputs": [
    {
     "data": {
      "text/plain": [
       "['e', 'd', 'c', 'b', 'a']"
      ]
     },
     "execution_count": 90,
     "metadata": {},
     "output_type": "execute_result"
    }
   ],
   "source": [
    "myList"
   ]
  },
  {
   "cell_type": "markdown",
   "id": "28489422",
   "metadata": {},
   "source": [
    "## Dictionaries"
   ]
  },
  {
   "cell_type": "markdown",
   "id": "f4d2e353",
   "metadata": {},
   "source": [
    "* Dict: Retrieved by key name, unordered and cannot be sorted\n",
    "* List: Retrieved by location, can be indexed and sliced, can be ordered and sorted"
   ]
  },
  {
   "cell_type": "code",
   "execution_count": 2,
   "id": "ba9a9ba5",
   "metadata": {},
   "outputs": [],
   "source": [
    "categories_brands={'phone':['samsung', 'apple', 'huwaie'], 'internal_dict':{'inside_key':'brand'}, 'tv':['samsung', 'lg', 'sony']}"
   ]
  },
  {
   "cell_type": "code",
   "execution_count": 3,
   "id": "8200f912",
   "metadata": {},
   "outputs": [
    {
     "data": {
      "text/plain": [
       "{'inside_key': 'brand'}"
      ]
     },
     "execution_count": 3,
     "metadata": {},
     "output_type": "execute_result"
    }
   ],
   "source": [
    "categories_brands['internal_dict']"
   ]
  },
  {
   "cell_type": "code",
   "execution_count": 4,
   "id": "40f612e9",
   "metadata": {},
   "outputs": [
    {
     "data": {
      "text/plain": [
       "'SONY'"
      ]
     },
     "execution_count": 4,
     "metadata": {},
     "output_type": "execute_result"
    }
   ],
   "source": [
    "categories_brands['tv'][2].upper()"
   ]
  },
  {
   "cell_type": "code",
   "execution_count": 6,
   "id": "ecc78abf",
   "metadata": {
    "scrolled": false
   },
   "outputs": [
    {
     "data": {
      "text/plain": [
       "['SaMsUnG', 'lg', 'sony']"
      ]
     },
     "execution_count": 6,
     "metadata": {},
     "output_type": "execute_result"
    }
   ],
   "source": [
    "categories_brands['tv'][0] = 'SaMsUnG'\n",
    "categories_brands['tv']"
   ]
  },
  {
   "cell_type": "code",
   "execution_count": null,
   "id": "263a7338",
   "metadata": {},
   "outputs": [],
   "source": [
    "tokens = {0: '', 1: ''}\n",
    "tokens"
   ]
  },
  {
   "cell_type": "markdown",
   "id": "c64e7014",
   "metadata": {},
   "source": [
    "### Append"
   ]
  },
  {
   "cell_type": "code",
   "execution_count": 14,
   "id": "0be90cf3",
   "metadata": {},
   "outputs": [],
   "source": [
    "categories_brands['fridge'] = ['fridgedaire', 'lg']"
   ]
  },
  {
   "cell_type": "code",
   "execution_count": 15,
   "id": "beb7c819",
   "metadata": {
    "scrolled": false
   },
   "outputs": [
    {
     "data": {
      "text/plain": [
       "{'phone': ['samsung', 'apple', 'huwaie'],\n",
       " 'internal_dict': {'inside_key': 'brand'},\n",
       " 'tv': ['samsung', 'lg', 'sony'],\n",
       " 'fridge': ['fridgedaire', 'lg']}"
      ]
     },
     "execution_count": 15,
     "metadata": {},
     "output_type": "execute_result"
    }
   ],
   "source": [
    "categories_brands"
   ]
  },
  {
   "cell_type": "markdown",
   "id": "0319b582",
   "metadata": {},
   "source": [
    "### Replace the value"
   ]
  },
  {
   "cell_type": "code",
   "execution_count": 22,
   "id": "8e88b2fc",
   "metadata": {},
   "outputs": [],
   "source": [
    "categories_brands['internal_dict'] = ['sonos']"
   ]
  },
  {
   "cell_type": "code",
   "execution_count": 23,
   "id": "5fa85115",
   "metadata": {},
   "outputs": [
    {
     "data": {
      "text/plain": [
       "['sonos']"
      ]
     },
     "execution_count": 23,
     "metadata": {},
     "output_type": "execute_result"
    }
   ],
   "source": [
    "categories_brands['internal_dict']"
   ]
  },
  {
   "cell_type": "markdown",
   "id": "286416c7",
   "metadata": {},
   "source": [
    "### Common methods"
   ]
  },
  {
   "cell_type": "code",
   "execution_count": 17,
   "id": "1ba03e21",
   "metadata": {},
   "outputs": [
    {
     "data": {
      "text/plain": [
       "dict_keys(['phone', 'internal_dict', 'tv', 'fridge'])"
      ]
     },
     "execution_count": 17,
     "metadata": {},
     "output_type": "execute_result"
    }
   ],
   "source": [
    "categories_brands.keys()"
   ]
  },
  {
   "cell_type": "code",
   "execution_count": 18,
   "id": "a531f735",
   "metadata": {},
   "outputs": [
    {
     "data": {
      "text/plain": [
       "dict_values([['samsung', 'apple', 'huwaie'], {'inside_key': 'brand'}, ['samsung', 'lg', 'sony'], ['fridgedaire', 'lg']])"
      ]
     },
     "execution_count": 18,
     "metadata": {},
     "output_type": "execute_result"
    }
   ],
   "source": [
    "categories_brands.values()"
   ]
  },
  {
   "cell_type": "code",
   "execution_count": 19,
   "id": "5f7f50f1",
   "metadata": {},
   "outputs": [
    {
     "data": {
      "text/plain": [
       "dict_items([('phone', ['samsung', 'apple', 'huwaie']), ('internal_dict', {'inside_key': 'brand'}), ('tv', ['samsung', 'lg', 'sony']), ('fridge', ['fridgedaire', 'lg'])])"
      ]
     },
     "execution_count": 19,
     "metadata": {},
     "output_type": "execute_result"
    }
   ],
   "source": [
    "categories_brands.items()"
   ]
  },
  {
   "cell_type": "markdown",
   "id": "af83acc2",
   "metadata": {},
   "source": [
    "## Tuples"
   ]
  },
  {
   "cell_type": "markdown",
   "id": "e3eb1cbf",
   "metadata": {},
   "source": [
    "* Similar to a list but are IMMUTABLE"
   ]
  },
  {
   "cell_type": "code",
   "execution_count": 31,
   "id": "30d45b23",
   "metadata": {},
   "outputs": [],
   "source": [
    "t = (1,'two',3)"
   ]
  },
  {
   "cell_type": "code",
   "execution_count": 26,
   "id": "d0915d1c",
   "metadata": {},
   "outputs": [],
   "source": [
    "l = [1,23,32]"
   ]
  },
  {
   "cell_type": "code",
   "execution_count": 27,
   "id": "55613ba3",
   "metadata": {},
   "outputs": [
    {
     "data": {
      "text/plain": [
       "tuple"
      ]
     },
     "execution_count": 27,
     "metadata": {},
     "output_type": "execute_result"
    }
   ],
   "source": [
    "type(t)"
   ]
  },
  {
   "cell_type": "code",
   "execution_count": 28,
   "id": "8bd04af3",
   "metadata": {},
   "outputs": [
    {
     "data": {
      "text/plain": [
       "list"
      ]
     },
     "execution_count": 28,
     "metadata": {},
     "output_type": "execute_result"
    }
   ],
   "source": [
    "type(l)"
   ]
  },
  {
   "cell_type": "code",
   "execution_count": 29,
   "id": "c446854b",
   "metadata": {},
   "outputs": [
    {
     "data": {
      "text/plain": [
       "3"
      ]
     },
     "execution_count": 29,
     "metadata": {},
     "output_type": "execute_result"
    }
   ],
   "source": [
    "len(t)"
   ]
  },
  {
   "cell_type": "code",
   "execution_count": 30,
   "id": "215c3118",
   "metadata": {},
   "outputs": [
    {
     "data": {
      "text/plain": [
       "3"
      ]
     },
     "execution_count": 30,
     "metadata": {},
     "output_type": "execute_result"
    }
   ],
   "source": [
    "len(l)"
   ]
  },
  {
   "cell_type": "code",
   "execution_count": 32,
   "id": "2db14c25",
   "metadata": {},
   "outputs": [
    {
     "data": {
      "text/plain": [
       "3"
      ]
     },
     "execution_count": 32,
     "metadata": {},
     "output_type": "execute_result"
    }
   ],
   "source": [
    "t[-1]"
   ]
  },
  {
   "cell_type": "code",
   "execution_count": 33,
   "id": "699abbef",
   "metadata": {},
   "outputs": [],
   "source": [
    "t = ('a', 'a', 'b')"
   ]
  },
  {
   "cell_type": "code",
   "execution_count": 34,
   "id": "4a842f4b",
   "metadata": {},
   "outputs": [
    {
     "data": {
      "text/plain": [
       "2"
      ]
     },
     "execution_count": 34,
     "metadata": {},
     "output_type": "execute_result"
    }
   ],
   "source": [
    "t.count('a')"
   ]
  },
  {
   "cell_type": "code",
   "execution_count": 36,
   "id": "95ec4efd",
   "metadata": {},
   "outputs": [
    {
     "data": {
      "text/plain": [
       "0"
      ]
     },
     "execution_count": 36,
     "metadata": {},
     "output_type": "execute_result"
    }
   ],
   "source": [
    "t.index('a') # returns first index of value it is looking for"
   ]
  },
  {
   "cell_type": "code",
   "execution_count": 37,
   "id": "90223c3b",
   "metadata": {},
   "outputs": [],
   "source": [
    "l[0] = 'new'"
   ]
  },
  {
   "cell_type": "code",
   "execution_count": 38,
   "id": "2b254dc8",
   "metadata": {},
   "outputs": [
    {
     "data": {
      "text/plain": [
       "['new', 23, 32]"
      ]
     },
     "execution_count": 38,
     "metadata": {},
     "output_type": "execute_result"
    }
   ],
   "source": [
    "l"
   ]
  },
  {
   "cell_type": "code",
   "execution_count": 39,
   "id": "ccfde51e",
   "metadata": {},
   "outputs": [
    {
     "ename": "TypeError",
     "evalue": "'tuple' object does not support item assignment",
     "output_type": "error",
     "traceback": [
      "\u001b[1;31m---------------------------------------------------------------------------\u001b[0m",
      "\u001b[1;31mTypeError\u001b[0m                                 Traceback (most recent call last)",
      "\u001b[1;32m<ipython-input-39-f469ab99125e>\u001b[0m in \u001b[0;36m<module>\u001b[1;34m\u001b[0m\n\u001b[1;32m----> 1\u001b[1;33m \u001b[0mt\u001b[0m\u001b[1;33m[\u001b[0m\u001b[1;36m0\u001b[0m\u001b[1;33m]\u001b[0m \u001b[1;33m=\u001b[0m \u001b[1;34m'new'\u001b[0m\u001b[1;33m\u001b[0m\u001b[1;33m\u001b[0m\u001b[0m\n\u001b[0m",
      "\u001b[1;31mTypeError\u001b[0m: 'tuple' object does not support item assignment"
     ]
    }
   ],
   "source": [
    "t[0] = 'new'"
   ]
  },
  {
   "cell_type": "markdown",
   "id": "619fe8bd",
   "metadata": {},
   "source": [
    "## Sets"
   ]
  },
  {
   "cell_type": "markdown",
   "id": "75214b5b",
   "metadata": {},
   "source": [
    "* unordered collections of unique elements"
   ]
  },
  {
   "cell_type": "code",
   "execution_count": 40,
   "id": "737ac180",
   "metadata": {},
   "outputs": [],
   "source": [
    "s = set()"
   ]
  },
  {
   "cell_type": "code",
   "execution_count": 41,
   "id": "b01e1eb9",
   "metadata": {},
   "outputs": [],
   "source": [
    "s.add('item1')"
   ]
  },
  {
   "cell_type": "code",
   "execution_count": 42,
   "id": "54acaa17",
   "metadata": {},
   "outputs": [
    {
     "data": {
      "text/plain": [
       "{'item1'}"
      ]
     },
     "execution_count": 42,
     "metadata": {},
     "output_type": "execute_result"
    }
   ],
   "source": [
    "s"
   ]
  },
  {
   "cell_type": "code",
   "execution_count": 43,
   "id": "143acc9c",
   "metadata": {},
   "outputs": [],
   "source": [
    "s.add('item2')"
   ]
  },
  {
   "cell_type": "code",
   "execution_count": 44,
   "id": "09aca003",
   "metadata": {},
   "outputs": [
    {
     "data": {
      "text/plain": [
       "{'item1', 'item2'}"
      ]
     },
     "execution_count": 44,
     "metadata": {},
     "output_type": "execute_result"
    }
   ],
   "source": [
    "s"
   ]
  },
  {
   "cell_type": "code",
   "execution_count": 45,
   "id": "d704222c",
   "metadata": {},
   "outputs": [],
   "source": [
    "s.add('item1')"
   ]
  },
  {
   "cell_type": "code",
   "execution_count": 46,
   "id": "0d12caf3",
   "metadata": {},
   "outputs": [
    {
     "data": {
      "text/plain": [
       "{'item1', 'item2'}"
      ]
     },
     "execution_count": 46,
     "metadata": {},
     "output_type": "execute_result"
    }
   ],
   "source": [
    "s"
   ]
  },
  {
   "cell_type": "markdown",
   "id": "e9d35c68",
   "metadata": {},
   "source": [
    "* you can only add unique values to a set\n",
    "* usecase: cast a list to a set to filter on unique values"
   ]
  },
  {
   "cell_type": "code",
   "execution_count": 47,
   "id": "5356e1bc",
   "metadata": {},
   "outputs": [],
   "source": [
    "l = [1,1,1,2,2,3,3,3,3,3]"
   ]
  },
  {
   "cell_type": "code",
   "execution_count": 49,
   "id": "76bd353b",
   "metadata": {},
   "outputs": [
    {
     "data": {
      "text/plain": [
       "{1, 2, 3}"
      ]
     },
     "execution_count": 49,
     "metadata": {},
     "output_type": "execute_result"
    }
   ],
   "source": [
    "set(l)"
   ]
  },
  {
   "cell_type": "markdown",
   "id": "07f85506",
   "metadata": {},
   "source": [
    "## Booleans"
   ]
  },
  {
   "cell_type": "code",
   "execution_count": 50,
   "id": "d6eb6c34",
   "metadata": {},
   "outputs": [
    {
     "data": {
      "text/plain": [
       "bool"
      ]
     },
     "execution_count": 50,
     "metadata": {},
     "output_type": "execute_result"
    }
   ],
   "source": [
    "type(True)"
   ]
  },
  {
   "cell_type": "code",
   "execution_count": 51,
   "id": "56e5d7f0",
   "metadata": {},
   "outputs": [
    {
     "data": {
      "text/plain": [
       "False"
      ]
     },
     "execution_count": 51,
     "metadata": {},
     "output_type": "execute_result"
    }
   ],
   "source": [
    "1>2"
   ]
  },
  {
   "cell_type": "code",
   "execution_count": 55,
   "id": "68f1e061",
   "metadata": {},
   "outputs": [],
   "source": [
    "b = None # to prevent undefined errors by using None keyword"
   ]
  },
  {
   "cell_type": "code",
   "execution_count": 56,
   "id": "7a1b6e01",
   "metadata": {
    "scrolled": true
   },
   "outputs": [
    {
     "data": {
      "text/plain": [
       "NoneType"
      ]
     },
     "execution_count": 56,
     "metadata": {},
     "output_type": "execute_result"
    }
   ],
   "source": [
    "type(b)"
   ]
  },
  {
   "cell_type": "markdown",
   "id": "d64465e4",
   "metadata": {},
   "source": [
    "## File I/O"
   ]
  },
  {
   "cell_type": "code",
   "execution_count": 59,
   "id": "16382239",
   "metadata": {},
   "outputs": [
    {
     "name": "stdout",
     "output_type": "stream",
     "text": [
      "Writing a.txt\n"
     ]
    }
   ],
   "source": [
    "%%writefile a.txt\n",
    "Hello, how are you\n",
    "doing today? I need\n",
    "a new keyboard."
   ]
  },
  {
   "cell_type": "code",
   "execution_count": 68,
   "id": "cd77f949",
   "metadata": {},
   "outputs": [],
   "source": [
    "myfile = open('a.txt')"
   ]
  },
  {
   "cell_type": "code",
   "execution_count": 69,
   "id": "5c1c3e55",
   "metadata": {},
   "outputs": [
    {
     "data": {
      "text/plain": [
       "'Hello, how are you\\ndoing today? I need\\na new keyboard.\\n'"
      ]
     },
     "execution_count": 69,
     "metadata": {},
     "output_type": "execute_result"
    }
   ],
   "source": [
    "myfile.read()"
   ]
  },
  {
   "cell_type": "code",
   "execution_count": 75,
   "id": "ef0b32bc",
   "metadata": {},
   "outputs": [
    {
     "data": {
      "text/plain": [
       "0"
      ]
     },
     "execution_count": 75,
     "metadata": {},
     "output_type": "execute_result"
    }
   ],
   "source": [
    "myfile.seek(0)"
   ]
  },
  {
   "cell_type": "code",
   "execution_count": 76,
   "id": "32972ff3",
   "metadata": {},
   "outputs": [],
   "source": [
    "l = myfile.readlines()"
   ]
  },
  {
   "cell_type": "code",
   "execution_count": 77,
   "id": "720fad6b",
   "metadata": {},
   "outputs": [
    {
     "data": {
      "text/plain": [
       "'doing today? I need\\n'"
      ]
     },
     "execution_count": 77,
     "metadata": {},
     "output_type": "execute_result"
    }
   ],
   "source": [
    "l[1]"
   ]
  },
  {
   "cell_type": "code",
   "execution_count": 78,
   "id": "0923c234",
   "metadata": {},
   "outputs": [],
   "source": [
    "myfile.close()"
   ]
  },
  {
   "cell_type": "code",
   "execution_count": 82,
   "id": "45959fb7",
   "metadata": {},
   "outputs": [],
   "source": [
    "with open('a.txt') as newFile:\n",
    "    contents = newFile.read()\n",
    "    # automatically opens and closes a file, able to obtain contents"
   ]
  },
  {
   "cell_type": "code",
   "execution_count": 81,
   "id": "2e213417",
   "metadata": {},
   "outputs": [
    {
     "data": {
      "text/plain": [
       "'Hello, how are you\\ndoing today? I need\\na new keyboard.\\n'"
      ]
     },
     "execution_count": 81,
     "metadata": {},
     "output_type": "execute_result"
    }
   ],
   "source": [
    "contents"
   ]
  },
  {
   "cell_type": "code",
   "execution_count": 84,
   "id": "63269be0",
   "metadata": {},
   "outputs": [
    {
     "name": "stdout",
     "output_type": "stream",
     "text": [
      "Hello, how are you\n",
      "doing today? I need\n",
      "a new keyboard.\n",
      "\n"
     ]
    }
   ],
   "source": [
    "#modes: r,w,a,r+ = r+w,w+ = w+r\n",
    "with open('a.txt', 'r') as f: \n",
    "    print(f.read())"
   ]
  },
  {
   "cell_type": "code",
   "execution_count": 85,
   "id": "cc465722",
   "metadata": {},
   "outputs": [],
   "source": [
    "with open('a.txt', 'a') as f:\n",
    "    f.write('This is a new line')"
   ]
  },
  {
   "cell_type": "code",
   "execution_count": 86,
   "id": "e3c028d4",
   "metadata": {},
   "outputs": [
    {
     "name": "stdout",
     "output_type": "stream",
     "text": [
      "Hello, how are you\n",
      "doing today? I need\n",
      "a new keyboard.\n",
      "This is a new line\n"
     ]
    }
   ],
   "source": [
    "with open('a.txt', 'r') as f: \n",
    "    print(f.read())"
   ]
  },
  {
   "cell_type": "code",
   "execution_count": 88,
   "id": "1198931d",
   "metadata": {},
   "outputs": [
    {
     "name": "stdout",
     "output_type": "stream",
     "text": [
      "20\n"
     ]
    }
   ],
   "source": [
    "with open('b.txt', 'w') as f: \n",
    "    print(f.write('Here is a new file.\\n'))"
   ]
  },
  {
   "cell_type": "code",
   "execution_count": 90,
   "id": "47997e8e",
   "metadata": {},
   "outputs": [
    {
     "name": "stdout",
     "output_type": "stream",
     "text": [
      "HERE IS A NEW FILE.\n",
      "\n"
     ]
    }
   ],
   "source": [
    "with open('b.txt', 'r') as f: \n",
    "    print(f.read().upper())"
   ]
  },
  {
   "cell_type": "markdown",
   "id": "41c737f3",
   "metadata": {},
   "source": [
    "## Comparison Operators"
   ]
  },
  {
   "cell_type": "code",
   "execution_count": 96,
   "id": "ae655c0f",
   "metadata": {},
   "outputs": [
    {
     "data": {
      "text/plain": [
       "True"
      ]
     },
     "execution_count": 96,
     "metadata": {},
     "output_type": "execute_result"
    }
   ],
   "source": [
    "2.0 == 2"
   ]
  },
  {
   "cell_type": "code",
   "execution_count": 95,
   "id": "1984d961",
   "metadata": {},
   "outputs": [
    {
     "data": {
      "text/plain": [
       "False"
      ]
     },
     "execution_count": 95,
     "metadata": {},
     "output_type": "execute_result"
    }
   ],
   "source": [
    "'What' == 'what'"
   ]
  },
  {
   "cell_type": "code",
   "execution_count": 97,
   "id": "28817c34",
   "metadata": {},
   "outputs": [
    {
     "data": {
      "text/plain": [
       "True"
      ]
     },
     "execution_count": 97,
     "metadata": {},
     "output_type": "execute_result"
    }
   ],
   "source": [
    "'What' != 'what'"
   ]
  },
  {
   "cell_type": "code",
   "execution_count": 100,
   "id": "1c7a0603",
   "metadata": {},
   "outputs": [
    {
     "data": {
      "text/plain": [
       "False"
      ]
     },
     "execution_count": 100,
     "metadata": {},
     "output_type": "execute_result"
    }
   ],
   "source": [
    "#chaining comparisons 'and' 'or' 'not'\n",
    "1<2 and 4<3"
   ]
  },
  {
   "cell_type": "code",
   "execution_count": 105,
   "id": "cdbfd338",
   "metadata": {},
   "outputs": [
    {
     "data": {
      "text/plain": [
       "True"
      ]
     },
     "execution_count": 105,
     "metadata": {},
     "output_type": "execute_result"
    }
   ],
   "source": [
    "1<2 and 4>3"
   ]
  },
  {
   "cell_type": "code",
   "execution_count": 103,
   "id": "d4e92334",
   "metadata": {},
   "outputs": [
    {
     "data": {
      "text/plain": [
       "False"
      ]
     },
     "execution_count": 103,
     "metadata": {},
     "output_type": "execute_result"
    }
   ],
   "source": [
    "not 1<2"
   ]
  },
  {
   "cell_type": "code",
   "execution_count": 122,
   "id": "139dce49",
   "metadata": {},
   "outputs": [
    {
     "data": {
      "text/plain": [
       "True"
      ]
     },
     "execution_count": 122,
     "metadata": {},
     "output_type": "execute_result"
    }
   ],
   "source": [
    "expectedScan = 'Accessibility Scan'\n",
    "actualScan = 'Accessibility Scan'\n",
    "pageCount = 5\n",
    "#expectedScan == actualScan\n",
    "#pageCount == 10\n",
    "expectedScan == actualScan or pageCount == 5"
   ]
  },
  {
   "cell_type": "markdown",
   "id": "039e65ae",
   "metadata": {},
   "source": [
    "## If Else Statements"
   ]
  },
  {
   "cell_type": "code",
   "execution_count": 130,
   "id": "a5eb9aad",
   "metadata": {},
   "outputs": [
    {
     "name": "stdout",
     "output_type": "stream",
     "text": [
      "Boo\n"
     ]
    }
   ],
   "source": [
    "condition = 0\n",
    "if condition == True:\n",
    "    print('Wow')\n",
    "elif condition == False:\n",
    "    print('Boo')\n",
    "else:\n",
    "    print('Woo')"
   ]
  },
  {
   "cell_type": "code",
   "execution_count": 129,
   "id": "dc7563fe",
   "metadata": {},
   "outputs": [
    {
     "name": "stdout",
     "output_type": "stream",
     "text": [
      "Workout\n"
     ]
    }
   ],
   "source": [
    "loc = 'Gym'\n",
    "if loc == 'Autoshop':\n",
    "    print('Cars')\n",
    "elif loc == 'Gym':\n",
    "    print('Workout')\n",
    "else: \n",
    "    print('Null')"
   ]
  },
  {
   "cell_type": "markdown",
   "id": "8863f313",
   "metadata": {},
   "source": [
    "## Loops"
   ]
  },
  {
   "cell_type": "code",
   "execution_count": 135,
   "id": "760d7697",
   "metadata": {},
   "outputs": [
    {
     "name": "stdout",
     "output_type": "stream",
     "text": [
      "1\n",
      "23\n",
      "45\n",
      "666\n"
     ]
    }
   ],
   "source": [
    "l = [1,23,45,666]\n",
    "for num in l:\n",
    "    print(num)"
   ]
  },
  {
   "cell_type": "code",
   "execution_count": 133,
   "id": "9541e1ba",
   "metadata": {},
   "outputs": [
    {
     "name": "stdout",
     "output_type": "stream",
     "text": [
      "key\n",
      "j\n"
     ]
    }
   ],
   "source": [
    "dic = {'key':'value', 'j':'b'}\n",
    "for key in dic:\n",
    "    print(key)"
   ]
  },
  {
   "cell_type": "code",
   "execution_count": 144,
   "id": "7bd0490e",
   "metadata": {},
   "outputs": [
    {
     "name": "stdout",
     "output_type": "stream",
     "text": [
      "NonEvenNum: 1\n",
      "[2, 'b']\n",
      "NonEvenNum: 3\n"
     ]
    }
   ],
   "source": [
    "t = ([1,'a'], [2,'b'], [3,'c'])\n",
    "for arr in t:\n",
    "    if(arr[0]%2 == 0):\n",
    "        print(arr)\n",
    "    else:\n",
    "        print(f'NonEvenNum: {arr[0]}')"
   ]
  },
  {
   "cell_type": "code",
   "execution_count": 149,
   "id": "d5179c95",
   "metadata": {},
   "outputs": [
    {
     "name": "stdout",
     "output_type": "stream",
     "text": [
      "1 and 2\n",
      "3 and 4\n",
      "5 and 6\n",
      "7 and 8\n"
     ]
    }
   ],
   "source": [
    "l = [(1,2),(3,4),(5,6),(7,8)] #tuple unpacking\n",
    "for a,b in l:\n",
    "    print(f'{a} and {b}')"
   ]
  },
  {
   "cell_type": "code",
   "execution_count": 150,
   "id": "be26e3e3",
   "metadata": {},
   "outputs": [
    {
     "name": "stdout",
     "output_type": "stream",
     "text": [
      "This person: John Smith lives in Collin, Texas\n",
      "This person: Jacob Rube lives in Kaufman, Texas\n",
      "This person: Anderson Jackson lives in Dallas, Texas\n"
     ]
    }
   ],
   "source": [
    "info = [('John','Smith','Texas','Collin',),('Jacob','Rube','Texas','Kaufman'),('Anderson','Jackson','Texas','Dallas')]\n",
    "for fn,ln,state,county in info:\n",
    "    print(f'This person: {fn} {ln} lives in {county}, {state}')"
   ]
  },
  {
   "cell_type": "code",
   "execution_count": 151,
   "id": "7826a7f7",
   "metadata": {},
   "outputs": [
    {
     "name": "stdout",
     "output_type": "stream",
     "text": [
      "key\n",
      "j\n",
      "las\n"
     ]
    }
   ],
   "source": [
    "dic = {'key':'value', 'j':'b', 'las':'but'} #only iterates through the keys\n",
    "for i in dic:\n",
    "    print(i)"
   ]
  },
  {
   "cell_type": "code",
   "execution_count": 154,
   "id": "0013b387",
   "metadata": {},
   "outputs": [
    {
     "name": "stdout",
     "output_type": "stream",
     "text": [
      "value\n",
      "b\n",
      "but\n"
     ]
    }
   ],
   "source": [
    "dic = {'key':'value', 'j':'b', 'las':'but'} #use tuple unpacking in conjuction with .items()\n",
    "for k,v in dic.items():\n",
    "    print(v)"
   ]
  },
  {
   "cell_type": "markdown",
   "id": "d76811f6",
   "metadata": {},
   "source": [
    "## While Loops"
   ]
  },
  {
   "cell_type": "code",
   "execution_count": 158,
   "id": "00b0aded",
   "metadata": {},
   "outputs": [
    {
     "name": "stdout",
     "output_type": "stream",
     "text": [
      "num: 1\n",
      "num: 2\n",
      "num: 3\n",
      "num: 4\n",
      "num: 5\n",
      "num: 6\n",
      "num: 7\n",
      "num: 8\n",
      "num: 9\n",
      "num: 10\n",
      "done!\n"
     ]
    }
   ],
   "source": [
    "condition = True\n",
    "num = 0\n",
    "while num < 10:\n",
    "    num += 1\n",
    "    print(f'num: {num}')\n",
    "else:\n",
    "    print(f'done!')"
   ]
  },
  {
   "cell_type": "code",
   "execution_count": 170,
   "id": "a5a39f3a",
   "metadata": {},
   "outputs": [
    {
     "name": "stdout",
     "output_type": "stream",
     "text": [
      "1\n",
      "3\n"
     ]
    }
   ],
   "source": [
    "#break, continue, pass\n",
    "x = [1,2,3]\n",
    "num = None\n",
    "for i in x:\n",
    "    if(i == 2):\n",
    "        continue # | break | pass\n",
    "    print(i)"
   ]
  },
  {
   "cell_type": "markdown",
   "id": "1e3a6f94",
   "metadata": {},
   "source": [
    "## Useful Operators"
   ]
  },
  {
   "cell_type": "code",
   "execution_count": 177,
   "id": "450fecdb",
   "metadata": {},
   "outputs": [
    {
     "name": "stdout",
     "output_type": "stream",
     "text": [
      "0\n",
      "2\n",
      "4\n",
      "6\n",
      "8\n"
     ]
    }
   ],
   "source": [
    "l = [1,2,3]\n",
    "for num in range(0,10,2):\n",
    "    print(num)"
   ]
  },
  {
   "cell_type": "code",
   "execution_count": 178,
   "id": "82d7a02b",
   "metadata": {},
   "outputs": [
    {
     "name": "stdout",
     "output_type": "stream",
     "text": [
      "[0, 1, 2, 3, 4, 5, 6, 7, 8, 9]\n"
     ]
    }
   ],
   "source": [
    "l = list(range(0,10)) #generator\n",
    "print(l)"
   ]
  },
  {
   "cell_type": "code",
   "execution_count": 179,
   "id": "d04fc422",
   "metadata": {},
   "outputs": [
    {
     "name": "stdout",
     "output_type": "stream",
     "text": [
      "At index 0 the letter is a\n",
      "At index 1 the letter is b\n",
      "At index 2 the letter is c\n",
      "At index 3 the letter is d\n",
      "At index 4 the letter is e\n"
     ]
    }
   ],
   "source": [
    "index = 0\n",
    "for letter in 'abcde':\n",
    "    print(f'At index {index} the letter is {letter}')\n",
    "    index += 1"
   ]
  },
  {
   "cell_type": "code",
   "execution_count": 184,
   "id": "915d0660",
   "metadata": {},
   "outputs": [
    {
     "name": "stdout",
     "output_type": "stream",
     "text": [
      "0 and a\n",
      "1 and b\n",
      "2 and c\n",
      "3 and d\n",
      "4 and e\n"
     ]
    }
   ],
   "source": [
    "#to replicate 179 with enumerate\n",
    "word = 'abcde'\n",
    "for index,letter in enumerate(word):\n",
    "    print(f'{index} and {letter}')"
   ]
  },
  {
   "cell_type": "code",
   "execution_count": 187,
   "id": "e9e6d128",
   "metadata": {},
   "outputs": [
    {
     "name": "stdout",
     "output_type": "stream",
     "text": [
      "(1, 11)\n",
      "(2, 22)\n",
      "(3, 33)\n"
     ]
    }
   ],
   "source": [
    "list1 = [1,2,3,4,5]\n",
    "list2 = [11,22,33]\n",
    "for item in zip(list1, list2): #zip operator 'zips' together multiple lists into tuples per index\n",
    "    print(item)"
   ]
  },
  {
   "cell_type": "code",
   "execution_count": 190,
   "id": "b482980b",
   "metadata": {},
   "outputs": [
    {
     "data": {
      "text/plain": [
       "False"
      ]
     },
     "execution_count": 190,
     "metadata": {},
     "output_type": "execute_result"
    }
   ],
   "source": [
    "'x' in ['a','b','C'] # in keyword to automatically perform check"
   ]
  },
  {
   "cell_type": "code",
   "execution_count": 194,
   "id": "5146dd33",
   "metadata": {},
   "outputs": [
    {
     "data": {
      "text/plain": [
       "True"
      ]
     },
     "execution_count": 194,
     "metadata": {},
     "output_type": "execute_result"
    }
   ],
   "source": [
    "dic = {'key':'a', 'mykey':'b'}\n",
    "#'a' in dic.values()\n",
    "'key' in dic.keys()"
   ]
  },
  {
   "cell_type": "code",
   "execution_count": 196,
   "id": "6d15af38",
   "metadata": {},
   "outputs": [
    {
     "data": {
      "text/plain": [
       "3"
      ]
     },
     "execution_count": 196,
     "metadata": {},
     "output_type": "execute_result"
    }
   ],
   "source": [
    "l = [1,2,3]\n",
    "#min(l)\n",
    "max(l)"
   ]
  },
  {
   "cell_type": "code",
   "execution_count": 197,
   "id": "51f4cfbe",
   "metadata": {},
   "outputs": [],
   "source": [
    "from random import shuffle"
   ]
  },
  {
   "cell_type": "code",
   "execution_count": 198,
   "id": "dae0e6f5",
   "metadata": {},
   "outputs": [
    {
     "data": {
      "text/plain": [
       "[10, 8, 6, 4, 7, 1, 2, 3, 5, 9]"
      ]
     },
     "execution_count": 198,
     "metadata": {},
     "output_type": "execute_result"
    }
   ],
   "source": [
    "l = [1,2,3,4,5,6,7,8,9,10]\n",
    "shuffle(l)\n",
    "l"
   ]
  },
  {
   "cell_type": "code",
   "execution_count": 199,
   "id": "d56aa10c",
   "metadata": {},
   "outputs": [],
   "source": [
    "from random import randint"
   ]
  },
  {
   "cell_type": "code",
   "execution_count": 203,
   "id": "490320ad",
   "metadata": {},
   "outputs": [
    {
     "name": "stdout",
     "output_type": "stream",
     "text": [
      "13\n"
     ]
    }
   ],
   "source": [
    "num = randint(0,55)\n",
    "print(num)"
   ]
  },
  {
   "cell_type": "code",
   "execution_count": 211,
   "id": "91dee91c",
   "metadata": {},
   "outputs": [
    {
     "name": "stdout",
     "output_type": "stream",
     "text": [
      "Enter something: yada\n"
     ]
    }
   ],
   "source": [
    "user_input = input('Enter something: ')"
   ]
  },
  {
   "cell_type": "markdown",
   "id": "fa8c58c0",
   "metadata": {},
   "source": [
    "# List Comprehensions"
   ]
  },
  {
   "cell_type": "markdown",
   "id": "87283ba8",
   "metadata": {},
   "source": [
    "* use when you are repeatedly appending\n",
    "* flattens out for loops"
   ]
  },
  {
   "cell_type": "code",
   "execution_count": 219,
   "id": "05d627ca",
   "metadata": {},
   "outputs": [
    {
     "data": {
      "text/plain": [
       "['a', 'b', 'c', 'd', 'e']"
      ]
     },
     "execution_count": 219,
     "metadata": {},
     "output_type": "execute_result"
    }
   ],
   "source": [
    "l = [letter for letter in 'abcde'] #element for element in iterable_object\n",
    "l"
   ]
  },
  {
   "cell_type": "code",
   "execution_count": 222,
   "id": "e81d3e4e",
   "metadata": {},
   "outputs": [
    {
     "data": {
      "text/plain": [
       "[0, 9, 36, 81]"
      ]
     },
     "execution_count": 222,
     "metadata": {},
     "output_type": "execute_result"
    }
   ],
   "source": [
    "i = [num**2 for num in range(0,11,3)] #can perform operations on the comprehended element\n",
    "i"
   ]
  },
  {
   "cell_type": "code",
   "execution_count": 226,
   "id": "821c15f4",
   "metadata": {},
   "outputs": [
    {
     "data": {
      "text/plain": [
       "[0, 4, 8, 12]"
      ]
     },
     "execution_count": 226,
     "metadata": {},
     "output_type": "execute_result"
    }
   ],
   "source": [
    "i = [num for num in range(0,13) if num%4==0] #\n",
    "i"
   ]
  },
  {
   "cell_type": "code",
   "execution_count": 228,
   "id": "a1bac3a9",
   "metadata": {},
   "outputs": [
    {
     "data": {
      "text/plain": [
       "[0, 'ODD', 2, 'ODD', 4, 'ODD', 6, 'ODD', 8, 'ODD', 10]"
      ]
     },
     "execution_count": 228,
     "metadata": {},
     "output_type": "execute_result"
    }
   ],
   "source": [
    "results = [x if x%2==0 else 'ODD' for x in range(0,11)] # order has switched to put condition in front of for loop\n",
    "results"
   ]
  },
  {
   "cell_type": "code",
   "execution_count": 231,
   "id": "bae66384",
   "metadata": {},
   "outputs": [
    {
     "data": {
      "text/plain": [
       "[5, 4, 3, 5, 4, 3, 5, 4, 3]"
      ]
     },
     "execution_count": 231,
     "metadata": {},
     "output_type": "execute_result"
    }
   ],
   "source": [
    "nested_result = [num+2 for num in [1,2,3] for num in [3,2,1]]\n",
    "nested_result"
   ]
  },
  {
   "cell_type": "markdown",
   "id": "829813a8",
   "metadata": {},
   "source": [
    "# Methods and Functions"
   ]
  },
  {
   "cell_type": "markdown",
   "id": "6417746c",
   "metadata": {},
   "source": [
    "* Built in objects have methods you can use. For example: lists have .append() and .pop() methods\n",
    "* Functions are blocks of code that can be executed many times\n",
    "* def keyword followed by name of function. Ex: def name_of_fcn(): || CLASS CALLS USE CAMEL CASING, FCNS USE SNAKE CASING\n",
    "* ''' xxx ''' allows for optional multi-line string to describe function which is found within the indented fcn block"
   ]
  },
  {
   "cell_type": "code",
   "execution_count": 2,
   "id": "3731ee65",
   "metadata": {},
   "outputs": [
    {
     "data": {
      "text/plain": [
       "[1, 2, 3, 4]"
      ]
     },
     "execution_count": 2,
     "metadata": {},
     "output_type": "execute_result"
    }
   ],
   "source": [
    "l = [1,2,3]\n",
    "l.append(4)\n",
    "l"
   ]
  },
  {
   "cell_type": "code",
   "execution_count": 3,
   "id": "47ba75f8",
   "metadata": {},
   "outputs": [
    {
     "data": {
      "text/plain": [
       "4"
      ]
     },
     "execution_count": 3,
     "metadata": {},
     "output_type": "execute_result"
    }
   ],
   "source": [
    "l.pop()"
   ]
  },
  {
   "cell_type": "code",
   "execution_count": 4,
   "id": "a3cec0ec",
   "metadata": {},
   "outputs": [
    {
     "data": {
      "text/plain": [
       "[1, 2, 3]"
      ]
     },
     "execution_count": 4,
     "metadata": {},
     "output_type": "execute_result"
    }
   ],
   "source": [
    "l"
   ]
  },
  {
   "cell_type": "code",
   "execution_count": 8,
   "id": "dfc3438c",
   "metadata": {},
   "outputs": [
    {
     "name": "stdout",
     "output_type": "stream",
     "text": [
      "Help on built-in function insert:\n",
      "\n",
      "insert(index, object, /) method of builtins.list instance\n",
      "    Insert object before index.\n",
      "\n"
     ]
    }
   ],
   "source": [
    "help(l.insert) # or use python documentation at docs.python.org"
   ]
  },
  {
   "cell_type": "code",
   "execution_count": 18,
   "id": "b9603639",
   "metadata": {},
   "outputs": [
    {
     "name": "stdout",
     "output_type": "stream",
     "text": [
      "-6.67\n"
     ]
    }
   ],
   "source": [
    "def double_it(number):\n",
    "    '''This method will take in a number,\n",
    "        doubles it, and returns a number'''\n",
    "    return number * 2\n",
    "\n",
    "num = -3.334\n",
    "print(f'{double_it(num):0.2f}')"
   ]
  },
  {
   "cell_type": "code",
   "execution_count": 26,
   "id": "12345cfc",
   "metadata": {},
   "outputs": [
    {
     "name": "stdout",
     "output_type": "stream",
     "text": [
      "True\n"
     ]
    }
   ],
   "source": [
    "def find_odd(number):\n",
    "    return number % 2 == 1\n",
    "print(f'{find_odd(21)}')"
   ]
  },
  {
   "cell_type": "code",
   "execution_count": 47,
   "id": "cbd6280c",
   "metadata": {},
   "outputs": [
    {
     "name": "stdout",
     "output_type": "stream",
     "text": [
      "False\n"
     ]
    }
   ],
   "source": [
    "# Return TRUE if any number in a list is even\n",
    "def find_even_in_list(list):\n",
    "    for number in list:\n",
    "        if number % 2 == 0:\n",
    "            return True\n",
    "    return False\n",
    "\n",
    "#l = [1,3,9,5,7,2]\n",
    "l = [1,3,9,5,7]\n",
    "print(f'{find_even_in_list(l)}')"
   ]
  },
  {
   "cell_type": "code",
   "execution_count": 48,
   "id": "631901f3",
   "metadata": {},
   "outputs": [
    {
     "name": "stdout",
     "output_type": "stream",
     "text": [
      "[2, 4]\n"
     ]
    }
   ],
   "source": [
    "# Return all even numbers in a list\n",
    "def reveal_even_in_list(list):\n",
    "    even_numbers = []\n",
    "    for number in list:\n",
    "        if number % 2 == 0:\n",
    "            even_numbers.append(number)\n",
    "    return even_numbers\n",
    "\n",
    "l = [1,3,9,5,7,2,4]\n",
    "#l = [1,3,9,5,7]\n",
    "print(f'{reveal_even_in_list(l)}')"
   ]
  },
  {
   "cell_type": "markdown",
   "id": "2fe8b1a8",
   "metadata": {},
   "source": [
    "**Unpacking Tuples with Functions**"
   ]
  },
  {
   "cell_type": "code",
   "execution_count": 60,
   "id": "b4d552cc",
   "metadata": {},
   "outputs": [
    {
     "name": "stdout",
     "output_type": "stream",
     "text": [
      "The stock TSLA has the best price at 1337\n"
     ]
    }
   ],
   "source": [
    "def best_stock(list_of_tuples):\n",
    "    '''Find the stock with the highest price'''\n",
    "    current_max = 0\n",
    "    stock_name = ''\n",
    "    for name,price in list_of_tuples:\n",
    "        if price > current_max:\n",
    "            current_max = price\n",
    "            stock_name = name\n",
    "    return(stock_name,current_max)\n",
    "\n",
    "stock_prices = [('AAPL',200),('GOOGL',150),('MSFT',115),('AMZN',300),('TSLA',1337)]\n",
    "# since the function returns a tuple, you can use multiple variables to receive each element in the tuple\n",
    "stock,price = best_stock(stock_prices)\n",
    "print(f'The stock {stock} has the best price at {price}')\n"
   ]
  },
  {
   "cell_type": "markdown",
   "id": "45baf7a6",
   "metadata": {},
   "source": [
    "**Two Cup Monty**"
   ]
  },
  {
   "cell_type": "code",
   "execution_count": 61,
   "id": "c0010f02",
   "metadata": {},
   "outputs": [
    {
     "data": {
      "text/plain": [
       "[4, 5, 6, 7, 3, 1, 2]"
      ]
     },
     "execution_count": 61,
     "metadata": {},
     "output_type": "execute_result"
    }
   ],
   "source": [
    "#to shuffle a list\n",
    "l = [1,2,3,4,5,6,7]\n",
    "from random import shuffle\n",
    "shuffle(l)\n",
    "l"
   ]
  },
  {
   "cell_type": "code",
   "execution_count": null,
   "id": "a790036e",
   "metadata": {},
   "outputs": [
    {
     "name": "stdout",
     "output_type": "stream",
     "text": [
      "Pick a number between 0-2: 1\n",
      "Wrong Guess.\n",
      "['O', '', '']\n",
      "Pick a number between 0-2: 2\n",
      "Wrong Guess.\n",
      "['', 'O', '']\n",
      "Pick a number between 0-2: 0\n",
      "Correct Guess!\n",
      "['O', '', '']\n"
     ]
    }
   ],
   "source": [
    "from random import shuffle\n",
    "\n",
    "def shuffle_cups(myList):\n",
    "    return shuffle(myList)\n",
    "\n",
    "def user_guess():\n",
    "    guess = ''\n",
    "    while guess not in ['0', '1', '2']:\n",
    "        guess = input(f'Pick a number between 0-2: ')\n",
    "    return int(guess)\n",
    "\n",
    "def check_guess(cups, user_guess):\n",
    "    if cups[user_guess] == 'O':\n",
    "        print('Correct Guess!')\n",
    "        print(cups)\n",
    "    else:\n",
    "        print('Wrong Guess.')\n",
    "        print(cups)\n",
    "\n",
    "def game():\n",
    "    cups = ['','','O']\n",
    "    shuffle_cups(cups)\n",
    "    guess = user_guess()\n",
    "    check_guess(cups, guess)\n",
    "\n",
    "while(True):\n",
    "    game()"
   ]
  },
  {
   "cell_type": "markdown",
   "id": "2129e557",
   "metadata": {},
   "source": [
    "## \\*args and \\*\\*kwargs\n",
    "* \\*args takes in any amount of arguments which returns a tuple\n",
    "* \\*\\*kwargs stands for key word arguments which returns a dictionary"
   ]
  },
  {
   "cell_type": "code",
   "execution_count": 8,
   "id": "262d07cf",
   "metadata": {},
   "outputs": [
    {
     "data": {
      "text/plain": [
       "10.0"
      ]
     },
     "execution_count": 8,
     "metadata": {},
     "output_type": "execute_result"
    }
   ],
   "source": [
    "def fcn(a,b,c=0,d=0):\n",
    "    # returns 5% of the sum of a and b\n",
    "    return sum((a,b)) * 0.1\n",
    "\n",
    "fcn(40,60,55)"
   ]
  },
  {
   "cell_type": "code",
   "execution_count": 6,
   "id": "18fe9006",
   "metadata": {},
   "outputs": [
    {
     "data": {
      "text/plain": [
       "5.0"
      ]
     },
     "execution_count": 6,
     "metadata": {},
     "output_type": "execute_result"
    }
   ],
   "source": [
    "fcn(12,38,44,16)"
   ]
  },
  {
   "cell_type": "code",
   "execution_count": 9,
   "id": "76341a15",
   "metadata": {},
   "outputs": [
    {
     "name": "stdout",
     "output_type": "stream",
     "text": [
      "hello\n",
      "there\n"
     ]
    }
   ],
   "source": [
    "def fcn(*args):\n",
    "    for item in args:\n",
    "        print(item)\n",
    "fcn('hello', 'there')"
   ]
  },
  {
   "cell_type": "code",
   "execution_count": 17,
   "id": "de6141f5",
   "metadata": {},
   "outputs": [
    {
     "name": "stdout",
     "output_type": "stream",
     "text": [
      "{'veggie': 'Avocado', 'fruit': 'Strawberry'}\n",
      "Fruit: {'Strawberry'}\n",
      "Vegetable: {'Avocado'}\n"
     ]
    }
   ],
   "source": [
    "def fcn(**kwargs):\n",
    "    print(kwargs)\n",
    "    if 'fruit' in kwargs:\n",
    "        print('Fruit: {}'.format({kwargs['fruit']}))\n",
    "    if 'veggie' in kwargs:\n",
    "        print('Vegetable: {}'.format({kwargs['veggie']}))\n",
    "    else:\n",
    "        print('No food')\n",
    "        \n",
    "fcn(veggie='Avocado',fruit='Strawberry')"
   ]
  },
  {
   "cell_type": "code",
   "execution_count": 19,
   "id": "ae338978",
   "metadata": {},
   "outputs": [
    {
     "name": "stdout",
     "output_type": "stream",
     "text": [
      "(11, 22)\n",
      "{'food': 'bacon strips'}\n",
      "I would like 11 bacon strips\n"
     ]
    }
   ],
   "source": [
    "def fcn(*args,**kwargs):\n",
    "    print(args)\n",
    "    print(kwargs)\n",
    "    print('I would like {} {}'.format(args[0],kwargs['food']))\n",
    "fcn(11,22,food='bacon strips')"
   ]
  },
  {
   "cell_type": "code",
   "execution_count": 2,
   "id": "a3e7a519",
   "metadata": {},
   "outputs": [
    {
     "name": "stdout",
     "output_type": "stream",
     "text": [
      "AbCdEfGh\n"
     ]
    }
   ],
   "source": [
    "#Skyline Exercise\n",
    "def myfunc(string):\n",
    "    skyline_string = ''\n",
    "    string_length = len(string)\n",
    "    current_index = 0\n",
    "    while(current_index < string_length):\n",
    "        if(current_index%2==1):\n",
    "            #do odd letter\n",
    "            skyline_string += string[current_index].lower()\n",
    "        else:\n",
    "            #do even\n",
    "            skyline_string += string[current_index].upper()\n",
    "        current_index += 1\n",
    "    return skyline_string\n",
    "\n",
    "print(myfunc('abcdefgh'))"
   ]
  },
  {
   "cell_type": "markdown",
   "id": "becd353b",
   "metadata": {},
   "source": [
    "## Lambda Expressions, Map, and Filter"
   ]
  },
  {
   "cell_type": "markdown",
   "id": "5e945484",
   "metadata": {},
   "source": [
    "### Map\n",
    "* map takes in a fcn and a list and maps the list into the fcn"
   ]
  },
  {
   "cell_type": "code",
   "execution_count": 2,
   "id": "b291a0d9",
   "metadata": {},
   "outputs": [
    {
     "name": "stdout",
     "output_type": "stream",
     "text": [
      "1\n",
      "4\n",
      "9\n",
      "16\n",
      "25\n"
     ]
    }
   ],
   "source": [
    "def square (num):\n",
    "    return num**2\n",
    "nums=[1,2,3,4,5]\n",
    "\n",
    "for item in map(square,nums): #map takes in a fcn and a list and maps the list into the fcn\n",
    "    print(item)"
   ]
  },
  {
   "cell_type": "code",
   "execution_count": 3,
   "id": "2cb5dc58",
   "metadata": {},
   "outputs": [
    {
     "data": {
      "text/plain": [
       "['Even', 'E', 'S']"
      ]
     },
     "execution_count": 3,
     "metadata": {},
     "output_type": "execute_result"
    }
   ],
   "source": [
    "def splice(text):\n",
    "    if len(text)%2==0:\n",
    "        return 'Even'\n",
    "    else:\n",
    "        return text[0]\n",
    "\n",
    "names=['Andy','Eve','Sally']\n",
    "list(map(splice,names))"
   ]
  },
  {
   "cell_type": "markdown",
   "id": "d84ef142",
   "metadata": {},
   "source": [
    "### Filter\n",
    "* the fcn passed in must return a boolean so it can use the boolean to filter"
   ]
  },
  {
   "cell_type": "code",
   "execution_count": 5,
   "id": "f4be929c",
   "metadata": {},
   "outputs": [
    {
     "data": {
      "text/plain": [
       "[2, 4]"
      ]
     },
     "execution_count": 5,
     "metadata": {},
     "output_type": "execute_result"
    }
   ],
   "source": [
    "def check_even(num):\n",
    "    return num%2==0\n",
    "\n",
    "nums=[1,2,3,4,5]\n",
    "list(filter(check_even,nums))"
   ]
  },
  {
   "cell_type": "markdown",
   "id": "c26ce1f8",
   "metadata": {},
   "source": [
    "### Lambda\n",
    "* aka an anonymous function\n",
    "* used in conjunction with map and filter"
   ]
  },
  {
   "cell_type": "code",
   "execution_count": 7,
   "id": "6ef29ef9",
   "metadata": {},
   "outputs": [
    {
     "data": {
      "text/plain": [
       "36"
      ]
     },
     "execution_count": 7,
     "metadata": {},
     "output_type": "execute_result"
    }
   ],
   "source": [
    "#to square a number\n",
    "square = lambda num: num**2\n",
    "square(6)"
   ]
  },
  {
   "cell_type": "code",
   "execution_count": 8,
   "id": "6c7a8a6e",
   "metadata": {},
   "outputs": [
    {
     "data": {
      "text/plain": [
       "[1, 4, 9, 16, 25]"
      ]
     },
     "execution_count": 8,
     "metadata": {},
     "output_type": "execute_result"
    }
   ],
   "source": [
    "nums=[1,2,3,4,5]\n",
    "list(map(lambda num: num**2, nums)) #combine map and lambda "
   ]
  },
  {
   "cell_type": "code",
   "execution_count": 9,
   "id": "d60f1211",
   "metadata": {},
   "outputs": [
    {
     "data": {
      "text/plain": [
       "[2, 4]"
      ]
     },
     "execution_count": 9,
     "metadata": {},
     "output_type": "execute_result"
    }
   ],
   "source": [
    "nums=[1,2,3,4,5]\n",
    "list(filter(lambda num: num%2==0, nums)) #combine filter and lambda"
   ]
  },
  {
   "cell_type": "code",
   "execution_count": 18,
   "id": "6fc05a20",
   "metadata": {},
   "outputs": [
    {
     "data": {
      "text/plain": [
       "['A', 'E', 'S']"
      ]
     },
     "execution_count": 18,
     "metadata": {},
     "output_type": "execute_result"
    }
   ],
   "source": [
    "names=['Andy','Eve','Sally']\n",
    "list(map(lambda name: name[0],names))"
   ]
  },
  {
   "cell_type": "markdown",
   "id": "9256ae2e",
   "metadata": {},
   "source": [
    "## Nested Statements and Scope\n",
    "* LEGB Rule\n",
    "* Local, Enclosing fcn locals from inner to outer, Global (module), Built-in (Python)"
   ]
  },
  {
   "cell_type": "code",
   "execution_count": 19,
   "id": "c303bc71",
   "metadata": {},
   "outputs": [
    {
     "name": "stdout",
     "output_type": "stream",
     "text": [
      "25\n"
     ]
    }
   ],
   "source": [
    "x = 25 #25 is scoped outside of the printer() in Global\n",
    "\n",
    "def printer(): #50 is limited to scope of printer fcn in local\n",
    "    x = 50\n",
    "    return x\n",
    "\n",
    "print(x)"
   ]
  },
  {
   "cell_type": "code",
   "execution_count": 27,
   "id": "677df2ef",
   "metadata": {},
   "outputs": [
    {
     "name": "stdout",
     "output_type": "stream",
     "text": [
      "Hello Local\n",
      "Help on built-in function len in module builtins:\n",
      "\n",
      "len(obj, /)\n",
      "    Return the number of items in a container.\n",
      "\n"
     ]
    }
   ],
   "source": [
    "#local example\n",
    "# lambda num:num**2 #num is local\n",
    "\n",
    "#enclosing function local\n",
    "name = 'This is a global string'\n",
    "def greet():\n",
    "    name = 'Sammy'    #name='Sammy' is enclosing function local\n",
    "    \n",
    "    def hello():\n",
    "        name = 'Local'      #name at this level is local\n",
    "        print('Hello '+name)   \n",
    "        help(len)           #len is built-in\n",
    "    hello()\n",
    "greet()\n"
   ]
  },
  {
   "cell_type": "code",
   "execution_count": 41,
   "id": "f3388bd9",
   "metadata": {},
   "outputs": [
    {
     "name": "stdout",
     "output_type": "stream",
     "text": [
      "50\n",
      "X is 50\n",
      "Reassignment Global of X: New Value\n",
      "New Value\n"
     ]
    }
   ],
   "source": [
    "x=50     #Global space\n",
    "\n",
    "def fcn(x):\n",
    "    print(f'X is {x}')\n",
    "    x='New Value'         #local re-assignment\n",
    "    print(f'Reassignment Global of X: {x}')\n",
    "    return x\n",
    "    \n",
    "print(x)\n",
    "x = fcn(x)\n",
    "print(x)"
   ]
  },
  {
   "cell_type": "code",
   "execution_count": 42,
   "id": "3f1d22f1",
   "metadata": {},
   "outputs": [
    {
     "name": "stdout",
     "output_type": "stream",
     "text": [
      "50\n",
      "X is 50\n",
      "Reassignment Global of X: New Value\n",
      "New Value\n"
     ]
    }
   ],
   "source": [
    "x=50     #Global space\n",
    "\n",
    "def fcn():\n",
    "    global x           #using global x to change value of something outside of scope of function fcn\n",
    "    print(f'X is {x}')\n",
    "    x='New Value'         #local re-assignment\n",
    "    print(f'Reassignment Global of X: {x}')\n",
    "    return x\n",
    "    \n",
    "print(x)\n",
    "x = fcn()\n",
    "print(x)"
   ]
  },
  {
   "cell_type": "code",
   "execution_count": 44,
   "id": "b8987940",
   "metadata": {},
   "outputs": [
    {
     "name": "stdout",
     "output_type": "stream",
     "text": [
      "No Python documentation found for 'abcdefghijklmnopqrstuvwxyz'.\n",
      "Use help() to get the interactive help utility.\n",
      "Use help(str) for help on the str class.\n",
      "\n"
     ]
    }
   ],
   "source": []
  },
  {
   "cell_type": "markdown",
   "id": "5be3c3c0",
   "metadata": {},
   "source": [
    "# OOP"
   ]
  },
  {
   "cell_type": "code",
   "execution_count": 63,
   "id": "fe965bc4",
   "metadata": {},
   "outputs": [],
   "source": [
    "class AnimalDog():\n",
    "    \n",
    "    #class object attribute which the same for any instance of a class\n",
    "    species = 'mammal'\n",
    "    \n",
    "    def __init__(self,breed,size,spots):       #init is not necessarily a constructor\n",
    "        self.breed = breed               #self is used for a specific instance\n",
    "        self.size = size\n",
    "    \n",
    "    #Methods are fcns found in a class that act on an object (object is an instance of a class)\n",
    "    def get_details(self):\n",
    "        print(f'This {self.size} dog is a {self.breed} which is a {self.species}')\n",
    "    \n",
    "    def bark(self):\n",
    "        print('Woof!')\n",
    "        \n",
    "    def give_command(self,cmd):\n",
    "        print(f'{self.breed} does {cmd}')"
   ]
  },
  {
   "cell_type": "code",
   "execution_count": 64,
   "id": "e92efe50",
   "metadata": {},
   "outputs": [],
   "source": [
    "my_dag = AnimalDog(breed='Labrador',size='Medium',spots=False)"
   ]
  },
  {
   "cell_type": "code",
   "execution_count": 65,
   "id": "99b4bae9",
   "metadata": {},
   "outputs": [
    {
     "name": "stdout",
     "output_type": "stream",
     "text": [
      "Labrador does Roll Over\n"
     ]
    }
   ],
   "source": [
    "my_dag.give_command('Roll Over')"
   ]
  },
  {
   "cell_type": "code",
   "execution_count": 66,
   "id": "58a1775c",
   "metadata": {},
   "outputs": [
    {
     "name": "stdout",
     "output_type": "stream",
     "text": [
      "This Medium dog is a Labrador which is a mammal\n"
     ]
    }
   ],
   "source": [
    "my_dag.get_details()"
   ]
  },
  {
   "cell_type": "code",
   "execution_count": 83,
   "id": "a3b4d128",
   "metadata": {},
   "outputs": [],
   "source": [
    "class Circle():\n",
    "    #Class Object Attribute\n",
    "    pi = 3.1415\n",
    "    \n",
    "    def __init__(self, radius=1):\n",
    "        self.radius = radius\n",
    "        self.diameter = 2*radius\n",
    "    \n",
    "    def get_circumference(self):\n",
    "        return 2*Circle.pi*self.radius    #because pi is a class object attribute, you can reference it like Circle.pi\n",
    "    \n",
    "    def get_area(self):\n",
    "        return Circle.pi*self.radius**2"
   ]
  },
  {
   "cell_type": "code",
   "execution_count": 84,
   "id": "50e7affa",
   "metadata": {},
   "outputs": [],
   "source": [
    "my_circle = Circle(3)"
   ]
  },
  {
   "cell_type": "code",
   "execution_count": 85,
   "id": "7713df22",
   "metadata": {},
   "outputs": [
    {
     "data": {
      "text/plain": [
       "18.849"
      ]
     },
     "execution_count": 85,
     "metadata": {},
     "output_type": "execute_result"
    }
   ],
   "source": [
    "my_circle.get_circumference()"
   ]
  },
  {
   "cell_type": "code",
   "execution_count": 87,
   "id": "28c1c1ad",
   "metadata": {},
   "outputs": [
    {
     "data": {
      "text/plain": [
       "28.273500000000002"
      ]
     },
     "execution_count": 87,
     "metadata": {},
     "output_type": "execute_result"
    }
   ],
   "source": [
    "my_circle.get_area()"
   ]
  },
  {
   "cell_type": "markdown",
   "id": "1f4b2634",
   "metadata": {},
   "source": [
    "## Inheritance and Polymorphism"
   ]
  },
  {
   "cell_type": "code",
   "execution_count": 89,
   "id": "cbbe9fb3",
   "metadata": {},
   "outputs": [],
   "source": [
    "class Animal():\n",
    "    def __init__(self):\n",
    "        print('Animal Created')\n",
    "    \n",
    "    def what_am_i(self):\n",
    "        print('I am an animal')\n",
    "    \n",
    "    def eat(self):\n",
    "        print('Eating')"
   ]
  },
  {
   "cell_type": "code",
   "execution_count": 96,
   "id": "bf07598d",
   "metadata": {},
   "outputs": [],
   "source": [
    "class Dog(Animal):                 #pass parent class as parameter to inherit\n",
    "    def __init__(self):\n",
    "        Animal.__init__(self)       #creating instance of animal class\n",
    "        print('Dog Created')\n",
    "        \n",
    "    def what_am_i(self):\n",
    "        print('I am a dog')         #overridden method\n",
    "        \n",
    "    def bark(self):\n",
    "        print('Bark!')"
   ]
  },
  {
   "cell_type": "code",
   "execution_count": 97,
   "id": "a80d0a32",
   "metadata": {},
   "outputs": [
    {
     "name": "stdout",
     "output_type": "stream",
     "text": [
      "Animal Created\n",
      "Dog Created\n"
     ]
    }
   ],
   "source": [
    "my_dog = Dog()"
   ]
  },
  {
   "cell_type": "code",
   "execution_count": 98,
   "id": "e3b14fe5",
   "metadata": {},
   "outputs": [
    {
     "name": "stdout",
     "output_type": "stream",
     "text": [
      "I am a dog\n"
     ]
    }
   ],
   "source": [
    "my_dog.what_am_i()"
   ]
  },
  {
   "cell_type": "code",
   "execution_count": 99,
   "id": "78e8873b",
   "metadata": {},
   "outputs": [
    {
     "name": "stdout",
     "output_type": "stream",
     "text": [
      "Eating\n"
     ]
    }
   ],
   "source": [
    "my_dog.eat()"
   ]
  },
  {
   "cell_type": "code",
   "execution_count": 100,
   "id": "a5598789",
   "metadata": {},
   "outputs": [
    {
     "name": "stdout",
     "output_type": "stream",
     "text": [
      "Bark!\n"
     ]
    }
   ],
   "source": [
    "my_dog.bark()"
   ]
  },
  {
   "cell_type": "code",
   "execution_count": 103,
   "id": "11c00e00",
   "metadata": {},
   "outputs": [],
   "source": [
    "class Dog():\n",
    "    def __init__(self,name):\n",
    "        self.name = name\n",
    "        \n",
    "    def speak(self):\n",
    "        return self.name + ' says woof!'"
   ]
  },
  {
   "cell_type": "code",
   "execution_count": 104,
   "id": "1c9792bb",
   "metadata": {},
   "outputs": [],
   "source": [
    "class Cat():\n",
    "    def __init__(self,name):\n",
    "        self.name = name\n",
    "        \n",
    "    def speak(self):\n",
    "        return self.name + ' says meow!'"
   ]
  },
  {
   "cell_type": "code",
   "execution_count": 105,
   "id": "0a57174e",
   "metadata": {},
   "outputs": [],
   "source": [
    "niko = Dog('niko')\n",
    "felix = Cat('felix')"
   ]
  },
  {
   "cell_type": "code",
   "execution_count": 106,
   "id": "efb29b3f",
   "metadata": {},
   "outputs": [
    {
     "name": "stdout",
     "output_type": "stream",
     "text": [
      "niko says woof!\n",
      "felix says meow!\n"
     ]
    }
   ],
   "source": [
    "print(niko.speak())\n",
    "print(felix.speak())"
   ]
  },
  {
   "cell_type": "code",
   "execution_count": 107,
   "id": "1998b591",
   "metadata": {},
   "outputs": [
    {
     "name": "stdout",
     "output_type": "stream",
     "text": [
      "<class '__main__.Dog'>\n",
      "niko says woof!\n",
      "<class '__main__.Cat'>\n",
      "felix says meow!\n"
     ]
    }
   ],
   "source": [
    "for pet in [niko, felix]:\n",
    "    print(type(pet))\n",
    "    print(pet.speak())      #polymorphism: same method shared between two class types"
   ]
  },
  {
   "cell_type": "code",
   "execution_count": 108,
   "id": "69ba1845",
   "metadata": {},
   "outputs": [],
   "source": [
    "def pet_speak(pet):         #polymorphism: being able to call same method name regardless of what class it belongs to\n",
    "    print(pet.speak())       #more common to use abstract classes and inheritance to create polymorphisms"
   ]
  },
  {
   "cell_type": "code",
   "execution_count": 109,
   "id": "514d8b08",
   "metadata": {},
   "outputs": [
    {
     "name": "stdout",
     "output_type": "stream",
     "text": [
      "felix says meow!\n"
     ]
    }
   ],
   "source": [
    "pet_speak(felix)"
   ]
  },
  {
   "cell_type": "code",
   "execution_count": 110,
   "id": "f3890b05",
   "metadata": {},
   "outputs": [],
   "source": [
    "class Animal():                 #Parent class that has init and method name is shared but abstract at parent level\n",
    "    def __init__(self, name):\n",
    "        self.name = name\n",
    "    def speak(self):\n",
    "        raise NotImplementedError(\"Subclass must implement this abstract method\")"
   ]
  },
  {
   "cell_type": "code",
   "execution_count": 113,
   "id": "215bc1e9",
   "metadata": {},
   "outputs": [],
   "source": [
    "class Dog(Animal):\n",
    "    def speak(self):\n",
    "        return self.name + ' says Woof!'"
   ]
  },
  {
   "cell_type": "code",
   "execution_count": 114,
   "id": "98293b3e",
   "metadata": {},
   "outputs": [],
   "source": [
    "class Cat(Animal):\n",
    "    def speak(self):\n",
    "        return self.name + ' says Meow!'"
   ]
  },
  {
   "cell_type": "code",
   "execution_count": 115,
   "id": "e0594d6b",
   "metadata": {},
   "outputs": [],
   "source": [
    "fido = Dog('Rufus')"
   ]
  },
  {
   "cell_type": "code",
   "execution_count": 116,
   "id": "7e5e59d5",
   "metadata": {},
   "outputs": [],
   "source": [
    "kitty = Cat('Fluffy')"
   ]
  },
  {
   "cell_type": "code",
   "execution_count": 118,
   "id": "81241e31",
   "metadata": {},
   "outputs": [
    {
     "data": {
      "text/plain": [
       "'Rufus'"
      ]
     },
     "execution_count": 118,
     "metadata": {},
     "output_type": "execute_result"
    }
   ],
   "source": [
    "fido.name"
   ]
  },
  {
   "cell_type": "markdown",
   "id": "70892834",
   "metadata": {},
   "source": [
    "## Specials Methods (Magic/Dunder)"
   ]
  },
  {
   "cell_type": "code",
   "execution_count": 151,
   "id": "a68b9167",
   "metadata": {},
   "outputs": [],
   "source": [
    "class Book():\n",
    "    def __init__(self,title,author,pages):\n",
    "        self.title = title\n",
    "        self.author = author\n",
    "        self.pages = pages\n",
    "    def __str__(self):                           #can use python builtin print() and directs to this method\n",
    "        return f'{self.title} by {self.author}'\n",
    "    def __len__(self):                           #can use python builtin len() and directs to this method\n",
    "        return self.pages\n",
    "    def __del__(self):                           #can use python builtin del() and directs to this method\n",
    "        print(f'Book: \\\"{self.title}\\\" has been deleted')"
   ]
  },
  {
   "cell_type": "code",
   "execution_count": 152,
   "id": "79aedafa",
   "metadata": {},
   "outputs": [],
   "source": [
    "b = Book('Here you go','Johnathon',300)"
   ]
  },
  {
   "cell_type": "code",
   "execution_count": 153,
   "id": "f6734cbb",
   "metadata": {},
   "outputs": [
    {
     "name": "stdout",
     "output_type": "stream",
     "text": [
      "Here you go by Johnathon\n"
     ]
    }
   ],
   "source": [
    "print(b)"
   ]
  },
  {
   "cell_type": "code",
   "execution_count": 154,
   "id": "18ec670d",
   "metadata": {},
   "outputs": [
    {
     "data": {
      "text/plain": [
       "300"
      ]
     },
     "execution_count": 154,
     "metadata": {},
     "output_type": "execute_result"
    }
   ],
   "source": [
    "len(b)"
   ]
  },
  {
   "cell_type": "code",
   "execution_count": 155,
   "id": "aa7331ca",
   "metadata": {},
   "outputs": [
    {
     "name": "stdout",
     "output_type": "stream",
     "text": [
      "Book: \"Here you go\" has been deleted\n"
     ]
    }
   ],
   "source": [
    "del(b)"
   ]
  },
  {
   "cell_type": "code",
   "execution_count": 156,
   "id": "fa7eb1c5",
   "metadata": {},
   "outputs": [
    {
     "ename": "NameError",
     "evalue": "name 'b' is not defined",
     "output_type": "error",
     "traceback": [
      "\u001b[1;31m---------------------------------------------------------------------------\u001b[0m",
      "\u001b[1;31mNameError\u001b[0m                                 Traceback (most recent call last)",
      "\u001b[1;32m<ipython-input-156-67e500defa1b>\u001b[0m in \u001b[0;36m<module>\u001b[1;34m\u001b[0m\n\u001b[1;32m----> 1\u001b[1;33m \u001b[0mprint\u001b[0m\u001b[1;33m(\u001b[0m\u001b[0mb\u001b[0m\u001b[1;33m)\u001b[0m\u001b[1;33m\u001b[0m\u001b[1;33m\u001b[0m\u001b[0m\n\u001b[0m",
      "\u001b[1;31mNameError\u001b[0m: name 'b' is not defined"
     ]
    }
   ],
   "source": [
    "print(b)"
   ]
  },
  {
   "cell_type": "markdown",
   "id": "fa22003d",
   "metadata": {},
   "source": [
    "# Modules and Packages"
   ]
  },
  {
   "cell_type": "markdown",
   "id": "b311b609",
   "metadata": {},
   "source": [
    "* you can use 'pip install' to install external packages\n",
    "* PyPi repository contains external and third party packages\n",
    "* Packages are a collection of modules, modules are just .py scripts that you call in another .py scripts"
   ]
  },
  {
   "cell_type": "markdown",
   "id": "2bbec4b0",
   "metadata": {},
   "source": [
    "### Creating packages in VS Code\n",
    "* you need to perform the following to get the interpreter to recognize packages not in the default path\n",
    "    * import sys \n",
    "    * sys.path.append(\"C:/Repos/Udemy_Python_Bootcamp/Python Scripts/my_pkg\") # this is the path of the main pkg directory\n",
    "    * from my_module import my_fcn                                            # just a random a module in line with the prgm\n",
    "    * import my_main_script                                                   # import py script within main pkg\n",
    "    * from my_sub_pkg import my_sub_script                                    # import py script within sub_pkg\n",
    "* VS Code may refuse to recognize the modules but if done correctly, application will compile and run"
   ]
  },
  {
   "cell_type": "markdown",
   "id": "7d0410b1",
   "metadata": {},
   "source": [
    "### __name__ and \"__main__\"\n",
    "* all code at indentation level 0 gets run\n",
    "* \\_\\_name__ is a builtin variable. It is assigned a string \"\\_\\_main__\" when the program is run directly\n",
    "* when you call a python script \"python ./script.py\" then the \"\\_\\_name__\" variable is automatically assigned to main like \\_\\_name__ = \"\\_\\_main__\" \n",
    "* so then in the program, the statement \" if \\_\\_name__ == \"\\_\\_main__\" \" will determine if the script has been run directly\n",
    "* common use is you define a bunch of functions at the top level, then the logic where it is executed is at the bottom (example below)"
   ]
  },
  {
   "cell_type": "code",
   "execution_count": 157,
   "id": "2e640717",
   "metadata": {},
   "outputs": [],
   "source": [
    "#define fcns\n",
    "def f1():\n",
    "    pass\n",
    "def f2():\n",
    "    pass\n",
    "def f3():\n",
    "    pass\n",
    "if __name__ == \"__main__\":\n",
    "    #run script\n",
    "    f2()\n",
    "    f3()"
   ]
  },
  {
   "cell_type": "markdown",
   "id": "0c16803b",
   "metadata": {},
   "source": [
    "# Errors and Exception Handling\n",
    "* try: block to be attempted\n",
    "* except: block executed when error occurs in try\n",
    "* finally: block executed regardless of error\n",
    "\n",
    "* you can have a try,except,else statement if you want the else to run after a successful try\n",
    "* you can have a try,except,finally statement if you want the finally to run every time\n",
    "* you can have a try,except,else,finally statement for everything"
   ]
  },
  {
   "cell_type": "code",
   "execution_count": 8,
   "id": "963a2c32",
   "metadata": {},
   "outputs": [
    {
     "name": "stdout",
     "output_type": "stream",
     "text": [
      "Give number plz: 50\n",
      "Error in add()\n",
      "Continue with prgm\n"
     ]
    }
   ],
   "source": [
    "def add(n1,n2):\n",
    "    try:\n",
    "        print(n1+n2)\n",
    "    except:\n",
    "        print('Error in add()')\n",
    "    else:\n",
    "        print(\"Add went well (only run in with successful try)\")            #try,except,else statement\n",
    "n = 100\n",
    "number = input('Give number plz: ')\n",
    "add(n,number)\n",
    "print('Continue with prgm')"
   ]
  },
  {
   "cell_type": "code",
   "execution_count": 13,
   "id": "c941daa0",
   "metadata": {},
   "outputs": [
    {
     "name": "stdout",
     "output_type": "stream",
     "text": [
      "OS Error when opening file\n",
      "Always run in finally block\n"
     ]
    }
   ],
   "source": [
    "try:\n",
    "    f = open('a.txt','r')\n",
    "    f.write('Write a test line')\n",
    "except TypeError:\n",
    "    print('Type Error when opening file')\n",
    "except OSError:\n",
    "    print('OS Error when opening file')\n",
    "finally:                                  #try,except,finally statement                    \n",
    "    print('Always run in finally block')"
   ]
  },
  {
   "cell_type": "code",
   "execution_count": 16,
   "id": "877662f4",
   "metadata": {},
   "outputs": [
    {
     "name": "stdout",
     "output_type": "stream",
     "text": [
      "Give number: gasdf\n",
      "Not a number! Try again.\n",
      "EndOf\n",
      "Give number: 2ads\n",
      "Not a number! Try again.\n",
      "EndOf\n",
      "Give number: 50\n",
      "EndOf\n"
     ]
    }
   ],
   "source": [
    "def ask_for_int():\n",
    "    while True:\n",
    "        try:\n",
    "            result = int(input('Give number: '))\n",
    "        except:\n",
    "            print('Not a number! Try again.')\n",
    "        else:\n",
    "            break\n",
    "        finally:\n",
    "            print('EndOf')\n",
    "ask_for_int()"
   ]
  },
  {
   "cell_type": "markdown",
   "id": "436ce381",
   "metadata": {},
   "source": [
    "# PyLint and Unit Testing\n",
    "* PyLint: library that looks at code and reports back possible issues\n",
    "    * reference using_unittests.py for information surround pylint\n",
    "    * call pylint ./my_script.py -r y to generate report\n",
    "* unittest: built-in library allows for testing programs and check for desired outputs\n",
    "* Pep 8: standard styling conventions"
   ]
  },
  {
   "cell_type": "markdown",
   "id": "095ec592",
   "metadata": {},
   "source": [
    "# Milestone Project 2 Warmup: War Card Game\n",
    "* Card class should have the following: suit, rank, value\n",
    "* Deck class contains 52 cards in a deck\n",
    "* Player class holds deck"
   ]
  },
  {
   "cell_type": "code",
   "execution_count": 7,
   "id": "31348d92",
   "metadata": {},
   "outputs": [
    {
     "name": "stdout",
     "output_type": "stream",
     "text": [
      "Justine has 26 cards\n",
      "Josiah has 26 cards\n",
      "***** Round 1 *****\n",
      "Justine has 27 cards\n",
      "Josiah has 25 cards\n",
      "***** Round 2 *****\n",
      "Justine has 28 cards\n",
      "Josiah has 24 cards\n",
      "***** Round 3 *****\n",
      "Justine has 29 cards\n",
      "Josiah has 23 cards\n",
      "***** Round 4 *****\n",
      "Justine has 28 cards\n",
      "Josiah has 24 cards\n",
      "***** Round 5 *****\n",
      "Justine has 29 cards\n",
      "Josiah has 23 cards\n",
      "***** Round 6 *****\n",
      "Justine has 28 cards\n",
      "Josiah has 24 cards\n",
      "***** Round 7 *****\n",
      "Justine has 29 cards\n",
      "Josiah has 23 cards\n",
      "***** Round 8 *****\n",
      "Justine has 30 cards\n",
      "Josiah has 22 cards\n",
      "***** Round 9 *****\n",
      "Justine has 29 cards\n",
      "Josiah has 23 cards\n",
      "***** Round 10 *****\n",
      "Justine has 30 cards\n",
      "Josiah has 22 cards\n",
      "***** Round 11 *****\n",
      "Justine has 31 cards\n",
      "Josiah has 21 cards\n",
      "***** Round 12 *****\n",
      "WAR!\n",
      "Justine has 37 cards\n",
      "Josiah has 15 cards\n",
      "***** Round 13 *****\n",
      "Justine has 36 cards\n",
      "Josiah has 16 cards\n",
      "***** Round 14 *****\n",
      "Justine has 35 cards\n",
      "Josiah has 17 cards\n",
      "***** Round 15 *****\n",
      "Justine has 34 cards\n",
      "Josiah has 18 cards\n",
      "***** Round 16 *****\n",
      "Justine has 33 cards\n",
      "Josiah has 19 cards\n",
      "***** Round 17 *****\n",
      "Justine has 34 cards\n",
      "Josiah has 18 cards\n",
      "***** Round 18 *****\n",
      "Justine has 33 cards\n",
      "Josiah has 19 cards\n",
      "***** Round 19 *****\n",
      "Justine has 34 cards\n",
      "Josiah has 18 cards\n",
      "***** Round 20 *****\n",
      "Justine has 33 cards\n",
      "Josiah has 19 cards\n",
      "***** Round 21 *****\n",
      "Justine has 32 cards\n",
      "Josiah has 20 cards\n",
      "***** Round 22 *****\n",
      "Justine has 33 cards\n",
      "Josiah has 19 cards\n",
      "***** Round 23 *****\n",
      "Justine has 32 cards\n",
      "Josiah has 20 cards\n",
      "***** Round 24 *****\n",
      "Justine has 33 cards\n",
      "Josiah has 19 cards\n",
      "***** Round 25 *****\n",
      "Justine has 32 cards\n",
      "Josiah has 20 cards\n",
      "***** Round 26 *****\n",
      "Justine has 33 cards\n",
      "Josiah has 19 cards\n",
      "***** Round 27 *****\n",
      "Justine has 32 cards\n",
      "Josiah has 20 cards\n",
      "***** Round 28 *****\n",
      "Justine has 33 cards\n",
      "Josiah has 19 cards\n",
      "***** Round 29 *****\n",
      "Justine has 34 cards\n",
      "Josiah has 18 cards\n",
      "***** Round 30 *****\n",
      "Justine has 35 cards\n",
      "Josiah has 17 cards\n",
      "***** Round 31 *****\n",
      "Justine has 34 cards\n",
      "Josiah has 18 cards\n",
      "***** Round 32 *****\n",
      "Justine has 33 cards\n",
      "Josiah has 19 cards\n",
      "***** Round 33 *****\n",
      "Justine has 32 cards\n",
      "Josiah has 20 cards\n",
      "***** Round 34 *****\n",
      "Justine has 33 cards\n",
      "Josiah has 19 cards\n",
      "***** Round 35 *****\n",
      "Justine has 32 cards\n",
      "Josiah has 20 cards\n",
      "***** Round 36 *****\n",
      "Justine has 33 cards\n",
      "Josiah has 19 cards\n",
      "***** Round 37 *****\n",
      "Justine has 32 cards\n",
      "Josiah has 20 cards\n",
      "***** Round 38 *****\n",
      "Justine has 33 cards\n",
      "Josiah has 19 cards\n",
      "***** Round 39 *****\n",
      "Justine has 32 cards\n",
      "Josiah has 20 cards\n",
      "***** Round 40 *****\n",
      "Justine has 33 cards\n",
      "Josiah has 19 cards\n",
      "***** Round 41 *****\n",
      "Justine has 32 cards\n",
      "Josiah has 20 cards\n",
      "***** Round 42 *****\n",
      "Justine has 31 cards\n",
      "Josiah has 21 cards\n",
      "***** Round 43 *****\n",
      "Justine has 32 cards\n",
      "Josiah has 20 cards\n",
      "***** Round 44 *****\n",
      "Justine has 33 cards\n",
      "Josiah has 19 cards\n",
      "***** Round 45 *****\n",
      "Justine has 34 cards\n",
      "Josiah has 18 cards\n",
      "***** Round 46 *****\n",
      "Justine has 35 cards\n",
      "Josiah has 17 cards\n",
      "***** Round 47 *****\n",
      "Justine has 34 cards\n",
      "Josiah has 18 cards\n",
      "***** Round 48 *****\n",
      "Justine has 35 cards\n",
      "Josiah has 17 cards\n",
      "***** Round 49 *****\n",
      "Justine has 34 cards\n",
      "Josiah has 18 cards\n",
      "***** Round 50 *****\n",
      "Justine has 35 cards\n",
      "Josiah has 17 cards\n",
      "***** Round 51 *****\n",
      "Justine has 34 cards\n",
      "Josiah has 18 cards\n",
      "***** Round 52 *****\n",
      "Justine has 35 cards\n",
      "Josiah has 17 cards\n",
      "***** Round 53 *****\n",
      "Justine has 34 cards\n",
      "Josiah has 18 cards\n",
      "***** Round 54 *****\n",
      "Justine has 35 cards\n",
      "Josiah has 17 cards\n",
      "***** Round 55 *****\n",
      "Justine has 34 cards\n",
      "Josiah has 18 cards\n",
      "***** Round 56 *****\n",
      "Justine has 33 cards\n",
      "Josiah has 19 cards\n",
      "***** Round 57 *****\n",
      "Justine has 32 cards\n",
      "Josiah has 20 cards\n",
      "***** Round 58 *****\n",
      "Justine has 33 cards\n",
      "Josiah has 19 cards\n",
      "***** Round 59 *****\n",
      "Justine has 34 cards\n",
      "Josiah has 18 cards\n",
      "***** Round 60 *****\n",
      "Justine has 35 cards\n",
      "Josiah has 17 cards\n",
      "***** Round 61 *****\n",
      "Justine has 34 cards\n",
      "Josiah has 18 cards\n",
      "***** Round 62 *****\n",
      "Justine has 35 cards\n",
      "Josiah has 17 cards\n",
      "***** Round 63 *****\n",
      "Justine has 36 cards\n",
      "Josiah has 16 cards\n",
      "***** Round 64 *****\n",
      "WAR!\n",
      "Justine has 42 cards\n",
      "Josiah has 10 cards\n",
      "***** Round 65 *****\n",
      "Justine has 43 cards\n",
      "Josiah has 9 cards\n",
      "***** Round 66 *****\n",
      "Justine has 42 cards\n",
      "Josiah has 10 cards\n",
      "***** Round 67 *****\n",
      "Justine has 43 cards\n",
      "Josiah has 9 cards\n",
      "***** Round 68 *****\n",
      "Justine has 42 cards\n",
      "Josiah has 10 cards\n",
      "***** Round 69 *****\n",
      "Justine has 43 cards\n",
      "Josiah has 9 cards\n",
      "***** Round 70 *****\n",
      "Justine has 42 cards\n",
      "Josiah has 10 cards\n",
      "***** Round 71 *****\n",
      "Justine has 43 cards\n",
      "Josiah has 9 cards\n",
      "***** Round 72 *****\n",
      "Justine has 42 cards\n",
      "Josiah has 10 cards\n",
      "***** Round 73 *****\n",
      "Justine has 43 cards\n",
      "Josiah has 9 cards\n",
      "***** Round 74 *****\n",
      "Justine has 42 cards\n",
      "Josiah has 10 cards\n",
      "***** Round 75 *****\n",
      "Justine has 43 cards\n",
      "Josiah has 9 cards\n",
      "***** Round 76 *****\n",
      "Justine has 42 cards\n",
      "Josiah has 10 cards\n",
      "***** Round 77 *****\n",
      "Justine has 43 cards\n",
      "Josiah has 9 cards\n",
      "***** Round 78 *****\n",
      "Justine has 42 cards\n",
      "Josiah has 10 cards\n",
      "***** Round 79 *****\n",
      "Justine has 43 cards\n",
      "Josiah has 9 cards\n",
      "***** Round 80 *****\n",
      "Justine has 42 cards\n",
      "Josiah has 10 cards\n",
      "***** Round 81 *****\n",
      "Justine has 43 cards\n",
      "Josiah has 9 cards\n",
      "***** Round 82 *****\n",
      "Justine has 42 cards\n",
      "Josiah has 10 cards\n",
      "***** Round 83 *****\n",
      "Justine has 43 cards\n",
      "Josiah has 9 cards\n",
      "***** Round 84 *****\n",
      "Justine has 42 cards\n",
      "Josiah has 10 cards\n",
      "***** Round 85 *****\n",
      "Justine has 43 cards\n",
      "Josiah has 9 cards\n",
      "***** Round 86 *****\n",
      "Justine has 42 cards\n",
      "Josiah has 10 cards\n",
      "***** Round 87 *****\n",
      "Justine has 43 cards\n",
      "Josiah has 9 cards\n",
      "***** Round 88 *****\n",
      "Justine has 42 cards\n",
      "Josiah has 10 cards\n",
      "***** Round 89 *****\n",
      "Justine has 43 cards\n",
      "Josiah has 9 cards\n",
      "***** Round 90 *****\n",
      "Justine has 42 cards\n",
      "Josiah has 10 cards\n",
      "***** Round 91 *****\n",
      "Justine has 43 cards\n",
      "Josiah has 9 cards\n",
      "***** Round 92 *****\n",
      "Justine has 42 cards\n",
      "Josiah has 10 cards\n",
      "***** Round 93 *****\n",
      "Justine has 43 cards\n",
      "Josiah has 9 cards\n",
      "***** Round 94 *****\n",
      "Justine has 42 cards\n",
      "Josiah has 10 cards\n",
      "***** Round 95 *****\n",
      "Justine has 43 cards\n",
      "Josiah has 9 cards\n",
      "***** Round 96 *****\n",
      "Justine has 42 cards\n",
      "Josiah has 10 cards\n",
      "***** Round 97 *****\n",
      "Justine has 43 cards\n",
      "Josiah has 9 cards\n",
      "***** Round 98 *****\n",
      "Justine has 42 cards\n",
      "Josiah has 10 cards\n",
      "***** Round 99 *****\n",
      "Justine has 43 cards\n",
      "Josiah has 9 cards\n",
      "***** Round 100 *****\n",
      "Justine has 44 cards\n",
      "Josiah has 8 cards\n",
      "***** Round 101 *****\n",
      "Justine has 45 cards\n",
      "Josiah has 7 cards\n",
      "***** Round 102 *****\n",
      "WAR!\n",
      "Justine has 51 cards\n",
      "Josiah has 1 cards\n",
      "***** Round 103 *****\n",
      "WAR!\n",
      "Josiah cannot war, Justine WINS!\n"
     ]
    }
   ],
   "source": [
    "import random\n",
    "import pdb\n",
    "suits = ('Hearts', 'Diamonds', 'Spades', 'Clubs')\n",
    "ranks = ('Two','Three','Four','Five','Six','Seven','Eight','Nine','Ten','Jack','Queen','King','Ace')\n",
    "values = {'Two':2,'Three':3,'Four':4,'Five':5,'Six':6,'Seven':7,'Eight':8,'Nine':9,\n",
    "          'Ten':10,'Jack':11,'Queen':12,'King':13,'Ace':14}\n",
    "\n",
    "class Card():\n",
    "    def __init__(self,suit,rank):\n",
    "        self.suit = suit\n",
    "        self.rank = rank\n",
    "        self.value = values[rank]\n",
    "    \n",
    "    def __str__(self):\n",
    "        return self.rank+' of '+self.suit\n",
    "\n",
    "class Deck():\n",
    "    def __init__(self):\n",
    "        self.all_cards = []\n",
    "        for suit in suits:\n",
    "            for rank in ranks:\n",
    "                self.all_cards.append(Card(suit,rank))\n",
    "    \n",
    "    def shuffle(self):\n",
    "        random.shuffle(self.all_cards)\n",
    "        \n",
    "    def deal_one_card(self):\n",
    "        return self.all_cards.pop()\n",
    "    \n",
    "class Player():\n",
    "    def __init__(self,name):\n",
    "        self.name = name\n",
    "        self.all_cards = []\n",
    "        \n",
    "    def remove_one(self):\n",
    "        return self.all_cards.pop(0)\n",
    "\n",
    "    def add_cards(self,new_cards):\n",
    "        if type(new_cards) == type([]):\n",
    "            self.all_cards.extend(new_cards)\n",
    "        else:\n",
    "            self.all_cards.append(new_cards)\n",
    "    \n",
    "    def __str__(self):\n",
    "        return f'Player {self.name} has {len(self.all_cards)} cards.'\n",
    "    \n",
    "    def __len__(self):\n",
    "        return len(self.all_cards)\n",
    "\n",
    "if __name__ == '__main__':\n",
    "    p1 = Player('Justine')\n",
    "    p2 = Player('Josiah')\n",
    "    deck = Deck()\n",
    "    deck.shuffle()\n",
    "    \n",
    "for card in range(26):\n",
    "    p1.add_cards(deck.deal_one_card())\n",
    "    p2.add_cards(deck.deal_one_card())\n",
    "\n",
    "game_on = True\n",
    "round_num = 0\n",
    "while game_on:\n",
    "    round_num += 1\n",
    "    print(f'{p1.name} has {len(p1)} cards')\n",
    "    print(f'{p2.name} has {len(p2)} cards')\n",
    "    print(f'***** Round {round_num} *****')\n",
    "    #check victory condition\n",
    "    if len(p1.all_cards) == 0:\n",
    "        print(f'{p1.name} out of cards, {p2.name} WINS!')\n",
    "        game_on = False\n",
    "        break\n",
    "    if len(p2.all_cards) == 0:\n",
    "        print(f'{p1.name} out of cards, {p2.name} WINS!')\n",
    "        game_on = False\n",
    "        break\n",
    "    #start round\n",
    "    p1_cards = []\n",
    "    p1_cards.append(p1.remove_one())\n",
    "    p2_cards = []\n",
    "    p2_cards.append(p2.remove_one())\n",
    "    #while at war\n",
    "    at_war = True\n",
    "    while at_war:\n",
    "        if p1_cards[-1].value > p2_cards[-1].value:\n",
    "            p1.add_cards(p1_cards)\n",
    "            p1.add_cards(p2_cards)\n",
    "            at_war = False\n",
    "        elif p1_cards[-1].value < p2_cards[-1].value:\n",
    "            p2.add_cards(p1_cards)\n",
    "            p2.add_cards(p2_cards)\n",
    "            at_war = False\n",
    "        else:\n",
    "            print('WAR!')\n",
    "            if len(p1.all_cards) < 5:\n",
    "                print(f'{p1.name} cannot war, {p2.name} WINS!')\n",
    "                game_on = False\n",
    "                break\n",
    "            elif len(p2.all_cards) < 5:\n",
    "                print(f'{p2.name} cannot war, {p1.name} WINS!')\n",
    "                game_on = False\n",
    "                break\n",
    "            else:\n",
    "                for num in range(5):\n",
    "                    p1_cards.append(p1.remove_one())\n",
    "                    p2_cards.append(p2.remove_one())"
   ]
  },
  {
   "cell_type": "code",
   "execution_count": 55,
   "id": "303a9d09",
   "metadata": {},
   "outputs": [
    {
     "name": "stdout",
     "output_type": "stream",
     "text": [
      "Two of Hearts\n",
      "Queen of Hearts\n",
      "52\n",
      "King of Hearts\n",
      "51\n",
      "Player Jose has 0 cards.\n",
      "Player Jose has 1 cards.\n"
     ]
    }
   ],
   "source": [
    "d = Deck()\n",
    "print(d.all_cards[0])\n",
    "d.shuffle()\n",
    "print(d.all_cards[0])\n",
    "print(len(d.all_cards))\n",
    "print(d.remove_card())\n",
    "print(len(d.all_cards))\n",
    "p1 = Player('Jose')\n",
    "print(p1)\n",
    "p1.add_cards(d.all_cards)\n",
    "print(p1)"
   ]
  },
  {
   "cell_type": "markdown",
   "id": "d08ffddf",
   "metadata": {},
   "source": [
    "# Decorators\n",
    "* If you want an on/off switch to extend functionality of a functions\n",
    "* tack on extra fcnality to a pre-existing fcn\n",
    "* you can assign functions to a variable, or return a function within a function"
   ]
  },
  {
   "cell_type": "code",
   "execution_count": 2,
   "id": "151ec217",
   "metadata": {},
   "outputs": [],
   "source": [
    "# @some_decorator\n",
    "def cool():\n",
    "    def cold():\n",
    "        return 'I am cold'\n",
    "    return cold()"
   ]
  },
  {
   "cell_type": "code",
   "execution_count": 3,
   "id": "ac72c08e",
   "metadata": {},
   "outputs": [
    {
     "ename": "AttributeError",
     "evalue": "'bool' object has no attribute 'return_false'",
     "output_type": "error",
     "traceback": [
      "\u001b[1;31m--------------------------------------------------------------------\u001b[0m",
      "\u001b[1;31mAttributeError\u001b[0m                     Traceback (most recent call last)",
      "\u001b[1;32m<ipython-input-3-faed1202f641>\u001b[0m in \u001b[0;36m<module>\u001b[1;34m\u001b[0m\n\u001b[1;32m----> 1\u001b[1;33m \u001b[0mfcn\u001b[0m\u001b[1;33m(\u001b[0m\u001b[1;33m)\u001b[0m\u001b[1;33m.\u001b[0m\u001b[0mreturn_false\u001b[0m\u001b[1;33m(\u001b[0m\u001b[1;33m)\u001b[0m\u001b[1;33m\u001b[0m\u001b[1;33m\u001b[0m\u001b[0m\n\u001b[0m",
      "\u001b[1;31mAttributeError\u001b[0m: 'bool' object has no attribute 'return_false'"
     ]
    }
   ],
   "source": [
    "fcn()"
   ]
  },
  {
   "cell_type": "code",
   "execution_count": null,
   "id": "0c241807",
   "metadata": {},
   "outputs": [],
   "source": []
  }
 ],
 "metadata": {
  "kernelspec": {
   "display_name": "Python 3",
   "language": "python",
   "name": "python3"
  },
  "language_info": {
   "codemirror_mode": {
    "name": "ipython",
    "version": 3
   },
   "file_extension": ".py",
   "mimetype": "text/x-python",
   "name": "python",
   "nbconvert_exporter": "python",
   "pygments_lexer": "ipython3",
   "version": "3.8.2"
  }
 },
 "nbformat": 4,
 "nbformat_minor": 5
}
