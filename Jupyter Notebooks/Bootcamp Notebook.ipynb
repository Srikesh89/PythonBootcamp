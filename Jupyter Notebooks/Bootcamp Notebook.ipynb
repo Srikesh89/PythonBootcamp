{
 "cells": [
  {
   "cell_type": "markdown",
   "id": "cb783e7d",
   "metadata": {},
   "source": [
    "# Starting with Jupyter Notebooks\n",
    "* To start Jupyter Notebook, navigate to the correct directory and run 'Jupyter Notebook' in the terminal\n",
    "***"
   ]
  },
  {
   "cell_type": "code",
   "execution_count": 1,
   "id": "54302ff9",
   "metadata": {},
   "outputs": [
    {
     "name": "stdout",
     "output_type": "stream",
     "text": [
      "hello world\n"
     ]
    }
   ],
   "source": [
    "print('hello world')"
   ]
  },
  {
   "cell_type": "markdown",
   "id": "f0f74c2c",
   "metadata": {},
   "source": [
    "***\n",
    "## Numbers"
   ]
  },
  {
   "cell_type": "code",
   "execution_count": 1,
   "id": "c1f716eb",
   "metadata": {},
   "outputs": [
    {
     "data": {
      "text/plain": [
       "0.5"
      ]
     },
     "execution_count": 1,
     "metadata": {},
     "output_type": "execute_result"
    }
   ],
   "source": [
    "1/2"
   ]
  },
  {
   "cell_type": "markdown",
   "id": "527ac635",
   "metadata": {},
   "source": [
    "### Variable Assignments"
   ]
  },
  {
   "cell_type": "code",
   "execution_count": 4,
   "id": "f682a591",
   "metadata": {},
   "outputs": [
    {
     "data": {
      "text/plain": [
       "10"
      ]
     },
     "execution_count": 4,
     "metadata": {},
     "output_type": "execute_result"
    }
   ],
   "source": [
    "my_free_time = 5\n",
    "my_free_time*2"
   ]
  },
  {
   "cell_type": "code",
   "execution_count": 8,
   "id": "62bb5012",
   "metadata": {},
   "outputs": [
    {
     "data": {
      "text/plain": [
       "<function list.count(value, /)>"
      ]
     },
     "execution_count": 8,
     "metadata": {},
     "output_type": "execute_result"
    }
   ],
   "source": [
    "hobbies = ['markers', 'golf', 'games']\n",
    "hobbies.count"
   ]
  },
  {
   "cell_type": "code",
   "execution_count": 9,
   "id": "28e448bb",
   "metadata": {},
   "outputs": [],
   "source": [
    "a = 4"
   ]
  },
  {
   "cell_type": "code",
   "execution_count": 10,
   "id": "6fce1067",
   "metadata": {},
   "outputs": [
    {
     "data": {
      "text/plain": [
       "8"
      ]
     },
     "execution_count": 10,
     "metadata": {},
     "output_type": "execute_result"
    }
   ],
   "source": [
    "a + a"
   ]
  },
  {
   "cell_type": "code",
   "execution_count": 13,
   "id": "05e22c97",
   "metadata": {},
   "outputs": [],
   "source": [
    "a = a + a"
   ]
  },
  {
   "cell_type": "code",
   "execution_count": 15,
   "id": "35280c9e",
   "metadata": {},
   "outputs": [
    {
     "data": {
      "text/plain": [
       "16"
      ]
     },
     "execution_count": 15,
     "metadata": {},
     "output_type": "execute_result"
    }
   ],
   "source": [
    "a"
   ]
  },
  {
   "cell_type": "code",
   "execution_count": 16,
   "id": "9432e51c",
   "metadata": {},
   "outputs": [
    {
     "data": {
      "text/plain": [
       "int"
      ]
     },
     "execution_count": 16,
     "metadata": {},
     "output_type": "execute_result"
    }
   ],
   "source": [
    "type(a)"
   ]
  },
  {
   "cell_type": "code",
   "execution_count": 17,
   "id": "d7b7001b",
   "metadata": {},
   "outputs": [],
   "source": [
    "b = 4.4"
   ]
  },
  {
   "cell_type": "code",
   "execution_count": 18,
   "id": "82843ebb",
   "metadata": {},
   "outputs": [
    {
     "data": {
      "text/plain": [
       "float"
      ]
     },
     "execution_count": 18,
     "metadata": {},
     "output_type": "execute_result"
    }
   ],
   "source": [
    "type(b)"
   ]
  },
  {
   "cell_type": "code",
   "execution_count": 19,
   "id": "1a308c34",
   "metadata": {},
   "outputs": [],
   "source": [
    "c = a + b"
   ]
  },
  {
   "cell_type": "code",
   "execution_count": 20,
   "id": "cc0e50b9",
   "metadata": {},
   "outputs": [
    {
     "data": {
      "text/plain": [
       "20.4"
      ]
     },
     "execution_count": 20,
     "metadata": {},
     "output_type": "execute_result"
    }
   ],
   "source": [
    "c"
   ]
  },
  {
   "cell_type": "code",
   "execution_count": 21,
   "id": "e87dbdc7",
   "metadata": {},
   "outputs": [
    {
     "data": {
      "text/plain": [
       "float"
      ]
     },
     "execution_count": 21,
     "metadata": {},
     "output_type": "execute_result"
    }
   ],
   "source": [
    "type(c)"
   ]
  },
  {
   "cell_type": "markdown",
   "id": "c2abcfab",
   "metadata": {},
   "source": [
    "* adding an int to a float will generate a float"
   ]
  },
  {
   "cell_type": "code",
   "execution_count": 23,
   "id": "0f6ed9b5",
   "metadata": {},
   "outputs": [
    {
     "data": {
      "text/plain": [
       "12.0"
      ]
     },
     "execution_count": 23,
     "metadata": {},
     "output_type": "execute_result"
    }
   ],
   "source": [
    "my_var = 120 \n",
    "tax = 0.1\n",
    "m_taxes = my_var * tax\n",
    "m_taxes"
   ]
  },
  {
   "cell_type": "markdown",
   "id": "6c492782",
   "metadata": {},
   "source": [
    "## Strings"
   ]
  },
  {
   "cell_type": "markdown",
   "id": "c00feb16",
   "metadata": {},
   "source": [
    "Index and slicing key definitions. Strings are a character list in python. Can grab single character by using index. Can perform reverse indexing by using negative ints. Slicing has syntax [start:stop:step]. Step is size of jump you take. Start and stop are indices"
   ]
  },
  {
   "cell_type": "code",
   "execution_count": 24,
   "id": "4cbf8e9d",
   "metadata": {},
   "outputs": [
    {
     "data": {
      "text/plain": [
       "'howdy there partner'"
      ]
     },
     "execution_count": 24,
     "metadata": {},
     "output_type": "execute_result"
    }
   ],
   "source": [
    "'howdy there partner'"
   ]
  },
  {
   "cell_type": "code",
   "execution_count": 26,
   "id": "4a2e9653",
   "metadata": {},
   "outputs": [
    {
     "data": {
      "text/plain": [
       "\"Use ' escape characters which are the same in pythonOr use double quotes to prevent ' from ruining strings\""
      ]
     },
     "execution_count": 26,
     "metadata": {},
     "output_type": "execute_result"
    }
   ],
   "source": [
    "'Use \\' escape characters which are the same in python' \"Or use double quotes to prevent ' from ruining strings\""
   ]
  },
  {
   "cell_type": "code",
   "execution_count": 27,
   "id": "9349f378",
   "metadata": {},
   "outputs": [
    {
     "name": "stdout",
     "output_type": "stream",
     "text": [
      "first statement\n",
      "second statement\n"
     ]
    }
   ],
   "source": [
    "print('first statement')\n",
    "print('second statement')"
   ]
  },
  {
   "cell_type": "code",
   "execution_count": 29,
   "id": "f653dd1c",
   "metadata": {},
   "outputs": [
    {
     "name": "stdout",
     "output_type": "stream",
     "text": [
      "first line \n",
      "second line\n"
     ]
    }
   ],
   "source": [
    "print('first line \\nsecond line')"
   ]
  },
  {
   "cell_type": "code",
   "execution_count": 30,
   "id": "bab7e3cd",
   "metadata": {},
   "outputs": [
    {
     "data": {
      "text/plain": [
       "5"
      ]
     },
     "execution_count": 30,
     "metadata": {},
     "output_type": "execute_result"
    }
   ],
   "source": [
    "len('hello')"
   ]
  },
  {
   "cell_type": "code",
   "execution_count": 31,
   "id": "f34bed1a",
   "metadata": {},
   "outputs": [],
   "source": [
    "my_string = 'I am so fat right now'"
   ]
  },
  {
   "cell_type": "code",
   "execution_count": 32,
   "id": "d3d367eb",
   "metadata": {},
   "outputs": [
    {
     "data": {
      "text/plain": [
       "21"
      ]
     },
     "execution_count": 32,
     "metadata": {},
     "output_type": "execute_result"
    }
   ],
   "source": [
    "len(my_string)"
   ]
  },
  {
   "cell_type": "code",
   "execution_count": 33,
   "id": "03f5488e",
   "metadata": {},
   "outputs": [
    {
     "data": {
      "text/plain": [
       "'I am so fat right now'"
      ]
     },
     "execution_count": 33,
     "metadata": {},
     "output_type": "execute_result"
    }
   ],
   "source": [
    "my_string"
   ]
  },
  {
   "cell_type": "code",
   "execution_count": 34,
   "id": "8373ad81",
   "metadata": {},
   "outputs": [
    {
     "data": {
      "text/plain": [
       "'s'"
      ]
     },
     "execution_count": 34,
     "metadata": {},
     "output_type": "execute_result"
    }
   ],
   "source": [
    "my_string[5]"
   ]
  },
  {
   "cell_type": "code",
   "execution_count": 35,
   "id": "35f0fdf3",
   "metadata": {},
   "outputs": [
    {
     "data": {
      "text/plain": [
       "'I am '"
      ]
     },
     "execution_count": 35,
     "metadata": {},
     "output_type": "execute_result"
    }
   ],
   "source": [
    "my_string[0:5:1]"
   ]
  },
  {
   "cell_type": "code",
   "execution_count": 36,
   "id": "1f96b765",
   "metadata": {},
   "outputs": [
    {
     "data": {
      "text/plain": [
       "'Ia '"
      ]
     },
     "execution_count": 36,
     "metadata": {},
     "output_type": "execute_result"
    }
   ],
   "source": [
    "my_string[0:5:2]"
   ]
  },
  {
   "cell_type": "code",
   "execution_count": 37,
   "id": "29e62f51",
   "metadata": {},
   "outputs": [
    {
     "data": {
      "text/plain": [
       "'t'"
      ]
     },
     "execution_count": 37,
     "metadata": {},
     "output_type": "execute_result"
    }
   ],
   "source": [
    "my_string[-5]"
   ]
  },
  {
   "cell_type": "code",
   "execution_count": 38,
   "id": "f290f080",
   "metadata": {},
   "outputs": [],
   "source": [
    "my_string = 'IAmSoFatRightNow'"
   ]
  },
  {
   "cell_type": "code",
   "execution_count": 42,
   "id": "2ceeca77",
   "metadata": {},
   "outputs": [
    {
     "data": {
      "text/plain": [
       "'SoFatRightNow'"
      ]
     },
     "execution_count": 42,
     "metadata": {},
     "output_type": "execute_result"
    }
   ],
   "source": [
    "my_string[3:]"
   ]
  },
  {
   "cell_type": "code",
   "execution_count": 41,
   "id": "e80b1c53",
   "metadata": {},
   "outputs": [
    {
     "data": {
      "text/plain": [
       "'IAmSo'"
      ]
     },
     "execution_count": 41,
     "metadata": {},
     "output_type": "execute_result"
    }
   ],
   "source": [
    "my_string[:5]"
   ]
  },
  {
   "cell_type": "code",
   "execution_count": 44,
   "id": "dac7cc76",
   "metadata": {},
   "outputs": [
    {
     "data": {
      "text/plain": [
       "'SoFat'"
      ]
     },
     "execution_count": 44,
     "metadata": {},
     "output_type": "execute_result"
    }
   ],
   "source": [
    "my_string[3:8]"
   ]
  },
  {
   "cell_type": "code",
   "execution_count": 45,
   "id": "132bf406",
   "metadata": {},
   "outputs": [
    {
     "data": {
      "text/plain": [
       "'Iamsofatrightnow'"
      ]
     },
     "execution_count": 45,
     "metadata": {},
     "output_type": "execute_result"
    }
   ],
   "source": [
    "my_string.capitalize()"
   ]
  },
  {
   "cell_type": "code",
   "execution_count": 46,
   "id": "3b6b23f0",
   "metadata": {},
   "outputs": [
    {
     "data": {
      "text/plain": [
       "'ISaitw'"
      ]
     },
     "execution_count": 46,
     "metadata": {},
     "output_type": "execute_result"
    }
   ],
   "source": [
    "my_string[::3]"
   ]
  },
  {
   "cell_type": "code",
   "execution_count": 47,
   "id": "5ae16ce8",
   "metadata": {},
   "outputs": [
    {
     "data": {
      "text/plain": [
       "'woNthgiRtaFoSmAI'"
      ]
     },
     "execution_count": 47,
     "metadata": {},
     "output_type": "execute_result"
    }
   ],
   "source": [
    "my_string[::-1]"
   ]
  },
  {
   "cell_type": "code",
   "execution_count": 48,
   "id": "25733dbf",
   "metadata": {},
   "outputs": [],
   "source": [
    "name = 'Sam'"
   ]
  },
  {
   "cell_type": "code",
   "execution_count": 49,
   "id": "e4692caa",
   "metadata": {},
   "outputs": [
    {
     "ename": "TypeError",
     "evalue": "unsupported operand type(s) for +: 'int' and 'str'",
     "output_type": "error",
     "traceback": [
      "\u001b[1;31m---------------------------------------------------------------------------\u001b[0m",
      "\u001b[1;31mTypeError\u001b[0m                                 Traceback (most recent call last)",
      "\u001b[1;32m<ipython-input-49-8fd9dcfa4f42>\u001b[0m in \u001b[0;36m<module>\u001b[1;34m\u001b[0m\n\u001b[1;32m----> 1\u001b[1;33m \u001b[1;36m2\u001b[0m \u001b[1;33m+\u001b[0m \u001b[1;34m'3'\u001b[0m\u001b[1;33m\u001b[0m\u001b[1;33m\u001b[0m\u001b[0m\n\u001b[0m",
      "\u001b[1;31mTypeError\u001b[0m: unsupported operand type(s) for +: 'int' and 'str'"
     ]
    }
   ],
   "source": [
    "2 + '3'"
   ]
  },
  {
   "cell_type": "code",
   "execution_count": 50,
   "id": "e5218a95",
   "metadata": {},
   "outputs": [],
   "source": [
    "x = 'Howdy There'"
   ]
  },
  {
   "cell_type": "code",
   "execution_count": 51,
   "id": "6d770636",
   "metadata": {},
   "outputs": [
    {
     "data": {
      "text/plain": [
       "<function str.count>"
      ]
     },
     "execution_count": 51,
     "metadata": {},
     "output_type": "execute_result"
    }
   ],
   "source": [
    "x.count"
   ]
  },
  {
   "cell_type": "code",
   "execution_count": 52,
   "id": "1489099f",
   "metadata": {},
   "outputs": [
    {
     "ename": "TypeError",
     "evalue": "count() takes at least 1 argument (0 given)",
     "output_type": "error",
     "traceback": [
      "\u001b[1;31m---------------------------------------------------------------------------\u001b[0m",
      "\u001b[1;31mTypeError\u001b[0m                                 Traceback (most recent call last)",
      "\u001b[1;32m<ipython-input-52-22592ee537f4>\u001b[0m in \u001b[0;36m<module>\u001b[1;34m\u001b[0m\n\u001b[1;32m----> 1\u001b[1;33m \u001b[0mx\u001b[0m\u001b[1;33m.\u001b[0m\u001b[0mcount\u001b[0m\u001b[1;33m(\u001b[0m\u001b[1;33m)\u001b[0m\u001b[1;33m\u001b[0m\u001b[1;33m\u001b[0m\u001b[0m\n\u001b[0m",
      "\u001b[1;31mTypeError\u001b[0m: count() takes at least 1 argument (0 given)"
     ]
    }
   ],
   "source": [
    "x.count()"
   ]
  },
  {
   "cell_type": "code",
   "execution_count": 53,
   "id": "e92c92ad",
   "metadata": {},
   "outputs": [
    {
     "data": {
      "text/plain": [
       "'HOWDY THERE'"
      ]
     },
     "execution_count": 53,
     "metadata": {},
     "output_type": "execute_result"
    }
   ],
   "source": [
    "x.upper()"
   ]
  },
  {
   "cell_type": "code",
   "execution_count": 54,
   "id": "86884cd3",
   "metadata": {},
   "outputs": [
    {
     "data": {
      "text/plain": [
       "False"
      ]
     },
     "execution_count": 54,
     "metadata": {},
     "output_type": "execute_result"
    }
   ],
   "source": [
    "x.isdecimal()"
   ]
  },
  {
   "cell_type": "code",
   "execution_count": 55,
   "id": "0ae35009",
   "metadata": {},
   "outputs": [
    {
     "data": {
      "text/plain": [
       "False"
      ]
     },
     "execution_count": 55,
     "metadata": {},
     "output_type": "execute_result"
    }
   ],
   "source": [
    "x.isalpha()"
   ]
  },
  {
   "cell_type": "code",
   "execution_count": 56,
   "id": "a9061183",
   "metadata": {},
   "outputs": [
    {
     "data": {
      "text/plain": [
       "False"
      ]
     },
     "execution_count": 56,
     "metadata": {},
     "output_type": "execute_result"
    }
   ],
   "source": [
    "x.isalnum()"
   ]
  },
  {
   "cell_type": "code",
   "execution_count": 57,
   "id": "cc58fee7",
   "metadata": {},
   "outputs": [
    {
     "data": {
      "text/plain": [
       "True"
      ]
     },
     "execution_count": 57,
     "metadata": {},
     "output_type": "execute_result"
    }
   ],
   "source": [
    "x.isascii()"
   ]
  },
  {
   "cell_type": "code",
   "execution_count": 63,
   "id": "50b7c6f4",
   "metadata": {},
   "outputs": [
    {
     "data": {
      "text/plain": [
       "['Howdy T', 'ere']"
      ]
     },
     "execution_count": 63,
     "metadata": {},
     "output_type": "execute_result"
    }
   ],
   "source": [
    "x.split('h')"
   ]
  },
  {
   "cell_type": "code",
   "execution_count": 64,
   "id": "69ba671e",
   "metadata": {},
   "outputs": [
    {
     "name": "stdout",
     "output_type": "stream",
     "text": [
      "Howdy There\n"
     ]
    }
   ],
   "source": [
    "print(x)"
   ]
  },
  {
   "cell_type": "code",
   "execution_count": 65,
   "id": "fa367eea",
   "metadata": {},
   "outputs": [
    {
     "data": {
      "text/plain": [
       "'Hello Komrade. Welcome to Instance Communism'"
      ]
     },
     "execution_count": 65,
     "metadata": {},
     "output_type": "execute_result"
    }
   ],
   "source": [
    "'Hello {}. Welcome to Instance {}'.format('Komrade', 'Communism')"
   ]
  },
  {
   "cell_type": "code",
   "execution_count": 66,
   "id": "60d014f4",
   "metadata": {},
   "outputs": [
    {
     "data": {
      "text/plain": [
       "'So you can switch order or duplicate words wow words great'"
      ]
     },
     "execution_count": 66,
     "metadata": {},
     "output_type": "execute_result"
    }
   ],
   "source": [
    "'So you can switch order or duplicate {a} {b} {a} {c}'.format(a='words',b='wow',c='great',d='now')"
   ]
  },
  {
   "cell_type": "code",
   "execution_count": 68,
   "id": "a6caa11b",
   "metadata": {},
   "outputs": [
    {
     "data": {
      "text/plain": [
       "'Here is your information: Address: Texas, First Name: Joe, Last Name: Bartz'"
      ]
     },
     "execution_count": 68,
     "metadata": {},
     "output_type": "execute_result"
    }
   ],
   "source": [
    "'Here is your information: Address: {add}, First Name: {fn}, Last Name: {ln}'.format(add='Texas', fn='Joe', ln='Bartz')"
   ]
  },
  {
   "cell_type": "code",
   "execution_count": 70,
   "id": "8e12dd1d",
   "metadata": {},
   "outputs": [
    {
     "data": {
      "text/plain": [
       "'Formatting floating points 1.26'"
      ]
     },
     "execution_count": 70,
     "metadata": {},
     "output_type": "execute_result"
    }
   ],
   "source": [
    "'Formatting floating points {r:0.2f}'.format(r=1.25805)"
   ]
  },
  {
   "cell_type": "code",
   "execution_count": 72,
   "id": "ad55f44e",
   "metadata": {},
   "outputs": [
    {
     "name": "stdout",
     "output_type": "stream",
     "text": [
      "Hello, his name is Gerald\n"
     ]
    }
   ],
   "source": [
    "name = 'Gerald'\n",
    "print(f'Hello, his name is {name}')"
   ]
  },
  {
   "cell_type": "markdown",
   "id": "9e8200ae",
   "metadata": {},
   "source": [
    "## Lists"
   ]
  },
  {
   "cell_type": "code",
   "execution_count": 73,
   "id": "1420066e",
   "metadata": {},
   "outputs": [],
   "source": [
    "myList = ['hello', 32, 32.43]"
   ]
  },
  {
   "cell_type": "code",
   "execution_count": 74,
   "id": "26411f05",
   "metadata": {},
   "outputs": [
    {
     "data": {
      "text/plain": [
       "3"
      ]
     },
     "execution_count": 74,
     "metadata": {},
     "output_type": "execute_result"
    }
   ],
   "source": [
    "len(myList)"
   ]
  },
  {
   "cell_type": "code",
   "execution_count": 76,
   "id": "6f8cb1fa",
   "metadata": {},
   "outputs": [
    {
     "data": {
      "text/plain": [
       "[32, 32.43]"
      ]
     },
     "execution_count": 76,
     "metadata": {},
     "output_type": "execute_result"
    }
   ],
   "source": [
    "myList[1:]"
   ]
  },
  {
   "cell_type": "code",
   "execution_count": 77,
   "id": "af87cdce",
   "metadata": {},
   "outputs": [],
   "source": [
    "secondList=['five', 6, 'Seven']"
   ]
  },
  {
   "cell_type": "code",
   "execution_count": 78,
   "id": "c3ea7a5b",
   "metadata": {},
   "outputs": [
    {
     "data": {
      "text/plain": [
       "['hello', 32, 32.43, 'five', 6, 'Seven']"
      ]
     },
     "execution_count": 78,
     "metadata": {},
     "output_type": "execute_result"
    }
   ],
   "source": [
    "myList + secondList"
   ]
  },
  {
   "cell_type": "code",
   "execution_count": 79,
   "id": "ccc2e326",
   "metadata": {},
   "outputs": [
    {
     "data": {
      "text/plain": [
       "6"
      ]
     },
     "execution_count": 79,
     "metadata": {},
     "output_type": "execute_result"
    }
   ],
   "source": [
    "len(myList+secondList)"
   ]
  },
  {
   "cell_type": "code",
   "execution_count": 80,
   "id": "74f1c181",
   "metadata": {},
   "outputs": [],
   "source": [
    "myList.append('new item')"
   ]
  },
  {
   "cell_type": "code",
   "execution_count": 81,
   "id": "64f09e3f",
   "metadata": {},
   "outputs": [
    {
     "data": {
      "text/plain": [
       "['hello', 32, 32.43, 'new item']"
      ]
     },
     "execution_count": 81,
     "metadata": {},
     "output_type": "execute_result"
    }
   ],
   "source": [
    "myList"
   ]
  },
  {
   "cell_type": "code",
   "execution_count": 82,
   "id": "ee76934a",
   "metadata": {},
   "outputs": [
    {
     "data": {
      "text/plain": [
       "'new item'"
      ]
     },
     "execution_count": 82,
     "metadata": {},
     "output_type": "execute_result"
    }
   ],
   "source": [
    "myList.pop()"
   ]
  },
  {
   "cell_type": "code",
   "execution_count": 83,
   "id": "0b2bbb61",
   "metadata": {},
   "outputs": [
    {
     "data": {
      "text/plain": [
       "['hello', 32, 32.43]"
      ]
     },
     "execution_count": 83,
     "metadata": {},
     "output_type": "execute_result"
    }
   ],
   "source": [
    "myList"
   ]
  },
  {
   "cell_type": "code",
   "execution_count": 84,
   "id": "c18df161",
   "metadata": {},
   "outputs": [
    {
     "data": {
      "text/plain": [
       "'hello'"
      ]
     },
     "execution_count": 84,
     "metadata": {},
     "output_type": "execute_result"
    }
   ],
   "source": [
    "myList.pop(0)"
   ]
  },
  {
   "cell_type": "code",
   "execution_count": 85,
   "id": "daf3b72b",
   "metadata": {},
   "outputs": [
    {
     "data": {
      "text/plain": [
       "[32, 32.43]"
      ]
     },
     "execution_count": 85,
     "metadata": {},
     "output_type": "execute_result"
    }
   ],
   "source": [
    "myList"
   ]
  },
  {
   "cell_type": "code",
   "execution_count": 86,
   "id": "111311e3",
   "metadata": {},
   "outputs": [],
   "source": [
    "myList = ['a', 'c', 'e', 'b', 'd']"
   ]
  },
  {
   "cell_type": "code",
   "execution_count": 87,
   "id": "7dd7929e",
   "metadata": {},
   "outputs": [],
   "source": [
    "myList.sort()"
   ]
  },
  {
   "cell_type": "code",
   "execution_count": 88,
   "id": "2667729f",
   "metadata": {},
   "outputs": [
    {
     "data": {
      "text/plain": [
       "['a', 'b', 'c', 'd', 'e']"
      ]
     },
     "execution_count": 88,
     "metadata": {},
     "output_type": "execute_result"
    }
   ],
   "source": [
    "myList"
   ]
  },
  {
   "cell_type": "code",
   "execution_count": 89,
   "id": "0efa2c2f",
   "metadata": {},
   "outputs": [],
   "source": [
    "myList.reverse()"
   ]
  },
  {
   "cell_type": "code",
   "execution_count": 90,
   "id": "ee7635a5",
   "metadata": {},
   "outputs": [
    {
     "data": {
      "text/plain": [
       "['e', 'd', 'c', 'b', 'a']"
      ]
     },
     "execution_count": 90,
     "metadata": {},
     "output_type": "execute_result"
    }
   ],
   "source": [
    "myList"
   ]
  },
  {
   "cell_type": "markdown",
   "id": "28489422",
   "metadata": {},
   "source": [
    "## Dictionaries"
   ]
  },
  {
   "cell_type": "markdown",
   "id": "f4d2e353",
   "metadata": {},
   "source": [
    "* Dict: Retrieved by key name, unordered and cannot be sorted\n",
    "* List: Retrieved by location, can be indexed and sliced, can be ordered and sorted"
   ]
  },
  {
   "cell_type": "code",
   "execution_count": 10,
   "id": "ba9a9ba5",
   "metadata": {},
   "outputs": [],
   "source": [
    "categories_brands={'phone':['samsung', 'apple', 'huwaie'], 'internal_dict':{'inside_key':'brand'}, 'tv':['samsung', 'lg', 'sony']}"
   ]
  },
  {
   "cell_type": "code",
   "execution_count": 12,
   "id": "8200f912",
   "metadata": {},
   "outputs": [
    {
     "data": {
      "text/plain": [
       "{'inside_key': 'brand'}"
      ]
     },
     "execution_count": 12,
     "metadata": {},
     "output_type": "execute_result"
    }
   ],
   "source": [
    "categories_brands['internal_dict']"
   ]
  },
  {
   "cell_type": "code",
   "execution_count": 13,
   "id": "40f612e9",
   "metadata": {},
   "outputs": [
    {
     "data": {
      "text/plain": [
       "'SONY'"
      ]
     },
     "execution_count": 13,
     "metadata": {},
     "output_type": "execute_result"
    }
   ],
   "source": [
    "categories_brands['tv'][2].upper()"
   ]
  },
  {
   "cell_type": "markdown",
   "id": "c64e7014",
   "metadata": {},
   "source": [
    "### Append"
   ]
  },
  {
   "cell_type": "code",
   "execution_count": 14,
   "id": "0be90cf3",
   "metadata": {},
   "outputs": [],
   "source": [
    "categories_brands['fridge'] = ['fridgedaire', 'lg']"
   ]
  },
  {
   "cell_type": "code",
   "execution_count": 15,
   "id": "beb7c819",
   "metadata": {
    "scrolled": false
   },
   "outputs": [
    {
     "data": {
      "text/plain": [
       "{'phone': ['samsung', 'apple', 'huwaie'],\n",
       " 'internal_dict': {'inside_key': 'brand'},\n",
       " 'tv': ['samsung', 'lg', 'sony'],\n",
       " 'fridge': ['fridgedaire', 'lg']}"
      ]
     },
     "execution_count": 15,
     "metadata": {},
     "output_type": "execute_result"
    }
   ],
   "source": [
    "categories_brands"
   ]
  },
  {
   "cell_type": "markdown",
   "id": "0319b582",
   "metadata": {},
   "source": [
    "### Replace the value"
   ]
  },
  {
   "cell_type": "code",
   "execution_count": 22,
   "id": "8e88b2fc",
   "metadata": {},
   "outputs": [],
   "source": [
    "categories_brands['internal_dict'] = ['sonos']"
   ]
  },
  {
   "cell_type": "code",
   "execution_count": 23,
   "id": "5fa85115",
   "metadata": {},
   "outputs": [
    {
     "data": {
      "text/plain": [
       "['sonos']"
      ]
     },
     "execution_count": 23,
     "metadata": {},
     "output_type": "execute_result"
    }
   ],
   "source": [
    "categories_brands['internal_dict']"
   ]
  },
  {
   "cell_type": "markdown",
   "id": "286416c7",
   "metadata": {},
   "source": [
    "### Common methods"
   ]
  },
  {
   "cell_type": "code",
   "execution_count": 17,
   "id": "1ba03e21",
   "metadata": {},
   "outputs": [
    {
     "data": {
      "text/plain": [
       "dict_keys(['phone', 'internal_dict', 'tv', 'fridge'])"
      ]
     },
     "execution_count": 17,
     "metadata": {},
     "output_type": "execute_result"
    }
   ],
   "source": [
    "categories_brands.keys()"
   ]
  },
  {
   "cell_type": "code",
   "execution_count": 18,
   "id": "a531f735",
   "metadata": {},
   "outputs": [
    {
     "data": {
      "text/plain": [
       "dict_values([['samsung', 'apple', 'huwaie'], {'inside_key': 'brand'}, ['samsung', 'lg', 'sony'], ['fridgedaire', 'lg']])"
      ]
     },
     "execution_count": 18,
     "metadata": {},
     "output_type": "execute_result"
    }
   ],
   "source": [
    "categories_brands.values()"
   ]
  },
  {
   "cell_type": "code",
   "execution_count": 19,
   "id": "5f7f50f1",
   "metadata": {},
   "outputs": [
    {
     "data": {
      "text/plain": [
       "dict_items([('phone', ['samsung', 'apple', 'huwaie']), ('internal_dict', {'inside_key': 'brand'}), ('tv', ['samsung', 'lg', 'sony']), ('fridge', ['fridgedaire', 'lg'])])"
      ]
     },
     "execution_count": 19,
     "metadata": {},
     "output_type": "execute_result"
    }
   ],
   "source": [
    "categories_brands.items()"
   ]
  },
  {
   "cell_type": "markdown",
   "id": "af83acc2",
   "metadata": {},
   "source": [
    "## Tuples"
   ]
  },
  {
   "cell_type": "markdown",
   "id": "e3eb1cbf",
   "metadata": {},
   "source": [
    "* Similar to a list but are IMMUTABLE"
   ]
  },
  {
   "cell_type": "code",
   "execution_count": 31,
   "id": "30d45b23",
   "metadata": {},
   "outputs": [],
   "source": [
    "t = (1,'two',3)"
   ]
  },
  {
   "cell_type": "code",
   "execution_count": 26,
   "id": "d0915d1c",
   "metadata": {},
   "outputs": [],
   "source": [
    "l = [1,23,32]"
   ]
  },
  {
   "cell_type": "code",
   "execution_count": 27,
   "id": "55613ba3",
   "metadata": {},
   "outputs": [
    {
     "data": {
      "text/plain": [
       "tuple"
      ]
     },
     "execution_count": 27,
     "metadata": {},
     "output_type": "execute_result"
    }
   ],
   "source": [
    "type(t)"
   ]
  },
  {
   "cell_type": "code",
   "execution_count": 28,
   "id": "8bd04af3",
   "metadata": {},
   "outputs": [
    {
     "data": {
      "text/plain": [
       "list"
      ]
     },
     "execution_count": 28,
     "metadata": {},
     "output_type": "execute_result"
    }
   ],
   "source": [
    "type(l)"
   ]
  },
  {
   "cell_type": "code",
   "execution_count": 29,
   "id": "c446854b",
   "metadata": {},
   "outputs": [
    {
     "data": {
      "text/plain": [
       "3"
      ]
     },
     "execution_count": 29,
     "metadata": {},
     "output_type": "execute_result"
    }
   ],
   "source": [
    "len(t)"
   ]
  },
  {
   "cell_type": "code",
   "execution_count": 30,
   "id": "215c3118",
   "metadata": {},
   "outputs": [
    {
     "data": {
      "text/plain": [
       "3"
      ]
     },
     "execution_count": 30,
     "metadata": {},
     "output_type": "execute_result"
    }
   ],
   "source": [
    "len(l)"
   ]
  },
  {
   "cell_type": "code",
   "execution_count": 32,
   "id": "2db14c25",
   "metadata": {},
   "outputs": [
    {
     "data": {
      "text/plain": [
       "3"
      ]
     },
     "execution_count": 32,
     "metadata": {},
     "output_type": "execute_result"
    }
   ],
   "source": [
    "t[-1]"
   ]
  },
  {
   "cell_type": "code",
   "execution_count": 33,
   "id": "699abbef",
   "metadata": {},
   "outputs": [],
   "source": [
    "t = ('a', 'a', 'b')"
   ]
  },
  {
   "cell_type": "code",
   "execution_count": 34,
   "id": "4a842f4b",
   "metadata": {},
   "outputs": [
    {
     "data": {
      "text/plain": [
       "2"
      ]
     },
     "execution_count": 34,
     "metadata": {},
     "output_type": "execute_result"
    }
   ],
   "source": [
    "t.count('a')"
   ]
  },
  {
   "cell_type": "code",
   "execution_count": 36,
   "id": "95ec4efd",
   "metadata": {},
   "outputs": [
    {
     "data": {
      "text/plain": [
       "0"
      ]
     },
     "execution_count": 36,
     "metadata": {},
     "output_type": "execute_result"
    }
   ],
   "source": [
    "t.index('a') # returns first index of value it is looking for"
   ]
  },
  {
   "cell_type": "code",
   "execution_count": 37,
   "id": "90223c3b",
   "metadata": {},
   "outputs": [],
   "source": [
    "l[0] = 'new'"
   ]
  },
  {
   "cell_type": "code",
   "execution_count": 38,
   "id": "2b254dc8",
   "metadata": {},
   "outputs": [
    {
     "data": {
      "text/plain": [
       "['new', 23, 32]"
      ]
     },
     "execution_count": 38,
     "metadata": {},
     "output_type": "execute_result"
    }
   ],
   "source": [
    "l"
   ]
  },
  {
   "cell_type": "code",
   "execution_count": 39,
   "id": "ccfde51e",
   "metadata": {},
   "outputs": [
    {
     "ename": "TypeError",
     "evalue": "'tuple' object does not support item assignment",
     "output_type": "error",
     "traceback": [
      "\u001b[1;31m---------------------------------------------------------------------------\u001b[0m",
      "\u001b[1;31mTypeError\u001b[0m                                 Traceback (most recent call last)",
      "\u001b[1;32m<ipython-input-39-f469ab99125e>\u001b[0m in \u001b[0;36m<module>\u001b[1;34m\u001b[0m\n\u001b[1;32m----> 1\u001b[1;33m \u001b[0mt\u001b[0m\u001b[1;33m[\u001b[0m\u001b[1;36m0\u001b[0m\u001b[1;33m]\u001b[0m \u001b[1;33m=\u001b[0m \u001b[1;34m'new'\u001b[0m\u001b[1;33m\u001b[0m\u001b[1;33m\u001b[0m\u001b[0m\n\u001b[0m",
      "\u001b[1;31mTypeError\u001b[0m: 'tuple' object does not support item assignment"
     ]
    }
   ],
   "source": [
    "t[0] = 'new'"
   ]
  },
  {
   "cell_type": "markdown",
   "id": "619fe8bd",
   "metadata": {},
   "source": [
    "## Sets"
   ]
  },
  {
   "cell_type": "markdown",
   "id": "75214b5b",
   "metadata": {},
   "source": [
    "* unordered collections of unique elements"
   ]
  },
  {
   "cell_type": "code",
   "execution_count": 40,
   "id": "737ac180",
   "metadata": {},
   "outputs": [],
   "source": [
    "s = set()"
   ]
  },
  {
   "cell_type": "code",
   "execution_count": 41,
   "id": "b01e1eb9",
   "metadata": {},
   "outputs": [],
   "source": [
    "s.add('item1')"
   ]
  },
  {
   "cell_type": "code",
   "execution_count": 42,
   "id": "54acaa17",
   "metadata": {},
   "outputs": [
    {
     "data": {
      "text/plain": [
       "{'item1'}"
      ]
     },
     "execution_count": 42,
     "metadata": {},
     "output_type": "execute_result"
    }
   ],
   "source": [
    "s"
   ]
  },
  {
   "cell_type": "code",
   "execution_count": 43,
   "id": "143acc9c",
   "metadata": {},
   "outputs": [],
   "source": [
    "s.add('item2')"
   ]
  },
  {
   "cell_type": "code",
   "execution_count": 44,
   "id": "09aca003",
   "metadata": {},
   "outputs": [
    {
     "data": {
      "text/plain": [
       "{'item1', 'item2'}"
      ]
     },
     "execution_count": 44,
     "metadata": {},
     "output_type": "execute_result"
    }
   ],
   "source": [
    "s"
   ]
  },
  {
   "cell_type": "code",
   "execution_count": 45,
   "id": "d704222c",
   "metadata": {},
   "outputs": [],
   "source": [
    "s.add('item1')"
   ]
  },
  {
   "cell_type": "code",
   "execution_count": 46,
   "id": "0d12caf3",
   "metadata": {},
   "outputs": [
    {
     "data": {
      "text/plain": [
       "{'item1', 'item2'}"
      ]
     },
     "execution_count": 46,
     "metadata": {},
     "output_type": "execute_result"
    }
   ],
   "source": [
    "s"
   ]
  },
  {
   "cell_type": "markdown",
   "id": "e9d35c68",
   "metadata": {},
   "source": [
    "* you can only add unique values to a set\n",
    "* usecase: cast a list to a set to filter on unique values"
   ]
  },
  {
   "cell_type": "code",
   "execution_count": 47,
   "id": "5356e1bc",
   "metadata": {},
   "outputs": [],
   "source": [
    "l = [1,1,1,2,2,3,3,3,3,3]"
   ]
  },
  {
   "cell_type": "code",
   "execution_count": 49,
   "id": "76bd353b",
   "metadata": {},
   "outputs": [
    {
     "data": {
      "text/plain": [
       "{1, 2, 3}"
      ]
     },
     "execution_count": 49,
     "metadata": {},
     "output_type": "execute_result"
    }
   ],
   "source": [
    "set(l)"
   ]
  },
  {
   "cell_type": "markdown",
   "id": "07f85506",
   "metadata": {},
   "source": [
    "## Booleans"
   ]
  },
  {
   "cell_type": "code",
   "execution_count": 50,
   "id": "d6eb6c34",
   "metadata": {},
   "outputs": [
    {
     "data": {
      "text/plain": [
       "bool"
      ]
     },
     "execution_count": 50,
     "metadata": {},
     "output_type": "execute_result"
    }
   ],
   "source": [
    "type(True)"
   ]
  },
  {
   "cell_type": "code",
   "execution_count": 51,
   "id": "56e5d7f0",
   "metadata": {},
   "outputs": [
    {
     "data": {
      "text/plain": [
       "False"
      ]
     },
     "execution_count": 51,
     "metadata": {},
     "output_type": "execute_result"
    }
   ],
   "source": [
    "1>2"
   ]
  },
  {
   "cell_type": "code",
   "execution_count": 55,
   "id": "68f1e061",
   "metadata": {},
   "outputs": [],
   "source": [
    "b = None # to prevent undefined errors by using None keyword"
   ]
  },
  {
   "cell_type": "code",
   "execution_count": 56,
   "id": "7a1b6e01",
   "metadata": {
    "scrolled": true
   },
   "outputs": [
    {
     "data": {
      "text/plain": [
       "NoneType"
      ]
     },
     "execution_count": 56,
     "metadata": {},
     "output_type": "execute_result"
    }
   ],
   "source": [
    "type(b)"
   ]
  },
  {
   "cell_type": "markdown",
   "id": "d64465e4",
   "metadata": {},
   "source": [
    "## File I/O"
   ]
  },
  {
   "cell_type": "code",
   "execution_count": 59,
   "id": "16382239",
   "metadata": {},
   "outputs": [
    {
     "name": "stdout",
     "output_type": "stream",
     "text": [
      "Writing a.txt\n"
     ]
    }
   ],
   "source": [
    "%%writefile a.txt\n",
    "Hello, how are you\n",
    "doing today? I need\n",
    "a new keyboard."
   ]
  },
  {
   "cell_type": "code",
   "execution_count": 68,
   "id": "cd77f949",
   "metadata": {},
   "outputs": [],
   "source": [
    "myfile = open('a.txt')"
   ]
  },
  {
   "cell_type": "code",
   "execution_count": 69,
   "id": "5c1c3e55",
   "metadata": {},
   "outputs": [
    {
     "data": {
      "text/plain": [
       "'Hello, how are you\\ndoing today? I need\\na new keyboard.\\n'"
      ]
     },
     "execution_count": 69,
     "metadata": {},
     "output_type": "execute_result"
    }
   ],
   "source": [
    "myfile.read()"
   ]
  },
  {
   "cell_type": "code",
   "execution_count": 75,
   "id": "ef0b32bc",
   "metadata": {},
   "outputs": [
    {
     "data": {
      "text/plain": [
       "0"
      ]
     },
     "execution_count": 75,
     "metadata": {},
     "output_type": "execute_result"
    }
   ],
   "source": [
    "myfile.seek(0)"
   ]
  },
  {
   "cell_type": "code",
   "execution_count": 76,
   "id": "32972ff3",
   "metadata": {},
   "outputs": [],
   "source": [
    "l = myfile.readlines()"
   ]
  },
  {
   "cell_type": "code",
   "execution_count": 77,
   "id": "720fad6b",
   "metadata": {},
   "outputs": [
    {
     "data": {
      "text/plain": [
       "'doing today? I need\\n'"
      ]
     },
     "execution_count": 77,
     "metadata": {},
     "output_type": "execute_result"
    }
   ],
   "source": [
    "l[1]"
   ]
  },
  {
   "cell_type": "code",
   "execution_count": 78,
   "id": "0923c234",
   "metadata": {},
   "outputs": [],
   "source": [
    "myfile.close()"
   ]
  },
  {
   "cell_type": "code",
   "execution_count": 82,
   "id": "45959fb7",
   "metadata": {},
   "outputs": [],
   "source": [
    "with open('a.txt') as newFile:\n",
    "    contents = newFile.read()\n",
    "    # automatically opens and closes a file, able to obtain contents"
   ]
  },
  {
   "cell_type": "code",
   "execution_count": 81,
   "id": "2e213417",
   "metadata": {},
   "outputs": [
    {
     "data": {
      "text/plain": [
       "'Hello, how are you\\ndoing today? I need\\na new keyboard.\\n'"
      ]
     },
     "execution_count": 81,
     "metadata": {},
     "output_type": "execute_result"
    }
   ],
   "source": [
    "contents"
   ]
  },
  {
   "cell_type": "code",
   "execution_count": 84,
   "id": "63269be0",
   "metadata": {},
   "outputs": [
    {
     "name": "stdout",
     "output_type": "stream",
     "text": [
      "Hello, how are you\n",
      "doing today? I need\n",
      "a new keyboard.\n",
      "\n"
     ]
    }
   ],
   "source": [
    "#modes: r,w,a,r+ = r+w,w+ = w+r\n",
    "with open('a.txt', 'r') as f: \n",
    "    print(f.read())"
   ]
  },
  {
   "cell_type": "code",
   "execution_count": 85,
   "id": "cc465722",
   "metadata": {},
   "outputs": [],
   "source": [
    "with open('a.txt', 'a') as f:\n",
    "    f.write('This is a new line')"
   ]
  },
  {
   "cell_type": "code",
   "execution_count": 86,
   "id": "e3c028d4",
   "metadata": {},
   "outputs": [
    {
     "name": "stdout",
     "output_type": "stream",
     "text": [
      "Hello, how are you\n",
      "doing today? I need\n",
      "a new keyboard.\n",
      "This is a new line\n"
     ]
    }
   ],
   "source": [
    "with open('a.txt', 'r') as f: \n",
    "    print(f.read())"
   ]
  },
  {
   "cell_type": "code",
   "execution_count": 88,
   "id": "1198931d",
   "metadata": {},
   "outputs": [
    {
     "name": "stdout",
     "output_type": "stream",
     "text": [
      "20\n"
     ]
    }
   ],
   "source": [
    "with open('b.txt', 'w') as f: \n",
    "    print(f.write('Here is a new file.\\n'))"
   ]
  },
  {
   "cell_type": "code",
   "execution_count": 90,
   "id": "47997e8e",
   "metadata": {},
   "outputs": [
    {
     "name": "stdout",
     "output_type": "stream",
     "text": [
      "HERE IS A NEW FILE.\n",
      "\n"
     ]
    }
   ],
   "source": [
    "with open('b.txt', 'r') as f: \n",
    "    print(f.read().upper())"
   ]
  },
  {
   "cell_type": "markdown",
   "id": "41c737f3",
   "metadata": {},
   "source": [
    "## Comparison Operators"
   ]
  },
  {
   "cell_type": "code",
   "execution_count": 96,
   "id": "ae655c0f",
   "metadata": {},
   "outputs": [
    {
     "data": {
      "text/plain": [
       "True"
      ]
     },
     "execution_count": 96,
     "metadata": {},
     "output_type": "execute_result"
    }
   ],
   "source": [
    "2.0 == 2"
   ]
  },
  {
   "cell_type": "code",
   "execution_count": 95,
   "id": "1984d961",
   "metadata": {},
   "outputs": [
    {
     "data": {
      "text/plain": [
       "False"
      ]
     },
     "execution_count": 95,
     "metadata": {},
     "output_type": "execute_result"
    }
   ],
   "source": [
    "'What' == 'what'"
   ]
  },
  {
   "cell_type": "code",
   "execution_count": 97,
   "id": "28817c34",
   "metadata": {},
   "outputs": [
    {
     "data": {
      "text/plain": [
       "True"
      ]
     },
     "execution_count": 97,
     "metadata": {},
     "output_type": "execute_result"
    }
   ],
   "source": [
    "'What' != 'what'"
   ]
  },
  {
   "cell_type": "code",
   "execution_count": 100,
   "id": "1c7a0603",
   "metadata": {},
   "outputs": [
    {
     "data": {
      "text/plain": [
       "False"
      ]
     },
     "execution_count": 100,
     "metadata": {},
     "output_type": "execute_result"
    }
   ],
   "source": [
    "#chaining comparisons 'and' 'or' 'not'\n",
    "1<2 and 4<3"
   ]
  },
  {
   "cell_type": "code",
   "execution_count": 105,
   "id": "cdbfd338",
   "metadata": {},
   "outputs": [
    {
     "data": {
      "text/plain": [
       "True"
      ]
     },
     "execution_count": 105,
     "metadata": {},
     "output_type": "execute_result"
    }
   ],
   "source": [
    "1<2 and 4>3"
   ]
  },
  {
   "cell_type": "code",
   "execution_count": 103,
   "id": "d4e92334",
   "metadata": {},
   "outputs": [
    {
     "data": {
      "text/plain": [
       "False"
      ]
     },
     "execution_count": 103,
     "metadata": {},
     "output_type": "execute_result"
    }
   ],
   "source": [
    "not 1<2"
   ]
  },
  {
   "cell_type": "code",
   "execution_count": 122,
   "id": "139dce49",
   "metadata": {},
   "outputs": [
    {
     "data": {
      "text/plain": [
       "True"
      ]
     },
     "execution_count": 122,
     "metadata": {},
     "output_type": "execute_result"
    }
   ],
   "source": [
    "expectedScan = 'Accessibility Scan'\n",
    "actualScan = 'Accessibility Scan'\n",
    "pageCount = 5\n",
    "#expectedScan == actualScan\n",
    "#pageCount == 10\n",
    "expectedScan == actualScan or pageCount == 5"
   ]
  },
  {
   "cell_type": "markdown",
   "id": "039e65ae",
   "metadata": {},
   "source": [
    "## If Else Statements"
   ]
  },
  {
   "cell_type": "code",
   "execution_count": 130,
   "id": "a5eb9aad",
   "metadata": {},
   "outputs": [
    {
     "name": "stdout",
     "output_type": "stream",
     "text": [
      "Boo\n"
     ]
    }
   ],
   "source": [
    "condition = 0\n",
    "if condition == True:\n",
    "    print('Wow')\n",
    "elif condition == False:\n",
    "    print('Boo')\n",
    "else:\n",
    "    print('Woo')"
   ]
  },
  {
   "cell_type": "code",
   "execution_count": 129,
   "id": "dc7563fe",
   "metadata": {},
   "outputs": [
    {
     "name": "stdout",
     "output_type": "stream",
     "text": [
      "Workout\n"
     ]
    }
   ],
   "source": [
    "loc = 'Gym'\n",
    "if loc == 'Autoshop':\n",
    "    print('Cars')\n",
    "elif loc == 'Gym':\n",
    "    print('Workout')\n",
    "else: \n",
    "    print('Null')"
   ]
  },
  {
   "cell_type": "markdown",
   "id": "8863f313",
   "metadata": {},
   "source": [
    "## Loops"
   ]
  },
  {
   "cell_type": "code",
   "execution_count": 135,
   "id": "760d7697",
   "metadata": {},
   "outputs": [
    {
     "name": "stdout",
     "output_type": "stream",
     "text": [
      "1\n",
      "23\n",
      "45\n",
      "666\n"
     ]
    }
   ],
   "source": [
    "l = [1,23,45,666]\n",
    "for num in l:\n",
    "    print(num)"
   ]
  },
  {
   "cell_type": "code",
   "execution_count": 133,
   "id": "9541e1ba",
   "metadata": {},
   "outputs": [
    {
     "name": "stdout",
     "output_type": "stream",
     "text": [
      "key\n",
      "j\n"
     ]
    }
   ],
   "source": [
    "dic = {'key':'value', 'j':'b'}\n",
    "for key in dic:\n",
    "    print(key)"
   ]
  },
  {
   "cell_type": "code",
   "execution_count": 144,
   "id": "7bd0490e",
   "metadata": {},
   "outputs": [
    {
     "name": "stdout",
     "output_type": "stream",
     "text": [
      "NonEvenNum: 1\n",
      "[2, 'b']\n",
      "NonEvenNum: 3\n"
     ]
    }
   ],
   "source": [
    "t = ([1,'a'], [2,'b'], [3,'c'])\n",
    "for arr in t:\n",
    "    if(arr[0]%2 == 0):\n",
    "        print(arr)\n",
    "    else:\n",
    "        print(f'NonEvenNum: {arr[0]}')"
   ]
  },
  {
   "cell_type": "code",
   "execution_count": 149,
   "id": "d5179c95",
   "metadata": {},
   "outputs": [
    {
     "name": "stdout",
     "output_type": "stream",
     "text": [
      "1 and 2\n",
      "3 and 4\n",
      "5 and 6\n",
      "7 and 8\n"
     ]
    }
   ],
   "source": [
    "l = [(1,2),(3,4),(5,6),(7,8)] #tuple unpacking\n",
    "for a,b in l:\n",
    "    print(f'{a} and {b}')"
   ]
  },
  {
   "cell_type": "code",
   "execution_count": 150,
   "id": "be26e3e3",
   "metadata": {},
   "outputs": [
    {
     "name": "stdout",
     "output_type": "stream",
     "text": [
      "This person: John Smith lives in Collin, Texas\n",
      "This person: Jacob Rube lives in Kaufman, Texas\n",
      "This person: Anderson Jackson lives in Dallas, Texas\n"
     ]
    }
   ],
   "source": [
    "info = [('John','Smith','Texas','Collin',),('Jacob','Rube','Texas','Kaufman'),('Anderson','Jackson','Texas','Dallas')]\n",
    "for fn,ln,state,county in info:\n",
    "    print(f'This person: {fn} {ln} lives in {county}, {state}')"
   ]
  },
  {
   "cell_type": "code",
   "execution_count": 151,
   "id": "7826a7f7",
   "metadata": {},
   "outputs": [
    {
     "name": "stdout",
     "output_type": "stream",
     "text": [
      "key\n",
      "j\n",
      "las\n"
     ]
    }
   ],
   "source": [
    "dic = {'key':'value', 'j':'b', 'las':'but'} #only iterates through the keys\n",
    "for i in dic:\n",
    "    print(i)"
   ]
  },
  {
   "cell_type": "code",
   "execution_count": 154,
   "id": "0013b387",
   "metadata": {},
   "outputs": [
    {
     "name": "stdout",
     "output_type": "stream",
     "text": [
      "value\n",
      "b\n",
      "but\n"
     ]
    }
   ],
   "source": [
    "dic = {'key':'value', 'j':'b', 'las':'but'} #use tuple unpacking in conjuction with .items()\n",
    "for k,v in dic.items():\n",
    "    print(v)"
   ]
  },
  {
   "cell_type": "markdown",
   "id": "d76811f6",
   "metadata": {},
   "source": [
    "## While Loops"
   ]
  },
  {
   "cell_type": "code",
   "execution_count": 158,
   "id": "00b0aded",
   "metadata": {},
   "outputs": [
    {
     "name": "stdout",
     "output_type": "stream",
     "text": [
      "num: 1\n",
      "num: 2\n",
      "num: 3\n",
      "num: 4\n",
      "num: 5\n",
      "num: 6\n",
      "num: 7\n",
      "num: 8\n",
      "num: 9\n",
      "num: 10\n",
      "done!\n"
     ]
    }
   ],
   "source": [
    "condition = True\n",
    "num = 0\n",
    "while num < 10:\n",
    "    num += 1\n",
    "    print(f'num: {num}')\n",
    "else:\n",
    "    print(f'done!')"
   ]
  },
  {
   "cell_type": "code",
   "execution_count": 170,
   "id": "a5a39f3a",
   "metadata": {},
   "outputs": [
    {
     "name": "stdout",
     "output_type": "stream",
     "text": [
      "1\n",
      "3\n"
     ]
    }
   ],
   "source": [
    "#break, continue, pass\n",
    "x = [1,2,3]\n",
    "num = None\n",
    "for i in x:\n",
    "    if(i == 2):\n",
    "        continue # | break | pass\n",
    "    print(i)"
   ]
  },
  {
   "cell_type": "markdown",
   "id": "1e3a6f94",
   "metadata": {},
   "source": [
    "## Useful Operators"
   ]
  },
  {
   "cell_type": "code",
   "execution_count": 177,
   "id": "450fecdb",
   "metadata": {},
   "outputs": [
    {
     "name": "stdout",
     "output_type": "stream",
     "text": [
      "0\n",
      "2\n",
      "4\n",
      "6\n",
      "8\n"
     ]
    }
   ],
   "source": [
    "l = [1,2,3]\n",
    "for num in range(0,10,2):\n",
    "    print(num)"
   ]
  },
  {
   "cell_type": "code",
   "execution_count": 178,
   "id": "82d7a02b",
   "metadata": {},
   "outputs": [
    {
     "name": "stdout",
     "output_type": "stream",
     "text": [
      "[0, 1, 2, 3, 4, 5, 6, 7, 8, 9]\n"
     ]
    }
   ],
   "source": [
    "l = list(range(0,10)) #generator\n",
    "print(l)"
   ]
  },
  {
   "cell_type": "code",
   "execution_count": 179,
   "id": "d04fc422",
   "metadata": {},
   "outputs": [
    {
     "name": "stdout",
     "output_type": "stream",
     "text": [
      "At index 0 the letter is a\n",
      "At index 1 the letter is b\n",
      "At index 2 the letter is c\n",
      "At index 3 the letter is d\n",
      "At index 4 the letter is e\n"
     ]
    }
   ],
   "source": [
    "index = 0\n",
    "for letter in 'abcde':\n",
    "    print(f'At index {index} the letter is {letter}')\n",
    "    index += 1"
   ]
  },
  {
   "cell_type": "code",
   "execution_count": 184,
   "id": "915d0660",
   "metadata": {},
   "outputs": [
    {
     "name": "stdout",
     "output_type": "stream",
     "text": [
      "0 and a\n",
      "1 and b\n",
      "2 and c\n",
      "3 and d\n",
      "4 and e\n"
     ]
    }
   ],
   "source": [
    "#to replicate 179 with enumerate\n",
    "word = 'abcde'\n",
    "for index,letter in enumerate(word):\n",
    "    print(f'{index} and {letter}')"
   ]
  },
  {
   "cell_type": "code",
   "execution_count": 187,
   "id": "e9e6d128",
   "metadata": {},
   "outputs": [
    {
     "name": "stdout",
     "output_type": "stream",
     "text": [
      "(1, 11)\n",
      "(2, 22)\n",
      "(3, 33)\n"
     ]
    }
   ],
   "source": [
    "list1 = [1,2,3,4,5]\n",
    "list2 = [11,22,33]\n",
    "for item in zip(list1, list2): #zip operator 'zips' together multiple lists into tuples per index\n",
    "    print(item)"
   ]
  },
  {
   "cell_type": "code",
   "execution_count": 190,
   "id": "b482980b",
   "metadata": {},
   "outputs": [
    {
     "data": {
      "text/plain": [
       "False"
      ]
     },
     "execution_count": 190,
     "metadata": {},
     "output_type": "execute_result"
    }
   ],
   "source": [
    "'x' in ['a','b','C'] # in keyword to automatically perform check"
   ]
  },
  {
   "cell_type": "code",
   "execution_count": 194,
   "id": "5146dd33",
   "metadata": {},
   "outputs": [
    {
     "data": {
      "text/plain": [
       "True"
      ]
     },
     "execution_count": 194,
     "metadata": {},
     "output_type": "execute_result"
    }
   ],
   "source": [
    "dic = {'key':'a', 'mykey':'b'}\n",
    "#'a' in dic.values()\n",
    "'key' in dic.keys()"
   ]
  },
  {
   "cell_type": "code",
   "execution_count": 196,
   "id": "6d15af38",
   "metadata": {},
   "outputs": [
    {
     "data": {
      "text/plain": [
       "3"
      ]
     },
     "execution_count": 196,
     "metadata": {},
     "output_type": "execute_result"
    }
   ],
   "source": [
    "l = [1,2,3]\n",
    "#min(l)\n",
    "max(l)"
   ]
  },
  {
   "cell_type": "code",
   "execution_count": 197,
   "id": "51f4cfbe",
   "metadata": {},
   "outputs": [],
   "source": [
    "from random import shuffle"
   ]
  },
  {
   "cell_type": "code",
   "execution_count": 198,
   "id": "dae0e6f5",
   "metadata": {},
   "outputs": [
    {
     "data": {
      "text/plain": [
       "[10, 8, 6, 4, 7, 1, 2, 3, 5, 9]"
      ]
     },
     "execution_count": 198,
     "metadata": {},
     "output_type": "execute_result"
    }
   ],
   "source": [
    "l = [1,2,3,4,5,6,7,8,9,10]\n",
    "shuffle(l)\n",
    "l"
   ]
  },
  {
   "cell_type": "code",
   "execution_count": 199,
   "id": "d56aa10c",
   "metadata": {},
   "outputs": [],
   "source": [
    "from random import randint"
   ]
  },
  {
   "cell_type": "code",
   "execution_count": 203,
   "id": "490320ad",
   "metadata": {},
   "outputs": [
    {
     "name": "stdout",
     "output_type": "stream",
     "text": [
      "13\n"
     ]
    }
   ],
   "source": [
    "num = randint(0,55)\n",
    "print(num)"
   ]
  },
  {
   "cell_type": "code",
   "execution_count": 211,
   "id": "91dee91c",
   "metadata": {},
   "outputs": [
    {
     "name": "stdout",
     "output_type": "stream",
     "text": [
      "Enter something: yada\n"
     ]
    }
   ],
   "source": [
    "user_input = input('Enter something: ')"
   ]
  },
  {
   "cell_type": "markdown",
   "id": "fa8c58c0",
   "metadata": {},
   "source": [
    "# List Comprehensions"
   ]
  },
  {
   "cell_type": "markdown",
   "id": "87283ba8",
   "metadata": {},
   "source": [
    "* use when you are repeatedly appending\n",
    "* flattens out for loops"
   ]
  },
  {
   "cell_type": "code",
   "execution_count": 219,
   "id": "05d627ca",
   "metadata": {},
   "outputs": [
    {
     "data": {
      "text/plain": [
       "['a', 'b', 'c', 'd', 'e']"
      ]
     },
     "execution_count": 219,
     "metadata": {},
     "output_type": "execute_result"
    }
   ],
   "source": [
    "l = [letter for letter in 'abcde'] #element for element in iterable_object\n",
    "l"
   ]
  },
  {
   "cell_type": "code",
   "execution_count": 222,
   "id": "e81d3e4e",
   "metadata": {},
   "outputs": [
    {
     "data": {
      "text/plain": [
       "[0, 9, 36, 81]"
      ]
     },
     "execution_count": 222,
     "metadata": {},
     "output_type": "execute_result"
    }
   ],
   "source": [
    "i = [num**2 for num in range(0,11,3)] #can perform operations on the comprehended element\n",
    "i"
   ]
  },
  {
   "cell_type": "code",
   "execution_count": 226,
   "id": "821c15f4",
   "metadata": {},
   "outputs": [
    {
     "data": {
      "text/plain": [
       "[0, 4, 8, 12]"
      ]
     },
     "execution_count": 226,
     "metadata": {},
     "output_type": "execute_result"
    }
   ],
   "source": [
    "i = [num for num in range(0,13) if num%4==0] #\n",
    "i"
   ]
  },
  {
   "cell_type": "code",
   "execution_count": 228,
   "id": "a1bac3a9",
   "metadata": {},
   "outputs": [
    {
     "data": {
      "text/plain": [
       "[0, 'ODD', 2, 'ODD', 4, 'ODD', 6, 'ODD', 8, 'ODD', 10]"
      ]
     },
     "execution_count": 228,
     "metadata": {},
     "output_type": "execute_result"
    }
   ],
   "source": [
    "results = [x if x%2==0 else 'ODD' for x in range(0,11)] # order has switched to put condition in front of for loop\n",
    "results"
   ]
  },
  {
   "cell_type": "code",
   "execution_count": 231,
   "id": "bae66384",
   "metadata": {},
   "outputs": [
    {
     "data": {
      "text/plain": [
       "[5, 4, 3, 5, 4, 3, 5, 4, 3]"
      ]
     },
     "execution_count": 231,
     "metadata": {},
     "output_type": "execute_result"
    }
   ],
   "source": [
    "nested_result = [num+2 for num in [1,2,3] for num in [3,2,1]]\n",
    "nested_result"
   ]
  },
  {
   "cell_type": "markdown",
   "id": "829813a8",
   "metadata": {},
   "source": [
    "# Methods and Functions"
   ]
  },
  {
   "cell_type": "code",
   "execution_count": null,
   "id": "56266e9a",
   "metadata": {},
   "outputs": [],
   "source": []
  }
 ],
 "metadata": {
  "kernelspec": {
   "display_name": "Python 3",
   "language": "python",
   "name": "python3"
  },
  "language_info": {
   "codemirror_mode": {
    "name": "ipython",
    "version": 3
   },
   "file_extension": ".py",
   "mimetype": "text/x-python",
   "name": "python",
   "nbconvert_exporter": "python",
   "pygments_lexer": "ipython3",
   "version": "3.8.2"
  }
 },
 "nbformat": 4,
 "nbformat_minor": 5
}
