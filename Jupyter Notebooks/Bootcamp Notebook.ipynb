{
 "cells": [
  {
   "cell_type": "markdown",
   "id": "cb783e7d",
   "metadata": {},
   "source": [
    "# Starting with Jupyter Notebooks\n",
    "* To start Jupyter Notebook, navigate to the correct directory and run 'Jupyter Notebook' in the terminal\n",
    "***"
   ]
  },
  {
   "cell_type": "code",
   "execution_count": 1,
   "id": "54302ff9",
   "metadata": {},
   "outputs": [
    {
     "name": "stdout",
     "output_type": "stream",
     "text": [
      "hello world\n"
     ]
    }
   ],
   "source": [
    "print('hello world')"
   ]
  },
  {
   "cell_type": "markdown",
   "id": "f0f74c2c",
   "metadata": {},
   "source": [
    "***\n",
    "## Numbers"
   ]
  },
  {
   "cell_type": "code",
   "execution_count": 1,
   "id": "c1f716eb",
   "metadata": {},
   "outputs": [
    {
     "data": {
      "text/plain": [
       "0.5"
      ]
     },
     "execution_count": 1,
     "metadata": {},
     "output_type": "execute_result"
    }
   ],
   "source": [
    "1/2"
   ]
  },
  {
   "cell_type": "markdown",
   "id": "527ac635",
   "metadata": {},
   "source": [
    "### Variable Assignments"
   ]
  },
  {
   "cell_type": "code",
   "execution_count": 4,
   "id": "f682a591",
   "metadata": {},
   "outputs": [
    {
     "data": {
      "text/plain": [
       "10"
      ]
     },
     "execution_count": 4,
     "metadata": {},
     "output_type": "execute_result"
    }
   ],
   "source": [
    "my_free_time = 5\n",
    "my_free_time*2"
   ]
  },
  {
   "cell_type": "code",
   "execution_count": 8,
   "id": "62bb5012",
   "metadata": {},
   "outputs": [
    {
     "data": {
      "text/plain": [
       "<function list.count(value, /)>"
      ]
     },
     "execution_count": 8,
     "metadata": {},
     "output_type": "execute_result"
    }
   ],
   "source": [
    "hobbies = ['markers', 'golf', 'games']\n",
    "hobbies.count"
   ]
  },
  {
   "cell_type": "code",
   "execution_count": 9,
   "id": "28e448bb",
   "metadata": {},
   "outputs": [],
   "source": [
    "a = 4"
   ]
  },
  {
   "cell_type": "code",
   "execution_count": 10,
   "id": "6fce1067",
   "metadata": {},
   "outputs": [
    {
     "data": {
      "text/plain": [
       "8"
      ]
     },
     "execution_count": 10,
     "metadata": {},
     "output_type": "execute_result"
    }
   ],
   "source": [
    "a + a"
   ]
  },
  {
   "cell_type": "code",
   "execution_count": 13,
   "id": "05e22c97",
   "metadata": {},
   "outputs": [],
   "source": [
    "a = a + a"
   ]
  },
  {
   "cell_type": "code",
   "execution_count": 15,
   "id": "35280c9e",
   "metadata": {},
   "outputs": [
    {
     "data": {
      "text/plain": [
       "16"
      ]
     },
     "execution_count": 15,
     "metadata": {},
     "output_type": "execute_result"
    }
   ],
   "source": [
    "a"
   ]
  },
  {
   "cell_type": "code",
   "execution_count": 16,
   "id": "9432e51c",
   "metadata": {},
   "outputs": [
    {
     "data": {
      "text/plain": [
       "int"
      ]
     },
     "execution_count": 16,
     "metadata": {},
     "output_type": "execute_result"
    }
   ],
   "source": [
    "type(a)"
   ]
  },
  {
   "cell_type": "code",
   "execution_count": 17,
   "id": "d7b7001b",
   "metadata": {},
   "outputs": [],
   "source": [
    "b = 4.4"
   ]
  },
  {
   "cell_type": "code",
   "execution_count": 18,
   "id": "82843ebb",
   "metadata": {},
   "outputs": [
    {
     "data": {
      "text/plain": [
       "float"
      ]
     },
     "execution_count": 18,
     "metadata": {},
     "output_type": "execute_result"
    }
   ],
   "source": [
    "type(b)"
   ]
  },
  {
   "cell_type": "code",
   "execution_count": 19,
   "id": "1a308c34",
   "metadata": {},
   "outputs": [],
   "source": [
    "c = a + b"
   ]
  },
  {
   "cell_type": "code",
   "execution_count": 20,
   "id": "cc0e50b9",
   "metadata": {},
   "outputs": [
    {
     "data": {
      "text/plain": [
       "20.4"
      ]
     },
     "execution_count": 20,
     "metadata": {},
     "output_type": "execute_result"
    }
   ],
   "source": [
    "c"
   ]
  },
  {
   "cell_type": "code",
   "execution_count": 21,
   "id": "e87dbdc7",
   "metadata": {},
   "outputs": [
    {
     "data": {
      "text/plain": [
       "float"
      ]
     },
     "execution_count": 21,
     "metadata": {},
     "output_type": "execute_result"
    }
   ],
   "source": [
    "type(c)"
   ]
  },
  {
   "cell_type": "markdown",
   "id": "c2abcfab",
   "metadata": {},
   "source": [
    "* adding an int to a float will generate a float"
   ]
  },
  {
   "cell_type": "code",
   "execution_count": 23,
   "id": "0f6ed9b5",
   "metadata": {},
   "outputs": [
    {
     "data": {
      "text/plain": [
       "12.0"
      ]
     },
     "execution_count": 23,
     "metadata": {},
     "output_type": "execute_result"
    }
   ],
   "source": [
    "my_var = 120 \n",
    "tax = 0.1\n",
    "m_taxes = my_var * tax\n",
    "m_taxes"
   ]
  },
  {
   "cell_type": "markdown",
   "id": "6c492782",
   "metadata": {},
   "source": [
    "## Strings"
   ]
  },
  {
   "cell_type": "markdown",
   "id": "c00feb16",
   "metadata": {},
   "source": [
    "Index and slicing key definitions. Strings are a character list in python. Can grab single character by using index. Can perform reverse indexing by using negative ints. Slicing has syntax [start:stop:step]. Step is size of jump you take. Start and stop are indices"
   ]
  },
  {
   "cell_type": "code",
   "execution_count": 24,
   "id": "4cbf8e9d",
   "metadata": {},
   "outputs": [
    {
     "data": {
      "text/plain": [
       "'howdy there partner'"
      ]
     },
     "execution_count": 24,
     "metadata": {},
     "output_type": "execute_result"
    }
   ],
   "source": [
    "'howdy there partner'"
   ]
  },
  {
   "cell_type": "code",
   "execution_count": 26,
   "id": "4a2e9653",
   "metadata": {},
   "outputs": [
    {
     "data": {
      "text/plain": [
       "\"Use ' escape characters which are the same in pythonOr use double quotes to prevent ' from ruining strings\""
      ]
     },
     "execution_count": 26,
     "metadata": {},
     "output_type": "execute_result"
    }
   ],
   "source": [
    "'Use \\' escape characters which are the same in python' \"Or use double quotes to prevent ' from ruining strings\""
   ]
  },
  {
   "cell_type": "code",
   "execution_count": 27,
   "id": "9349f378",
   "metadata": {},
   "outputs": [
    {
     "name": "stdout",
     "output_type": "stream",
     "text": [
      "first statement\n",
      "second statement\n"
     ]
    }
   ],
   "source": [
    "print('first statement')\n",
    "print('second statement')"
   ]
  },
  {
   "cell_type": "code",
   "execution_count": 29,
   "id": "f653dd1c",
   "metadata": {},
   "outputs": [
    {
     "name": "stdout",
     "output_type": "stream",
     "text": [
      "first line \n",
      "second line\n"
     ]
    }
   ],
   "source": [
    "print('first line \\nsecond line')"
   ]
  },
  {
   "cell_type": "code",
   "execution_count": 30,
   "id": "bab7e3cd",
   "metadata": {},
   "outputs": [
    {
     "data": {
      "text/plain": [
       "5"
      ]
     },
     "execution_count": 30,
     "metadata": {},
     "output_type": "execute_result"
    }
   ],
   "source": [
    "len('hello')"
   ]
  },
  {
   "cell_type": "code",
   "execution_count": 31,
   "id": "f34bed1a",
   "metadata": {},
   "outputs": [],
   "source": [
    "my_string = 'I am so fat right now'"
   ]
  },
  {
   "cell_type": "code",
   "execution_count": 32,
   "id": "d3d367eb",
   "metadata": {},
   "outputs": [
    {
     "data": {
      "text/plain": [
       "21"
      ]
     },
     "execution_count": 32,
     "metadata": {},
     "output_type": "execute_result"
    }
   ],
   "source": [
    "len(my_string)"
   ]
  },
  {
   "cell_type": "code",
   "execution_count": 33,
   "id": "03f5488e",
   "metadata": {},
   "outputs": [
    {
     "data": {
      "text/plain": [
       "'I am so fat right now'"
      ]
     },
     "execution_count": 33,
     "metadata": {},
     "output_type": "execute_result"
    }
   ],
   "source": [
    "my_string"
   ]
  },
  {
   "cell_type": "code",
   "execution_count": 34,
   "id": "8373ad81",
   "metadata": {},
   "outputs": [
    {
     "data": {
      "text/plain": [
       "'s'"
      ]
     },
     "execution_count": 34,
     "metadata": {},
     "output_type": "execute_result"
    }
   ],
   "source": [
    "my_string[5]"
   ]
  },
  {
   "cell_type": "code",
   "execution_count": 35,
   "id": "35f0fdf3",
   "metadata": {},
   "outputs": [
    {
     "data": {
      "text/plain": [
       "'I am '"
      ]
     },
     "execution_count": 35,
     "metadata": {},
     "output_type": "execute_result"
    }
   ],
   "source": [
    "my_string[0:5:1]"
   ]
  },
  {
   "cell_type": "code",
   "execution_count": 36,
   "id": "1f96b765",
   "metadata": {},
   "outputs": [
    {
     "data": {
      "text/plain": [
       "'Ia '"
      ]
     },
     "execution_count": 36,
     "metadata": {},
     "output_type": "execute_result"
    }
   ],
   "source": [
    "my_string[0:5:2]"
   ]
  },
  {
   "cell_type": "code",
   "execution_count": 37,
   "id": "29e62f51",
   "metadata": {},
   "outputs": [
    {
     "data": {
      "text/plain": [
       "'t'"
      ]
     },
     "execution_count": 37,
     "metadata": {},
     "output_type": "execute_result"
    }
   ],
   "source": [
    "my_string[-5]"
   ]
  },
  {
   "cell_type": "code",
   "execution_count": 38,
   "id": "f290f080",
   "metadata": {},
   "outputs": [],
   "source": [
    "my_string = 'IAmSoFatRightNow'"
   ]
  },
  {
   "cell_type": "code",
   "execution_count": 42,
   "id": "2ceeca77",
   "metadata": {},
   "outputs": [
    {
     "data": {
      "text/plain": [
       "'SoFatRightNow'"
      ]
     },
     "execution_count": 42,
     "metadata": {},
     "output_type": "execute_result"
    }
   ],
   "source": [
    "my_string[3:]"
   ]
  },
  {
   "cell_type": "code",
   "execution_count": 41,
   "id": "e80b1c53",
   "metadata": {},
   "outputs": [
    {
     "data": {
      "text/plain": [
       "'IAmSo'"
      ]
     },
     "execution_count": 41,
     "metadata": {},
     "output_type": "execute_result"
    }
   ],
   "source": [
    "my_string[:5]"
   ]
  },
  {
   "cell_type": "code",
   "execution_count": 44,
   "id": "dac7cc76",
   "metadata": {},
   "outputs": [
    {
     "data": {
      "text/plain": [
       "'SoFat'"
      ]
     },
     "execution_count": 44,
     "metadata": {},
     "output_type": "execute_result"
    }
   ],
   "source": [
    "my_string[3:8]"
   ]
  },
  {
   "cell_type": "code",
   "execution_count": 45,
   "id": "132bf406",
   "metadata": {},
   "outputs": [
    {
     "data": {
      "text/plain": [
       "'Iamsofatrightnow'"
      ]
     },
     "execution_count": 45,
     "metadata": {},
     "output_type": "execute_result"
    }
   ],
   "source": [
    "my_string.capitalize()"
   ]
  },
  {
   "cell_type": "code",
   "execution_count": 46,
   "id": "3b6b23f0",
   "metadata": {},
   "outputs": [
    {
     "data": {
      "text/plain": [
       "'ISaitw'"
      ]
     },
     "execution_count": 46,
     "metadata": {},
     "output_type": "execute_result"
    }
   ],
   "source": [
    "my_string[::3]"
   ]
  },
  {
   "cell_type": "code",
   "execution_count": 47,
   "id": "5ae16ce8",
   "metadata": {},
   "outputs": [
    {
     "data": {
      "text/plain": [
       "'woNthgiRtaFoSmAI'"
      ]
     },
     "execution_count": 47,
     "metadata": {},
     "output_type": "execute_result"
    }
   ],
   "source": [
    "my_string[::-1]"
   ]
  },
  {
   "cell_type": "code",
   "execution_count": 48,
   "id": "25733dbf",
   "metadata": {},
   "outputs": [],
   "source": [
    "name = 'Sam'"
   ]
  },
  {
   "cell_type": "code",
   "execution_count": 49,
   "id": "e4692caa",
   "metadata": {},
   "outputs": [
    {
     "ename": "TypeError",
     "evalue": "unsupported operand type(s) for +: 'int' and 'str'",
     "output_type": "error",
     "traceback": [
      "\u001b[1;31m---------------------------------------------------------------------------\u001b[0m",
      "\u001b[1;31mTypeError\u001b[0m                                 Traceback (most recent call last)",
      "\u001b[1;32m<ipython-input-49-8fd9dcfa4f42>\u001b[0m in \u001b[0;36m<module>\u001b[1;34m\u001b[0m\n\u001b[1;32m----> 1\u001b[1;33m \u001b[1;36m2\u001b[0m \u001b[1;33m+\u001b[0m \u001b[1;34m'3'\u001b[0m\u001b[1;33m\u001b[0m\u001b[1;33m\u001b[0m\u001b[0m\n\u001b[0m",
      "\u001b[1;31mTypeError\u001b[0m: unsupported operand type(s) for +: 'int' and 'str'"
     ]
    }
   ],
   "source": [
    "2 + '3'"
   ]
  },
  {
   "cell_type": "code",
   "execution_count": 50,
   "id": "e5218a95",
   "metadata": {},
   "outputs": [],
   "source": [
    "x = 'Howdy There'"
   ]
  },
  {
   "cell_type": "code",
   "execution_count": 51,
   "id": "6d770636",
   "metadata": {},
   "outputs": [
    {
     "data": {
      "text/plain": [
       "<function str.count>"
      ]
     },
     "execution_count": 51,
     "metadata": {},
     "output_type": "execute_result"
    }
   ],
   "source": [
    "x.count"
   ]
  },
  {
   "cell_type": "code",
   "execution_count": 52,
   "id": "1489099f",
   "metadata": {},
   "outputs": [
    {
     "ename": "TypeError",
     "evalue": "count() takes at least 1 argument (0 given)",
     "output_type": "error",
     "traceback": [
      "\u001b[1;31m---------------------------------------------------------------------------\u001b[0m",
      "\u001b[1;31mTypeError\u001b[0m                                 Traceback (most recent call last)",
      "\u001b[1;32m<ipython-input-52-22592ee537f4>\u001b[0m in \u001b[0;36m<module>\u001b[1;34m\u001b[0m\n\u001b[1;32m----> 1\u001b[1;33m \u001b[0mx\u001b[0m\u001b[1;33m.\u001b[0m\u001b[0mcount\u001b[0m\u001b[1;33m(\u001b[0m\u001b[1;33m)\u001b[0m\u001b[1;33m\u001b[0m\u001b[1;33m\u001b[0m\u001b[0m\n\u001b[0m",
      "\u001b[1;31mTypeError\u001b[0m: count() takes at least 1 argument (0 given)"
     ]
    }
   ],
   "source": [
    "x.count()"
   ]
  },
  {
   "cell_type": "code",
   "execution_count": 53,
   "id": "e92c92ad",
   "metadata": {},
   "outputs": [
    {
     "data": {
      "text/plain": [
       "'HOWDY THERE'"
      ]
     },
     "execution_count": 53,
     "metadata": {},
     "output_type": "execute_result"
    }
   ],
   "source": [
    "x.upper()"
   ]
  },
  {
   "cell_type": "code",
   "execution_count": 54,
   "id": "86884cd3",
   "metadata": {},
   "outputs": [
    {
     "data": {
      "text/plain": [
       "False"
      ]
     },
     "execution_count": 54,
     "metadata": {},
     "output_type": "execute_result"
    }
   ],
   "source": [
    "x.isdecimal()"
   ]
  },
  {
   "cell_type": "code",
   "execution_count": 55,
   "id": "0ae35009",
   "metadata": {},
   "outputs": [
    {
     "data": {
      "text/plain": [
       "False"
      ]
     },
     "execution_count": 55,
     "metadata": {},
     "output_type": "execute_result"
    }
   ],
   "source": [
    "x.isalpha()"
   ]
  },
  {
   "cell_type": "code",
   "execution_count": 56,
   "id": "a9061183",
   "metadata": {},
   "outputs": [
    {
     "data": {
      "text/plain": [
       "False"
      ]
     },
     "execution_count": 56,
     "metadata": {},
     "output_type": "execute_result"
    }
   ],
   "source": [
    "x.isalnum()"
   ]
  },
  {
   "cell_type": "code",
   "execution_count": 57,
   "id": "cc58fee7",
   "metadata": {},
   "outputs": [
    {
     "data": {
      "text/plain": [
       "True"
      ]
     },
     "execution_count": 57,
     "metadata": {},
     "output_type": "execute_result"
    }
   ],
   "source": [
    "x.isascii()"
   ]
  },
  {
   "cell_type": "code",
   "execution_count": 63,
   "id": "50b7c6f4",
   "metadata": {},
   "outputs": [
    {
     "data": {
      "text/plain": [
       "['Howdy T', 'ere']"
      ]
     },
     "execution_count": 63,
     "metadata": {},
     "output_type": "execute_result"
    }
   ],
   "source": [
    "x.split('h')"
   ]
  },
  {
   "cell_type": "code",
   "execution_count": 64,
   "id": "69ba671e",
   "metadata": {},
   "outputs": [
    {
     "name": "stdout",
     "output_type": "stream",
     "text": [
      "Howdy There\n"
     ]
    }
   ],
   "source": [
    "print(x)"
   ]
  },
  {
   "cell_type": "code",
   "execution_count": 65,
   "id": "fa367eea",
   "metadata": {},
   "outputs": [
    {
     "data": {
      "text/plain": [
       "'Hello Komrade. Welcome to Instance Communism'"
      ]
     },
     "execution_count": 65,
     "metadata": {},
     "output_type": "execute_result"
    }
   ],
   "source": [
    "'Hello {}. Welcome to Instance {}'.format('Komrade', 'Communism')"
   ]
  },
  {
   "cell_type": "code",
   "execution_count": 66,
   "id": "60d014f4",
   "metadata": {},
   "outputs": [
    {
     "data": {
      "text/plain": [
       "'So you can switch order or duplicate words wow words great'"
      ]
     },
     "execution_count": 66,
     "metadata": {},
     "output_type": "execute_result"
    }
   ],
   "source": [
    "'So you can switch order or duplicate {a} {b} {a} {c}'.format(a='words',b='wow',c='great',d='now')"
   ]
  },
  {
   "cell_type": "code",
   "execution_count": 68,
   "id": "a6caa11b",
   "metadata": {},
   "outputs": [
    {
     "data": {
      "text/plain": [
       "'Here is your information: Address: Texas, First Name: Joe, Last Name: Bartz'"
      ]
     },
     "execution_count": 68,
     "metadata": {},
     "output_type": "execute_result"
    }
   ],
   "source": [
    "'Here is your information: Address: {add}, First Name: {fn}, Last Name: {ln}'.format(add='Texas', fn='Joe', ln='Bartz')"
   ]
  },
  {
   "cell_type": "code",
   "execution_count": 70,
   "id": "8e12dd1d",
   "metadata": {},
   "outputs": [
    {
     "data": {
      "text/plain": [
       "'Formatting floating points 1.26'"
      ]
     },
     "execution_count": 70,
     "metadata": {},
     "output_type": "execute_result"
    }
   ],
   "source": [
    "'Formatting floating points {r:0.2f}'.format(r=1.25805)"
   ]
  },
  {
   "cell_type": "code",
   "execution_count": 72,
   "id": "ad55f44e",
   "metadata": {},
   "outputs": [
    {
     "name": "stdout",
     "output_type": "stream",
     "text": [
      "Hello, his name is Gerald\n"
     ]
    }
   ],
   "source": [
    "name = 'Gerald'\n",
    "print(f'Hello, his name is {name}')"
   ]
  },
  {
   "cell_type": "markdown",
   "id": "9e8200ae",
   "metadata": {},
   "source": [
    "## Lists"
   ]
  },
  {
   "cell_type": "code",
   "execution_count": 73,
   "id": "1420066e",
   "metadata": {},
   "outputs": [],
   "source": [
    "myList = ['hello', 32, 32.43]"
   ]
  },
  {
   "cell_type": "code",
   "execution_count": 74,
   "id": "26411f05",
   "metadata": {},
   "outputs": [
    {
     "data": {
      "text/plain": [
       "3"
      ]
     },
     "execution_count": 74,
     "metadata": {},
     "output_type": "execute_result"
    }
   ],
   "source": [
    "len(myList)"
   ]
  },
  {
   "cell_type": "code",
   "execution_count": 76,
   "id": "6f8cb1fa",
   "metadata": {},
   "outputs": [
    {
     "data": {
      "text/plain": [
       "[32, 32.43]"
      ]
     },
     "execution_count": 76,
     "metadata": {},
     "output_type": "execute_result"
    }
   ],
   "source": [
    "myList[1:]"
   ]
  },
  {
   "cell_type": "code",
   "execution_count": 77,
   "id": "af87cdce",
   "metadata": {},
   "outputs": [],
   "source": [
    "secondList=['five', 6, 'Seven']"
   ]
  },
  {
   "cell_type": "code",
   "execution_count": 78,
   "id": "c3ea7a5b",
   "metadata": {},
   "outputs": [
    {
     "data": {
      "text/plain": [
       "['hello', 32, 32.43, 'five', 6, 'Seven']"
      ]
     },
     "execution_count": 78,
     "metadata": {},
     "output_type": "execute_result"
    }
   ],
   "source": [
    "myList + secondList"
   ]
  },
  {
   "cell_type": "code",
   "execution_count": 79,
   "id": "ccc2e326",
   "metadata": {},
   "outputs": [
    {
     "data": {
      "text/plain": [
       "6"
      ]
     },
     "execution_count": 79,
     "metadata": {},
     "output_type": "execute_result"
    }
   ],
   "source": [
    "len(myList+secondList)"
   ]
  },
  {
   "cell_type": "code",
   "execution_count": 80,
   "id": "74f1c181",
   "metadata": {},
   "outputs": [],
   "source": [
    "myList.append('new item')"
   ]
  },
  {
   "cell_type": "code",
   "execution_count": 81,
   "id": "64f09e3f",
   "metadata": {},
   "outputs": [
    {
     "data": {
      "text/plain": [
       "['hello', 32, 32.43, 'new item']"
      ]
     },
     "execution_count": 81,
     "metadata": {},
     "output_type": "execute_result"
    }
   ],
   "source": [
    "myList"
   ]
  },
  {
   "cell_type": "code",
   "execution_count": 82,
   "id": "ee76934a",
   "metadata": {},
   "outputs": [
    {
     "data": {
      "text/plain": [
       "'new item'"
      ]
     },
     "execution_count": 82,
     "metadata": {},
     "output_type": "execute_result"
    }
   ],
   "source": [
    "myList.pop()"
   ]
  },
  {
   "cell_type": "code",
   "execution_count": 83,
   "id": "0b2bbb61",
   "metadata": {},
   "outputs": [
    {
     "data": {
      "text/plain": [
       "['hello', 32, 32.43]"
      ]
     },
     "execution_count": 83,
     "metadata": {},
     "output_type": "execute_result"
    }
   ],
   "source": [
    "myList"
   ]
  },
  {
   "cell_type": "code",
   "execution_count": 84,
   "id": "c18df161",
   "metadata": {},
   "outputs": [
    {
     "data": {
      "text/plain": [
       "'hello'"
      ]
     },
     "execution_count": 84,
     "metadata": {},
     "output_type": "execute_result"
    }
   ],
   "source": [
    "myList.pop(0)"
   ]
  },
  {
   "cell_type": "code",
   "execution_count": 85,
   "id": "daf3b72b",
   "metadata": {},
   "outputs": [
    {
     "data": {
      "text/plain": [
       "[32, 32.43]"
      ]
     },
     "execution_count": 85,
     "metadata": {},
     "output_type": "execute_result"
    }
   ],
   "source": [
    "myList"
   ]
  },
  {
   "cell_type": "code",
   "execution_count": 86,
   "id": "111311e3",
   "metadata": {},
   "outputs": [],
   "source": [
    "myList = ['a', 'c', 'e', 'b', 'd']"
   ]
  },
  {
   "cell_type": "code",
   "execution_count": 87,
   "id": "7dd7929e",
   "metadata": {},
   "outputs": [],
   "source": [
    "myList.sort()"
   ]
  },
  {
   "cell_type": "code",
   "execution_count": 88,
   "id": "2667729f",
   "metadata": {},
   "outputs": [
    {
     "data": {
      "text/plain": [
       "['a', 'b', 'c', 'd', 'e']"
      ]
     },
     "execution_count": 88,
     "metadata": {},
     "output_type": "execute_result"
    }
   ],
   "source": [
    "myList"
   ]
  },
  {
   "cell_type": "code",
   "execution_count": 89,
   "id": "0efa2c2f",
   "metadata": {},
   "outputs": [],
   "source": [
    "myList.reverse()"
   ]
  },
  {
   "cell_type": "code",
   "execution_count": 90,
   "id": "ee7635a5",
   "metadata": {},
   "outputs": [
    {
     "data": {
      "text/plain": [
       "['e', 'd', 'c', 'b', 'a']"
      ]
     },
     "execution_count": 90,
     "metadata": {},
     "output_type": "execute_result"
    }
   ],
   "source": [
    "myList"
   ]
  },
  {
   "cell_type": "markdown",
   "id": "28489422",
   "metadata": {},
   "source": [
    "## Dictionaries"
   ]
  },
  {
   "cell_type": "markdown",
   "id": "f4d2e353",
   "metadata": {},
   "source": [
    "* Dict: Retrieved by key name, unordered and cannot be sorted\n",
    "* List: Retrieved by location, can be indexed and sliced, can be ordered and sorted"
   ]
  },
  {
   "cell_type": "code",
   "execution_count": 2,
   "id": "ba9a9ba5",
   "metadata": {},
   "outputs": [],
   "source": [
    "categories_brands={'phone':['samsung', 'apple', 'huwaie'], 'internal_dict':{'inside_key':'brand'}, 'tv':['samsung', 'lg', 'sony']}"
   ]
  },
  {
   "cell_type": "code",
   "execution_count": 3,
   "id": "8200f912",
   "metadata": {},
   "outputs": [
    {
     "data": {
      "text/plain": [
       "{'inside_key': 'brand'}"
      ]
     },
     "execution_count": 3,
     "metadata": {},
     "output_type": "execute_result"
    }
   ],
   "source": [
    "categories_brands['internal_dict']"
   ]
  },
  {
   "cell_type": "code",
   "execution_count": 4,
   "id": "40f612e9",
   "metadata": {},
   "outputs": [
    {
     "data": {
      "text/plain": [
       "'SONY'"
      ]
     },
     "execution_count": 4,
     "metadata": {},
     "output_type": "execute_result"
    }
   ],
   "source": [
    "categories_brands['tv'][2].upper()"
   ]
  },
  {
   "cell_type": "code",
   "execution_count": 6,
   "id": "ecc78abf",
   "metadata": {
    "scrolled": false
   },
   "outputs": [
    {
     "data": {
      "text/plain": [
       "['SaMsUnG', 'lg', 'sony']"
      ]
     },
     "execution_count": 6,
     "metadata": {},
     "output_type": "execute_result"
    }
   ],
   "source": [
    "categories_brands['tv'][0] = 'SaMsUnG'\n",
    "categories_brands['tv']"
   ]
  },
  {
   "cell_type": "code",
   "execution_count": null,
   "id": "263a7338",
   "metadata": {},
   "outputs": [],
   "source": [
    "tokens = {0: '', 1: ''}\n",
    "tokens"
   ]
  },
  {
   "cell_type": "markdown",
   "id": "c64e7014",
   "metadata": {},
   "source": [
    "### Append"
   ]
  },
  {
   "cell_type": "code",
   "execution_count": 14,
   "id": "0be90cf3",
   "metadata": {},
   "outputs": [],
   "source": [
    "categories_brands['fridge'] = ['fridgedaire', 'lg']"
   ]
  },
  {
   "cell_type": "code",
   "execution_count": 15,
   "id": "beb7c819",
   "metadata": {
    "scrolled": false
   },
   "outputs": [
    {
     "data": {
      "text/plain": [
       "{'phone': ['samsung', 'apple', 'huwaie'],\n",
       " 'internal_dict': {'inside_key': 'brand'},\n",
       " 'tv': ['samsung', 'lg', 'sony'],\n",
       " 'fridge': ['fridgedaire', 'lg']}"
      ]
     },
     "execution_count": 15,
     "metadata": {},
     "output_type": "execute_result"
    }
   ],
   "source": [
    "categories_brands"
   ]
  },
  {
   "cell_type": "markdown",
   "id": "0319b582",
   "metadata": {},
   "source": [
    "### Replace the value"
   ]
  },
  {
   "cell_type": "code",
   "execution_count": 22,
   "id": "8e88b2fc",
   "metadata": {},
   "outputs": [],
   "source": [
    "categories_brands['internal_dict'] = ['sonos']"
   ]
  },
  {
   "cell_type": "code",
   "execution_count": 23,
   "id": "5fa85115",
   "metadata": {},
   "outputs": [
    {
     "data": {
      "text/plain": [
       "['sonos']"
      ]
     },
     "execution_count": 23,
     "metadata": {},
     "output_type": "execute_result"
    }
   ],
   "source": [
    "categories_brands['internal_dict']"
   ]
  },
  {
   "cell_type": "markdown",
   "id": "286416c7",
   "metadata": {},
   "source": [
    "### Common methods"
   ]
  },
  {
   "cell_type": "code",
   "execution_count": 17,
   "id": "1ba03e21",
   "metadata": {},
   "outputs": [
    {
     "data": {
      "text/plain": [
       "dict_keys(['phone', 'internal_dict', 'tv', 'fridge'])"
      ]
     },
     "execution_count": 17,
     "metadata": {},
     "output_type": "execute_result"
    }
   ],
   "source": [
    "categories_brands.keys()"
   ]
  },
  {
   "cell_type": "code",
   "execution_count": 18,
   "id": "a531f735",
   "metadata": {},
   "outputs": [
    {
     "data": {
      "text/plain": [
       "dict_values([['samsung', 'apple', 'huwaie'], {'inside_key': 'brand'}, ['samsung', 'lg', 'sony'], ['fridgedaire', 'lg']])"
      ]
     },
     "execution_count": 18,
     "metadata": {},
     "output_type": "execute_result"
    }
   ],
   "source": [
    "categories_brands.values()"
   ]
  },
  {
   "cell_type": "code",
   "execution_count": 19,
   "id": "5f7f50f1",
   "metadata": {},
   "outputs": [
    {
     "data": {
      "text/plain": [
       "dict_items([('phone', ['samsung', 'apple', 'huwaie']), ('internal_dict', {'inside_key': 'brand'}), ('tv', ['samsung', 'lg', 'sony']), ('fridge', ['fridgedaire', 'lg'])])"
      ]
     },
     "execution_count": 19,
     "metadata": {},
     "output_type": "execute_result"
    }
   ],
   "source": [
    "categories_brands.items()"
   ]
  },
  {
   "cell_type": "markdown",
   "id": "af83acc2",
   "metadata": {},
   "source": [
    "## Tuples"
   ]
  },
  {
   "cell_type": "markdown",
   "id": "e3eb1cbf",
   "metadata": {},
   "source": [
    "* Similar to a list but are IMMUTABLE"
   ]
  },
  {
   "cell_type": "code",
   "execution_count": 31,
   "id": "30d45b23",
   "metadata": {},
   "outputs": [],
   "source": [
    "t = (1,'two',3)"
   ]
  },
  {
   "cell_type": "code",
   "execution_count": 26,
   "id": "d0915d1c",
   "metadata": {},
   "outputs": [],
   "source": [
    "l = [1,23,32]"
   ]
  },
  {
   "cell_type": "code",
   "execution_count": 27,
   "id": "55613ba3",
   "metadata": {},
   "outputs": [
    {
     "data": {
      "text/plain": [
       "tuple"
      ]
     },
     "execution_count": 27,
     "metadata": {},
     "output_type": "execute_result"
    }
   ],
   "source": [
    "type(t)"
   ]
  },
  {
   "cell_type": "code",
   "execution_count": 28,
   "id": "8bd04af3",
   "metadata": {},
   "outputs": [
    {
     "data": {
      "text/plain": [
       "list"
      ]
     },
     "execution_count": 28,
     "metadata": {},
     "output_type": "execute_result"
    }
   ],
   "source": [
    "type(l)"
   ]
  },
  {
   "cell_type": "code",
   "execution_count": 29,
   "id": "c446854b",
   "metadata": {},
   "outputs": [
    {
     "data": {
      "text/plain": [
       "3"
      ]
     },
     "execution_count": 29,
     "metadata": {},
     "output_type": "execute_result"
    }
   ],
   "source": [
    "len(t)"
   ]
  },
  {
   "cell_type": "code",
   "execution_count": 30,
   "id": "215c3118",
   "metadata": {},
   "outputs": [
    {
     "data": {
      "text/plain": [
       "3"
      ]
     },
     "execution_count": 30,
     "metadata": {},
     "output_type": "execute_result"
    }
   ],
   "source": [
    "len(l)"
   ]
  },
  {
   "cell_type": "code",
   "execution_count": 32,
   "id": "2db14c25",
   "metadata": {},
   "outputs": [
    {
     "data": {
      "text/plain": [
       "3"
      ]
     },
     "execution_count": 32,
     "metadata": {},
     "output_type": "execute_result"
    }
   ],
   "source": [
    "t[-1]"
   ]
  },
  {
   "cell_type": "code",
   "execution_count": 33,
   "id": "699abbef",
   "metadata": {},
   "outputs": [],
   "source": [
    "t = ('a', 'a', 'b')"
   ]
  },
  {
   "cell_type": "code",
   "execution_count": 34,
   "id": "4a842f4b",
   "metadata": {},
   "outputs": [
    {
     "data": {
      "text/plain": [
       "2"
      ]
     },
     "execution_count": 34,
     "metadata": {},
     "output_type": "execute_result"
    }
   ],
   "source": [
    "t.count('a')"
   ]
  },
  {
   "cell_type": "code",
   "execution_count": 36,
   "id": "95ec4efd",
   "metadata": {},
   "outputs": [
    {
     "data": {
      "text/plain": [
       "0"
      ]
     },
     "execution_count": 36,
     "metadata": {},
     "output_type": "execute_result"
    }
   ],
   "source": [
    "t.index('a') # returns first index of value it is looking for"
   ]
  },
  {
   "cell_type": "code",
   "execution_count": 37,
   "id": "90223c3b",
   "metadata": {},
   "outputs": [],
   "source": [
    "l[0] = 'new'"
   ]
  },
  {
   "cell_type": "code",
   "execution_count": 38,
   "id": "2b254dc8",
   "metadata": {},
   "outputs": [
    {
     "data": {
      "text/plain": [
       "['new', 23, 32]"
      ]
     },
     "execution_count": 38,
     "metadata": {},
     "output_type": "execute_result"
    }
   ],
   "source": [
    "l"
   ]
  },
  {
   "cell_type": "code",
   "execution_count": 39,
   "id": "ccfde51e",
   "metadata": {},
   "outputs": [
    {
     "ename": "TypeError",
     "evalue": "'tuple' object does not support item assignment",
     "output_type": "error",
     "traceback": [
      "\u001b[1;31m---------------------------------------------------------------------------\u001b[0m",
      "\u001b[1;31mTypeError\u001b[0m                                 Traceback (most recent call last)",
      "\u001b[1;32m<ipython-input-39-f469ab99125e>\u001b[0m in \u001b[0;36m<module>\u001b[1;34m\u001b[0m\n\u001b[1;32m----> 1\u001b[1;33m \u001b[0mt\u001b[0m\u001b[1;33m[\u001b[0m\u001b[1;36m0\u001b[0m\u001b[1;33m]\u001b[0m \u001b[1;33m=\u001b[0m \u001b[1;34m'new'\u001b[0m\u001b[1;33m\u001b[0m\u001b[1;33m\u001b[0m\u001b[0m\n\u001b[0m",
      "\u001b[1;31mTypeError\u001b[0m: 'tuple' object does not support item assignment"
     ]
    }
   ],
   "source": [
    "t[0] = 'new'"
   ]
  },
  {
   "cell_type": "markdown",
   "id": "619fe8bd",
   "metadata": {},
   "source": [
    "## Sets"
   ]
  },
  {
   "cell_type": "markdown",
   "id": "75214b5b",
   "metadata": {},
   "source": [
    "* unordered collections of unique elements"
   ]
  },
  {
   "cell_type": "code",
   "execution_count": 40,
   "id": "737ac180",
   "metadata": {},
   "outputs": [],
   "source": [
    "s = set()"
   ]
  },
  {
   "cell_type": "code",
   "execution_count": 41,
   "id": "b01e1eb9",
   "metadata": {},
   "outputs": [],
   "source": [
    "s.add('item1')"
   ]
  },
  {
   "cell_type": "code",
   "execution_count": 42,
   "id": "54acaa17",
   "metadata": {},
   "outputs": [
    {
     "data": {
      "text/plain": [
       "{'item1'}"
      ]
     },
     "execution_count": 42,
     "metadata": {},
     "output_type": "execute_result"
    }
   ],
   "source": [
    "s"
   ]
  },
  {
   "cell_type": "code",
   "execution_count": 43,
   "id": "143acc9c",
   "metadata": {},
   "outputs": [],
   "source": [
    "s.add('item2')"
   ]
  },
  {
   "cell_type": "code",
   "execution_count": 44,
   "id": "09aca003",
   "metadata": {},
   "outputs": [
    {
     "data": {
      "text/plain": [
       "{'item1', 'item2'}"
      ]
     },
     "execution_count": 44,
     "metadata": {},
     "output_type": "execute_result"
    }
   ],
   "source": [
    "s"
   ]
  },
  {
   "cell_type": "code",
   "execution_count": 45,
   "id": "d704222c",
   "metadata": {},
   "outputs": [],
   "source": [
    "s.add('item1')"
   ]
  },
  {
   "cell_type": "code",
   "execution_count": 46,
   "id": "0d12caf3",
   "metadata": {},
   "outputs": [
    {
     "data": {
      "text/plain": [
       "{'item1', 'item2'}"
      ]
     },
     "execution_count": 46,
     "metadata": {},
     "output_type": "execute_result"
    }
   ],
   "source": [
    "s"
   ]
  },
  {
   "cell_type": "markdown",
   "id": "e9d35c68",
   "metadata": {},
   "source": [
    "* you can only add unique values to a set\n",
    "* usecase: cast a list to a set to filter on unique values"
   ]
  },
  {
   "cell_type": "code",
   "execution_count": 47,
   "id": "5356e1bc",
   "metadata": {},
   "outputs": [],
   "source": [
    "l = [1,1,1,2,2,3,3,3,3,3]"
   ]
  },
  {
   "cell_type": "code",
   "execution_count": 49,
   "id": "76bd353b",
   "metadata": {},
   "outputs": [
    {
     "data": {
      "text/plain": [
       "{1, 2, 3}"
      ]
     },
     "execution_count": 49,
     "metadata": {},
     "output_type": "execute_result"
    }
   ],
   "source": [
    "set(l)"
   ]
  },
  {
   "cell_type": "markdown",
   "id": "07f85506",
   "metadata": {},
   "source": [
    "## Booleans"
   ]
  },
  {
   "cell_type": "code",
   "execution_count": 50,
   "id": "d6eb6c34",
   "metadata": {},
   "outputs": [
    {
     "data": {
      "text/plain": [
       "bool"
      ]
     },
     "execution_count": 50,
     "metadata": {},
     "output_type": "execute_result"
    }
   ],
   "source": [
    "type(True)"
   ]
  },
  {
   "cell_type": "code",
   "execution_count": 51,
   "id": "56e5d7f0",
   "metadata": {},
   "outputs": [
    {
     "data": {
      "text/plain": [
       "False"
      ]
     },
     "execution_count": 51,
     "metadata": {},
     "output_type": "execute_result"
    }
   ],
   "source": [
    "1>2"
   ]
  },
  {
   "cell_type": "code",
   "execution_count": 55,
   "id": "68f1e061",
   "metadata": {},
   "outputs": [],
   "source": [
    "b = None # to prevent undefined errors by using None keyword"
   ]
  },
  {
   "cell_type": "code",
   "execution_count": 56,
   "id": "7a1b6e01",
   "metadata": {
    "scrolled": true
   },
   "outputs": [
    {
     "data": {
      "text/plain": [
       "NoneType"
      ]
     },
     "execution_count": 56,
     "metadata": {},
     "output_type": "execute_result"
    }
   ],
   "source": [
    "type(b)"
   ]
  },
  {
   "cell_type": "markdown",
   "id": "d64465e4",
   "metadata": {},
   "source": [
    "## File I/O"
   ]
  },
  {
   "cell_type": "code",
   "execution_count": 59,
   "id": "16382239",
   "metadata": {},
   "outputs": [
    {
     "name": "stdout",
     "output_type": "stream",
     "text": [
      "Writing a.txt\n"
     ]
    }
   ],
   "source": [
    "%%writefile a.txt\n",
    "Hello, how are you\n",
    "doing today? I need\n",
    "a new keyboard."
   ]
  },
  {
   "cell_type": "code",
   "execution_count": 68,
   "id": "cd77f949",
   "metadata": {},
   "outputs": [],
   "source": [
    "myfile = open('a.txt')"
   ]
  },
  {
   "cell_type": "code",
   "execution_count": 69,
   "id": "5c1c3e55",
   "metadata": {},
   "outputs": [
    {
     "data": {
      "text/plain": [
       "'Hello, how are you\\ndoing today? I need\\na new keyboard.\\n'"
      ]
     },
     "execution_count": 69,
     "metadata": {},
     "output_type": "execute_result"
    }
   ],
   "source": [
    "myfile.read()"
   ]
  },
  {
   "cell_type": "code",
   "execution_count": 75,
   "id": "ef0b32bc",
   "metadata": {},
   "outputs": [
    {
     "data": {
      "text/plain": [
       "0"
      ]
     },
     "execution_count": 75,
     "metadata": {},
     "output_type": "execute_result"
    }
   ],
   "source": [
    "myfile.seek(0)"
   ]
  },
  {
   "cell_type": "code",
   "execution_count": 76,
   "id": "32972ff3",
   "metadata": {},
   "outputs": [],
   "source": [
    "l = myfile.readlines()"
   ]
  },
  {
   "cell_type": "code",
   "execution_count": 77,
   "id": "720fad6b",
   "metadata": {},
   "outputs": [
    {
     "data": {
      "text/plain": [
       "'doing today? I need\\n'"
      ]
     },
     "execution_count": 77,
     "metadata": {},
     "output_type": "execute_result"
    }
   ],
   "source": [
    "l[1]"
   ]
  },
  {
   "cell_type": "code",
   "execution_count": 78,
   "id": "0923c234",
   "metadata": {},
   "outputs": [],
   "source": [
    "myfile.close()"
   ]
  },
  {
   "cell_type": "code",
   "execution_count": 82,
   "id": "45959fb7",
   "metadata": {},
   "outputs": [],
   "source": [
    "with open('a.txt') as newFile:\n",
    "    contents = newFile.read()\n",
    "    # automatically opens and closes a file, able to obtain contents"
   ]
  },
  {
   "cell_type": "code",
   "execution_count": 81,
   "id": "2e213417",
   "metadata": {},
   "outputs": [
    {
     "data": {
      "text/plain": [
       "'Hello, how are you\\ndoing today? I need\\na new keyboard.\\n'"
      ]
     },
     "execution_count": 81,
     "metadata": {},
     "output_type": "execute_result"
    }
   ],
   "source": [
    "contents"
   ]
  },
  {
   "cell_type": "code",
   "execution_count": 84,
   "id": "63269be0",
   "metadata": {},
   "outputs": [
    {
     "name": "stdout",
     "output_type": "stream",
     "text": [
      "Hello, how are you\n",
      "doing today? I need\n",
      "a new keyboard.\n",
      "\n"
     ]
    }
   ],
   "source": [
    "#modes: r,w,a,r+ = r+w,w+ = w+r\n",
    "with open('a.txt', 'r') as f: \n",
    "    print(f.read())"
   ]
  },
  {
   "cell_type": "code",
   "execution_count": 85,
   "id": "cc465722",
   "metadata": {},
   "outputs": [],
   "source": [
    "with open('a.txt', 'a') as f:\n",
    "    f.write('This is a new line')"
   ]
  },
  {
   "cell_type": "code",
   "execution_count": 86,
   "id": "e3c028d4",
   "metadata": {},
   "outputs": [
    {
     "name": "stdout",
     "output_type": "stream",
     "text": [
      "Hello, how are you\n",
      "doing today? I need\n",
      "a new keyboard.\n",
      "This is a new line\n"
     ]
    }
   ],
   "source": [
    "with open('a.txt', 'r') as f: \n",
    "    print(f.read())"
   ]
  },
  {
   "cell_type": "code",
   "execution_count": 88,
   "id": "1198931d",
   "metadata": {},
   "outputs": [
    {
     "name": "stdout",
     "output_type": "stream",
     "text": [
      "20\n"
     ]
    }
   ],
   "source": [
    "with open('b.txt', 'w') as f: \n",
    "    print(f.write('Here is a new file.\\n'))"
   ]
  },
  {
   "cell_type": "code",
   "execution_count": 90,
   "id": "47997e8e",
   "metadata": {},
   "outputs": [
    {
     "name": "stdout",
     "output_type": "stream",
     "text": [
      "HERE IS A NEW FILE.\n",
      "\n"
     ]
    }
   ],
   "source": [
    "with open('b.txt', 'r') as f: \n",
    "    print(f.read().upper())"
   ]
  },
  {
   "cell_type": "markdown",
   "id": "41c737f3",
   "metadata": {},
   "source": [
    "## Comparison Operators"
   ]
  },
  {
   "cell_type": "code",
   "execution_count": 96,
   "id": "ae655c0f",
   "metadata": {},
   "outputs": [
    {
     "data": {
      "text/plain": [
       "True"
      ]
     },
     "execution_count": 96,
     "metadata": {},
     "output_type": "execute_result"
    }
   ],
   "source": [
    "2.0 == 2"
   ]
  },
  {
   "cell_type": "code",
   "execution_count": 95,
   "id": "1984d961",
   "metadata": {},
   "outputs": [
    {
     "data": {
      "text/plain": [
       "False"
      ]
     },
     "execution_count": 95,
     "metadata": {},
     "output_type": "execute_result"
    }
   ],
   "source": [
    "'What' == 'what'"
   ]
  },
  {
   "cell_type": "code",
   "execution_count": 97,
   "id": "28817c34",
   "metadata": {},
   "outputs": [
    {
     "data": {
      "text/plain": [
       "True"
      ]
     },
     "execution_count": 97,
     "metadata": {},
     "output_type": "execute_result"
    }
   ],
   "source": [
    "'What' != 'what'"
   ]
  },
  {
   "cell_type": "code",
   "execution_count": 100,
   "id": "1c7a0603",
   "metadata": {},
   "outputs": [
    {
     "data": {
      "text/plain": [
       "False"
      ]
     },
     "execution_count": 100,
     "metadata": {},
     "output_type": "execute_result"
    }
   ],
   "source": [
    "#chaining comparisons 'and' 'or' 'not'\n",
    "1<2 and 4<3"
   ]
  },
  {
   "cell_type": "code",
   "execution_count": 105,
   "id": "cdbfd338",
   "metadata": {},
   "outputs": [
    {
     "data": {
      "text/plain": [
       "True"
      ]
     },
     "execution_count": 105,
     "metadata": {},
     "output_type": "execute_result"
    }
   ],
   "source": [
    "1<2 and 4>3"
   ]
  },
  {
   "cell_type": "code",
   "execution_count": 103,
   "id": "d4e92334",
   "metadata": {},
   "outputs": [
    {
     "data": {
      "text/plain": [
       "False"
      ]
     },
     "execution_count": 103,
     "metadata": {},
     "output_type": "execute_result"
    }
   ],
   "source": [
    "not 1<2"
   ]
  },
  {
   "cell_type": "code",
   "execution_count": 122,
   "id": "139dce49",
   "metadata": {},
   "outputs": [
    {
     "data": {
      "text/plain": [
       "True"
      ]
     },
     "execution_count": 122,
     "metadata": {},
     "output_type": "execute_result"
    }
   ],
   "source": [
    "expectedScan = 'Accessibility Scan'\n",
    "actualScan = 'Accessibility Scan'\n",
    "pageCount = 5\n",
    "#expectedScan == actualScan\n",
    "#pageCount == 10\n",
    "expectedScan == actualScan or pageCount == 5"
   ]
  },
  {
   "cell_type": "markdown",
   "id": "039e65ae",
   "metadata": {},
   "source": [
    "## If Else Statements"
   ]
  },
  {
   "cell_type": "code",
   "execution_count": 130,
   "id": "a5eb9aad",
   "metadata": {},
   "outputs": [
    {
     "name": "stdout",
     "output_type": "stream",
     "text": [
      "Boo\n"
     ]
    }
   ],
   "source": [
    "condition = 0\n",
    "if condition == True:\n",
    "    print('Wow')\n",
    "elif condition == False:\n",
    "    print('Boo')\n",
    "else:\n",
    "    print('Woo')"
   ]
  },
  {
   "cell_type": "code",
   "execution_count": 129,
   "id": "dc7563fe",
   "metadata": {},
   "outputs": [
    {
     "name": "stdout",
     "output_type": "stream",
     "text": [
      "Workout\n"
     ]
    }
   ],
   "source": [
    "loc = 'Gym'\n",
    "if loc == 'Autoshop':\n",
    "    print('Cars')\n",
    "elif loc == 'Gym':\n",
    "    print('Workout')\n",
    "else: \n",
    "    print('Null')"
   ]
  },
  {
   "cell_type": "markdown",
   "id": "8863f313",
   "metadata": {},
   "source": [
    "## Loops"
   ]
  },
  {
   "cell_type": "code",
   "execution_count": 135,
   "id": "760d7697",
   "metadata": {},
   "outputs": [
    {
     "name": "stdout",
     "output_type": "stream",
     "text": [
      "1\n",
      "23\n",
      "45\n",
      "666\n"
     ]
    }
   ],
   "source": [
    "l = [1,23,45,666]\n",
    "for num in l:\n",
    "    print(num)"
   ]
  },
  {
   "cell_type": "code",
   "execution_count": 133,
   "id": "9541e1ba",
   "metadata": {},
   "outputs": [
    {
     "name": "stdout",
     "output_type": "stream",
     "text": [
      "key\n",
      "j\n"
     ]
    }
   ],
   "source": [
    "dic = {'key':'value', 'j':'b'}\n",
    "for key in dic:\n",
    "    print(key)"
   ]
  },
  {
   "cell_type": "code",
   "execution_count": 144,
   "id": "7bd0490e",
   "metadata": {},
   "outputs": [
    {
     "name": "stdout",
     "output_type": "stream",
     "text": [
      "NonEvenNum: 1\n",
      "[2, 'b']\n",
      "NonEvenNum: 3\n"
     ]
    }
   ],
   "source": [
    "t = ([1,'a'], [2,'b'], [3,'c'])\n",
    "for arr in t:\n",
    "    if(arr[0]%2 == 0):\n",
    "        print(arr)\n",
    "    else:\n",
    "        print(f'NonEvenNum: {arr[0]}')"
   ]
  },
  {
   "cell_type": "code",
   "execution_count": 149,
   "id": "d5179c95",
   "metadata": {},
   "outputs": [
    {
     "name": "stdout",
     "output_type": "stream",
     "text": [
      "1 and 2\n",
      "3 and 4\n",
      "5 and 6\n",
      "7 and 8\n"
     ]
    }
   ],
   "source": [
    "l = [(1,2),(3,4),(5,6),(7,8)] #tuple unpacking\n",
    "for a,b in l:\n",
    "    print(f'{a} and {b}')"
   ]
  },
  {
   "cell_type": "code",
   "execution_count": 150,
   "id": "be26e3e3",
   "metadata": {},
   "outputs": [
    {
     "name": "stdout",
     "output_type": "stream",
     "text": [
      "This person: John Smith lives in Collin, Texas\n",
      "This person: Jacob Rube lives in Kaufman, Texas\n",
      "This person: Anderson Jackson lives in Dallas, Texas\n"
     ]
    }
   ],
   "source": [
    "info = [('John','Smith','Texas','Collin',),('Jacob','Rube','Texas','Kaufman'),('Anderson','Jackson','Texas','Dallas')]\n",
    "for fn,ln,state,county in info:\n",
    "    print(f'This person: {fn} {ln} lives in {county}, {state}')"
   ]
  },
  {
   "cell_type": "code",
   "execution_count": 151,
   "id": "7826a7f7",
   "metadata": {},
   "outputs": [
    {
     "name": "stdout",
     "output_type": "stream",
     "text": [
      "key\n",
      "j\n",
      "las\n"
     ]
    }
   ],
   "source": [
    "dic = {'key':'value', 'j':'b', 'las':'but'} #only iterates through the keys\n",
    "for i in dic:\n",
    "    print(i)"
   ]
  },
  {
   "cell_type": "code",
   "execution_count": 154,
   "id": "0013b387",
   "metadata": {},
   "outputs": [
    {
     "name": "stdout",
     "output_type": "stream",
     "text": [
      "value\n",
      "b\n",
      "but\n"
     ]
    }
   ],
   "source": [
    "dic = {'key':'value', 'j':'b', 'las':'but'} #use tuple unpacking in conjuction with .items()\n",
    "for k,v in dic.items():\n",
    "    print(v)"
   ]
  },
  {
   "cell_type": "markdown",
   "id": "d76811f6",
   "metadata": {},
   "source": [
    "## While Loops"
   ]
  },
  {
   "cell_type": "code",
   "execution_count": 158,
   "id": "00b0aded",
   "metadata": {},
   "outputs": [
    {
     "name": "stdout",
     "output_type": "stream",
     "text": [
      "num: 1\n",
      "num: 2\n",
      "num: 3\n",
      "num: 4\n",
      "num: 5\n",
      "num: 6\n",
      "num: 7\n",
      "num: 8\n",
      "num: 9\n",
      "num: 10\n",
      "done!\n"
     ]
    }
   ],
   "source": [
    "condition = True\n",
    "num = 0\n",
    "while num < 10:\n",
    "    num += 1\n",
    "    print(f'num: {num}')\n",
    "else:\n",
    "    print(f'done!')"
   ]
  },
  {
   "cell_type": "code",
   "execution_count": 170,
   "id": "a5a39f3a",
   "metadata": {},
   "outputs": [
    {
     "name": "stdout",
     "output_type": "stream",
     "text": [
      "1\n",
      "3\n"
     ]
    }
   ],
   "source": [
    "#break, continue, pass\n",
    "x = [1,2,3]\n",
    "num = None\n",
    "for i in x:\n",
    "    if(i == 2):\n",
    "        continue # | break | pass\n",
    "    print(i)"
   ]
  },
  {
   "cell_type": "markdown",
   "id": "1e3a6f94",
   "metadata": {},
   "source": [
    "## Useful Operators"
   ]
  },
  {
   "cell_type": "code",
   "execution_count": 177,
   "id": "450fecdb",
   "metadata": {},
   "outputs": [
    {
     "name": "stdout",
     "output_type": "stream",
     "text": [
      "0\n",
      "2\n",
      "4\n",
      "6\n",
      "8\n"
     ]
    }
   ],
   "source": [
    "l = [1,2,3]\n",
    "for num in range(0,10,2):\n",
    "    print(num)"
   ]
  },
  {
   "cell_type": "code",
   "execution_count": 178,
   "id": "82d7a02b",
   "metadata": {},
   "outputs": [
    {
     "name": "stdout",
     "output_type": "stream",
     "text": [
      "[0, 1, 2, 3, 4, 5, 6, 7, 8, 9]\n"
     ]
    }
   ],
   "source": [
    "l = list(range(0,10)) #generator\n",
    "print(l)"
   ]
  },
  {
   "cell_type": "code",
   "execution_count": 179,
   "id": "d04fc422",
   "metadata": {},
   "outputs": [
    {
     "name": "stdout",
     "output_type": "stream",
     "text": [
      "At index 0 the letter is a\n",
      "At index 1 the letter is b\n",
      "At index 2 the letter is c\n",
      "At index 3 the letter is d\n",
      "At index 4 the letter is e\n"
     ]
    }
   ],
   "source": [
    "index = 0\n",
    "for letter in 'abcde':\n",
    "    print(f'At index {index} the letter is {letter}')\n",
    "    index += 1"
   ]
  },
  {
   "cell_type": "code",
   "execution_count": 184,
   "id": "915d0660",
   "metadata": {},
   "outputs": [
    {
     "name": "stdout",
     "output_type": "stream",
     "text": [
      "0 and a\n",
      "1 and b\n",
      "2 and c\n",
      "3 and d\n",
      "4 and e\n"
     ]
    }
   ],
   "source": [
    "#to replicate 179 with enumerate\n",
    "word = 'abcde'\n",
    "for index,letter in enumerate(word):\n",
    "    print(f'{index} and {letter}')"
   ]
  },
  {
   "cell_type": "code",
   "execution_count": 187,
   "id": "e9e6d128",
   "metadata": {},
   "outputs": [
    {
     "name": "stdout",
     "output_type": "stream",
     "text": [
      "(1, 11)\n",
      "(2, 22)\n",
      "(3, 33)\n"
     ]
    }
   ],
   "source": [
    "list1 = [1,2,3,4,5]\n",
    "list2 = [11,22,33]\n",
    "for item in zip(list1, list2): #zip operator 'zips' together multiple lists into tuples per index\n",
    "    print(item)"
   ]
  },
  {
   "cell_type": "code",
   "execution_count": 190,
   "id": "b482980b",
   "metadata": {},
   "outputs": [
    {
     "data": {
      "text/plain": [
       "False"
      ]
     },
     "execution_count": 190,
     "metadata": {},
     "output_type": "execute_result"
    }
   ],
   "source": [
    "'x' in ['a','b','C'] # in keyword to automatically perform check"
   ]
  },
  {
   "cell_type": "code",
   "execution_count": 194,
   "id": "5146dd33",
   "metadata": {},
   "outputs": [
    {
     "data": {
      "text/plain": [
       "True"
      ]
     },
     "execution_count": 194,
     "metadata": {},
     "output_type": "execute_result"
    }
   ],
   "source": [
    "dic = {'key':'a', 'mykey':'b'}\n",
    "#'a' in dic.values()\n",
    "'key' in dic.keys()"
   ]
  },
  {
   "cell_type": "code",
   "execution_count": 196,
   "id": "6d15af38",
   "metadata": {},
   "outputs": [
    {
     "data": {
      "text/plain": [
       "3"
      ]
     },
     "execution_count": 196,
     "metadata": {},
     "output_type": "execute_result"
    }
   ],
   "source": [
    "l = [1,2,3]\n",
    "#min(l)\n",
    "max(l)"
   ]
  },
  {
   "cell_type": "code",
   "execution_count": 197,
   "id": "51f4cfbe",
   "metadata": {},
   "outputs": [],
   "source": [
    "from random import shuffle"
   ]
  },
  {
   "cell_type": "code",
   "execution_count": 198,
   "id": "dae0e6f5",
   "metadata": {},
   "outputs": [
    {
     "data": {
      "text/plain": [
       "[10, 8, 6, 4, 7, 1, 2, 3, 5, 9]"
      ]
     },
     "execution_count": 198,
     "metadata": {},
     "output_type": "execute_result"
    }
   ],
   "source": [
    "l = [1,2,3,4,5,6,7,8,9,10]\n",
    "shuffle(l)\n",
    "l"
   ]
  },
  {
   "cell_type": "code",
   "execution_count": 199,
   "id": "d56aa10c",
   "metadata": {},
   "outputs": [],
   "source": [
    "from random import randint"
   ]
  },
  {
   "cell_type": "code",
   "execution_count": 203,
   "id": "490320ad",
   "metadata": {},
   "outputs": [
    {
     "name": "stdout",
     "output_type": "stream",
     "text": [
      "13\n"
     ]
    }
   ],
   "source": [
    "num = randint(0,55)\n",
    "print(num)"
   ]
  },
  {
   "cell_type": "code",
   "execution_count": 211,
   "id": "91dee91c",
   "metadata": {},
   "outputs": [
    {
     "name": "stdout",
     "output_type": "stream",
     "text": [
      "Enter something: yada\n"
     ]
    }
   ],
   "source": [
    "user_input = input('Enter something: ')"
   ]
  },
  {
   "cell_type": "markdown",
   "id": "fa8c58c0",
   "metadata": {},
   "source": [
    "# List Comprehensions"
   ]
  },
  {
   "cell_type": "markdown",
   "id": "87283ba8",
   "metadata": {},
   "source": [
    "* use when you are repeatedly appending\n",
    "* flattens out for loops"
   ]
  },
  {
   "cell_type": "code",
   "execution_count": 219,
   "id": "05d627ca",
   "metadata": {},
   "outputs": [
    {
     "data": {
      "text/plain": [
       "['a', 'b', 'c', 'd', 'e']"
      ]
     },
     "execution_count": 219,
     "metadata": {},
     "output_type": "execute_result"
    }
   ],
   "source": [
    "l = [letter for letter in 'abcde'] #element for element in iterable_object\n",
    "l"
   ]
  },
  {
   "cell_type": "code",
   "execution_count": 222,
   "id": "e81d3e4e",
   "metadata": {},
   "outputs": [
    {
     "data": {
      "text/plain": [
       "[0, 9, 36, 81]"
      ]
     },
     "execution_count": 222,
     "metadata": {},
     "output_type": "execute_result"
    }
   ],
   "source": [
    "i = [num**2 for num in range(0,11,3)] #can perform operations on the comprehended element\n",
    "i"
   ]
  },
  {
   "cell_type": "code",
   "execution_count": 226,
   "id": "821c15f4",
   "metadata": {},
   "outputs": [
    {
     "data": {
      "text/plain": [
       "[0, 4, 8, 12]"
      ]
     },
     "execution_count": 226,
     "metadata": {},
     "output_type": "execute_result"
    }
   ],
   "source": [
    "i = [num for num in range(0,13) if num%4==0] #\n",
    "i"
   ]
  },
  {
   "cell_type": "code",
   "execution_count": 228,
   "id": "a1bac3a9",
   "metadata": {},
   "outputs": [
    {
     "data": {
      "text/plain": [
       "[0, 'ODD', 2, 'ODD', 4, 'ODD', 6, 'ODD', 8, 'ODD', 10]"
      ]
     },
     "execution_count": 228,
     "metadata": {},
     "output_type": "execute_result"
    }
   ],
   "source": [
    "results = [x if x%2==0 else 'ODD' for x in range(0,11)] # order has switched to put condition in front of for loop\n",
    "results"
   ]
  },
  {
   "cell_type": "code",
   "execution_count": 231,
   "id": "bae66384",
   "metadata": {},
   "outputs": [
    {
     "data": {
      "text/plain": [
       "[5, 4, 3, 5, 4, 3, 5, 4, 3]"
      ]
     },
     "execution_count": 231,
     "metadata": {},
     "output_type": "execute_result"
    }
   ],
   "source": [
    "nested_result = [num+2 for num in [1,2,3] for num in [3,2,1]]\n",
    "nested_result"
   ]
  },
  {
   "cell_type": "markdown",
   "id": "829813a8",
   "metadata": {},
   "source": [
    "# Methods and Functions"
   ]
  },
  {
   "cell_type": "markdown",
   "id": "6417746c",
   "metadata": {},
   "source": [
    "* Built in objects have methods you can use. For example: lists have .append() and .pop() methods\n",
    "* Functions are blocks of code that can be executed many times\n",
    "* def keyword followed by name of function. Ex: def name_of_fcn(): || CLASS CALLS USE CAMEL CASING, FCNS USE SNAKE CASING\n",
    "* ''' xxx ''' allows for optional multi-line string to describe function which is found within the indented fcn block"
   ]
  },
  {
   "cell_type": "code",
   "execution_count": 2,
   "id": "3731ee65",
   "metadata": {},
   "outputs": [
    {
     "data": {
      "text/plain": [
       "[1, 2, 3, 4]"
      ]
     },
     "execution_count": 2,
     "metadata": {},
     "output_type": "execute_result"
    }
   ],
   "source": [
    "l = [1,2,3]\n",
    "l.append(4)\n",
    "l"
   ]
  },
  {
   "cell_type": "code",
   "execution_count": 3,
   "id": "47ba75f8",
   "metadata": {},
   "outputs": [
    {
     "data": {
      "text/plain": [
       "4"
      ]
     },
     "execution_count": 3,
     "metadata": {},
     "output_type": "execute_result"
    }
   ],
   "source": [
    "l.pop()"
   ]
  },
  {
   "cell_type": "code",
   "execution_count": 4,
   "id": "a3cec0ec",
   "metadata": {},
   "outputs": [
    {
     "data": {
      "text/plain": [
       "[1, 2, 3]"
      ]
     },
     "execution_count": 4,
     "metadata": {},
     "output_type": "execute_result"
    }
   ],
   "source": [
    "l"
   ]
  },
  {
   "cell_type": "code",
   "execution_count": 8,
   "id": "dfc3438c",
   "metadata": {},
   "outputs": [
    {
     "name": "stdout",
     "output_type": "stream",
     "text": [
      "Help on built-in function insert:\n",
      "\n",
      "insert(index, object, /) method of builtins.list instance\n",
      "    Insert object before index.\n",
      "\n"
     ]
    }
   ],
   "source": [
    "help(l.insert) # or use python documentation at docs.python.org"
   ]
  },
  {
   "cell_type": "code",
   "execution_count": 18,
   "id": "b9603639",
   "metadata": {},
   "outputs": [
    {
     "name": "stdout",
     "output_type": "stream",
     "text": [
      "-6.67\n"
     ]
    }
   ],
   "source": [
    "def double_it(number):\n",
    "    '''This method will take in a number,\n",
    "        doubles it, and returns a number'''\n",
    "    return number * 2\n",
    "\n",
    "num = -3.334\n",
    "print(f'{double_it(num):0.2f}')"
   ]
  },
  {
   "cell_type": "code",
   "execution_count": 26,
   "id": "12345cfc",
   "metadata": {},
   "outputs": [
    {
     "name": "stdout",
     "output_type": "stream",
     "text": [
      "True\n"
     ]
    }
   ],
   "source": [
    "def find_odd(number):\n",
    "    return number % 2 == 1\n",
    "print(f'{find_odd(21)}')"
   ]
  },
  {
   "cell_type": "code",
   "execution_count": 47,
   "id": "cbd6280c",
   "metadata": {},
   "outputs": [
    {
     "name": "stdout",
     "output_type": "stream",
     "text": [
      "False\n"
     ]
    }
   ],
   "source": [
    "# Return TRUE if any number in a list is even\n",
    "def find_even_in_list(list):\n",
    "    for number in list:\n",
    "        if number % 2 == 0:\n",
    "            return True\n",
    "    return False\n",
    "\n",
    "#l = [1,3,9,5,7,2]\n",
    "l = [1,3,9,5,7]\n",
    "print(f'{find_even_in_list(l)}')"
   ]
  },
  {
   "cell_type": "code",
   "execution_count": 48,
   "id": "631901f3",
   "metadata": {},
   "outputs": [
    {
     "name": "stdout",
     "output_type": "stream",
     "text": [
      "[2, 4]\n"
     ]
    }
   ],
   "source": [
    "# Return all even numbers in a list\n",
    "def reveal_even_in_list(list):\n",
    "    even_numbers = []\n",
    "    for number in list:\n",
    "        if number % 2 == 0:\n",
    "            even_numbers.append(number)\n",
    "    return even_numbers\n",
    "\n",
    "l = [1,3,9,5,7,2,4]\n",
    "#l = [1,3,9,5,7]\n",
    "print(f'{reveal_even_in_list(l)}')"
   ]
  },
  {
   "cell_type": "markdown",
   "id": "2fe8b1a8",
   "metadata": {},
   "source": [
    "**Unpacking Tuples with Functions**"
   ]
  },
  {
   "cell_type": "code",
   "execution_count": 60,
   "id": "b4d552cc",
   "metadata": {},
   "outputs": [
    {
     "name": "stdout",
     "output_type": "stream",
     "text": [
      "The stock TSLA has the best price at 1337\n"
     ]
    }
   ],
   "source": [
    "def best_stock(list_of_tuples):\n",
    "    '''Find the stock with the highest price'''\n",
    "    current_max = 0\n",
    "    stock_name = ''\n",
    "    for name,price in list_of_tuples:\n",
    "        if price > current_max:\n",
    "            current_max = price\n",
    "            stock_name = name\n",
    "    return(stock_name,current_max)\n",
    "\n",
    "stock_prices = [('AAPL',200),('GOOGL',150),('MSFT',115),('AMZN',300),('TSLA',1337)]\n",
    "# since the function returns a tuple, you can use multiple variables to receive each element in the tuple\n",
    "stock,price = best_stock(stock_prices)\n",
    "print(f'The stock {stock} has the best price at {price}')\n"
   ]
  },
  {
   "cell_type": "markdown",
   "id": "45baf7a6",
   "metadata": {},
   "source": [
    "**Two Cup Monty**"
   ]
  },
  {
   "cell_type": "code",
   "execution_count": 61,
   "id": "c0010f02",
   "metadata": {},
   "outputs": [
    {
     "data": {
      "text/plain": [
       "[4, 5, 6, 7, 3, 1, 2]"
      ]
     },
     "execution_count": 61,
     "metadata": {},
     "output_type": "execute_result"
    }
   ],
   "source": [
    "#to shuffle a list\n",
    "l = [1,2,3,4,5,6,7]\n",
    "from random import shuffle\n",
    "shuffle(l)\n",
    "l"
   ]
  },
  {
   "cell_type": "code",
   "execution_count": null,
   "id": "a790036e",
   "metadata": {},
   "outputs": [
    {
     "name": "stdout",
     "output_type": "stream",
     "text": [
      "Pick a number between 0-2: 1\n",
      "Wrong Guess.\n",
      "['O', '', '']\n",
      "Pick a number between 0-2: 2\n",
      "Wrong Guess.\n",
      "['', 'O', '']\n",
      "Pick a number between 0-2: 0\n",
      "Correct Guess!\n",
      "['O', '', '']\n"
     ]
    }
   ],
   "source": [
    "from random import shuffle\n",
    "\n",
    "def shuffle_cups(myList):\n",
    "    return shuffle(myList)\n",
    "\n",
    "def user_guess():\n",
    "    guess = ''\n",
    "    while guess not in ['0', '1', '2']:\n",
    "        guess = input(f'Pick a number between 0-2: ')\n",
    "    return int(guess)\n",
    "\n",
    "def check_guess(cups, user_guess):\n",
    "    if cups[user_guess] == 'O':\n",
    "        print('Correct Guess!')\n",
    "        print(cups)\n",
    "    else:\n",
    "        print('Wrong Guess.')\n",
    "        print(cups)\n",
    "\n",
    "def game():\n",
    "    cups = ['','','O']\n",
    "    shuffle_cups(cups)\n",
    "    guess = user_guess()\n",
    "    check_guess(cups, guess)\n",
    "\n",
    "while(True):\n",
    "    game()"
   ]
  },
  {
   "cell_type": "markdown",
   "id": "2129e557",
   "metadata": {},
   "source": [
    "## \\*args and \\*\\*kwargs\n",
    "* \\*args takes in any amount of arguments which returns a tuple\n",
    "* \\*\\*kwargs stands for key word arguments which returns a dictionary"
   ]
  },
  {
   "cell_type": "code",
   "execution_count": 8,
   "id": "262d07cf",
   "metadata": {},
   "outputs": [
    {
     "data": {
      "text/plain": [
       "10.0"
      ]
     },
     "execution_count": 8,
     "metadata": {},
     "output_type": "execute_result"
    }
   ],
   "source": [
    "def fcn(a,b,c=0,d=0):\n",
    "    # returns 5% of the sum of a and b\n",
    "    return sum((a,b)) * 0.1\n",
    "\n",
    "fcn(40,60,55)"
   ]
  },
  {
   "cell_type": "code",
   "execution_count": 6,
   "id": "18fe9006",
   "metadata": {},
   "outputs": [
    {
     "data": {
      "text/plain": [
       "5.0"
      ]
     },
     "execution_count": 6,
     "metadata": {},
     "output_type": "execute_result"
    }
   ],
   "source": [
    "fcn(12,38,44,16)"
   ]
  },
  {
   "cell_type": "code",
   "execution_count": 9,
   "id": "76341a15",
   "metadata": {},
   "outputs": [
    {
     "name": "stdout",
     "output_type": "stream",
     "text": [
      "hello\n",
      "there\n"
     ]
    }
   ],
   "source": [
    "def fcn(*args):\n",
    "    for item in args:\n",
    "        print(item)\n",
    "fcn('hello', 'there')"
   ]
  },
  {
   "cell_type": "code",
   "execution_count": 17,
   "id": "de6141f5",
   "metadata": {},
   "outputs": [
    {
     "name": "stdout",
     "output_type": "stream",
     "text": [
      "{'veggie': 'Avocado', 'fruit': 'Strawberry'}\n",
      "Fruit: {'Strawberry'}\n",
      "Vegetable: {'Avocado'}\n"
     ]
    }
   ],
   "source": [
    "def fcn(**kwargs):\n",
    "    print(kwargs)\n",
    "    if 'fruit' in kwargs:\n",
    "        print('Fruit: {}'.format({kwargs['fruit']}))\n",
    "    if 'veggie' in kwargs:\n",
    "        print('Vegetable: {}'.format({kwargs['veggie']}))\n",
    "    else:\n",
    "        print('No food')\n",
    "        \n",
    "fcn(veggie='Avocado',fruit='Strawberry')"
   ]
  },
  {
   "cell_type": "code",
   "execution_count": 19,
   "id": "ae338978",
   "metadata": {},
   "outputs": [
    {
     "name": "stdout",
     "output_type": "stream",
     "text": [
      "(11, 22)\n",
      "{'food': 'bacon strips'}\n",
      "I would like 11 bacon strips\n"
     ]
    }
   ],
   "source": [
    "def fcn(*args,**kwargs):\n",
    "    print(args)\n",
    "    print(kwargs)\n",
    "    print('I would like {} {}'.format(args[0],kwargs['food']))\n",
    "fcn(11,22,food='bacon strips')"
   ]
  },
  {
   "cell_type": "code",
   "execution_count": 2,
   "id": "a3e7a519",
   "metadata": {},
   "outputs": [
    {
     "name": "stdout",
     "output_type": "stream",
     "text": [
      "AbCdEfGh\n"
     ]
    }
   ],
   "source": [
    "#Skyline Exercise\n",
    "def myfunc(string):\n",
    "    skyline_string = ''\n",
    "    string_length = len(string)\n",
    "    current_index = 0\n",
    "    while(current_index < string_length):\n",
    "        if(current_index%2==1):\n",
    "            #do odd letter\n",
    "            skyline_string += string[current_index].lower()\n",
    "        else:\n",
    "            #do even\n",
    "            skyline_string += string[current_index].upper()\n",
    "        current_index += 1\n",
    "    return skyline_string\n",
    "\n",
    "print(myfunc('abcdefgh'))"
   ]
  },
  {
   "cell_type": "markdown",
   "id": "becd353b",
   "metadata": {},
   "source": [
    "## Lambda Expressions, Map, and Filter"
   ]
  },
  {
   "cell_type": "markdown",
   "id": "5e945484",
   "metadata": {},
   "source": [
    "### Map\n",
    "* map takes in a fcn and a list and maps the list into the fcn"
   ]
  },
  {
   "cell_type": "code",
   "execution_count": 2,
   "id": "b291a0d9",
   "metadata": {},
   "outputs": [
    {
     "name": "stdout",
     "output_type": "stream",
     "text": [
      "1\n",
      "4\n",
      "9\n",
      "16\n",
      "25\n"
     ]
    }
   ],
   "source": [
    "def square (num):\n",
    "    return num**2\n",
    "nums=[1,2,3,4,5]\n",
    "\n",
    "for item in map(square,nums): #map takes in a fcn and a list and maps the list into the fcn\n",
    "    print(item)"
   ]
  },
  {
   "cell_type": "code",
   "execution_count": 3,
   "id": "2cb5dc58",
   "metadata": {},
   "outputs": [
    {
     "data": {
      "text/plain": [
       "['Even', 'E', 'S']"
      ]
     },
     "execution_count": 3,
     "metadata": {},
     "output_type": "execute_result"
    }
   ],
   "source": [
    "def splice(text):\n",
    "    if len(text)%2==0:\n",
    "        return 'Even'\n",
    "    else:\n",
    "        return text[0]\n",
    "\n",
    "names=['Andy','Eve','Sally']\n",
    "list(map(splice,names))"
   ]
  },
  {
   "cell_type": "markdown",
   "id": "d84ef142",
   "metadata": {},
   "source": [
    "### Filter\n",
    "* the fcn passed in must return a boolean so it can use the boolean to filter"
   ]
  },
  {
   "cell_type": "code",
   "execution_count": 5,
   "id": "f4be929c",
   "metadata": {},
   "outputs": [
    {
     "data": {
      "text/plain": [
       "[2, 4]"
      ]
     },
     "execution_count": 5,
     "metadata": {},
     "output_type": "execute_result"
    }
   ],
   "source": [
    "def check_even(num):\n",
    "    return num%2==0\n",
    "\n",
    "nums=[1,2,3,4,5]\n",
    "list(filter(check_even,nums))"
   ]
  },
  {
   "cell_type": "markdown",
   "id": "c26ce1f8",
   "metadata": {},
   "source": [
    "### Lambda\n",
    "* aka an anonymous function\n",
    "* used in conjunction with map and filter"
   ]
  },
  {
   "cell_type": "code",
   "execution_count": 7,
   "id": "6ef29ef9",
   "metadata": {},
   "outputs": [
    {
     "data": {
      "text/plain": [
       "36"
      ]
     },
     "execution_count": 7,
     "metadata": {},
     "output_type": "execute_result"
    }
   ],
   "source": [
    "#to square a number\n",
    "square = lambda num: num**2\n",
    "square(6)"
   ]
  },
  {
   "cell_type": "code",
   "execution_count": 8,
   "id": "6c7a8a6e",
   "metadata": {},
   "outputs": [
    {
     "data": {
      "text/plain": [
       "[1, 4, 9, 16, 25]"
      ]
     },
     "execution_count": 8,
     "metadata": {},
     "output_type": "execute_result"
    }
   ],
   "source": [
    "nums=[1,2,3,4,5]\n",
    "list(map(lambda num: num**2, nums)) #combine map and lambda "
   ]
  },
  {
   "cell_type": "code",
   "execution_count": 9,
   "id": "d60f1211",
   "metadata": {},
   "outputs": [
    {
     "data": {
      "text/plain": [
       "[2, 4]"
      ]
     },
     "execution_count": 9,
     "metadata": {},
     "output_type": "execute_result"
    }
   ],
   "source": [
    "nums=[1,2,3,4,5]\n",
    "list(filter(lambda num: num%2==0, nums)) #combine filter and lambda"
   ]
  },
  {
   "cell_type": "code",
   "execution_count": 18,
   "id": "6fc05a20",
   "metadata": {},
   "outputs": [
    {
     "data": {
      "text/plain": [
       "['A', 'E', 'S']"
      ]
     },
     "execution_count": 18,
     "metadata": {},
     "output_type": "execute_result"
    }
   ],
   "source": [
    "names=['Andy','Eve','Sally']\n",
    "list(map(lambda name: name[0],names))"
   ]
  },
  {
   "cell_type": "markdown",
   "id": "9256ae2e",
   "metadata": {},
   "source": [
    "## Nested Statements and Scope\n",
    "* LEGB Rule\n",
    "* Local, Enclosing fcn locals from inner to outer, Global (module), Built-in (Python)"
   ]
  },
  {
   "cell_type": "code",
   "execution_count": 19,
   "id": "c303bc71",
   "metadata": {},
   "outputs": [
    {
     "name": "stdout",
     "output_type": "stream",
     "text": [
      "25\n"
     ]
    }
   ],
   "source": [
    "x = 25 #25 is scoped outside of the printer() in Global\n",
    "\n",
    "def printer(): #50 is limited to scope of printer fcn in local\n",
    "    x = 50\n",
    "    return x\n",
    "\n",
    "print(x)"
   ]
  },
  {
   "cell_type": "code",
   "execution_count": 27,
   "id": "677df2ef",
   "metadata": {},
   "outputs": [
    {
     "name": "stdout",
     "output_type": "stream",
     "text": [
      "Hello Local\n",
      "Help on built-in function len in module builtins:\n",
      "\n",
      "len(obj, /)\n",
      "    Return the number of items in a container.\n",
      "\n"
     ]
    }
   ],
   "source": [
    "#local example\n",
    "# lambda num:num**2 #num is local\n",
    "\n",
    "#enclosing function local\n",
    "name = 'This is a global string'\n",
    "def greet():\n",
    "    name = 'Sammy'    #name='Sammy' is enclosing function local\n",
    "    \n",
    "    def hello():\n",
    "        name = 'Local'      #name at this level is local\n",
    "        print('Hello '+name)   \n",
    "        help(len)           #len is built-in\n",
    "    hello()\n",
    "greet()\n"
   ]
  },
  {
   "cell_type": "code",
   "execution_count": 41,
   "id": "f3388bd9",
   "metadata": {},
   "outputs": [
    {
     "name": "stdout",
     "output_type": "stream",
     "text": [
      "50\n",
      "X is 50\n",
      "Reassignment Global of X: New Value\n",
      "New Value\n"
     ]
    }
   ],
   "source": [
    "x=50     #Global space\n",
    "\n",
    "def fcn(x):\n",
    "    print(f'X is {x}')\n",
    "    x='New Value'         #local re-assignment\n",
    "    print(f'Reassignment Global of X: {x}')\n",
    "    return x\n",
    "    \n",
    "print(x)\n",
    "x = fcn(x)\n",
    "print(x)"
   ]
  },
  {
   "cell_type": "code",
   "execution_count": 42,
   "id": "3f1d22f1",
   "metadata": {},
   "outputs": [
    {
     "name": "stdout",
     "output_type": "stream",
     "text": [
      "50\n",
      "X is 50\n",
      "Reassignment Global of X: New Value\n",
      "New Value\n"
     ]
    }
   ],
   "source": [
    "x=50     #Global space\n",
    "\n",
    "def fcn():\n",
    "    global x           #using global x to change value of something outside of scope of function fcn\n",
    "    print(f'X is {x}')\n",
    "    x='New Value'         #local re-assignment\n",
    "    print(f'Reassignment Global of X: {x}')\n",
    "    return x\n",
    "    \n",
    "print(x)\n",
    "x = fcn()\n",
    "print(x)"
   ]
  },
  {
   "cell_type": "code",
   "execution_count": 44,
   "id": "b8987940",
   "metadata": {},
   "outputs": [
    {
     "name": "stdout",
     "output_type": "stream",
     "text": [
      "No Python documentation found for 'abcdefghijklmnopqrstuvwxyz'.\n",
      "Use help() to get the interactive help utility.\n",
      "Use help(str) for help on the str class.\n",
      "\n"
     ]
    }
   ],
   "source": []
  },
  {
   "cell_type": "markdown",
   "id": "5be3c3c0",
   "metadata": {},
   "source": [
    "# OOP"
   ]
  },
  {
   "cell_type": "code",
   "execution_count": 63,
   "id": "fe965bc4",
   "metadata": {},
   "outputs": [],
   "source": [
    "class AnimalDog():\n",
    "    \n",
    "    #class object attribute which the same for any instance of a class\n",
    "    species = 'mammal'\n",
    "    \n",
    "    def __init__(self,breed,size,spots):       #init is not necessarily a constructor\n",
    "        self.breed = breed               #self is used for a specific instance\n",
    "        self.size = size\n",
    "    \n",
    "    #Methods are fcns found in a class that act on an object (object is an instance of a class)\n",
    "    def get_details(self):\n",
    "        print(f'This {self.size} dog is a {self.breed} which is a {self.species}')\n",
    "    \n",
    "    def bark(self):\n",
    "        print('Woof!')\n",
    "        \n",
    "    def give_command(self,cmd):\n",
    "        print(f'{self.breed} does {cmd}')"
   ]
  },
  {
   "cell_type": "code",
   "execution_count": 64,
   "id": "e92efe50",
   "metadata": {},
   "outputs": [],
   "source": [
    "my_dag = AnimalDog(breed='Labrador',size='Medium',spots=False)"
   ]
  },
  {
   "cell_type": "code",
   "execution_count": 65,
   "id": "99b4bae9",
   "metadata": {},
   "outputs": [
    {
     "name": "stdout",
     "output_type": "stream",
     "text": [
      "Labrador does Roll Over\n"
     ]
    }
   ],
   "source": [
    "my_dag.give_command('Roll Over')"
   ]
  },
  {
   "cell_type": "code",
   "execution_count": 66,
   "id": "58a1775c",
   "metadata": {},
   "outputs": [
    {
     "name": "stdout",
     "output_type": "stream",
     "text": [
      "This Medium dog is a Labrador which is a mammal\n"
     ]
    }
   ],
   "source": [
    "my_dag.get_details()"
   ]
  },
  {
   "cell_type": "code",
   "execution_count": 83,
   "id": "a3b4d128",
   "metadata": {},
   "outputs": [],
   "source": [
    "class Circle():\n",
    "    #Class Object Attribute\n",
    "    pi = 3.1415\n",
    "    \n",
    "    def __init__(self, radius=1):\n",
    "        self.radius = radius\n",
    "        self.diameter = 2*radius\n",
    "    \n",
    "    def get_circumference(self):\n",
    "        return 2*Circle.pi*self.radius    #because pi is a class object attribute, you can reference it like Circle.pi\n",
    "    \n",
    "    def get_area(self):\n",
    "        return Circle.pi*self.radius**2"
   ]
  },
  {
   "cell_type": "code",
   "execution_count": 84,
   "id": "50e7affa",
   "metadata": {},
   "outputs": [],
   "source": [
    "my_circle = Circle(3)"
   ]
  },
  {
   "cell_type": "code",
   "execution_count": 85,
   "id": "7713df22",
   "metadata": {},
   "outputs": [
    {
     "data": {
      "text/plain": [
       "18.849"
      ]
     },
     "execution_count": 85,
     "metadata": {},
     "output_type": "execute_result"
    }
   ],
   "source": [
    "my_circle.get_circumference()"
   ]
  },
  {
   "cell_type": "code",
   "execution_count": 87,
   "id": "28c1c1ad",
   "metadata": {},
   "outputs": [
    {
     "data": {
      "text/plain": [
       "28.273500000000002"
      ]
     },
     "execution_count": 87,
     "metadata": {},
     "output_type": "execute_result"
    }
   ],
   "source": [
    "my_circle.get_area()"
   ]
  },
  {
   "cell_type": "markdown",
   "id": "1f4b2634",
   "metadata": {},
   "source": [
    "## Inheritance and Polymorphism"
   ]
  },
  {
   "cell_type": "code",
   "execution_count": 89,
   "id": "cbbe9fb3",
   "metadata": {},
   "outputs": [],
   "source": [
    "class Animal():\n",
    "    def __init__(self):\n",
    "        print('Animal Created')\n",
    "    \n",
    "    def what_am_i(self):\n",
    "        print('I am an animal')\n",
    "    \n",
    "    def eat(self):\n",
    "        print('Eating')"
   ]
  },
  {
   "cell_type": "code",
   "execution_count": 96,
   "id": "bf07598d",
   "metadata": {},
   "outputs": [],
   "source": [
    "class Dog(Animal):                 #pass parent class as parameter to inherit\n",
    "    def __init__(self):\n",
    "        Animal.__init__(self)       #creating instance of animal class\n",
    "        print('Dog Created')\n",
    "        \n",
    "    def what_am_i(self):\n",
    "        print('I am a dog')         #overridden method\n",
    "        \n",
    "    def bark(self):\n",
    "        print('Bark!')"
   ]
  },
  {
   "cell_type": "code",
   "execution_count": 97,
   "id": "a80d0a32",
   "metadata": {},
   "outputs": [
    {
     "name": "stdout",
     "output_type": "stream",
     "text": [
      "Animal Created\n",
      "Dog Created\n"
     ]
    }
   ],
   "source": [
    "my_dog = Dog()"
   ]
  },
  {
   "cell_type": "code",
   "execution_count": 98,
   "id": "e3b14fe5",
   "metadata": {},
   "outputs": [
    {
     "name": "stdout",
     "output_type": "stream",
     "text": [
      "I am a dog\n"
     ]
    }
   ],
   "source": [
    "my_dog.what_am_i()"
   ]
  },
  {
   "cell_type": "code",
   "execution_count": 99,
   "id": "78e8873b",
   "metadata": {},
   "outputs": [
    {
     "name": "stdout",
     "output_type": "stream",
     "text": [
      "Eating\n"
     ]
    }
   ],
   "source": [
    "my_dog.eat()"
   ]
  },
  {
   "cell_type": "code",
   "execution_count": 100,
   "id": "a5598789",
   "metadata": {},
   "outputs": [
    {
     "name": "stdout",
     "output_type": "stream",
     "text": [
      "Bark!\n"
     ]
    }
   ],
   "source": [
    "my_dog.bark()"
   ]
  },
  {
   "cell_type": "code",
   "execution_count": 103,
   "id": "11c00e00",
   "metadata": {},
   "outputs": [],
   "source": [
    "class Dog():\n",
    "    def __init__(self,name):\n",
    "        self.name = name\n",
    "        \n",
    "    def speak(self):\n",
    "        return self.name + ' says woof!'"
   ]
  },
  {
   "cell_type": "code",
   "execution_count": 104,
   "id": "1c9792bb",
   "metadata": {},
   "outputs": [],
   "source": [
    "class Cat():\n",
    "    def __init__(self,name):\n",
    "        self.name = name\n",
    "        \n",
    "    def speak(self):\n",
    "        return self.name + ' says meow!'"
   ]
  },
  {
   "cell_type": "code",
   "execution_count": 105,
   "id": "0a57174e",
   "metadata": {},
   "outputs": [],
   "source": [
    "niko = Dog('niko')\n",
    "felix = Cat('felix')"
   ]
  },
  {
   "cell_type": "code",
   "execution_count": 106,
   "id": "efb29b3f",
   "metadata": {},
   "outputs": [
    {
     "name": "stdout",
     "output_type": "stream",
     "text": [
      "niko says woof!\n",
      "felix says meow!\n"
     ]
    }
   ],
   "source": [
    "print(niko.speak())\n",
    "print(felix.speak())"
   ]
  },
  {
   "cell_type": "code",
   "execution_count": 107,
   "id": "1998b591",
   "metadata": {},
   "outputs": [
    {
     "name": "stdout",
     "output_type": "stream",
     "text": [
      "<class '__main__.Dog'>\n",
      "niko says woof!\n",
      "<class '__main__.Cat'>\n",
      "felix says meow!\n"
     ]
    }
   ],
   "source": [
    "for pet in [niko, felix]:\n",
    "    print(type(pet))\n",
    "    print(pet.speak())      #polymorphism: same method shared between two class types"
   ]
  },
  {
   "cell_type": "code",
   "execution_count": 108,
   "id": "69ba1845",
   "metadata": {},
   "outputs": [],
   "source": [
    "def pet_speak(pet):         #polymorphism: being able to call same method name regardless of what class it belongs to\n",
    "    print(pet.speak())       #more common to use abstract classes and inheritance to create polymorphisms"
   ]
  },
  {
   "cell_type": "code",
   "execution_count": 109,
   "id": "514d8b08",
   "metadata": {},
   "outputs": [
    {
     "name": "stdout",
     "output_type": "stream",
     "text": [
      "felix says meow!\n"
     ]
    }
   ],
   "source": [
    "pet_speak(felix)"
   ]
  },
  {
   "cell_type": "code",
   "execution_count": 110,
   "id": "f3890b05",
   "metadata": {},
   "outputs": [],
   "source": [
    "class Animal():                 #Parent class that has init and method name is shared but abstract at parent level\n",
    "    def __init__(self, name):\n",
    "        self.name = name\n",
    "    def speak(self):\n",
    "        raise NotImplementedError(\"Subclass must implement this abstract method\")"
   ]
  },
  {
   "cell_type": "code",
   "execution_count": 113,
   "id": "215bc1e9",
   "metadata": {},
   "outputs": [],
   "source": [
    "class Dog(Animal):\n",
    "    def speak(self):\n",
    "        return self.name + ' says Woof!'"
   ]
  },
  {
   "cell_type": "code",
   "execution_count": 114,
   "id": "98293b3e",
   "metadata": {},
   "outputs": [],
   "source": [
    "class Cat(Animal):\n",
    "    def speak(self):\n",
    "        return self.name + ' says Meow!'"
   ]
  },
  {
   "cell_type": "code",
   "execution_count": 115,
   "id": "e0594d6b",
   "metadata": {},
   "outputs": [],
   "source": [
    "fido = Dog('Rufus')"
   ]
  },
  {
   "cell_type": "code",
   "execution_count": 116,
   "id": "7e5e59d5",
   "metadata": {},
   "outputs": [],
   "source": [
    "kitty = Cat('Fluffy')"
   ]
  },
  {
   "cell_type": "code",
   "execution_count": 118,
   "id": "81241e31",
   "metadata": {},
   "outputs": [
    {
     "data": {
      "text/plain": [
       "'Rufus'"
      ]
     },
     "execution_count": 118,
     "metadata": {},
     "output_type": "execute_result"
    }
   ],
   "source": [
    "fido.name"
   ]
  },
  {
   "cell_type": "markdown",
   "id": "70892834",
   "metadata": {},
   "source": [
    "## Specials Methods (Magic/Dunder)"
   ]
  },
  {
   "cell_type": "code",
   "execution_count": 151,
   "id": "a68b9167",
   "metadata": {},
   "outputs": [],
   "source": [
    "class Book():\n",
    "    def __init__(self,title,author,pages):\n",
    "        self.title = title\n",
    "        self.author = author\n",
    "        self.pages = pages\n",
    "    def __str__(self):                           #can use python builtin print() and directs to this method\n",
    "        return f'{self.title} by {self.author}'\n",
    "    def __len__(self):                           #can use python builtin len() and directs to this method\n",
    "        return self.pages\n",
    "    def __del__(self):                           #can use python builtin del() and directs to this method\n",
    "        print(f'Book: \\\"{self.title}\\\" has been deleted')"
   ]
  },
  {
   "cell_type": "code",
   "execution_count": 152,
   "id": "79aedafa",
   "metadata": {},
   "outputs": [],
   "source": [
    "b = Book('Here you go','Johnathon',300)"
   ]
  },
  {
   "cell_type": "code",
   "execution_count": 153,
   "id": "f6734cbb",
   "metadata": {},
   "outputs": [
    {
     "name": "stdout",
     "output_type": "stream",
     "text": [
      "Here you go by Johnathon\n"
     ]
    }
   ],
   "source": [
    "print(b)"
   ]
  },
  {
   "cell_type": "code",
   "execution_count": 154,
   "id": "18ec670d",
   "metadata": {},
   "outputs": [
    {
     "data": {
      "text/plain": [
       "300"
      ]
     },
     "execution_count": 154,
     "metadata": {},
     "output_type": "execute_result"
    }
   ],
   "source": [
    "len(b)"
   ]
  },
  {
   "cell_type": "code",
   "execution_count": 155,
   "id": "aa7331ca",
   "metadata": {},
   "outputs": [
    {
     "name": "stdout",
     "output_type": "stream",
     "text": [
      "Book: \"Here you go\" has been deleted\n"
     ]
    }
   ],
   "source": [
    "del(b)"
   ]
  },
  {
   "cell_type": "code",
   "execution_count": 156,
   "id": "fa7eb1c5",
   "metadata": {},
   "outputs": [
    {
     "ename": "NameError",
     "evalue": "name 'b' is not defined",
     "output_type": "error",
     "traceback": [
      "\u001b[1;31m---------------------------------------------------------------------------\u001b[0m",
      "\u001b[1;31mNameError\u001b[0m                                 Traceback (most recent call last)",
      "\u001b[1;32m<ipython-input-156-67e500defa1b>\u001b[0m in \u001b[0;36m<module>\u001b[1;34m\u001b[0m\n\u001b[1;32m----> 1\u001b[1;33m \u001b[0mprint\u001b[0m\u001b[1;33m(\u001b[0m\u001b[0mb\u001b[0m\u001b[1;33m)\u001b[0m\u001b[1;33m\u001b[0m\u001b[1;33m\u001b[0m\u001b[0m\n\u001b[0m",
      "\u001b[1;31mNameError\u001b[0m: name 'b' is not defined"
     ]
    }
   ],
   "source": [
    "print(b)"
   ]
  },
  {
   "cell_type": "markdown",
   "id": "fa22003d",
   "metadata": {},
   "source": [
    "# Modules and Packages"
   ]
  },
  {
   "cell_type": "markdown",
   "id": "b311b609",
   "metadata": {},
   "source": [
    "* you can use 'pip install' to install external packages\n",
    "* PyPi repository contains external and third party packages\n",
    "* Packages are a collection of modules, modules are just .py scripts that you call in another .py scripts"
   ]
  },
  {
   "cell_type": "markdown",
   "id": "2bbec4b0",
   "metadata": {},
   "source": [
    "### Creating packages in VS Code\n",
    "* you need to perform the following to get the interpreter to recognize packages not in the default path\n",
    "    * import sys \n",
    "    * sys.path.append(\"C:/Repos/Udemy_Python_Bootcamp/Python Scripts/my_pkg\") # this is the path of the main pkg directory\n",
    "    * from my_module import my_fcn                                            # just a random a module in line with the prgm\n",
    "    * import my_main_script                                                   # import py script within main pkg\n",
    "    * from my_sub_pkg import my_sub_script                                    # import py script within sub_pkg\n",
    "* VS Code may refuse to recognize the modules but if done correctly, application will compile and run"
   ]
  },
  {
   "cell_type": "markdown",
   "id": "7d0410b1",
   "metadata": {},
   "source": [
    "### __name__ and \"__main__\"\n",
    "* all code at indentation level 0 gets run\n",
    "* \\_\\_name__ is a builtin variable. It is assigned a string \"\\_\\_main__\" when the program is run directly\n",
    "* when you call a python script \"python ./script.py\" then the \"\\_\\_name__\" variable is automatically assigned to main like \\_\\_name__ = \"\\_\\_main__\" \n",
    "* so then in the program, the statement \" if \\_\\_name__ == \"\\_\\_main__\" \" will determine if the script has been run directly\n",
    "* common use is you define a bunch of functions at the top level, then the logic where it is executed is at the bottom (example below)"
   ]
  },
  {
   "cell_type": "code",
   "execution_count": 157,
   "id": "2e640717",
   "metadata": {},
   "outputs": [],
   "source": [
    "#define fcns\n",
    "def f1():\n",
    "    pass\n",
    "def f2():\n",
    "    pass\n",
    "def f3():\n",
    "    pass\n",
    "if __name__ == \"__main__\":\n",
    "    #run script\n",
    "    f2()\n",
    "    f3()"
   ]
  },
  {
   "cell_type": "markdown",
   "id": "0c16803b",
   "metadata": {},
   "source": [
    "# Errors and Exception Handling\n",
    "* try: block to be attempted\n",
    "* except: block executed when error occurs in try\n",
    "* finally: block executed regardless of error\n",
    "\n",
    "* you can have a try,except,else statement if you want the else to run after a successful try\n",
    "* you can have a try,except,finally statement if you want the finally to run every time\n",
    "* you can have a try,except,else,finally statement for everything"
   ]
  },
  {
   "cell_type": "code",
   "execution_count": 8,
   "id": "963a2c32",
   "metadata": {},
   "outputs": [
    {
     "name": "stdout",
     "output_type": "stream",
     "text": [
      "Give number plz: 50\n",
      "Error in add()\n",
      "Continue with prgm\n"
     ]
    }
   ],
   "source": [
    "def add(n1,n2):\n",
    "    try:\n",
    "        print(n1+n2)\n",
    "    except:\n",
    "        print('Error in add()')\n",
    "    else:\n",
    "        print(\"Add went well (only run in with successful try)\")            #try,except,else statement\n",
    "n = 100\n",
    "number = input('Give number plz: ')\n",
    "add(n,number)\n",
    "print('Continue with prgm')"
   ]
  },
  {
   "cell_type": "code",
   "execution_count": 13,
   "id": "c941daa0",
   "metadata": {},
   "outputs": [
    {
     "name": "stdout",
     "output_type": "stream",
     "text": [
      "OS Error when opening file\n",
      "Always run in finally block\n"
     ]
    }
   ],
   "source": [
    "try:\n",
    "    f = open('a.txt','r')\n",
    "    f.write('Write a test line')\n",
    "except TypeError:\n",
    "    print('Type Error when opening file')\n",
    "except OSError:\n",
    "    print('OS Error when opening file')\n",
    "finally:                                  #try,except,finally statement                    \n",
    "    print('Always run in finally block')"
   ]
  },
  {
   "cell_type": "code",
   "execution_count": 16,
   "id": "877662f4",
   "metadata": {},
   "outputs": [
    {
     "name": "stdout",
     "output_type": "stream",
     "text": [
      "Give number: gasdf\n",
      "Not a number! Try again.\n",
      "EndOf\n",
      "Give number: 2ads\n",
      "Not a number! Try again.\n",
      "EndOf\n",
      "Give number: 50\n",
      "EndOf\n"
     ]
    }
   ],
   "source": [
    "def ask_for_int():\n",
    "    while True:\n",
    "        try:\n",
    "            result = int(input('Give number: '))\n",
    "        except:\n",
    "            print('Not a number! Try again.')\n",
    "        else:\n",
    "            break\n",
    "        finally:\n",
    "            print('EndOf')\n",
    "ask_for_int()"
   ]
  },
  {
   "cell_type": "markdown",
   "id": "436ce381",
   "metadata": {},
   "source": [
    "# PyLint and Unit Testing\n",
    "* PyLint: library that looks at code and reports back possible issues\n",
    "    * reference using_unittests.py for information surround pylint\n",
    "    * call pylint ./my_script.py -r y to generate report\n",
    "* unittest: built-in library allows for testing programs and check for desired outputs\n",
    "* Pep 8: standard styling conventions"
   ]
  },
  {
   "cell_type": "markdown",
   "id": "095ec592",
   "metadata": {},
   "source": [
    "# Milestone Project 2 Warmup: War Card Game\n",
    "* Card class should have the following: suit, rank, value\n",
    "* Deck class contains 52 cards in a deck\n",
    "* Player class holds deck"
   ]
  },
  {
   "cell_type": "code",
   "execution_count": 7,
   "id": "31348d92",
   "metadata": {},
   "outputs": [
    {
     "name": "stdout",
     "output_type": "stream",
     "text": [
      "Justine has 26 cards\n",
      "Josiah has 26 cards\n",
      "***** Round 1 *****\n",
      "Justine has 27 cards\n",
      "Josiah has 25 cards\n",
      "***** Round 2 *****\n",
      "Justine has 28 cards\n",
      "Josiah has 24 cards\n",
      "***** Round 3 *****\n",
      "Justine has 29 cards\n",
      "Josiah has 23 cards\n",
      "***** Round 4 *****\n",
      "Justine has 28 cards\n",
      "Josiah has 24 cards\n",
      "***** Round 5 *****\n",
      "Justine has 29 cards\n",
      "Josiah has 23 cards\n",
      "***** Round 6 *****\n",
      "Justine has 28 cards\n",
      "Josiah has 24 cards\n",
      "***** Round 7 *****\n",
      "Justine has 29 cards\n",
      "Josiah has 23 cards\n",
      "***** Round 8 *****\n",
      "Justine has 30 cards\n",
      "Josiah has 22 cards\n",
      "***** Round 9 *****\n",
      "Justine has 29 cards\n",
      "Josiah has 23 cards\n",
      "***** Round 10 *****\n",
      "Justine has 30 cards\n",
      "Josiah has 22 cards\n",
      "***** Round 11 *****\n",
      "Justine has 31 cards\n",
      "Josiah has 21 cards\n",
      "***** Round 12 *****\n",
      "WAR!\n",
      "Justine has 37 cards\n",
      "Josiah has 15 cards\n",
      "***** Round 13 *****\n",
      "Justine has 36 cards\n",
      "Josiah has 16 cards\n",
      "***** Round 14 *****\n",
      "Justine has 35 cards\n",
      "Josiah has 17 cards\n",
      "***** Round 15 *****\n",
      "Justine has 34 cards\n",
      "Josiah has 18 cards\n",
      "***** Round 16 *****\n",
      "Justine has 33 cards\n",
      "Josiah has 19 cards\n",
      "***** Round 17 *****\n",
      "Justine has 34 cards\n",
      "Josiah has 18 cards\n",
      "***** Round 18 *****\n",
      "Justine has 33 cards\n",
      "Josiah has 19 cards\n",
      "***** Round 19 *****\n",
      "Justine has 34 cards\n",
      "Josiah has 18 cards\n",
      "***** Round 20 *****\n",
      "Justine has 33 cards\n",
      "Josiah has 19 cards\n",
      "***** Round 21 *****\n",
      "Justine has 32 cards\n",
      "Josiah has 20 cards\n",
      "***** Round 22 *****\n",
      "Justine has 33 cards\n",
      "Josiah has 19 cards\n",
      "***** Round 23 *****\n",
      "Justine has 32 cards\n",
      "Josiah has 20 cards\n",
      "***** Round 24 *****\n",
      "Justine has 33 cards\n",
      "Josiah has 19 cards\n",
      "***** Round 25 *****\n",
      "Justine has 32 cards\n",
      "Josiah has 20 cards\n",
      "***** Round 26 *****\n",
      "Justine has 33 cards\n",
      "Josiah has 19 cards\n",
      "***** Round 27 *****\n",
      "Justine has 32 cards\n",
      "Josiah has 20 cards\n",
      "***** Round 28 *****\n",
      "Justine has 33 cards\n",
      "Josiah has 19 cards\n",
      "***** Round 29 *****\n",
      "Justine has 34 cards\n",
      "Josiah has 18 cards\n",
      "***** Round 30 *****\n",
      "Justine has 35 cards\n",
      "Josiah has 17 cards\n",
      "***** Round 31 *****\n",
      "Justine has 34 cards\n",
      "Josiah has 18 cards\n",
      "***** Round 32 *****\n",
      "Justine has 33 cards\n",
      "Josiah has 19 cards\n",
      "***** Round 33 *****\n",
      "Justine has 32 cards\n",
      "Josiah has 20 cards\n",
      "***** Round 34 *****\n",
      "Justine has 33 cards\n",
      "Josiah has 19 cards\n",
      "***** Round 35 *****\n",
      "Justine has 32 cards\n",
      "Josiah has 20 cards\n",
      "***** Round 36 *****\n",
      "Justine has 33 cards\n",
      "Josiah has 19 cards\n",
      "***** Round 37 *****\n",
      "Justine has 32 cards\n",
      "Josiah has 20 cards\n",
      "***** Round 38 *****\n",
      "Justine has 33 cards\n",
      "Josiah has 19 cards\n",
      "***** Round 39 *****\n",
      "Justine has 32 cards\n",
      "Josiah has 20 cards\n",
      "***** Round 40 *****\n",
      "Justine has 33 cards\n",
      "Josiah has 19 cards\n",
      "***** Round 41 *****\n",
      "Justine has 32 cards\n",
      "Josiah has 20 cards\n",
      "***** Round 42 *****\n",
      "Justine has 31 cards\n",
      "Josiah has 21 cards\n",
      "***** Round 43 *****\n",
      "Justine has 32 cards\n",
      "Josiah has 20 cards\n",
      "***** Round 44 *****\n",
      "Justine has 33 cards\n",
      "Josiah has 19 cards\n",
      "***** Round 45 *****\n",
      "Justine has 34 cards\n",
      "Josiah has 18 cards\n",
      "***** Round 46 *****\n",
      "Justine has 35 cards\n",
      "Josiah has 17 cards\n",
      "***** Round 47 *****\n",
      "Justine has 34 cards\n",
      "Josiah has 18 cards\n",
      "***** Round 48 *****\n",
      "Justine has 35 cards\n",
      "Josiah has 17 cards\n",
      "***** Round 49 *****\n",
      "Justine has 34 cards\n",
      "Josiah has 18 cards\n",
      "***** Round 50 *****\n",
      "Justine has 35 cards\n",
      "Josiah has 17 cards\n",
      "***** Round 51 *****\n",
      "Justine has 34 cards\n",
      "Josiah has 18 cards\n",
      "***** Round 52 *****\n",
      "Justine has 35 cards\n",
      "Josiah has 17 cards\n",
      "***** Round 53 *****\n",
      "Justine has 34 cards\n",
      "Josiah has 18 cards\n",
      "***** Round 54 *****\n",
      "Justine has 35 cards\n",
      "Josiah has 17 cards\n",
      "***** Round 55 *****\n",
      "Justine has 34 cards\n",
      "Josiah has 18 cards\n",
      "***** Round 56 *****\n",
      "Justine has 33 cards\n",
      "Josiah has 19 cards\n",
      "***** Round 57 *****\n",
      "Justine has 32 cards\n",
      "Josiah has 20 cards\n",
      "***** Round 58 *****\n",
      "Justine has 33 cards\n",
      "Josiah has 19 cards\n",
      "***** Round 59 *****\n",
      "Justine has 34 cards\n",
      "Josiah has 18 cards\n",
      "***** Round 60 *****\n",
      "Justine has 35 cards\n",
      "Josiah has 17 cards\n",
      "***** Round 61 *****\n",
      "Justine has 34 cards\n",
      "Josiah has 18 cards\n",
      "***** Round 62 *****\n",
      "Justine has 35 cards\n",
      "Josiah has 17 cards\n",
      "***** Round 63 *****\n",
      "Justine has 36 cards\n",
      "Josiah has 16 cards\n",
      "***** Round 64 *****\n",
      "WAR!\n",
      "Justine has 42 cards\n",
      "Josiah has 10 cards\n",
      "***** Round 65 *****\n",
      "Justine has 43 cards\n",
      "Josiah has 9 cards\n",
      "***** Round 66 *****\n",
      "Justine has 42 cards\n",
      "Josiah has 10 cards\n",
      "***** Round 67 *****\n",
      "Justine has 43 cards\n",
      "Josiah has 9 cards\n",
      "***** Round 68 *****\n",
      "Justine has 42 cards\n",
      "Josiah has 10 cards\n",
      "***** Round 69 *****\n",
      "Justine has 43 cards\n",
      "Josiah has 9 cards\n",
      "***** Round 70 *****\n",
      "Justine has 42 cards\n",
      "Josiah has 10 cards\n",
      "***** Round 71 *****\n",
      "Justine has 43 cards\n",
      "Josiah has 9 cards\n",
      "***** Round 72 *****\n",
      "Justine has 42 cards\n",
      "Josiah has 10 cards\n",
      "***** Round 73 *****\n",
      "Justine has 43 cards\n",
      "Josiah has 9 cards\n",
      "***** Round 74 *****\n",
      "Justine has 42 cards\n",
      "Josiah has 10 cards\n",
      "***** Round 75 *****\n",
      "Justine has 43 cards\n",
      "Josiah has 9 cards\n",
      "***** Round 76 *****\n",
      "Justine has 42 cards\n",
      "Josiah has 10 cards\n",
      "***** Round 77 *****\n",
      "Justine has 43 cards\n",
      "Josiah has 9 cards\n",
      "***** Round 78 *****\n",
      "Justine has 42 cards\n",
      "Josiah has 10 cards\n",
      "***** Round 79 *****\n",
      "Justine has 43 cards\n",
      "Josiah has 9 cards\n",
      "***** Round 80 *****\n",
      "Justine has 42 cards\n",
      "Josiah has 10 cards\n",
      "***** Round 81 *****\n",
      "Justine has 43 cards\n",
      "Josiah has 9 cards\n",
      "***** Round 82 *****\n",
      "Justine has 42 cards\n",
      "Josiah has 10 cards\n",
      "***** Round 83 *****\n",
      "Justine has 43 cards\n",
      "Josiah has 9 cards\n",
      "***** Round 84 *****\n",
      "Justine has 42 cards\n",
      "Josiah has 10 cards\n",
      "***** Round 85 *****\n",
      "Justine has 43 cards\n",
      "Josiah has 9 cards\n",
      "***** Round 86 *****\n",
      "Justine has 42 cards\n",
      "Josiah has 10 cards\n",
      "***** Round 87 *****\n",
      "Justine has 43 cards\n",
      "Josiah has 9 cards\n",
      "***** Round 88 *****\n",
      "Justine has 42 cards\n",
      "Josiah has 10 cards\n",
      "***** Round 89 *****\n",
      "Justine has 43 cards\n",
      "Josiah has 9 cards\n",
      "***** Round 90 *****\n",
      "Justine has 42 cards\n",
      "Josiah has 10 cards\n",
      "***** Round 91 *****\n",
      "Justine has 43 cards\n",
      "Josiah has 9 cards\n",
      "***** Round 92 *****\n",
      "Justine has 42 cards\n",
      "Josiah has 10 cards\n",
      "***** Round 93 *****\n",
      "Justine has 43 cards\n",
      "Josiah has 9 cards\n",
      "***** Round 94 *****\n",
      "Justine has 42 cards\n",
      "Josiah has 10 cards\n",
      "***** Round 95 *****\n",
      "Justine has 43 cards\n",
      "Josiah has 9 cards\n",
      "***** Round 96 *****\n",
      "Justine has 42 cards\n",
      "Josiah has 10 cards\n",
      "***** Round 97 *****\n",
      "Justine has 43 cards\n",
      "Josiah has 9 cards\n",
      "***** Round 98 *****\n",
      "Justine has 42 cards\n",
      "Josiah has 10 cards\n",
      "***** Round 99 *****\n",
      "Justine has 43 cards\n",
      "Josiah has 9 cards\n",
      "***** Round 100 *****\n",
      "Justine has 44 cards\n",
      "Josiah has 8 cards\n",
      "***** Round 101 *****\n",
      "Justine has 45 cards\n",
      "Josiah has 7 cards\n",
      "***** Round 102 *****\n",
      "WAR!\n",
      "Justine has 51 cards\n",
      "Josiah has 1 cards\n",
      "***** Round 103 *****\n",
      "WAR!\n",
      "Josiah cannot war, Justine WINS!\n"
     ]
    }
   ],
   "source": [
    "import random\n",
    "import pdb\n",
    "suits = ('Hearts', 'Diamonds', 'Spades', 'Clubs')\n",
    "ranks = ('Two','Three','Four','Five','Six','Seven','Eight','Nine','Ten','Jack','Queen','King','Ace')\n",
    "values = {'Two':2,'Three':3,'Four':4,'Five':5,'Six':6,'Seven':7,'Eight':8,'Nine':9,\n",
    "          'Ten':10,'Jack':11,'Queen':12,'King':13,'Ace':14}\n",
    "\n",
    "class Card():\n",
    "    def __init__(self,suit,rank):\n",
    "        self.suit = suit\n",
    "        self.rank = rank\n",
    "        self.value = values[rank]\n",
    "    \n",
    "    def __str__(self):\n",
    "        return self.rank+' of '+self.suit\n",
    "\n",
    "class Deck():\n",
    "    def __init__(self):\n",
    "        self.all_cards = []\n",
    "        for suit in suits:\n",
    "            for rank in ranks:\n",
    "                self.all_cards.append(Card(suit,rank))\n",
    "    \n",
    "    def shuffle(self):\n",
    "        random.shuffle(self.all_cards)\n",
    "        \n",
    "    def deal_one_card(self):\n",
    "        return self.all_cards.pop()\n",
    "    \n",
    "class Player():\n",
    "    def __init__(self,name):\n",
    "        self.name = name\n",
    "        self.all_cards = []\n",
    "        \n",
    "    def remove_one(self):\n",
    "        return self.all_cards.pop(0)\n",
    "\n",
    "    def add_cards(self,new_cards):\n",
    "        if type(new_cards) == type([]):\n",
    "            self.all_cards.extend(new_cards)\n",
    "        else:\n",
    "            self.all_cards.append(new_cards)\n",
    "    \n",
    "    def __str__(self):\n",
    "        return f'Player {self.name} has {len(self.all_cards)} cards.'\n",
    "    \n",
    "    def __len__(self):\n",
    "        return len(self.all_cards)\n",
    "\n",
    "if __name__ == '__main__':\n",
    "    p1 = Player('Justine')\n",
    "    p2 = Player('Josiah')\n",
    "    deck = Deck()\n",
    "    deck.shuffle()\n",
    "    \n",
    "for card in range(26):\n",
    "    p1.add_cards(deck.deal_one_card())\n",
    "    p2.add_cards(deck.deal_one_card())\n",
    "\n",
    "game_on = True\n",
    "round_num = 0\n",
    "while game_on:\n",
    "    round_num += 1\n",
    "    print(f'{p1.name} has {len(p1)} cards')\n",
    "    print(f'{p2.name} has {len(p2)} cards')\n",
    "    print(f'***** Round {round_num} *****')\n",
    "    #check victory condition\n",
    "    if len(p1.all_cards) == 0:\n",
    "        print(f'{p1.name} out of cards, {p2.name} WINS!')\n",
    "        game_on = False\n",
    "        break\n",
    "    if len(p2.all_cards) == 0:\n",
    "        print(f'{p1.name} out of cards, {p2.name} WINS!')\n",
    "        game_on = False\n",
    "        break\n",
    "    #start round\n",
    "    p1_cards = []\n",
    "    p1_cards.append(p1.remove_one())\n",
    "    p2_cards = []\n",
    "    p2_cards.append(p2.remove_one())\n",
    "    #while at war\n",
    "    at_war = True\n",
    "    while at_war:\n",
    "        if p1_cards[-1].value > p2_cards[-1].value:\n",
    "            p1.add_cards(p1_cards)\n",
    "            p1.add_cards(p2_cards)\n",
    "            at_war = False\n",
    "        elif p1_cards[-1].value < p2_cards[-1].value:\n",
    "            p2.add_cards(p1_cards)\n",
    "            p2.add_cards(p2_cards)\n",
    "            at_war = False\n",
    "        else:\n",
    "            print('WAR!')\n",
    "            if len(p1.all_cards) < 5:\n",
    "                print(f'{p1.name} cannot war, {p2.name} WINS!')\n",
    "                game_on = False\n",
    "                break\n",
    "            elif len(p2.all_cards) < 5:\n",
    "                print(f'{p2.name} cannot war, {p1.name} WINS!')\n",
    "                game_on = False\n",
    "                break\n",
    "            else:\n",
    "                for num in range(5):\n",
    "                    p1_cards.append(p1.remove_one())\n",
    "                    p2_cards.append(p2.remove_one())"
   ]
  },
  {
   "cell_type": "code",
   "execution_count": 55,
   "id": "303a9d09",
   "metadata": {},
   "outputs": [
    {
     "name": "stdout",
     "output_type": "stream",
     "text": [
      "Two of Hearts\n",
      "Queen of Hearts\n",
      "52\n",
      "King of Hearts\n",
      "51\n",
      "Player Jose has 0 cards.\n",
      "Player Jose has 1 cards.\n"
     ]
    }
   ],
   "source": [
    "d = Deck()\n",
    "print(d.all_cards[0])\n",
    "d.shuffle()\n",
    "print(d.all_cards[0])\n",
    "print(len(d.all_cards))\n",
    "print(d.remove_card())\n",
    "print(len(d.all_cards))\n",
    "p1 = Player('Jose')\n",
    "print(p1)\n",
    "p1.add_cards(d.all_cards)\n",
    "print(p1)"
   ]
  },
  {
   "cell_type": "markdown",
   "id": "9be06f89",
   "metadata": {},
   "source": [
    "# Decorators\n",
    "* If you want an on/off switch to extend functionality of a functions\n",
    "* tack on extra fcnality to a pre-existing fcn\n",
    "* you can assign functions to a variable, or return a function within a function\n",
    "* used commonly in web frameworks like Django and Flask"
   ]
  },
  {
   "cell_type": "code",
   "execution_count": 24,
   "id": "65885afb",
   "metadata": {},
   "outputs": [],
   "source": [
    "# @some_decorator\n",
    "def cool():\n",
    "    def cold():\n",
    "        return 'I am cold'\n",
    "    return cold()\n",
    "def fcn_takes_fcn(function):\n",
    "    print('You are in fcn_takes_fcn')\n",
    "    print(function())"
   ]
  },
  {
   "cell_type": "code",
   "execution_count": 25,
   "id": "d6ba47f8",
   "metadata": {},
   "outputs": [
    {
     "name": "stdout",
     "output_type": "stream",
     "text": [
      "You are in fcn_takes_fcn\n",
      "I am cold\n"
     ]
    }
   ],
   "source": [
    "fcn_takes_fcn(cool)"
   ]
  },
  {
   "cell_type": "code",
   "execution_count": 26,
   "id": "7b7e59c7",
   "metadata": {},
   "outputs": [],
   "source": [
    "def new_decorator(original_fcn):\n",
    "    def wrap_fcn():\n",
    "        '''Hold extra functionality that you want to add to original function'''\n",
    "        print('Some extra code, before original fcn')\n",
    "        original_fcn()\n",
    "        print('Some extra code, after the original fcn')\n",
    "    return wrap_fcn\n",
    "@new_decorator                    #Turn on and off the @new_decorator line to see the difference\n",
    "def fcn_needs_decorator():\n",
    "    print('I want a decorator')"
   ]
  },
  {
   "cell_type": "code",
   "execution_count": 27,
   "id": "80c20940",
   "metadata": {},
   "outputs": [
    {
     "name": "stdout",
     "output_type": "stream",
     "text": [
      "Some extra code, before original fcn\n",
      "I want a decorator\n",
      "Some extra code, after the original fcn\n"
     ]
    }
   ],
   "source": [
    "fcn_needs_decorator()"
   ]
  },
  {
   "cell_type": "markdown",
   "id": "ccb51637",
   "metadata": {},
   "source": [
    "# Generators\n",
    "* function that allows us to generate a sequence of values over time\n",
    "* uses 'yield' keyword statement\n",
    "* automatically suspends and resumes state when used\n",
    "* range() fcn works in this manner\n",
    "* iterables, iterators, and generators "
   ]
  },
  {
   "cell_type": "code",
   "execution_count": 28,
   "id": "e6ee3d00",
   "metadata": {},
   "outputs": [],
   "source": [
    "def create_cubes(n):\n",
    "    for x in range(0,n):\n",
    "        yield x**3"
   ]
  },
  {
   "cell_type": "code",
   "execution_count": 29,
   "id": "f74e8909",
   "metadata": {},
   "outputs": [
    {
     "data": {
      "text/plain": [
       "[0, 1, 8, 27, 64, 125, 216]"
      ]
     },
     "execution_count": 29,
     "metadata": {},
     "output_type": "execute_result"
    }
   ],
   "source": [
    "list(create_cubes(7))"
   ]
  },
  {
   "cell_type": "code",
   "execution_count": 30,
   "id": "f7cb81c5",
   "metadata": {},
   "outputs": [],
   "source": [
    "def fib(n):\n",
    "    a = 1\n",
    "    b = 1\n",
    "    for i in range(n):\n",
    "        yield a           #yield keyword\n",
    "        a,b = b, a+b"
   ]
  },
  {
   "cell_type": "code",
   "execution_count": 31,
   "id": "4e4fff82",
   "metadata": {},
   "outputs": [
    {
     "name": "stdout",
     "output_type": "stream",
     "text": [
      "1\n",
      "1\n",
      "2\n",
      "3\n",
      "5\n",
      "8\n",
      "13\n",
      "21\n",
      "34\n",
      "55\n"
     ]
    }
   ],
   "source": [
    "for num in fib(10):\n",
    "    print(num)"
   ]
  },
  {
   "cell_type": "code",
   "execution_count": 32,
   "id": "e63b2142",
   "metadata": {},
   "outputs": [],
   "source": [
    "def gen_fcn():\n",
    "    for x in range(3):\n",
    "        yield x"
   ]
  },
  {
   "cell_type": "code",
   "execution_count": 33,
   "id": "35b603d1",
   "metadata": {},
   "outputs": [
    {
     "name": "stdout",
     "output_type": "stream",
     "text": [
      "0\n",
      "1\n",
      "2\n"
     ]
    }
   ],
   "source": [
    "for num in gen_fcn():\n",
    "    print(num)"
   ]
  },
  {
   "cell_type": "code",
   "execution_count": 34,
   "id": "15d73a3e",
   "metadata": {},
   "outputs": [],
   "source": [
    "g = gen_fcn()"
   ]
  },
  {
   "cell_type": "code",
   "execution_count": 35,
   "id": "7deaa68c",
   "metadata": {},
   "outputs": [
    {
     "data": {
      "text/plain": [
       "<generator object gen_fcn at 0x000002690E5AD970>"
      ]
     },
     "execution_count": 35,
     "metadata": {},
     "output_type": "execute_result"
    }
   ],
   "source": [
    "g"
   ]
  },
  {
   "cell_type": "code",
   "execution_count": 39,
   "id": "ecfa4247",
   "metadata": {},
   "outputs": [
    {
     "ename": "StopIteration",
     "evalue": "",
     "output_type": "error",
     "traceback": [
      "\u001b[1;31m--------------------------------------------------------------------\u001b[0m",
      "\u001b[1;31mStopIteration\u001b[0m                      Traceback (most recent call last)",
      "\u001b[1;32m<ipython-input-39-e734f8aca5ac>\u001b[0m in \u001b[0;36m<module>\u001b[1;34m\u001b[0m\n\u001b[1;32m----> 1\u001b[1;33m \u001b[0mnext\u001b[0m\u001b[1;33m(\u001b[0m\u001b[0mg\u001b[0m\u001b[1;33m)\u001b[0m\u001b[1;33m\u001b[0m\u001b[1;33m\u001b[0m\u001b[0m\n\u001b[0m",
      "\u001b[1;31mStopIteration\u001b[0m: "
     ]
    }
   ],
   "source": [
    "next(g)"
   ]
  },
  {
   "cell_type": "code",
   "execution_count": 42,
   "id": "9ed20a8a",
   "metadata": {},
   "outputs": [],
   "source": [
    "s = 'hello'\n",
    "s_iter = iter(s)               #iterates through a normal object"
   ]
  },
  {
   "cell_type": "code",
   "execution_count": 45,
   "id": "8eaf14c4",
   "metadata": {},
   "outputs": [
    {
     "data": {
      "text/plain": [
       "'l'"
      ]
     },
     "execution_count": 45,
     "metadata": {},
     "output_type": "execute_result"
    }
   ],
   "source": [
    "next(s_iter)"
   ]
  },
  {
   "cell_type": "markdown",
   "id": "6f45361d",
   "metadata": {},
   "source": [
    "# Built in Modules"
   ]
  },
  {
   "cell_type": "markdown",
   "id": "b2f50c70",
   "metadata": {},
   "source": [
    "## Collections Module"
   ]
  },
  {
   "cell_type": "code",
   "execution_count": 5,
   "id": "14ea6f42",
   "metadata": {},
   "outputs": [
    {
     "data": {
      "text/plain": [
       "Counter({'a': 5, 1: 1, 2: 4, 3: 5})"
      ]
     },
     "execution_count": 5,
     "metadata": {},
     "output_type": "execute_result"
    }
   ],
   "source": [
    "from collections import Counter\n",
    "mylist = ['a','a','a','a',1,2,2,2,2,'a',3,3,3,3,3]\n",
    "Counter(mylist)"
   ]
  },
  {
   "cell_type": "code",
   "execution_count": 6,
   "id": "5496159e",
   "metadata": {},
   "outputs": [
    {
     "data": {
      "text/plain": [
       "Counter({'H': 1,\n",
       "         'o': 4,\n",
       "         'w': 4,\n",
       "         ' ': 3,\n",
       "         'N': 1,\n",
       "         'B': 1,\n",
       "         'r': 1,\n",
       "         'n': 1,\n",
       "         'C': 1})"
      ]
     },
     "execution_count": 6,
     "metadata": {},
     "output_type": "execute_result"
    }
   ],
   "source": [
    "Counter('How Now Brown Cow')"
   ]
  },
  {
   "cell_type": "code",
   "execution_count": 7,
   "id": "cbc5784a",
   "metadata": {},
   "outputs": [
    {
     "data": {
      "text/plain": [
       "Counter({'How': 1, 'Now': 2, 'Brown': 1, 'Cow': 1})"
      ]
     },
     "execution_count": 7,
     "metadata": {},
     "output_type": "execute_result"
    }
   ],
   "source": [
    "Counter('How Now Brown Cow Now'.split())"
   ]
  },
  {
   "cell_type": "code",
   "execution_count": 11,
   "id": "f65e69d6",
   "metadata": {},
   "outputs": [
    {
     "data": {
      "text/plain": [
       "[('d', 9), ('c', 8)]"
      ]
     },
     "execution_count": 11,
     "metadata": {},
     "output_type": "execute_result"
    }
   ],
   "source": [
    "letters = 'aaaabbbbbbbccccccccddddddddd'\n",
    "c = Counter(letters)\n",
    "c.most_common(2)            #most _common() returns tuples and takes an optional int to return top common items"
   ]
  },
  {
   "cell_type": "code",
   "execution_count": 20,
   "id": "abcdfe71",
   "metadata": {},
   "outputs": [
    {
     "data": {
      "text/plain": [
       "0"
      ]
     },
     "execution_count": 20,
     "metadata": {},
     "output_type": "execute_result"
    }
   ],
   "source": [
    "from collections import defaultdict     #default dictionary assigns default value for keys that have not been seen yet\n",
    "d = defaultdict(lambda:0)               #lambda function will assign the default value to a new key\n",
    "d['a'] = 10\n",
    "d['WRONG']"
   ]
  },
  {
   "cell_type": "code",
   "execution_count": 29,
   "id": "3866c38c",
   "metadata": {},
   "outputs": [],
   "source": [
    "from collections import namedtuple                #for large tuples you can call an index by position or attritube\n",
    "Dog = namedtuple('Dog', ['age','breed','name'])   # so for the Dog tuple, you can pull age, breed, name by \"key\" name or index"
   ]
  },
  {
   "cell_type": "code",
   "execution_count": 30,
   "id": "c89adbd0",
   "metadata": {},
   "outputs": [
    {
     "data": {
      "text/plain": [
       "'Husky'"
      ]
     },
     "execution_count": 30,
     "metadata": {},
     "output_type": "execute_result"
    }
   ],
   "source": [
    "sammy = Dog(age=5,breed='Husky',name='Sammy')\n",
    "sammy.breed"
   ]
  },
  {
   "cell_type": "markdown",
   "id": "bfefb3eb",
   "metadata": {},
   "source": [
    "## Shutil and OS Modules\n",
    "* shutil = shell utility"
   ]
  },
  {
   "cell_type": "code",
   "execution_count": 31,
   "id": "c2376bf2",
   "metadata": {},
   "outputs": [
    {
     "data": {
      "text/plain": [
       "'C:\\\\Repos\\\\Udemy_Python_Bootcamp\\\\Jupyter Notebooks'"
      ]
     },
     "execution_count": 31,
     "metadata": {},
     "output_type": "execute_result"
    }
   ],
   "source": [
    "pwd"
   ]
  },
  {
   "cell_type": "code",
   "execution_count": 33,
   "id": "2c3a864a",
   "metadata": {},
   "outputs": [],
   "source": [
    "f = open('practice.txt', 'w+')\n",
    "f.write('This is a test.')\n",
    "f.close()"
   ]
  },
  {
   "cell_type": "code",
   "execution_count": 42,
   "id": "8aafc8ec",
   "metadata": {},
   "outputs": [
    {
     "data": {
      "text/plain": [
       "['.android',\n",
       " '.angular-config.json',\n",
       " '.cache',\n",
       " '.config',\n",
       " '.docker',\n",
       " '.dotnet',\n",
       " '.emulator_console_auth_token',\n",
       " '.gitconfig',\n",
       " '.ipython',\n",
       " '.jupyter',\n",
       " '.m2',\n",
       " '.nuget',\n",
       " '.omnisharp',\n",
       " '.pylint.d',\n",
       " '.templateengine',\n",
       " '.VirtualBox',\n",
       " '.vscode',\n",
       " '3D Objects',\n",
       " 'ansel',\n",
       " 'AppData',\n",
       " 'Application Data',\n",
       " 'Contacts',\n",
       " 'Cookies',\n",
       " 'Desktop',\n",
       " 'Documents',\n",
       " 'Downloads',\n",
       " 'Favorites',\n",
       " 'Games',\n",
       " 'GNS3',\n",
       " 'gpgol.txt',\n",
       " 'Links',\n",
       " 'Linux',\n",
       " 'Local Settings',\n",
       " 'MicrosoftEdgeBackups',\n",
       " 'Music',\n",
       " 'My Documents',\n",
       " 'NetHood',\n",
       " 'New folder',\n",
       " 'NTUSER.DAT',\n",
       " 'ntuser.dat.LOG1',\n",
       " 'ntuser.dat.LOG2',\n",
       " 'NTUSER.DAT{53b39e88-18c4-11ea-a811-000d3aa4692b}.TM.blf',\n",
       " 'NTUSER.DAT{53b39e88-18c4-11ea-a811-000d3aa4692b}.TMContainer00000000000000000001.regtrans-ms',\n",
       " 'NTUSER.DAT{53b39e88-18c4-11ea-a811-000d3aa4692b}.TMContainer00000000000000000002.regtrans-ms',\n",
       " 'ntuser.ini',\n",
       " 'OneDrive',\n",
       " 'Pictures',\n",
       " 'Postman',\n",
       " 'PrintHood',\n",
       " 'Recent',\n",
       " 'Saved Games',\n",
       " 'Searches',\n",
       " 'SendTo',\n",
       " 'source',\n",
       " 'Start Menu',\n",
       " 'Templates',\n",
       " 'Videos',\n",
       " 'VirtualBox VMs']"
      ]
     },
     "execution_count": 42,
     "metadata": {},
     "output_type": "execute_result"
    }
   ],
   "source": [
    "import os\n",
    "os.getcwd()\n",
    "os.listdir('C:\\\\Users\\\\Srikaleak')"
   ]
  },
  {
   "cell_type": "code",
   "execution_count": 44,
   "id": "e4b93651",
   "metadata": {},
   "outputs": [
    {
     "data": {
      "text/plain": [
       "'C:\\\\Users\\\\Srikaleak\\\\practice.txt'"
      ]
     },
     "execution_count": 44,
     "metadata": {},
     "output_type": "execute_result"
    }
   ],
   "source": [
    "import shutil\n",
    "shutil.move('practice.txt', 'C:\\\\Users\\\\Srikaleak')"
   ]
  },
  {
   "cell_type": "code",
   "execution_count": 45,
   "id": "558baea1",
   "metadata": {},
   "outputs": [
    {
     "data": {
      "text/plain": [
       "['.android',\n",
       " '.angular-config.json',\n",
       " '.cache',\n",
       " '.config',\n",
       " '.docker',\n",
       " '.dotnet',\n",
       " '.emulator_console_auth_token',\n",
       " '.gitconfig',\n",
       " '.ipython',\n",
       " '.jupyter',\n",
       " '.m2',\n",
       " '.nuget',\n",
       " '.omnisharp',\n",
       " '.pylint.d',\n",
       " '.templateengine',\n",
       " '.VirtualBox',\n",
       " '.vscode',\n",
       " '3D Objects',\n",
       " 'ansel',\n",
       " 'AppData',\n",
       " 'Application Data',\n",
       " 'Contacts',\n",
       " 'Cookies',\n",
       " 'Desktop',\n",
       " 'Documents',\n",
       " 'Downloads',\n",
       " 'Favorites',\n",
       " 'Games',\n",
       " 'GNS3',\n",
       " 'gpgol.txt',\n",
       " 'Links',\n",
       " 'Linux',\n",
       " 'Local Settings',\n",
       " 'MicrosoftEdgeBackups',\n",
       " 'Music',\n",
       " 'My Documents',\n",
       " 'NetHood',\n",
       " 'New folder',\n",
       " 'NTUSER.DAT',\n",
       " 'ntuser.dat.LOG1',\n",
       " 'ntuser.dat.LOG2',\n",
       " 'NTUSER.DAT{53b39e88-18c4-11ea-a811-000d3aa4692b}.TM.blf',\n",
       " 'NTUSER.DAT{53b39e88-18c4-11ea-a811-000d3aa4692b}.TMContainer00000000000000000001.regtrans-ms',\n",
       " 'NTUSER.DAT{53b39e88-18c4-11ea-a811-000d3aa4692b}.TMContainer00000000000000000002.regtrans-ms',\n",
       " 'ntuser.ini',\n",
       " 'OneDrive',\n",
       " 'Pictures',\n",
       " 'Postman',\n",
       " 'practice.txt',\n",
       " 'PrintHood',\n",
       " 'Recent',\n",
       " 'Saved Games',\n",
       " 'Searches',\n",
       " 'SendTo',\n",
       " 'source',\n",
       " 'Start Menu',\n",
       " 'Templates',\n",
       " 'Videos',\n",
       " 'VirtualBox VMs']"
      ]
     },
     "execution_count": 45,
     "metadata": {},
     "output_type": "execute_result"
    }
   ],
   "source": [
    "os.listdir('C:\\\\Users\\\\Srikaleak')"
   ]
  },
  {
   "cell_type": "code",
   "execution_count": 46,
   "id": "3a65b943",
   "metadata": {},
   "outputs": [
    {
     "data": {
      "text/plain": [
       "'C:\\\\Repos\\\\Udemy_Python_Bootcamp\\\\Jupyter Notebooks\\\\practice.txt'"
      ]
     },
     "execution_count": 46,
     "metadata": {},
     "output_type": "execute_result"
    }
   ],
   "source": [
    "shutil.move('C:\\\\Users\\\\Srikaleak\\\\practice.txt', os.getcwd())"
   ]
  },
  {
   "cell_type": "code",
   "execution_count": 48,
   "id": "25ac9616",
   "metadata": {},
   "outputs": [],
   "source": [
    "import send2trash                        #safer way of removing files by sending to trash/recycle bin\n",
    "send2trash.send2trash('practice.txt')"
   ]
  },
  {
   "cell_type": "code",
   "execution_count": 65,
   "id": "ffe07802",
   "metadata": {},
   "outputs": [
    {
     "name": "stdout",
     "output_type": "stream",
     "text": [
      "Working Directory: C:\\Users\\Srikaleak\\Documents\\UTD\\Spring 2021\\CS 6378\n",
      "Sub_Directories: ['Papers', 'Project 2 Submission', 'Project 3 Submission']\n",
      "Files: ['CS 6378 paperlist_spring2021.pdf', 'CS 6378 Syllabus Spring 2021.pdf', 'Project 2 Submission.zip', 'Project 3 Submission.zip', 'project1.pdf', 'project2.pdf', 'project3.pdf', 'quiz4.pdf', 'Quiz_3_Submission.pdf', 'Quiz_4_Submission.pdf', 'slides_advanced_OS New.ppt', 'slides_Amazon Dynamo.pptx', 'slides_Checkpointing-Rollback-Recovery-Koo-Toueg protocol.pptx', 'slides_Google File System.pptx', 'slides_Microsoft Quincy.pptx', 'slides_Voting Protocols and Jajodia Mutchler Algorithm.pptx']\n",
      "Working Directory: C:\\Users\\Srikaleak\\Documents\\UTD\\Spring 2021\\CS 6378\\Papers\n",
      "Sub_Directories: []\n",
      "Files: ['[10]Dynamo Amazons highly available key value store.pdf', '[11]The Consensus Problem In Unreliable distributed systems.pdf', '[13]Google File System.pdf', '[14]Weighted voting for replicated data.pdf', '[15]Brewers conjecture and feasability of consistent available parition tolerant web services.pdf', '[16]Accuracy of the clock synchronization achieved by TEMPO in Berkeley UNIX 4.3BSD.pdf', '[17]Quincy fair scheduling for distributed computing clusters.pdf', '[18]A hybrid replica control algorithm combining static and dynamic voting.pdf', '[19]Checkpointing and Rollback-Recovery for Distributed Systems.pdf', '[20]Time, clocks, and the ordering of events in a distributed system.pdf', '[21]A rootN algorithm for mutual exclusion in decentralized systems.pdf', '[22]Virtual Time and Global States of Distributed Systems.pdf', '[25]A tree-based algorithm for distributed mutual exclusion.pdf', '[26]The causal ordering abstraction and a simple way to implement it.pdf', '[27]Tempest and typhoon user level shared memory.pdf', '[28]An optimal algorithm for mutual exclusion in computer networks.pdf', '[29]Software Transactional Memory.pdf', '[30]A Formal Model of Crash Recovery in a Distributed System.pdf', '[31]Optimal Clock Synchronization.pdf', '[3]On mutual exclusion in computer networks Technical Correspondence.pdf', '[4]Practical Byzantine fault tolerance and proactive recovery.pdf', '[5]Distributed Snapshots determining global states of distributed systems.pdf', '[7]Cristian1989_Article_ProbabilisticClockSynchronizat.pdf', '[8]Consistency in partitioned networks.pdf']\n",
      "Working Directory: C:\\Users\\Srikaleak\\Documents\\UTD\\Spring 2021\\CS 6378\\Project 2 Submission\n",
      "Sub_Directories: []\n",
      "Files: ['Client.java', 'README.md', 'Server.java', 'UTDNetworkClient.java']\n",
      "Working Directory: C:\\Users\\Srikaleak\\Documents\\UTD\\Spring 2021\\CS 6378\\Project 3 Submission\n",
      "Sub_Directories: []\n",
      "Files: ['Client.java', 'README.md', 'Server.java']\n"
     ]
    }
   ],
   "source": [
    "for directory,subdir,file in os.walk('C:\\\\Users\\\\Srikaleak\\\\Documents\\\\UTD\\\\Spring 2021\\\\CS 6378'):\n",
    "    print(f'Working Directory: {directory}')\n",
    "    print(f'Sub_Directories: {subdir}')\n",
    "    print(f'Files: {file}')"
   ]
  },
  {
   "cell_type": "markdown",
   "id": "765fba91",
   "metadata": {},
   "source": [
    "## Datetime"
   ]
  },
  {
   "cell_type": "code",
   "execution_count": 70,
   "id": "34fe21d4",
   "metadata": {},
   "outputs": [
    {
     "data": {
      "text/plain": [
       "'02:20:20.000020'"
      ]
     },
     "execution_count": 70,
     "metadata": {},
     "output_type": "execute_result"
    }
   ],
   "source": [
    "import datetime\n",
    "mytime = datetime.time(2,20,20,20)          #.time() only holds time information\n",
    "mytime.isoformat()"
   ]
  },
  {
   "cell_type": "code",
   "execution_count": 73,
   "id": "cec8bb2f",
   "metadata": {},
   "outputs": [
    {
     "data": {
      "text/plain": [
       "'Wed Jul  7 00:00:00 2021'"
      ]
     },
     "execution_count": 73,
     "metadata": {},
     "output_type": "execute_result"
    }
   ],
   "source": [
    "today = datetime.date.today()\n",
    "today.ctime()                            #format is usually largest time frame to smallest"
   ]
  },
  {
   "cell_type": "code",
   "execution_count": 74,
   "id": "dc40de0f",
   "metadata": {},
   "outputs": [
    {
     "data": {
      "text/plain": [
       "datetime.timedelta(days=32)"
      ]
     },
     "execution_count": 74,
     "metadata": {},
     "output_type": "execute_result"
    }
   ],
   "source": [
    "# Date math\n",
    "from datetime import date\n",
    "date1 = date(2021, 8, 12)\n",
    "date2 = date(2021, 9, 13)\n",
    "date2 - date1"
   ]
  },
  {
   "cell_type": "markdown",
   "id": "032f2556",
   "metadata": {},
   "source": [
    "## Math and Random module\n",
    "* Numpy library is used for numerical processing that goes in more detail than pythons builtin math module"
   ]
  },
  {
   "cell_type": "code",
   "execution_count": 78,
   "id": "7aeb2931",
   "metadata": {},
   "outputs": [
    {
     "name": "stdout",
     "output_type": "stream",
     "text": [
      "4\n",
      "5\n",
      "5\n"
     ]
    }
   ],
   "source": [
    "import math\n",
    "value = 4.55\n",
    "print(math.floor(value))\n",
    "print(math.ceil(value))\n",
    "print(round(value))"
   ]
  },
  {
   "cell_type": "code",
   "execution_count": 79,
   "id": "f5bb367a",
   "metadata": {},
   "outputs": [
    {
     "data": {
      "text/plain": [
       "1.0"
      ]
     },
     "execution_count": 79,
     "metadata": {},
     "output_type": "execute_result"
    }
   ],
   "source": [
    "math.log(math.e)"
   ]
  },
  {
   "cell_type": "code",
   "execution_count": 81,
   "id": "97704a1b",
   "metadata": {},
   "outputs": [
    {
     "data": {
      "text/plain": [
       "2.0"
      ]
     },
     "execution_count": 81,
     "metadata": {},
     "output_type": "execute_result"
    }
   ],
   "source": [
    "math.log(100,10)"
   ]
  },
  {
   "cell_type": "code",
   "execution_count": 85,
   "id": "83880e86",
   "metadata": {},
   "outputs": [
    {
     "data": {
      "text/plain": [
       "0.8939966636005579"
      ]
     },
     "execution_count": 85,
     "metadata": {},
     "output_type": "execute_result"
    }
   ],
   "source": [
    "math.sin(90)"
   ]
  },
  {
   "cell_type": "code",
   "execution_count": 83,
   "id": "6a2efabf",
   "metadata": {},
   "outputs": [
    {
     "data": {
      "text/plain": [
       "90.0"
      ]
     },
     "execution_count": 83,
     "metadata": {},
     "output_type": "execute_result"
    }
   ],
   "source": [
    "math.degrees(math.pi/2)"
   ]
  },
  {
   "cell_type": "code",
   "execution_count": 100,
   "id": "61b45916",
   "metadata": {},
   "outputs": [
    {
     "data": {
      "text/plain": [
       "91"
      ]
     },
     "execution_count": 100,
     "metadata": {},
     "output_type": "execute_result"
    }
   ],
   "source": [
    "import random\n",
    "random.seed(24)           #seeding will produce the same sequence of numbers\n",
    "random.randint(0,100)"
   ]
  },
  {
   "cell_type": "code",
   "execution_count": 101,
   "id": "864bb58d",
   "metadata": {},
   "outputs": [
    {
     "data": {
      "text/plain": [
       "49"
      ]
     },
     "execution_count": 101,
     "metadata": {},
     "output_type": "execute_result"
    }
   ],
   "source": [
    "random.randint(0,100)"
   ]
  },
  {
   "cell_type": "code",
   "execution_count": 102,
   "id": "cb560957",
   "metadata": {},
   "outputs": [
    {
     "data": {
      "text/plain": [
       "74"
      ]
     },
     "execution_count": 102,
     "metadata": {},
     "output_type": "execute_result"
    }
   ],
   "source": [
    "random.randint(0,100)"
   ]
  },
  {
   "cell_type": "code",
   "execution_count": 104,
   "id": "150c88de",
   "metadata": {},
   "outputs": [
    {
     "data": {
      "text/plain": [
       "23"
      ]
     },
     "execution_count": 104,
     "metadata": {},
     "output_type": "execute_result"
    }
   ],
   "source": [
    "mylist = list(range(0,100))\n",
    "random.choice(mylist)"
   ]
  },
  {
   "cell_type": "code",
   "execution_count": 105,
   "id": "7e484d53",
   "metadata": {},
   "outputs": [
    {
     "data": {
      "text/plain": [
       "[21, 16, 16, 68, 70, 99, 80, 28, 92, 1]"
      ]
     },
     "execution_count": 105,
     "metadata": {},
     "output_type": "execute_result"
    }
   ],
   "source": [
    "#sampling with replacement, allows for multiple selections of same item\n",
    "random.choices(population=mylist,k=10)"
   ]
  },
  {
   "cell_type": "code",
   "execution_count": 106,
   "id": "fd399b38",
   "metadata": {},
   "outputs": [
    {
     "data": {
      "text/plain": [
       "[59, 92, 81, 14, 3, 66, 21, 62, 94, 56]"
      ]
     },
     "execution_count": 106,
     "metadata": {},
     "output_type": "execute_result"
    }
   ],
   "source": [
    "#sampling without replacement, can only select an item once\n",
    "random.sample(population=mylist,k=10)"
   ]
  },
  {
   "cell_type": "code",
   "execution_count": 107,
   "id": "3a7a917a",
   "metadata": {},
   "outputs": [
    {
     "data": {
      "text/plain": [
       "[49,\n",
       " 73,\n",
       " 76,\n",
       " 74,\n",
       " 3,\n",
       " 88,\n",
       " 70,\n",
       " 28,\n",
       " 85,\n",
       " 82,\n",
       " 6,\n",
       " 22,\n",
       " 29,\n",
       " 54,\n",
       " 0,\n",
       " 2,\n",
       " 17,\n",
       " 37,\n",
       " 67,\n",
       " 47,\n",
       " 21,\n",
       " 1,\n",
       " 68,\n",
       " 7,\n",
       " 96,\n",
       " 60,\n",
       " 26,\n",
       " 65,\n",
       " 33,\n",
       " 53,\n",
       " 24,\n",
       " 45,\n",
       " 44,\n",
       " 23,\n",
       " 57,\n",
       " 86,\n",
       " 93,\n",
       " 66,\n",
       " 13,\n",
       " 91,\n",
       " 52,\n",
       " 80,\n",
       " 51,\n",
       " 64,\n",
       " 92,\n",
       " 55,\n",
       " 58,\n",
       " 81,\n",
       " 5,\n",
       " 15,\n",
       " 59,\n",
       " 72,\n",
       " 14,\n",
       " 48,\n",
       " 56,\n",
       " 16,\n",
       " 94,\n",
       " 30,\n",
       " 79,\n",
       " 50,\n",
       " 98,\n",
       " 42,\n",
       " 77,\n",
       " 61,\n",
       " 90,\n",
       " 18,\n",
       " 75,\n",
       " 97,\n",
       " 11,\n",
       " 25,\n",
       " 35,\n",
       " 71,\n",
       " 34,\n",
       " 36,\n",
       " 62,\n",
       " 19,\n",
       " 31,\n",
       " 12,\n",
       " 89,\n",
       " 8,\n",
       " 43,\n",
       " 40,\n",
       " 27,\n",
       " 4,\n",
       " 84,\n",
       " 46,\n",
       " 83,\n",
       " 69,\n",
       " 9,\n",
       " 39,\n",
       " 41,\n",
       " 95,\n",
       " 20,\n",
       " 78,\n",
       " 32,\n",
       " 99,\n",
       " 10,\n",
       " 63,\n",
       " 38,\n",
       " 87]"
      ]
     },
     "execution_count": 107,
     "metadata": {},
     "output_type": "execute_result"
    }
   ],
   "source": [
    "random.shuffle(mylist)         #permanently shuffles the list, does not return anything\n",
    "mylist"
   ]
  },
  {
   "cell_type": "code",
   "execution_count": 108,
   "id": "7e9e31aa",
   "metadata": {},
   "outputs": [
    {
     "data": {
      "text/plain": [
       "30.298728027895926"
      ]
     },
     "execution_count": 108,
     "metadata": {},
     "output_type": "execute_result"
    }
   ],
   "source": [
    "random.uniform(a=0,b=100)         #uniform distribution"
   ]
  },
  {
   "cell_type": "code",
   "execution_count": 109,
   "id": "9f298186",
   "metadata": {},
   "outputs": [
    {
     "data": {
      "text/plain": [
       "-0.24620283483049213"
      ]
     },
     "execution_count": 109,
     "metadata": {},
     "output_type": "execute_result"
    }
   ],
   "source": [
    "random.gauss(mu=0,sigma=1)         #gaussian/normal distribution"
   ]
  },
  {
   "cell_type": "markdown",
   "id": "8fc12528",
   "metadata": {},
   "source": [
    "# Python Debugger\n",
    "* use set_trace() to pause midscript\n",
    "* the interactive debugger can be used to see what variables are assigned to mid operation"
   ]
  },
  {
   "cell_type": "code",
   "execution_count": 5,
   "id": "29074065",
   "metadata": {},
   "outputs": [
    {
     "name": "stdout",
     "output_type": "stream",
     "text": [
      "--Return--\n",
      "None\n",
      "> \u001b[1;32m<ipython-input-5-c8a20b0d8bde>\u001b[0m(5)\u001b[0;36m<module>\u001b[1;34m()\u001b[0m\n",
      "\u001b[1;32m      3 \u001b[1;33m\u001b[0my\u001b[0m \u001b[1;33m=\u001b[0m \u001b[1;36m2\u001b[0m\u001b[1;33m\u001b[0m\u001b[1;33m\u001b[0m\u001b[0m\n",
      "\u001b[0m\u001b[1;32m      4 \u001b[1;33m\u001b[0mz\u001b[0m \u001b[1;33m=\u001b[0m \u001b[1;36m3\u001b[0m\u001b[1;33m\u001b[0m\u001b[1;33m\u001b[0m\u001b[0m\n",
      "\u001b[0m\u001b[1;32m----> 5 \u001b[1;33m\u001b[0mpdb\u001b[0m\u001b[1;33m.\u001b[0m\u001b[0mset_trace\u001b[0m\u001b[1;33m(\u001b[0m\u001b[1;33m)\u001b[0m\u001b[1;33m\u001b[0m\u001b[1;33m\u001b[0m\u001b[0m\n",
      "\u001b[0m\u001b[1;32m      6 \u001b[1;33m\u001b[0mresult\u001b[0m \u001b[1;33m=\u001b[0m \u001b[0my\u001b[0m \u001b[1;33m+\u001b[0m \u001b[0mz\u001b[0m\u001b[1;33m\u001b[0m\u001b[1;33m\u001b[0m\u001b[0m\n",
      "\u001b[0m\u001b[1;32m      7 \u001b[1;33m\u001b[0mresult2\u001b[0m \u001b[1;33m=\u001b[0m \u001b[0mx\u001b[0m \u001b[1;33m+\u001b[0m \u001b[0my\u001b[0m\u001b[1;33m\u001b[0m\u001b[1;33m\u001b[0m\u001b[0m\n",
      "\u001b[0m\n",
      "ipdb> next\n",
      "\u001b[1;31m    [... skipped 1 hidden frame]\u001b[0m\n",
      "\n",
      "\u001b[1;31m    [... skipped 1 hidden frame]\u001b[0m\n",
      "\n",
      "\u001b[1;31m    [... skipped 1 hidden frame]\u001b[0m\n",
      "\n",
      "\u001b[1;31m    [... skipped 1 hidden frame]\u001b[0m\n",
      "\n",
      "> \u001b[1;32mc:\\users\\srikaleak\\appdata\\local\\programs\\python\\python38\\lib\\site-packages\\ipython\\core\\interactiveshell.py\u001b[0m(3353)\u001b[0;36mrun_ast_nodes\u001b[1;34m()\u001b[0m\n",
      "\u001b[1;32m   3351 \u001b[1;33m                    \u001b[0mto_run\u001b[0m\u001b[1;33m.\u001b[0m\u001b[0mappend\u001b[0m\u001b[1;33m(\u001b[0m\u001b[1;33m(\u001b[0m\u001b[0mnode\u001b[0m\u001b[1;33m,\u001b[0m \u001b[1;34m'single'\u001b[0m\u001b[1;33m)\u001b[0m\u001b[1;33m)\u001b[0m\u001b[1;33m\u001b[0m\u001b[1;33m\u001b[0m\u001b[0m\n",
      "\u001b[0m\u001b[1;32m   3352 \u001b[1;33m\u001b[1;33m\u001b[0m\u001b[0m\n",
      "\u001b[0m\u001b[1;32m-> 3353 \u001b[1;33m                \u001b[1;32mfor\u001b[0m \u001b[0mnode\u001b[0m\u001b[1;33m,\u001b[0m\u001b[0mmode\u001b[0m \u001b[1;32min\u001b[0m \u001b[0mto_run\u001b[0m\u001b[1;33m:\u001b[0m\u001b[1;33m\u001b[0m\u001b[1;33m\u001b[0m\u001b[0m\n",
      "\u001b[0m\u001b[1;32m   3354 \u001b[1;33m                    \u001b[1;32mif\u001b[0m \u001b[0mmode\u001b[0m \u001b[1;33m==\u001b[0m \u001b[1;34m'exec'\u001b[0m\u001b[1;33m:\u001b[0m\u001b[1;33m\u001b[0m\u001b[1;33m\u001b[0m\u001b[0m\n",
      "\u001b[0m\u001b[1;32m   3355 \u001b[1;33m                        \u001b[0mmod\u001b[0m \u001b[1;33m=\u001b[0m \u001b[0mModule\u001b[0m\u001b[1;33m(\u001b[0m\u001b[1;33m[\u001b[0m\u001b[0mnode\u001b[0m\u001b[1;33m]\u001b[0m\u001b[1;33m,\u001b[0m \u001b[1;33m[\u001b[0m\u001b[1;33m]\u001b[0m\u001b[1;33m)\u001b[0m\u001b[1;33m\u001b[0m\u001b[1;33m\u001b[0m\u001b[0m\n",
      "\u001b[0m\n",
      "ipdb> result\n",
      "<ExecutionResult object at 15fb129a400, execution_count=5 error_before_exec=None error_in_exec=None info=<ExecutionInfo object at 15fb129a370, raw_cell=\"import pdb           #pdb is the python debugger\n",
      "x..\" store_history=True silent=False shell_futures=True> result=None>\n",
      "ipdb> x\n",
      "*** NameError: name 'x' is not defined\n",
      "ipdb> q\n"
     ]
    },
    {
     "ename": "BdbQuit",
     "evalue": "",
     "output_type": "error",
     "traceback": [
      "\u001b[1;31m---------------------------------------------------------------------------\u001b[0m",
      "\u001b[1;31mBdbQuit\u001b[0m                                   Traceback (most recent call last)",
      "\u001b[1;32mc:\\users\\srikaleak\\appdata\\local\\programs\\python\\python38\\lib\\site-packages\\IPython\\core\\interactiveshell.py\u001b[0m in \u001b[0;36mrun_ast_nodes\u001b[1;34m(self, nodelist, cell_name, interactivity, compiler, result)\u001b[0m\n\u001b[0;32m   3351\u001b[0m                     \u001b[0mto_run\u001b[0m\u001b[1;33m.\u001b[0m\u001b[0mappend\u001b[0m\u001b[1;33m(\u001b[0m\u001b[1;33m(\u001b[0m\u001b[0mnode\u001b[0m\u001b[1;33m,\u001b[0m \u001b[1;34m'single'\u001b[0m\u001b[1;33m)\u001b[0m\u001b[1;33m)\u001b[0m\u001b[1;33m\u001b[0m\u001b[1;33m\u001b[0m\u001b[0m\n\u001b[0;32m   3352\u001b[0m \u001b[1;33m\u001b[0m\u001b[0m\n\u001b[1;32m-> 3353\u001b[1;33m                 \u001b[1;32mfor\u001b[0m \u001b[0mnode\u001b[0m\u001b[1;33m,\u001b[0m\u001b[0mmode\u001b[0m \u001b[1;32min\u001b[0m \u001b[0mto_run\u001b[0m\u001b[1;33m:\u001b[0m\u001b[1;33m\u001b[0m\u001b[1;33m\u001b[0m\u001b[0m\n\u001b[0m\u001b[0;32m   3354\u001b[0m                     \u001b[1;32mif\u001b[0m \u001b[0mmode\u001b[0m \u001b[1;33m==\u001b[0m \u001b[1;34m'exec'\u001b[0m\u001b[1;33m:\u001b[0m\u001b[1;33m\u001b[0m\u001b[1;33m\u001b[0m\u001b[0m\n\u001b[0;32m   3355\u001b[0m                         \u001b[0mmod\u001b[0m \u001b[1;33m=\u001b[0m \u001b[0mModule\u001b[0m\u001b[1;33m(\u001b[0m\u001b[1;33m[\u001b[0m\u001b[0mnode\u001b[0m\u001b[1;33m]\u001b[0m\u001b[1;33m,\u001b[0m \u001b[1;33m[\u001b[0m\u001b[1;33m]\u001b[0m\u001b[1;33m)\u001b[0m\u001b[1;33m\u001b[0m\u001b[1;33m\u001b[0m\u001b[0m\n",
      "\u001b[1;32mc:\\users\\srikaleak\\appdata\\local\\programs\\python\\python38\\lib\\bdb.py\u001b[0m in \u001b[0;36mtrace_dispatch\u001b[1;34m(self, frame, event, arg)\u001b[0m\n\u001b[0;32m     86\u001b[0m             \u001b[1;32mreturn\u001b[0m \u001b[1;31m# None\u001b[0m\u001b[1;33m\u001b[0m\u001b[1;33m\u001b[0m\u001b[0m\n\u001b[0;32m     87\u001b[0m         \u001b[1;32mif\u001b[0m \u001b[0mevent\u001b[0m \u001b[1;33m==\u001b[0m \u001b[1;34m'line'\u001b[0m\u001b[1;33m:\u001b[0m\u001b[1;33m\u001b[0m\u001b[1;33m\u001b[0m\u001b[0m\n\u001b[1;32m---> 88\u001b[1;33m             \u001b[1;32mreturn\u001b[0m \u001b[0mself\u001b[0m\u001b[1;33m.\u001b[0m\u001b[0mdispatch_line\u001b[0m\u001b[1;33m(\u001b[0m\u001b[0mframe\u001b[0m\u001b[1;33m)\u001b[0m\u001b[1;33m\u001b[0m\u001b[1;33m\u001b[0m\u001b[0m\n\u001b[0m\u001b[0;32m     89\u001b[0m         \u001b[1;32mif\u001b[0m \u001b[0mevent\u001b[0m \u001b[1;33m==\u001b[0m \u001b[1;34m'call'\u001b[0m\u001b[1;33m:\u001b[0m\u001b[1;33m\u001b[0m\u001b[1;33m\u001b[0m\u001b[0m\n\u001b[0;32m     90\u001b[0m             \u001b[1;32mreturn\u001b[0m \u001b[0mself\u001b[0m\u001b[1;33m.\u001b[0m\u001b[0mdispatch_call\u001b[0m\u001b[1;33m(\u001b[0m\u001b[0mframe\u001b[0m\u001b[1;33m,\u001b[0m \u001b[0marg\u001b[0m\u001b[1;33m)\u001b[0m\u001b[1;33m\u001b[0m\u001b[1;33m\u001b[0m\u001b[0m\n",
      "\u001b[1;32mc:\\users\\srikaleak\\appdata\\local\\programs\\python\\python38\\lib\\bdb.py\u001b[0m in \u001b[0;36mdispatch_line\u001b[1;34m(self, frame)\u001b[0m\n\u001b[0;32m    111\u001b[0m         \u001b[1;32mif\u001b[0m \u001b[0mself\u001b[0m\u001b[1;33m.\u001b[0m\u001b[0mstop_here\u001b[0m\u001b[1;33m(\u001b[0m\u001b[0mframe\u001b[0m\u001b[1;33m)\u001b[0m \u001b[1;32mor\u001b[0m \u001b[0mself\u001b[0m\u001b[1;33m.\u001b[0m\u001b[0mbreak_here\u001b[0m\u001b[1;33m(\u001b[0m\u001b[0mframe\u001b[0m\u001b[1;33m)\u001b[0m\u001b[1;33m:\u001b[0m\u001b[1;33m\u001b[0m\u001b[1;33m\u001b[0m\u001b[0m\n\u001b[0;32m    112\u001b[0m             \u001b[0mself\u001b[0m\u001b[1;33m.\u001b[0m\u001b[0muser_line\u001b[0m\u001b[1;33m(\u001b[0m\u001b[0mframe\u001b[0m\u001b[1;33m)\u001b[0m\u001b[1;33m\u001b[0m\u001b[1;33m\u001b[0m\u001b[0m\n\u001b[1;32m--> 113\u001b[1;33m             \u001b[1;32mif\u001b[0m \u001b[0mself\u001b[0m\u001b[1;33m.\u001b[0m\u001b[0mquitting\u001b[0m\u001b[1;33m:\u001b[0m \u001b[1;32mraise\u001b[0m \u001b[0mBdbQuit\u001b[0m\u001b[1;33m\u001b[0m\u001b[1;33m\u001b[0m\u001b[0m\n\u001b[0m\u001b[0;32m    114\u001b[0m         \u001b[1;32mreturn\u001b[0m \u001b[0mself\u001b[0m\u001b[1;33m.\u001b[0m\u001b[0mtrace_dispatch\u001b[0m\u001b[1;33m\u001b[0m\u001b[1;33m\u001b[0m\u001b[0m\n\u001b[0;32m    115\u001b[0m \u001b[1;33m\u001b[0m\u001b[0m\n",
      "\u001b[1;31mBdbQuit\u001b[0m: "
     ]
    }
   ],
   "source": [
    "import pdb           #pdb is the python debugger\n",
    "x = [1,2,3]\n",
    "y = 2\n",
    "z = 3\n",
    "pdb.set_trace()\n",
    "result = y + z\n",
    "result2 = x + y"
   ]
  },
  {
   "cell_type": "markdown",
   "id": "958fa2d8",
   "metadata": {},
   "source": [
    "# Regular Expressions\n",
    "\\d is for digit,\n",
    "\\w is alphanumeric,\n",
    "\\s is whitespace,\n",
    "\\D is non digit,\n",
    "\\W is non alphanumeric,\n",
    "\\S is non whitespace,\n",
    "\n",
    "### Quantifiers\n",
    "\\+ occurs one ore more times,\n",
    "{3} occurs exactly three times,\n",
    "{3,4} occurs 3 to 4 times,\n",
    "{3,} occurs 3 or more times,\n",
    "\\* occurs zero or more times,\n",
    "? occurs once or none\n",
    "\n",
    "### The syntax is type followed by quantifier"
   ]
  },
  {
   "cell_type": "markdown",
   "id": "001e8bee",
   "metadata": {},
   "source": [
    "example when looking for phone numbers\n",
    "phone number = r\"(\\d\\d\\d)-\\d\\d\\d-\\d\\d\\d\\d\" || r\"(\\d{3})-\\d{3}-\\d{4}\""
   ]
  },
  {
   "cell_type": "code",
   "execution_count": 15,
   "id": "587fb586",
   "metadata": {},
   "outputs": [
    {
     "data": {
      "text/plain": [
       "<re.Match object; span=(20, 32), match='505-647-1985'>"
      ]
     },
     "execution_count": 15,
     "metadata": {},
     "output_type": "execute_result"
    }
   ],
   "source": [
    "import re              #regular expression module is 're'\n",
    "text = 'The phone number is 505-647-1985 phone'\n",
    "re.search(r\"(\\d{3})-\\d{3}-\\d{4}\",text)"
   ]
  },
  {
   "cell_type": "code",
   "execution_count": 10,
   "id": "aea1ea5c",
   "metadata": {},
   "outputs": [
    {
     "data": {
      "text/plain": [
       "<re.Match object; span=(4, 9), match='phone'>"
      ]
     },
     "execution_count": 10,
     "metadata": {},
     "output_type": "execute_result"
    }
   ],
   "source": [
    "match = re.search('phone',text)\n",
    "match"
   ]
  },
  {
   "cell_type": "code",
   "execution_count": 12,
   "id": "f264ed33",
   "metadata": {},
   "outputs": [
    {
     "data": {
      "text/plain": [
       "['phone', 'phone']"
      ]
     },
     "execution_count": 12,
     "metadata": {},
     "output_type": "execute_result"
    }
   ],
   "source": [
    "matches = re.findall('phone', text)\n",
    "matches"
   ]
  },
  {
   "cell_type": "code",
   "execution_count": 16,
   "id": "404e0c95",
   "metadata": {},
   "outputs": [
    {
     "name": "stdout",
     "output_type": "stream",
     "text": [
      "505-647-1985\n"
     ]
    }
   ],
   "source": [
    "for match in re.finditer(r\"(\\d{3})-\\d{3}-\\d{4}\",text):\n",
    "    print(match.group())"
   ]
  },
  {
   "cell_type": "code",
   "execution_count": 19,
   "id": "31816e7e",
   "metadata": {},
   "outputs": [
    {
     "data": {
      "text/plain": [
       "<re.Match object; span=(20, 32), match='505-647-1985'>"
      ]
     },
     "execution_count": 19,
     "metadata": {},
     "output_type": "execute_result"
    }
   ],
   "source": [
    "#to tell python that we are using regex, add r in front of string like: r\"string\"\n",
    "phone = re.search(r\"\\d{3}-\\d{3}-\\d{4}\", text)      \n",
    "phone"
   ]
  },
  {
   "cell_type": "code",
   "execution_count": 27,
   "id": "908cf4aa",
   "metadata": {},
   "outputs": [
    {
     "data": {
      "text/plain": [
       "<re.Match object; span=(15, 30), match='hello@gmail.com'>"
      ]
     },
     "execution_count": 27,
     "metadata": {},
     "output_type": "execute_result"
    }
   ],
   "source": [
    "text = 'Find the email hello@gmail.com'\n",
    "email = re.search(r'\\w*@\\w*.\\w*', text)\n",
    "email"
   ]
  },
  {
   "cell_type": "code",
   "execution_count": 29,
   "id": "f987a02b",
   "metadata": {},
   "outputs": [
    {
     "data": {
      "text/plain": [
       "'647'"
      ]
     },
     "execution_count": 29,
     "metadata": {},
     "output_type": "execute_result"
    }
   ],
   "source": [
    "text = 'The phone number is 505-647-1985 phone'\n",
    "phone_pattern = re.compile(r'(\\d{3})-(\\d{3})-(\\d{4})')           #using compile can separate out the different groupings\n",
    "results = re.search(phone_pattern, text)\n",
    "results.group(2)                                               #indexing starts at 1"
   ]
  },
  {
   "cell_type": "code",
   "execution_count": 30,
   "id": "f7c9f3fa",
   "metadata": {},
   "outputs": [
    {
     "data": {
      "text/plain": [
       "<re.Match object; span=(4, 7), match='cat'>"
      ]
     },
     "execution_count": 30,
     "metadata": {},
     "output_type": "execute_result"
    }
   ],
   "source": [
    "re.search(r'cat|dog', 'The cat is here')                 #use | (pipe) as or operator"
   ]
  },
  {
   "cell_type": "code",
   "execution_count": 32,
   "id": "71137b37",
   "metadata": {},
   "outputs": [
    {
     "data": {
      "text/plain": [
       "['e cat', 'e hat', 'splat']"
      ]
     },
     "execution_count": 32,
     "metadata": {},
     "output_type": "execute_result"
    }
   ],
   "source": [
    "re.findall(r'...at', 'The cat in the hat went splat.')        #use . (period) as a wildcard for individual characters"
   ]
  },
  {
   "cell_type": "code",
   "execution_count": 33,
   "id": "68b0b381",
   "metadata": {},
   "outputs": [
    {
     "data": {
      "text/plain": [
       "['2']"
      ]
     },
     "execution_count": 33,
     "metadata": {},
     "output_type": "execute_result"
    }
   ],
   "source": [
    "re.findall(r'^\\d', '2 is a number')                  #use ^ for starts with, use $ for ends with"
   ]
  },
  {
   "cell_type": "code",
   "execution_count": 35,
   "id": "7204c42d",
   "metadata": {},
   "outputs": [
    {
     "data": {
      "text/plain": [
       "[]"
      ]
     },
     "execution_count": 35,
     "metadata": {},
     "output_type": "execute_result"
    }
   ],
   "source": [
    "re.findall(r'\\d$', '2 is a number')"
   ]
  },
  {
   "cell_type": "code",
   "execution_count": 38,
   "id": "3b3193a0",
   "metadata": {},
   "outputs": [
    {
     "data": {
      "text/plain": [
       "'This is a string But it has punct How to remove'"
      ]
     },
     "execution_count": 38,
     "metadata": {},
     "output_type": "execute_result"
    }
   ],
   "source": [
    "#exclusion syntax uses carets prior to the symbols you want to exclude and is useful for removing punctuation\n",
    "text = 'This is a string? But it has punct. How to remove!'\n",
    "just_text = re.findall(r'[^!.? ]+', text)                                 #remove punctuation and spaces\n",
    "' '.join(just_text)"
   ]
  },
  {
   "cell_type": "code",
   "execution_count": 41,
   "id": "95421d97",
   "metadata": {},
   "outputs": [
    {
     "data": {
      "text/plain": [
       "['hyphen-words', 'long-the']"
      ]
     },
     "execution_count": 41,
     "metadata": {},
     "output_type": "execute_result"
    }
   ],
   "source": [
    "text = \"Only find the hyphen-words. But you don't know how long-the words are\"\n",
    "pattern = r'[\\w]+-[\\w]+'\n",
    "re.findall(pattern, text)"
   ]
  },
  {
   "cell_type": "code",
   "execution_count": 46,
   "id": "52dc071c",
   "metadata": {},
   "outputs": [
    {
     "data": {
      "text/plain": [
       "<re.Match object; span=(0, 6), match='catnap'>"
      ]
     },
     "execution_count": 46,
     "metadata": {},
     "output_type": "execute_result"
    }
   ],
   "source": [
    "text = 'catfish'\n",
    "text2 = 'catnap'\n",
    "text3 = 'caterpillar'\n",
    "\n",
    "re.search(r'cat(fish|nap|claw)',text2)"
   ]
  },
  {
   "cell_type": "markdown",
   "id": "8d59cda0",
   "metadata": {},
   "source": [
    "# Timing your Python Code\n",
    "* time code's performance to find most efficient way of performing something\n",
    "* timeit module\n",
    "* %%timeit 'magic' fcn ONLY for jupyter notebooks"
   ]
  },
  {
   "cell_type": "code",
   "execution_count": 72,
   "id": "9bfdd809",
   "metadata": {},
   "outputs": [
    {
     "name": "stdout",
     "output_type": "stream",
     "text": [
      "0.19105887413024902\n"
     ]
    }
   ],
   "source": [
    "import time              #time library is used for timing an application\n",
    "def fcn1(n):\n",
    "    return [str(num) for num in range(n)]\n",
    "    \n",
    "start = time.time()\n",
    "fcn1(1000000)\n",
    "end = time.time()\n",
    "time_elapsed = end - start\n",
    "print(time_elapsed)"
   ]
  },
  {
   "cell_type": "code",
   "execution_count": 66,
   "id": "be43852b",
   "metadata": {},
   "outputs": [
    {
     "name": "stdout",
     "output_type": "stream",
     "text": [
      "0.13202905654907227\n"
     ]
    }
   ],
   "source": [
    "def fcn2(num):\n",
    "    return list(map(str,range(num)))\n",
    "\n",
    "start = time.time()\n",
    "fcn2(1000000)\n",
    "end = time.time()\n",
    "time_elapsed = end - start\n",
    "print(time_elapsed)"
   ]
  },
  {
   "cell_type": "code",
   "execution_count": 69,
   "id": "59005774",
   "metadata": {},
   "outputs": [
    {
     "data": {
      "text/plain": [
       "1.4218407999996998"
      ]
     },
     "execution_count": 69,
     "metadata": {},
     "output_type": "execute_result"
    }
   ],
   "source": [
    "import timeit\n",
    "\n",
    "stmt = '''\n",
    "fcn1(100)'''\n",
    "setup = '''\n",
    "def fcn1(n):\n",
    "    return [str(num) for num in range(n)]'''\n",
    "\n",
    "timeit.timeit(stmt,setup,number=100000)"
   ]
  },
  {
   "cell_type": "code",
   "execution_count": 70,
   "id": "00c7c30a",
   "metadata": {},
   "outputs": [
    {
     "data": {
      "text/plain": [
       "1.0645574999998644"
      ]
     },
     "execution_count": 70,
     "metadata": {},
     "output_type": "execute_result"
    }
   ],
   "source": [
    "stmt = '''\n",
    "fcn2(100)'''\n",
    "setup = '''\n",
    "def fcn2(num):\n",
    "    return list(map(str,range(num)))'''\n",
    "\n",
    "timeit.timeit(stmt,setup,number=100000)"
   ]
  },
  {
   "cell_type": "code",
   "execution_count": 71,
   "id": "918017bd",
   "metadata": {},
   "outputs": [
    {
     "name": "stdout",
     "output_type": "stream",
     "text": [
      "145 µs ± 1.32 µs per loop (mean ± std. dev. of 7 runs, 10000 loops each)\n"
     ]
    }
   ],
   "source": [
    "%%timeit\n",
    "fcn1(1000)"
   ]
  },
  {
   "cell_type": "code",
   "execution_count": 73,
   "id": "fe98c1a5",
   "metadata": {},
   "outputs": [
    {
     "name": "stdout",
     "output_type": "stream",
     "text": [
      "109 µs ± 1.54 µs per loop (mean ± std. dev. of 7 runs, 10000 loops each)\n"
     ]
    }
   ],
   "source": [
    "%%timeit\n",
    "fcn2(1000)"
   ]
  },
  {
   "cell_type": "markdown",
   "id": "4e0cfba6",
   "metadata": {},
   "source": [
    "# Unzipping and zipping files"
   ]
  },
  {
   "cell_type": "code",
   "execution_count": 74,
   "id": "f7bd179d",
   "metadata": {},
   "outputs": [],
   "source": [
    "import zipfile\n",
    "c_file = zipfile.ZipFile('compressed_txts.zip', 'w')\n",
    "c_file.write('a.txt', compress_type=zipfile.ZIP_DEFLATED)\n",
    "c_file.write('b.txt', compress_type=zipfile.ZIP_DEFLATED)\n",
    "c_file.close()"
   ]
  },
  {
   "cell_type": "code",
   "execution_count": 75,
   "id": "4894a504",
   "metadata": {},
   "outputs": [],
   "source": [
    "zip_dir = zipfile.ZipFile('compressed_txts.zip', 'r')\n",
    "zip_dir.extractall('extracted_dir')\n",
    "zip_dir.close()"
   ]
  },
  {
   "cell_type": "markdown",
   "id": "114b840e",
   "metadata": {},
   "source": [
    "# Web Scraping\n",
    "* html, css, javascript is used to serve content to a website\n",
    "\n",
    "### Rules of web scraping\n",
    "* Try to get permission prior to scraping to prevent IP address from becoming blocked\n",
    "* Some sites automatically block scraping software\n",
    "\n",
    "### Limitations\n",
    "* Since every website is unique, every web scraping script is unique\n",
    "\n",
    "### Basic HTML and CSS\n",
    "* html is used for basic structure and content of web page\n",
    "* css (cascading style sheets) used for design and style of page (colors and fonts)\n",
    "    * uses tags on how to style elements\n",
    "* javascript is for interactive elements of a webpage\n",
    "\n",
    "### Python libraries\n",
    "* beautifulsoup\n",
    "* requests\n",
    "* lxml\n",
    "\n",
    "### soup.select(x) options\n",
    "* x = #some_id for elements containing id=some_id\n",
    "* x = .some_class for elements containing class=some_class\n",
    "* x = 'div span' for nested spans within a div"
   ]
  },
  {
   "cell_type": "code",
   "execution_count": 29,
   "id": "d304bedb",
   "metadata": {},
   "outputs": [
    {
     "data": {
      "text/plain": [
       "'Jonas Salk - Wikipedia'"
      ]
     },
     "execution_count": 29,
     "metadata": {},
     "output_type": "execute_result"
    }
   ],
   "source": [
    "#get title of webpage (text found in browser tab)\n",
    "\n",
    "import requests\n",
    "import bs4\n",
    "\n",
    "result = requests.get(\"https://en.wikipedia.org/wiki/Jonas_Salk\")\n",
    "soup = bs4.BeautifulSoup(result.text,\"lxml\")\n",
    "soup.select('title')[0].getText()"
   ]
  },
  {
   "cell_type": "code",
   "execution_count": 30,
   "id": "996b16e9",
   "metadata": {},
   "outputs": [
    {
     "name": "stdout",
     "output_type": "stream",
     "text": [
      "1 Early life and education\n",
      "\n",
      "1.1 Education\n",
      "1.2 Medical school\n",
      "1.3 Postgraduate research and early laboratory work\n",
      "\n",
      "\n",
      "1.1 Education\n",
      "1.2 Medical school\n",
      "1.3 Postgraduate research and early laboratory work\n",
      "2 Polio research\n",
      "3 Becoming a public figure\n",
      "\n",
      "3.1 Celebrity versus privacy\n",
      "3.2 Maintaining his individuality\n",
      "\n",
      "\n",
      "3.1 Celebrity versus privacy\n",
      "3.2 Maintaining his individuality\n",
      "4 Establishing the Salk Institute\n",
      "5 AIDS vaccine work\n",
      "6 Salk's \"biophilosophy\"\n",
      "7 Personal life\n",
      "8 Honors and recognition\n",
      "\n",
      "8.1 Documentary films\n",
      "\n",
      "\n",
      "8.1 Documentary films\n",
      "9 Salk's book publications\n",
      "10 See also\n",
      "11 References\n",
      "12 Further reading\n",
      "13 External links\n"
     ]
    }
   ],
   "source": [
    "# get all elements of a class\n",
    "# listing out table of contents\n",
    "result = requests.get(\"https://en.wikipedia.org/wiki/Jonas_Salk\")\n",
    "soup = bs4.BeautifulSoup(result.text,\"lxml\")\n",
    "table_of_contents = soup.select('.toc li')           #.toc is the table of contents class and I'm going further by getting list items within toc\n",
    "for li in table_of_contents:\n",
    "    print(li.text)"
   ]
  },
  {
   "cell_type": "code",
   "execution_count": 62,
   "id": "cdbac7a9",
   "metadata": {},
   "outputs": [],
   "source": [
    "#grabbing an image using python\n",
    "\n",
    "result = requests.get(\"https://en.wikipedia.org/wiki/Jonas_Salk\")\n",
    "soup = bs4.BeautifulSoup(result.text,\"lxml\")\n",
    "first_image = soup.select('.image img')[0]\n",
    "img = first_image['src']   #can lookup attributes in line with html tag via using dictionary lookup\n",
    "image_link = requests.get('https:'+img)\n",
    "# image_link.content         #produces binary file of what that image looks like\n",
    "f = open('image-pulled-with-python.jpg', 'wb')        #make sure file extensions match \\\\ wb is write binary\n",
    "f.write(image_link.content)\n",
    "f.close()"
   ]
  },
  {
   "cell_type": "markdown",
   "id": "858d9d12",
   "metadata": {},
   "source": [
    "* use markdown and incorporate html to pull info into notebook\n",
    "<img src=\"//upload.wikimedia.org/wikipedia/commons/thumb/5/59/Jonas_Salk_candid.jpg/220px-Jonas_Salk_candid.jpg\">"
   ]
  },
  {
   "cell_type": "markdown",
   "id": "222cb245",
   "metadata": {},
   "source": [
    "## Book Example"
   ]
  },
  {
   "cell_type": "code",
   "execution_count": 98,
   "id": "365b60e8",
   "metadata": {},
   "outputs": [
    {
     "name": "stdout",
     "output_type": "stream",
     "text": [
      "['Starving Hearts (Triangular Trade Trilogy, #1)', 'Libertarianism for Beginners', \"It's Only the Himalayas\", 'How Music Works', 'Maude (1883-1993):She Grew Up with the country', \"You can't bury them all: Poems\", 'Reasons to Stay Alive', 'Without Borders (Wanderlove #1)', 'Soul Reader', 'Security', 'Saga, Volume 5 (Saga (Collected Editions) #5)', 'Reskilling America: Learning to Labor in the Twenty-First Century', 'Political Suicide: Missteps, Peccadilloes, Bad Calls, Backroom Hijinx, Sordid Pasts, Rotten Breaks, and Just Plain Dumb Mistakes in the Annals of American Politics', 'Obsidian (Lux #1)', 'My Paris Kitchen: Recipes and Stories', 'Masks and Shadows', 'Lumberjanes, Vol. 2: Friendship to the Max (Lumberjanes #5-8)', 'Lumberjanes Vol. 3: A Terrible Plan (Lumberjanes #9-12)', 'Judo: Seven Steps to Black Belt (an Introductory Guide for Beginners)', 'I Hate Fairyland, Vol. 1: Madly Ever After (I Hate Fairyland (Compilations) #1-5)', 'Giant Days, Vol. 2 (Giant Days #5-8)', 'Everydata: The Misinformation Hidden in the Little Data You Consume Every Day', \"Don't Be a Jerk: And Other Practical Advice from Dogen, Japan's Greatest Zen Master\", 'Bossypants', 'Bitch Planet, Vol. 1: Extraordinary Machine (Bitch Planet (Collected Editions))', 'Avatar: The Last Airbender: Smoke and Shadow, Part 3 (Smoke and Shadow #3)', 'Tuesday Nights in 1980', 'The Psychopath Test: A Journey Through the Madness Industry', 'The Power of Now: A Guide to Spiritual Enlightenment', \"The Omnivore's Dilemma: A Natural History of Four Meals\", 'The Love and Lemons Cookbook: An Apple-to-Zucchini Celebration of Impromptu Cooking', 'The Girl on the Train', 'The Emerald Mystery', 'The Argonauts', 'Suddenly in Love (Lake Haven #1)', 'Soft Apocalypse', \"So You've Been Publicly Shamed\", 'Shoe Dog: A Memoir by the Creator of NIKE', 'Louisa: The Extraordinary Life of Mrs. Adams', 'Large Print Heart of the Pride', 'Grumbles', 'Chasing Heaven: What Dying Taught Me About Living', 'Becoming Wise: An Inquiry into the Mystery and Art of Living', 'Beauty Restored (Riley Family Legacy Novellas #3)', 'Batman: The Long Halloween (Batman)', \"Ayumi's Violin\", 'Wild Swans', \"What's It Like in Space?: Stories from Astronauts Who've Been There\", 'Until Friday Night (The Field Party #1)', 'Unbroken: A World War II Story of Survival, Resilience, and Redemption', 'Twenty Yawns', 'Through the Woods', 'This Is Where It Ends', 'The Year of Magical Thinking', 'The Last Mile (Amos Decker #2)', 'The Immortal Life of Henrietta Lacks', 'The Hidden Oracle (The Trials of Apollo #1)', 'The Guilty (Will Robie #4)', 'Red Hood/Arsenal, Vol. 1: Open for Business (Red Hood/Arsenal #1)', 'Once Was a Time', 'No Dream Is Too High: Life Lessons From a Man Who Walked on the Moon', 'Naruto (3-in-1 Edition), Vol. 14: Includes Vols. 40, 41 & 42 (Naruto: Omnibus #14)', 'More Than Music (Chasing the Dream #1)', 'Lowriders to the Center of the Earth (Lowriders in Space #2)', 'Eat Fat, Get Thin', 'Doctor Sleep (The Shining #2)', 'Crazy Love: Overwhelmed by a Relentless God', 'Carrie', 'Batman: Europa', 'Angels Walking (Angels Walking #1)', 'Adulthood Is a Myth: A \"Sarah\\'s Scribbles\" Collection', 'A Study in Scarlet (Sherlock Holmes #1)', 'A Series of Catastrophes and Miracles: A True Story of Love, Science, and Cancer', \"A People's History of the United States\", 'My Kitchen Year: 136 Recipes That Saved My Life', 'The Lonely City: Adventures in the Art of Being Alone', 'The Dinner Party', 'Stars Above (The Lunar Chronicles #4.5)', 'Love, Lies and Spies', 'Troublemaker: Surviving Hollywood and Scientology', 'The Widow', 'Setting the World on Fire: The Brief, Astonishing Life of St. Catherine of Siena', 'Mothering Sunday', 'Lilac Girls', '10% Happier: How I Tamed the Voice in My Head, Reduced Stress Without Losing My Edge, and Found Self-Help That Actually Works', 'Underlying Notes', 'The Flowers Lied', 'Modern Day Fables', \"Chernobyl 01:23:40: The Incredible True Story of the World's Worst Nuclear Disaster\", '23 Degrees South: A Tropical Tale of Changing Whether...', 'When Breath Becomes Air', 'Vagabonding: An Uncommon Guide to the Art of Long-Term World Travel', 'The Martian (The Martian #1)', \"Miller's Valley\", \"Love That Boy: What Two Presidents, Eight Road Trips, and My Son Taught Me About a Parent's Expectations\", 'Left Behind (Left Behind #1)', 'Howl and Other Poems', \"Heaven is for Real: A Little Boy's Astounding Story of His Trip to Heaven and Back\", \"Brazen: The Courage to Find the You That's Been Hiding\", '32 Yolks', 'Wildlife of New York: A Five-Borough Coloring Book', 'Unreasonable Hope: Finding Faith in the God Who Brings Purpose to Your Pain', 'The Art Book', 'Steal Like an Artist: 10 Things Nobody Told You About Being Creative', 'Raymie Nightingale', 'Like Never Before (Walker Family #2)', 'How to Be a Domestic Goddess: Baking and the Art of Comfort Cooking', 'Finding God in the Ruins: How God Redeems Pain', 'Chronicles, Vol. 1', 'A Summer In Europe', 'The Rise and Fall of the Third Reich: A History of Nazi Germany', 'The Makings of a Fatherless Child', 'The Fellowship of the Ring (The Lord of the Rings #1)', \"Tell the Wolves I'm Home\", 'In the Woods (Dublin Murder Squad #1)', 'Give It Back', 'Why Save the Bankers?: And Other Essays on Our Economic and Political Crisis', 'The Raven King (The Raven Cycle #4)', 'The Expatriates', 'The 5th Wave (The 5th Wave #1)', 'Peak: Secrets from the New Science of Expertise', 'Logan Kade (Fallen Crest High #5.5)', \"I Know Why the Caged Bird Sings (Maya Angelou's Autobiography #1)\", 'Drama', \"America's War for the Greater Middle East: A Military History\", 'A Game of Thrones (A Song of Ice and Fire #1)', \"The Pilgrim's Progress\", 'The Hound of the Baskervilles (Sherlock Holmes #5)', \"The Geography of Bliss: One Grump's Search for the Happiest Places in the World\", 'The Demonists (Demonist #1)', 'The Demon Prince of Momochi House, Vol. 4 (The Demon Prince of Momochi House #4)', 'Misery', 'Far From True (Promise Falls Trilogy #2)', 'Confessions of a Shopaholic (Shopaholic #1)', 'Vegan Vegetarian Omnivore: Dinner for Everyone at the Table', 'Two Boys Kissing', 'Twilight (Twilight #1)', 'Twenties Girl', 'The Tipping Point: How Little Things Can Make a Big Difference', 'The Stand', 'The Picture of Dorian Gray', 'The Name of God is Mercy', \"The Lover's Dictionary\", 'The Last Painting of Sara de Vos', 'The Guns of August', 'The Girl Who Played with Fire (Millennium Trilogy #2)', 'The Da Vinci Code (Robert Langdon #2)', 'The Cat in the Hat (Beginner Books B-1)', 'The Book Thief', 'The Autobiography of Malcolm X', \"Surely You're Joking, Mr. Feynman!: Adventures of a Curious Character\", 'Soldier (Talon #3)', 'Shopaholic & Baby (Shopaholic #5)', 'Seven Days in the Art World', 'Rework', 'Packing for Mars: The Curious Science of Life in the Void', 'Orange Is the New Black', 'One for the Money (Stephanie Plum #1)', 'Midnight Riot (Peter Grant/ Rivers of London - books #1)', 'Me Talk Pretty One Day', 'Manuscript Found in Accra', 'Lust & Wonder', \"Life, the Universe and Everything (Hitchhiker's Guide to the Galaxy #3)\", 'Life After Life', 'I Am Malala: The Girl Who Stood Up for Education and Was Shot by the Taliban', 'House of Lost Worlds: Dinosaurs, Dynasties, and the Story of Life on Earth', 'Horrible Bear!', 'Holidays on Ice', 'Girl in the Blue Coat', 'Fruits Basket, Vol. 3 (Fruits Basket #3)', 'Cosmos', 'Civilization and Its Discontents', \"Catastrophic Happiness: Finding Joy in Childhood's Messy Years\", 'Career of Evil (Cormoran Strike #3)', 'Born to Run: A Hidden Tribe, Superathletes, and the Greatest Race the World Has Never Seen', \"Best of My Love (Fool's Gold #20)\", 'Beowulf', 'Awkward', 'And Then There Were None', 'A Storm of Swords (A Song of Ice and Fire #3)', 'The Suffragettes (Little Black Classics, #96)', 'Vampire Girl (Vampire Girl #1)', 'Three Wishes (River of Time: California #1)', 'The Wicked + The Divine, Vol. 1: The Faust Act (The Wicked + The Divine)', 'The Little Prince', 'The Last Girl (The Dominion Trilogy #1)', 'Taking Shots (Assassins #1)', 'Settling the Score (The Summer Games #1)', 'Rhythm, Chord & Malykhin', 'One Second (Seven #7)', \"Old Records Never Die: One Man's Quest for His Vinyl and His Past\", 'Of Mice and Men', 'My Perfect Mistake (Over the Top #1)', 'Meditations', 'Frankenstein', 'Emma']\n"
     ]
    }
   ],
   "source": [
    "def pr(book):\n",
    "    print(book)\n",
    "\n",
    "#Goal: Get two star rating book titles\n",
    "# two ways to solve\n",
    "# 1. Convert book to string and check for string to contain star-rating Two\n",
    "# 2. Pare down to the class=star-rating Two in the book and check for specific class\n",
    "base_url = 'https://books.toscrape.com/catalogue/page-{}.html'\n",
    "list_of_two_star_books = []\n",
    "for num in range(1,51):\n",
    "    website = requests.get(base_url.format(num))\n",
    "    content = bs4.BeautifulSoup(website.text, 'lxml')\n",
    "    books = content.select('.product_pod')\n",
    "    for book in books:\n",
    "        #if call to class is not empty signifying it is a two star book\n",
    "        if len(book.select(\".star-rating.Two\")) != 0:                 #if element has a space, use a period (.) in the space's place\n",
    "            #dictionary call to pull book title information and append to list\n",
    "            list_of_two_star_books.append(book.select('a')[1]['title'])\n",
    "            \n",
    "print(list_of_two_star_books)\n",
    "        "
   ]
  },
  {
   "cell_type": "code",
   "execution_count": null,
   "id": "9a308abc",
   "metadata": {},
   "outputs": [],
   "source": []
  }
 ],
 "metadata": {
  "kernelspec": {
   "display_name": "Python 3",
   "language": "python",
   "name": "python3"
  },
  "language_info": {
   "codemirror_mode": {
    "name": "ipython",
    "version": 3
   },
   "file_extension": ".py",
   "mimetype": "text/x-python",
   "name": "python",
   "nbconvert_exporter": "python",
   "pygments_lexer": "ipython3",
   "version": "3.8.2"
  }
 },
 "nbformat": 4,
 "nbformat_minor": 5
}
